{
 "cells": [
  {
   "cell_type": "markdown",
   "id": "e11a7a9d",
   "metadata": {},
   "source": [
    "# PART- 3 `( Handling With Outliers )`"
   ]
  },
  {
   "cell_type": "code",
   "execution_count": 216,
   "id": "a90045ba",
   "metadata": {
    "ExecuteTime": {
     "end_time": "2022-08-03T09:15:46.575171Z",
     "start_time": "2022-08-03T09:15:46.563965Z"
    }
   },
   "outputs": [],
   "source": [
    "import numpy as np\n",
    "import pandas as pd\n",
    "import matplotlib.pyplot as plt\n",
    "from matplotlib import patches\n",
    "import seaborn as sns\n",
    "\n",
    "import warnings\n",
    "\n",
    "# Statistics functions\n",
    "from scipy.stats import norm\n",
    "from scipy import stats\n",
    "from scipy.stats import chi2_contingency\n",
    "from scipy.stats import chi2"
   ]
  },
  {
   "cell_type": "code",
   "execution_count": 217,
   "id": "efbc6e26",
   "metadata": {
    "ExecuteTime": {
     "end_time": "2022-08-03T09:15:46.595213Z",
     "start_time": "2022-08-03T09:15:46.579947Z"
    }
   },
   "outputs": [],
   "source": [
    "# Suppressing a warning \n",
    "warnings.filterwarnings(\"ignore\") \n",
    "\n",
    "# It is a magic function that renders the figure in the notebook\n",
    "%matplotlib inline \n",
    "\n",
    "# Changing the figure size of a seaborn axes \n",
    "sns.set(rc={\"figure.figsize\": (10, 6)})\n",
    "\n",
    "# The style parameters control properties like the color of the background and whether a grid is enabled by default.\n",
    "sns.set_style(\"whitegrid\")\n",
    "\n",
    "# To display maximum columns\n",
    "pd.set_option('display.max_columns', None)\n",
    "\n",
    "# To display maximum columns\n",
    "# pd.set_option('display.max_rows', None)"
   ]
  },
  {
   "cell_type": "code",
   "execution_count": 218,
   "id": "77fae19e",
   "metadata": {
    "ExecuteTime": {
     "end_time": "2022-08-03T09:15:46.609732Z",
     "start_time": "2022-08-03T09:15:46.599506Z"
    }
   },
   "outputs": [],
   "source": [
    "import re \n",
    "\n",
    "def get_diff_category_column(Series:pd.Series, exclude=''',/\\n''', pattern=r'''[,\\n]| /''', strip='''' \"!?|.,*+-_/][''', diff_value=list()):  \n",
    "    diff_value.clear()\n",
    "    column = Series.dropna().apply(str).str.strip(strip)\n",
    "    for row in column:\n",
    "        if not any(x in exclude for x in row) and row not in diff_value:\n",
    "            diff_value.append(row)\n",
    "        else:\n",
    "            for data in map(lambda x: x.strip(strip), filter(None, re.split(pattern, row))):\n",
    "                if data not in diff_value:\n",
    "                    diff_value.append(data)\n",
    "    return dict(enumerate(sorted(diff_value)))"
   ]
  },
  {
   "cell_type": "code",
   "execution_count": null,
   "id": "5db613bd",
   "metadata": {},
   "outputs": [],
   "source": []
  },
  {
   "cell_type": "code",
   "execution_count": null,
   "id": "31c52c98",
   "metadata": {},
   "outputs": [],
   "source": []
  },
  {
   "cell_type": "code",
   "execution_count": null,
   "id": "6822628e",
   "metadata": {},
   "outputs": [],
   "source": []
  },
  {
   "cell_type": "code",
   "execution_count": null,
   "id": "5dea36e4",
   "metadata": {},
   "outputs": [],
   "source": []
  },
  {
   "cell_type": "code",
   "execution_count": null,
   "id": "a95f2b62",
   "metadata": {},
   "outputs": [],
   "source": []
  },
  {
   "cell_type": "code",
   "execution_count": 219,
   "id": "b824cc2e",
   "metadata": {
    "ExecuteTime": {
     "end_time": "2022-08-03T09:15:46.920851Z",
     "start_time": "2022-08-03T09:15:46.616962Z"
    }
   },
   "outputs": [
    {
     "data": {
      "text/html": [
       "<div>\n",
       "<style scoped>\n",
       "    .dataframe tbody tr th:only-of-type {\n",
       "        vertical-align: middle;\n",
       "    }\n",
       "\n",
       "    .dataframe tbody tr th {\n",
       "        vertical-align: top;\n",
       "    }\n",
       "\n",
       "    .dataframe thead th {\n",
       "        text-align: right;\n",
       "    }\n",
       "</style>\n",
       "<table border=\"1\" class=\"dataframe\">\n",
       "  <thead>\n",
       "    <tr style=\"text-align: right;\">\n",
       "      <th></th>\n",
       "      <th>0</th>\n",
       "      <th>1</th>\n",
       "      <th>2</th>\n",
       "      <th>3</th>\n",
       "      <th>4</th>\n",
       "    </tr>\n",
       "  </thead>\n",
       "  <tbody>\n",
       "    <tr>\n",
       "      <th>body_type</th>\n",
       "      <td>Sedans</td>\n",
       "      <td>Sedans</td>\n",
       "      <td>Sedans</td>\n",
       "      <td>Sedans</td>\n",
       "      <td>Sedans</td>\n",
       "    </tr>\n",
       "    <tr>\n",
       "      <th>price_€</th>\n",
       "      <td>15770.0</td>\n",
       "      <td>14500.0</td>\n",
       "      <td>14640.0</td>\n",
       "      <td>14500.0</td>\n",
       "      <td>16790.0</td>\n",
       "    </tr>\n",
       "    <tr>\n",
       "      <th>vat</th>\n",
       "      <td>VAT deductible</td>\n",
       "      <td>Price negotiable</td>\n",
       "      <td>VAT deductible</td>\n",
       "      <td>VAT deductible</td>\n",
       "      <td>VAT deductible</td>\n",
       "    </tr>\n",
       "    <tr>\n",
       "      <th>km</th>\n",
       "      <td>56013.0</td>\n",
       "      <td>80000.0</td>\n",
       "      <td>83450.0</td>\n",
       "      <td>73000.0</td>\n",
       "      <td>16200.0</td>\n",
       "    </tr>\n",
       "    <tr>\n",
       "      <th>hp_kW</th>\n",
       "      <td>66.0</td>\n",
       "      <td>141.0</td>\n",
       "      <td>85.0</td>\n",
       "      <td>66.0</td>\n",
       "      <td>66.0</td>\n",
       "    </tr>\n",
       "    <tr>\n",
       "      <th>type</th>\n",
       "      <td>Used</td>\n",
       "      <td>Used</td>\n",
       "      <td>Used</td>\n",
       "      <td>Used</td>\n",
       "      <td>Used</td>\n",
       "    </tr>\n",
       "    <tr>\n",
       "      <th>previous_owners</th>\n",
       "      <td>2.0</td>\n",
       "      <td>1.0</td>\n",
       "      <td>1.0</td>\n",
       "      <td>1.0</td>\n",
       "      <td>1.0</td>\n",
       "    </tr>\n",
       "    <tr>\n",
       "      <th>warranty</th>\n",
       "      <td>0.0</td>\n",
       "      <td>0.0</td>\n",
       "      <td>0.0</td>\n",
       "      <td>0.0</td>\n",
       "      <td>0.0</td>\n",
       "    </tr>\n",
       "    <tr>\n",
       "      <th>make</th>\n",
       "      <td>Audi</td>\n",
       "      <td>Audi</td>\n",
       "      <td>Audi</td>\n",
       "      <td>Audi</td>\n",
       "      <td>Audi</td>\n",
       "    </tr>\n",
       "    <tr>\n",
       "      <th>model</th>\n",
       "      <td>A1</td>\n",
       "      <td>A1</td>\n",
       "      <td>A1</td>\n",
       "      <td>A1</td>\n",
       "      <td>A1</td>\n",
       "    </tr>\n",
       "    <tr>\n",
       "      <th>body_color</th>\n",
       "      <td>Black</td>\n",
       "      <td>Red</td>\n",
       "      <td>Black</td>\n",
       "      <td>Brown</td>\n",
       "      <td>Black</td>\n",
       "    </tr>\n",
       "    <tr>\n",
       "      <th>paint_type</th>\n",
       "      <td>Metallic</td>\n",
       "      <td>Metallic</td>\n",
       "      <td>Metallic</td>\n",
       "      <td>Metallic</td>\n",
       "      <td>Metallic</td>\n",
       "    </tr>\n",
       "    <tr>\n",
       "      <th>upholstery</th>\n",
       "      <td>Cloth</td>\n",
       "      <td>Cloth</td>\n",
       "      <td>Cloth</td>\n",
       "      <td>Cloth</td>\n",
       "      <td>Cloth</td>\n",
       "    </tr>\n",
       "    <tr>\n",
       "      <th>nr_of_doors</th>\n",
       "      <td>5.0</td>\n",
       "      <td>3.0</td>\n",
       "      <td>4.0</td>\n",
       "      <td>3.0</td>\n",
       "      <td>5.0</td>\n",
       "    </tr>\n",
       "    <tr>\n",
       "      <th>nr_of_seats</th>\n",
       "      <td>5.0</td>\n",
       "      <td>4.0</td>\n",
       "      <td>4.0</td>\n",
       "      <td>4.0</td>\n",
       "      <td>5.0</td>\n",
       "    </tr>\n",
       "    <tr>\n",
       "      <th>gearing_type</th>\n",
       "      <td>Automatic</td>\n",
       "      <td>Automatic</td>\n",
       "      <td>Automatic</td>\n",
       "      <td>Automatic</td>\n",
       "      <td>Automatic</td>\n",
       "    </tr>\n",
       "    <tr>\n",
       "      <th>engine_displacement_cc</th>\n",
       "      <td>1422.0</td>\n",
       "      <td>1798.0</td>\n",
       "      <td>1598.0</td>\n",
       "      <td>1422.0</td>\n",
       "      <td>1422.0</td>\n",
       "    </tr>\n",
       "    <tr>\n",
       "      <th>cylinders</th>\n",
       "      <td>3.0</td>\n",
       "      <td>4.0</td>\n",
       "      <td>NaN</td>\n",
       "      <td>3.0</td>\n",
       "      <td>3.0</td>\n",
       "    </tr>\n",
       "    <tr>\n",
       "      <th>weight_kg</th>\n",
       "      <td>1220.0</td>\n",
       "      <td>1255.0</td>\n",
       "      <td>NaN</td>\n",
       "      <td>1195.0</td>\n",
       "      <td>NaN</td>\n",
       "    </tr>\n",
       "    <tr>\n",
       "      <th>drive_chain</th>\n",
       "      <td>front</td>\n",
       "      <td>front</td>\n",
       "      <td>front</td>\n",
       "      <td>NaN</td>\n",
       "      <td>front</td>\n",
       "    </tr>\n",
       "    <tr>\n",
       "      <th>fuel</th>\n",
       "      <td>Diesel</td>\n",
       "      <td>Benzine</td>\n",
       "      <td>Diesel</td>\n",
       "      <td>Diesel</td>\n",
       "      <td>Diesel</td>\n",
       "    </tr>\n",
       "    <tr>\n",
       "      <th>co2e_g</th>\n",
       "      <td>99.0</td>\n",
       "      <td>129.0</td>\n",
       "      <td>99.0</td>\n",
       "      <td>99.0</td>\n",
       "      <td>109.0</td>\n",
       "    </tr>\n",
       "    <tr>\n",
       "      <th>emission_class</th>\n",
       "      <td>Euro 6</td>\n",
       "      <td>Euro 6</td>\n",
       "      <td>Euro 6</td>\n",
       "      <td>Euro 6</td>\n",
       "      <td>Euro 6</td>\n",
       "    </tr>\n",
       "    <tr>\n",
       "      <th>comfort&amp;convenience</th>\n",
       "      <td>Air conditioning,Armrest,Automatic climate con...</td>\n",
       "      <td>Air conditioning,Automatic climate control,Hil...</td>\n",
       "      <td>Air conditioning,Cruise control,Electrical sid...</td>\n",
       "      <td>Air suspension,Armrest,Auxiliary heating,Elect...</td>\n",
       "      <td>Air conditioning,Armrest,Automatic climate con...</td>\n",
       "    </tr>\n",
       "    <tr>\n",
       "      <th>entertainment&amp;media</th>\n",
       "      <td>Bluetooth,Hands-free equipment,On-board comput...</td>\n",
       "      <td>Bluetooth,Hands-free equipment,On-board comput...</td>\n",
       "      <td>MP3,On-board computer</td>\n",
       "      <td>Bluetooth,CD player,Hands-free equipment,MP3,O...</td>\n",
       "      <td>Bluetooth,CD player,Hands-free equipment,MP3,O...</td>\n",
       "    </tr>\n",
       "    <tr>\n",
       "      <th>extras</th>\n",
       "      <td>Alloy wheels,Catalytic Converter,Voice Control</td>\n",
       "      <td>Alloy wheels,Sport seats,Sport suspension,Voic...</td>\n",
       "      <td>Alloy wheels,Voice Control</td>\n",
       "      <td>Alloy wheels,Sport seats,Voice Control</td>\n",
       "      <td>Alloy wheels,Sport package,Sport suspension,Vo...</td>\n",
       "    </tr>\n",
       "    <tr>\n",
       "      <th>safety&amp;security</th>\n",
       "      <td>ABS,Central door lock,Daytime running lights,D...</td>\n",
       "      <td>ABS,Central door lock,Central door lock with r...</td>\n",
       "      <td>ABS,Central door lock,Daytime running lights,D...</td>\n",
       "      <td>ABS,Alarm system,Central door lock with remote...</td>\n",
       "      <td>ABS,Central door lock,Driver-side airbag,Elect...</td>\n",
       "    </tr>\n",
       "    <tr>\n",
       "      <th>gears</th>\n",
       "      <td>NaN</td>\n",
       "      <td>7.0</td>\n",
       "      <td>NaN</td>\n",
       "      <td>6.0</td>\n",
       "      <td>NaN</td>\n",
       "    </tr>\n",
       "    <tr>\n",
       "      <th>country_version</th>\n",
       "      <td>NaN</td>\n",
       "      <td>NaN</td>\n",
       "      <td>NaN</td>\n",
       "      <td>NaN</td>\n",
       "      <td>Germany</td>\n",
       "    </tr>\n",
       "    <tr>\n",
       "      <th>consumption_comb</th>\n",
       "      <td>3.8</td>\n",
       "      <td>5.6</td>\n",
       "      <td>3.8</td>\n",
       "      <td>3.8</td>\n",
       "      <td>4.1</td>\n",
       "    </tr>\n",
       "    <tr>\n",
       "      <th>consumption_city</th>\n",
       "      <td>4.3</td>\n",
       "      <td>7.1</td>\n",
       "      <td>4.4</td>\n",
       "      <td>4.3</td>\n",
       "      <td>4.6</td>\n",
       "    </tr>\n",
       "    <tr>\n",
       "      <th>consumption_country</th>\n",
       "      <td>3.5</td>\n",
       "      <td>4.7</td>\n",
       "      <td>3.4</td>\n",
       "      <td>3.5</td>\n",
       "      <td>3.8</td>\n",
       "    </tr>\n",
       "    <tr>\n",
       "      <th>age</th>\n",
       "      <td>3.0</td>\n",
       "      <td>2.0</td>\n",
       "      <td>3.0</td>\n",
       "      <td>3.0</td>\n",
       "      <td>3.0</td>\n",
       "    </tr>\n",
       "  </tbody>\n",
       "</table>\n",
       "</div>"
      ],
      "text/plain": [
       "                                                                        0  \\\n",
       "body_type                                                          Sedans   \n",
       "price_€                                                           15770.0   \n",
       "vat                                                        VAT deductible   \n",
       "km                                                                56013.0   \n",
       "hp_kW                                                                66.0   \n",
       "type                                                                 Used   \n",
       "previous_owners                                                       2.0   \n",
       "warranty                                                              0.0   \n",
       "make                                                                 Audi   \n",
       "model                                                                  A1   \n",
       "body_color                                                          Black   \n",
       "paint_type                                                       Metallic   \n",
       "upholstery                                                          Cloth   \n",
       "nr_of_doors                                                           5.0   \n",
       "nr_of_seats                                                           5.0   \n",
       "gearing_type                                                    Automatic   \n",
       "engine_displacement_cc                                             1422.0   \n",
       "cylinders                                                             3.0   \n",
       "weight_kg                                                          1220.0   \n",
       "drive_chain                                                         front   \n",
       "fuel                                                               Diesel   \n",
       "co2e_g                                                               99.0   \n",
       "emission_class                                                     Euro 6   \n",
       "comfort&convenience     Air conditioning,Armrest,Automatic climate con...   \n",
       "entertainment&media     Bluetooth,Hands-free equipment,On-board comput...   \n",
       "extras                     Alloy wheels,Catalytic Converter,Voice Control   \n",
       "safety&security         ABS,Central door lock,Daytime running lights,D...   \n",
       "gears                                                                 NaN   \n",
       "country_version                                                       NaN   \n",
       "consumption_comb                                                      3.8   \n",
       "consumption_city                                                      4.3   \n",
       "consumption_country                                                   3.5   \n",
       "age                                                                   3.0   \n",
       "\n",
       "                                                                        1  \\\n",
       "body_type                                                          Sedans   \n",
       "price_€                                                           14500.0   \n",
       "vat                                                      Price negotiable   \n",
       "km                                                                80000.0   \n",
       "hp_kW                                                               141.0   \n",
       "type                                                                 Used   \n",
       "previous_owners                                                       1.0   \n",
       "warranty                                                              0.0   \n",
       "make                                                                 Audi   \n",
       "model                                                                  A1   \n",
       "body_color                                                            Red   \n",
       "paint_type                                                       Metallic   \n",
       "upholstery                                                          Cloth   \n",
       "nr_of_doors                                                           3.0   \n",
       "nr_of_seats                                                           4.0   \n",
       "gearing_type                                                    Automatic   \n",
       "engine_displacement_cc                                             1798.0   \n",
       "cylinders                                                             4.0   \n",
       "weight_kg                                                          1255.0   \n",
       "drive_chain                                                         front   \n",
       "fuel                                                              Benzine   \n",
       "co2e_g                                                              129.0   \n",
       "emission_class                                                     Euro 6   \n",
       "comfort&convenience     Air conditioning,Automatic climate control,Hil...   \n",
       "entertainment&media     Bluetooth,Hands-free equipment,On-board comput...   \n",
       "extras                  Alloy wheels,Sport seats,Sport suspension,Voic...   \n",
       "safety&security         ABS,Central door lock,Central door lock with r...   \n",
       "gears                                                                 7.0   \n",
       "country_version                                                       NaN   \n",
       "consumption_comb                                                      5.6   \n",
       "consumption_city                                                      7.1   \n",
       "consumption_country                                                   4.7   \n",
       "age                                                                   2.0   \n",
       "\n",
       "                                                                        2  \\\n",
       "body_type                                                          Sedans   \n",
       "price_€                                                           14640.0   \n",
       "vat                                                        VAT deductible   \n",
       "km                                                                83450.0   \n",
       "hp_kW                                                                85.0   \n",
       "type                                                                 Used   \n",
       "previous_owners                                                       1.0   \n",
       "warranty                                                              0.0   \n",
       "make                                                                 Audi   \n",
       "model                                                                  A1   \n",
       "body_color                                                          Black   \n",
       "paint_type                                                       Metallic   \n",
       "upholstery                                                          Cloth   \n",
       "nr_of_doors                                                           4.0   \n",
       "nr_of_seats                                                           4.0   \n",
       "gearing_type                                                    Automatic   \n",
       "engine_displacement_cc                                             1598.0   \n",
       "cylinders                                                             NaN   \n",
       "weight_kg                                                             NaN   \n",
       "drive_chain                                                         front   \n",
       "fuel                                                               Diesel   \n",
       "co2e_g                                                               99.0   \n",
       "emission_class                                                     Euro 6   \n",
       "comfort&convenience     Air conditioning,Cruise control,Electrical sid...   \n",
       "entertainment&media                                 MP3,On-board computer   \n",
       "extras                                         Alloy wheels,Voice Control   \n",
       "safety&security         ABS,Central door lock,Daytime running lights,D...   \n",
       "gears                                                                 NaN   \n",
       "country_version                                                       NaN   \n",
       "consumption_comb                                                      3.8   \n",
       "consumption_city                                                      4.4   \n",
       "consumption_country                                                   3.4   \n",
       "age                                                                   3.0   \n",
       "\n",
       "                                                                        3  \\\n",
       "body_type                                                          Sedans   \n",
       "price_€                                                           14500.0   \n",
       "vat                                                        VAT deductible   \n",
       "km                                                                73000.0   \n",
       "hp_kW                                                                66.0   \n",
       "type                                                                 Used   \n",
       "previous_owners                                                       1.0   \n",
       "warranty                                                              0.0   \n",
       "make                                                                 Audi   \n",
       "model                                                                  A1   \n",
       "body_color                                                          Brown   \n",
       "paint_type                                                       Metallic   \n",
       "upholstery                                                          Cloth   \n",
       "nr_of_doors                                                           3.0   \n",
       "nr_of_seats                                                           4.0   \n",
       "gearing_type                                                    Automatic   \n",
       "engine_displacement_cc                                             1422.0   \n",
       "cylinders                                                             3.0   \n",
       "weight_kg                                                          1195.0   \n",
       "drive_chain                                                           NaN   \n",
       "fuel                                                               Diesel   \n",
       "co2e_g                                                               99.0   \n",
       "emission_class                                                     Euro 6   \n",
       "comfort&convenience     Air suspension,Armrest,Auxiliary heating,Elect...   \n",
       "entertainment&media     Bluetooth,CD player,Hands-free equipment,MP3,O...   \n",
       "extras                             Alloy wheels,Sport seats,Voice Control   \n",
       "safety&security         ABS,Alarm system,Central door lock with remote...   \n",
       "gears                                                                 6.0   \n",
       "country_version                                                       NaN   \n",
       "consumption_comb                                                      3.8   \n",
       "consumption_city                                                      4.3   \n",
       "consumption_country                                                   3.5   \n",
       "age                                                                   3.0   \n",
       "\n",
       "                                                                        4  \n",
       "body_type                                                          Sedans  \n",
       "price_€                                                           16790.0  \n",
       "vat                                                        VAT deductible  \n",
       "km                                                                16200.0  \n",
       "hp_kW                                                                66.0  \n",
       "type                                                                 Used  \n",
       "previous_owners                                                       1.0  \n",
       "warranty                                                              0.0  \n",
       "make                                                                 Audi  \n",
       "model                                                                  A1  \n",
       "body_color                                                          Black  \n",
       "paint_type                                                       Metallic  \n",
       "upholstery                                                          Cloth  \n",
       "nr_of_doors                                                           5.0  \n",
       "nr_of_seats                                                           5.0  \n",
       "gearing_type                                                    Automatic  \n",
       "engine_displacement_cc                                             1422.0  \n",
       "cylinders                                                             3.0  \n",
       "weight_kg                                                             NaN  \n",
       "drive_chain                                                         front  \n",
       "fuel                                                               Diesel  \n",
       "co2e_g                                                              109.0  \n",
       "emission_class                                                     Euro 6  \n",
       "comfort&convenience     Air conditioning,Armrest,Automatic climate con...  \n",
       "entertainment&media     Bluetooth,CD player,Hands-free equipment,MP3,O...  \n",
       "extras                  Alloy wheels,Sport package,Sport suspension,Vo...  \n",
       "safety&security         ABS,Central door lock,Driver-side airbag,Elect...  \n",
       "gears                                                                 NaN  \n",
       "country_version                                                   Germany  \n",
       "consumption_comb                                                      4.1  \n",
       "consumption_city                                                      4.6  \n",
       "consumption_country                                                   3.8  \n",
       "age                                                                   3.0  "
      ]
     },
     "execution_count": 219,
     "metadata": {},
     "output_type": "execute_result"
    }
   ],
   "source": [
    "df = pd.read_csv(\"auto_scout_filled.csv\")\n",
    "df.head().T"
   ]
  },
  {
   "cell_type": "code",
   "execution_count": null,
   "id": "b5565bb4",
   "metadata": {},
   "outputs": [],
   "source": []
  },
  {
   "cell_type": "code",
   "execution_count": 220,
   "id": "9a40879f",
   "metadata": {
    "ExecuteTime": {
     "end_time": "2022-08-03T09:15:46.962816Z",
     "start_time": "2022-08-03T09:15:46.924844Z"
    }
   },
   "outputs": [
    {
     "name": "stdout",
     "output_type": "stream",
     "text": [
      "<class 'pandas.core.frame.DataFrame'>\n",
      "RangeIndex: 15919 entries, 0 to 15918\n",
      "Data columns (total 33 columns):\n",
      " #   Column                  Non-Null Count  Dtype  \n",
      "---  ------                  --------------  -----  \n",
      " 0   body_type               15919 non-null  object \n",
      " 1   price_€                 15919 non-null  float64\n",
      " 2   vat                     15919 non-null  object \n",
      " 3   km                      15919 non-null  float64\n",
      " 4   hp_kW                   15919 non-null  float64\n",
      " 5   type                    15919 non-null  object \n",
      " 6   previous_owners         15919 non-null  float64\n",
      " 7   warranty                15919 non-null  float64\n",
      " 8   make                    15919 non-null  object \n",
      " 9   model                   15919 non-null  object \n",
      " 10  body_color              15919 non-null  object \n",
      " 11  paint_type              15919 non-null  object \n",
      " 12  upholstery              15919 non-null  object \n",
      " 13  nr_of_doors             15707 non-null  float64\n",
      " 14  nr_of_seats             14942 non-null  float64\n",
      " 15  gearing_type            15919 non-null  object \n",
      " 16  engine_displacement_cc  15423 non-null  float64\n",
      " 17  cylinders               10239 non-null  float64\n",
      " 18  weight_kg               8945 non-null   float64\n",
      " 19  drive_chain             9061 non-null   object \n",
      " 20  fuel                    15919 non-null  object \n",
      " 21  co2e_g                  13477 non-null  float64\n",
      " 22  emission_class          12291 non-null  object \n",
      " 23  comfort&convenience     14999 non-null  object \n",
      " 24  entertainment&media     14545 non-null  object \n",
      " 25  extras                  12957 non-null  object \n",
      " 26  safety&security         14937 non-null  object \n",
      " 27  gears                   11207 non-null  float64\n",
      " 28  country_version         7586 non-null   object \n",
      " 29  consumption_comb        12129 non-null  float64\n",
      " 30  consumption_city        11880 non-null  float64\n",
      " 31  consumption_country     12554 non-null  float64\n",
      " 32  age                     15919 non-null  float64\n",
      "dtypes: float64(16), object(17)\n",
      "memory usage: 4.0+ MB\n"
     ]
    }
   ],
   "source": [
    "df.info()"
   ]
  },
  {
   "cell_type": "code",
   "execution_count": 221,
   "id": "a74b1290",
   "metadata": {
    "ExecuteTime": {
     "end_time": "2022-08-03T09:15:47.063029Z",
     "start_time": "2022-08-03T09:15:46.967104Z"
    }
   },
   "outputs": [
    {
     "data": {
      "text/html": [
       "<div>\n",
       "<style scoped>\n",
       "    .dataframe tbody tr th:only-of-type {\n",
       "        vertical-align: middle;\n",
       "    }\n",
       "\n",
       "    .dataframe tbody tr th {\n",
       "        vertical-align: top;\n",
       "    }\n",
       "\n",
       "    .dataframe thead th {\n",
       "        text-align: right;\n",
       "    }\n",
       "</style>\n",
       "<table border=\"1\" class=\"dataframe\">\n",
       "  <thead>\n",
       "    <tr style=\"text-align: right;\">\n",
       "      <th></th>\n",
       "      <th>count</th>\n",
       "      <th>mean</th>\n",
       "      <th>std</th>\n",
       "      <th>min</th>\n",
       "      <th>25%</th>\n",
       "      <th>50%</th>\n",
       "      <th>75%</th>\n",
       "      <th>max</th>\n",
       "    </tr>\n",
       "  </thead>\n",
       "  <tbody>\n",
       "    <tr>\n",
       "      <th>price_€</th>\n",
       "      <td>15919.0</td>\n",
       "      <td>18019.896727</td>\n",
       "      <td>7386.169409</td>\n",
       "      <td>13.0</td>\n",
       "      <td>12850.0</td>\n",
       "      <td>16900.0</td>\n",
       "      <td>21900.0</td>\n",
       "      <td>74600.0</td>\n",
       "    </tr>\n",
       "    <tr>\n",
       "      <th>km</th>\n",
       "      <td>15919.0</td>\n",
       "      <td>31964.846747</td>\n",
       "      <td>37069.923557</td>\n",
       "      <td>0.0</td>\n",
       "      <td>2000.0</td>\n",
       "      <td>20410.0</td>\n",
       "      <td>46898.5</td>\n",
       "      <td>317000.0</td>\n",
       "    </tr>\n",
       "    <tr>\n",
       "      <th>hp_kW</th>\n",
       "      <td>15919.0</td>\n",
       "      <td>88.372385</td>\n",
       "      <td>26.840256</td>\n",
       "      <td>1.0</td>\n",
       "      <td>66.0</td>\n",
       "      <td>85.0</td>\n",
       "      <td>101.0</td>\n",
       "      <td>294.0</td>\n",
       "    </tr>\n",
       "    <tr>\n",
       "      <th>previous_owners</th>\n",
       "      <td>15919.0</td>\n",
       "      <td>0.947170</td>\n",
       "      <td>0.394599</td>\n",
       "      <td>0.0</td>\n",
       "      <td>1.0</td>\n",
       "      <td>1.0</td>\n",
       "      <td>1.0</td>\n",
       "      <td>4.0</td>\n",
       "    </tr>\n",
       "    <tr>\n",
       "      <th>warranty</th>\n",
       "      <td>15919.0</td>\n",
       "      <td>0.304856</td>\n",
       "      <td>0.460361</td>\n",
       "      <td>0.0</td>\n",
       "      <td>0.0</td>\n",
       "      <td>0.0</td>\n",
       "      <td>1.0</td>\n",
       "      <td>1.0</td>\n",
       "    </tr>\n",
       "    <tr>\n",
       "      <th>nr_of_doors</th>\n",
       "      <td>15707.0</td>\n",
       "      <td>4.656077</td>\n",
       "      <td>0.645298</td>\n",
       "      <td>1.0</td>\n",
       "      <td>4.0</td>\n",
       "      <td>5.0</td>\n",
       "      <td>5.0</td>\n",
       "      <td>7.0</td>\n",
       "    </tr>\n",
       "    <tr>\n",
       "      <th>nr_of_seats</th>\n",
       "      <td>14942.0</td>\n",
       "      <td>4.949873</td>\n",
       "      <td>0.489872</td>\n",
       "      <td>2.0</td>\n",
       "      <td>5.0</td>\n",
       "      <td>5.0</td>\n",
       "      <td>5.0</td>\n",
       "      <td>7.0</td>\n",
       "    </tr>\n",
       "    <tr>\n",
       "      <th>engine_displacement_cc</th>\n",
       "      <td>15423.0</td>\n",
       "      <td>1423.540881</td>\n",
       "      <td>333.530658</td>\n",
       "      <td>1.0</td>\n",
       "      <td>1229.0</td>\n",
       "      <td>1461.0</td>\n",
       "      <td>1598.0</td>\n",
       "      <td>16000.0</td>\n",
       "    </tr>\n",
       "    <tr>\n",
       "      <th>cylinders</th>\n",
       "      <td>10239.0</td>\n",
       "      <td>3.797343</td>\n",
       "      <td>0.415382</td>\n",
       "      <td>1.0</td>\n",
       "      <td>4.0</td>\n",
       "      <td>4.0</td>\n",
       "      <td>4.0</td>\n",
       "      <td>8.0</td>\n",
       "    </tr>\n",
       "    <tr>\n",
       "      <th>weight_kg</th>\n",
       "      <td>8945.0</td>\n",
       "      <td>1351.106540</td>\n",
       "      <td>220.661532</td>\n",
       "      <td>1.0</td>\n",
       "      <td>1165.0</td>\n",
       "      <td>1288.0</td>\n",
       "      <td>1487.0</td>\n",
       "      <td>2471.0</td>\n",
       "    </tr>\n",
       "    <tr>\n",
       "      <th>co2e_g</th>\n",
       "      <td>13477.0</td>\n",
       "      <td>123.793574</td>\n",
       "      <td>270.000389</td>\n",
       "      <td>14.0</td>\n",
       "      <td>104.0</td>\n",
       "      <td>116.0</td>\n",
       "      <td>129.0</td>\n",
       "      <td>14457.0</td>\n",
       "    </tr>\n",
       "    <tr>\n",
       "      <th>gears</th>\n",
       "      <td>11207.0</td>\n",
       "      <td>5.924601</td>\n",
       "      <td>0.848158</td>\n",
       "      <td>1.0</td>\n",
       "      <td>5.0</td>\n",
       "      <td>6.0</td>\n",
       "      <td>6.0</td>\n",
       "      <td>50.0</td>\n",
       "    </tr>\n",
       "    <tr>\n",
       "      <th>consumption_comb</th>\n",
       "      <td>12129.0</td>\n",
       "      <td>4.860722</td>\n",
       "      <td>0.906300</td>\n",
       "      <td>1.2</td>\n",
       "      <td>4.2</td>\n",
       "      <td>4.8</td>\n",
       "      <td>5.5</td>\n",
       "      <td>13.8</td>\n",
       "    </tr>\n",
       "    <tr>\n",
       "      <th>consumption_city</th>\n",
       "      <td>11880.0</td>\n",
       "      <td>5.973047</td>\n",
       "      <td>1.409315</td>\n",
       "      <td>3.3</td>\n",
       "      <td>4.7</td>\n",
       "      <td>5.8</td>\n",
       "      <td>7.1</td>\n",
       "      <td>19.9</td>\n",
       "    </tr>\n",
       "    <tr>\n",
       "      <th>consumption_country</th>\n",
       "      <td>12554.0</td>\n",
       "      <td>4.214107</td>\n",
       "      <td>0.675568</td>\n",
       "      <td>2.9</td>\n",
       "      <td>3.7</td>\n",
       "      <td>4.2</td>\n",
       "      <td>4.6</td>\n",
       "      <td>10.3</td>\n",
       "    </tr>\n",
       "    <tr>\n",
       "      <th>age</th>\n",
       "      <td>15919.0</td>\n",
       "      <td>1.392236</td>\n",
       "      <td>1.119982</td>\n",
       "      <td>0.0</td>\n",
       "      <td>0.0</td>\n",
       "      <td>1.0</td>\n",
       "      <td>2.0</td>\n",
       "      <td>3.0</td>\n",
       "    </tr>\n",
       "  </tbody>\n",
       "</table>\n",
       "</div>"
      ],
      "text/plain": [
       "                          count          mean           std   min      25%  \\\n",
       "price_€                 15919.0  18019.896727   7386.169409  13.0  12850.0   \n",
       "km                      15919.0  31964.846747  37069.923557   0.0   2000.0   \n",
       "hp_kW                   15919.0     88.372385     26.840256   1.0     66.0   \n",
       "previous_owners         15919.0      0.947170      0.394599   0.0      1.0   \n",
       "warranty                15919.0      0.304856      0.460361   0.0      0.0   \n",
       "nr_of_doors             15707.0      4.656077      0.645298   1.0      4.0   \n",
       "nr_of_seats             14942.0      4.949873      0.489872   2.0      5.0   \n",
       "engine_displacement_cc  15423.0   1423.540881    333.530658   1.0   1229.0   \n",
       "cylinders               10239.0      3.797343      0.415382   1.0      4.0   \n",
       "weight_kg                8945.0   1351.106540    220.661532   1.0   1165.0   \n",
       "co2e_g                  13477.0    123.793574    270.000389  14.0    104.0   \n",
       "gears                   11207.0      5.924601      0.848158   1.0      5.0   \n",
       "consumption_comb        12129.0      4.860722      0.906300   1.2      4.2   \n",
       "consumption_city        11880.0      5.973047      1.409315   3.3      4.7   \n",
       "consumption_country     12554.0      4.214107      0.675568   2.9      3.7   \n",
       "age                     15919.0      1.392236      1.119982   0.0      0.0   \n",
       "\n",
       "                            50%      75%       max  \n",
       "price_€                 16900.0  21900.0   74600.0  \n",
       "km                      20410.0  46898.5  317000.0  \n",
       "hp_kW                      85.0    101.0     294.0  \n",
       "previous_owners             1.0      1.0       4.0  \n",
       "warranty                    0.0      1.0       1.0  \n",
       "nr_of_doors                 5.0      5.0       7.0  \n",
       "nr_of_seats                 5.0      5.0       7.0  \n",
       "engine_displacement_cc   1461.0   1598.0   16000.0  \n",
       "cylinders                   4.0      4.0       8.0  \n",
       "weight_kg                1288.0   1487.0    2471.0  \n",
       "co2e_g                    116.0    129.0   14457.0  \n",
       "gears                       6.0      6.0      50.0  \n",
       "consumption_comb            4.8      5.5      13.8  \n",
       "consumption_city            5.8      7.1      19.9  \n",
       "consumption_country         4.2      4.6      10.3  \n",
       "age                         1.0      2.0       3.0  "
      ]
     },
     "execution_count": 221,
     "metadata": {},
     "output_type": "execute_result"
    }
   ],
   "source": [
    "df.describe().T"
   ]
  },
  {
   "cell_type": "code",
   "execution_count": null,
   "id": "d2bc87d8",
   "metadata": {},
   "outputs": [],
   "source": []
  },
  {
   "cell_type": "code",
   "execution_count": null,
   "id": "98331932",
   "metadata": {},
   "outputs": [],
   "source": []
  },
  {
   "cell_type": "code",
   "execution_count": 222,
   "id": "492db7da",
   "metadata": {
    "ExecuteTime": {
     "end_time": "2022-08-03T09:15:47.084284Z",
     "start_time": "2022-08-03T09:15:47.071975Z"
    }
   },
   "outputs": [],
   "source": [
    "def detect_outlier(col):\n",
    "    print('column name : ',col)\n",
    "    print(\"--\"*20)\n",
    "    Q1 = df[col].quantile(0.25)\n",
    "    print(\"Q1 : \", Q1)\n",
    "    Q3 = df[col].quantile(0.75)\n",
    "    print(\"Q3 : \", Q3)\n",
    "    IQR = Q3 - Q1\n",
    "    print(\"IQR : \", IQR )\n",
    "    lower_lim = Q1 - 1.5*IQR\n",
    "    print(\"lower limit : \", lower_lim)\n",
    "    print(\"mean : \", round(df[col].mean(), 2))\n",
    "    print(\"median : \", round(df[col].median(), 2))\n",
    "    upper_lim = Q3 +1.5*IQR\n",
    "    print(\"upper limit : \", upper_lim)\n",
    "    cnt_of_low = (df[col] < lower_lim).sum()\n",
    "    print(\"count of lower values : \", cnt_of_low)\n",
    "    cnt_of_upper = (df[col] > upper_lim).sum()\n",
    "    print(\"count of upper values : \", cnt_of_upper)\n",
    "    print(\" \")\n",
    "    print(\"the smallest 10 values :\\n\", df[col].sort_values().head(10))\n",
    "    print(\" \")\n",
    "    print(\"the biggest 10 values :\\n\", df[col].sort_values(ascending = False).head(10))\n",
    "    \n",
    "    print(\"\\n\\n\")"
   ]
  },
  {
   "cell_type": "code",
   "execution_count": 223,
   "id": "29478a14",
   "metadata": {
    "ExecuteTime": {
     "end_time": "2022-08-03T09:15:47.237749Z",
     "start_time": "2022-08-03T09:15:47.089233Z"
    }
   },
   "outputs": [
    {
     "name": "stdout",
     "output_type": "stream",
     "text": [
      "column name :  price_€\n",
      "----------------------------------------\n",
      "Q1 :  12850.0\n",
      "Q3 :  21900.0\n",
      "IQR :  9050.0\n",
      "lower limit :  -725.0\n",
      "mean :  18019.9\n",
      "median :  16900.0\n",
      "upper limit :  35475.0\n",
      "count of lower values :  0\n",
      "count of upper values :  479\n",
      " \n",
      "the smallest 10 values :\n",
      " 8594       13.0\n",
      "8828      120.0\n",
      "6066      255.0\n",
      "8829      331.0\n",
      "8827     4950.0\n",
      "8825     4990.0\n",
      "8826     5250.0\n",
      "8824     5300.0\n",
      "13770    5445.0\n",
      "8823     5450.0\n",
      "Name: price_€, dtype: float64\n",
      " \n",
      "the biggest 10 values :\n",
      " 3648     74600.0\n",
      "15826    68320.0\n",
      "3649     67600.0\n",
      "3587     64900.0\n",
      "15828    64332.0\n",
      "15831    64298.0\n",
      "3595     63900.0\n",
      "15833    63477.0\n",
      "3590     62900.0\n",
      "3594     58990.0\n",
      "Name: price_€, dtype: float64\n",
      "\n",
      "\n",
      "\n",
      "column name :  km\n",
      "----------------------------------------\n",
      "Q1 :  2000.0\n",
      "Q3 :  46898.5\n",
      "IQR :  44898.5\n",
      "lower limit :  -65347.75\n",
      "mean :  31964.85\n",
      "median :  20410.0\n",
      "upper limit :  114246.25\n",
      "count of lower values :  0\n",
      "count of upper values :  691\n",
      " \n",
      "the smallest 10 values :\n",
      " 14518    0.0\n",
      "9892     0.0\n",
      "2496     0.0\n",
      "9882     0.0\n",
      "15668    0.0\n",
      "5553     0.0\n",
      "12512    0.0\n",
      "5672     0.0\n",
      "9929     0.0\n",
      "7828     0.0\n",
      "Name: km, dtype: float64\n",
      " \n",
      "the biggest 10 values :\n",
      " 9279     317000.0\n",
      "3003     291800.0\n",
      "5712     260000.0\n",
      "6224     248000.0\n",
      "15277    240000.0\n",
      "10804    232000.0\n",
      "6380     231879.0\n",
      "6062     230928.0\n",
      "6399     229500.0\n",
      "10495    222346.0\n",
      "Name: km, dtype: float64\n",
      "\n",
      "\n",
      "\n",
      "column name :  hp_kW\n",
      "----------------------------------------\n",
      "Q1 :  66.0\n",
      "Q3 :  101.0\n",
      "IQR :  35.0\n",
      "lower limit :  13.5\n",
      "mean :  88.37\n",
      "median :  85.0\n",
      "upper limit :  153.5\n",
      "count of lower values :  22\n",
      "count of upper values :  406\n",
      " \n",
      "the smallest 10 values :\n",
      " 6034    1.0\n",
      "7019    1.0\n",
      "7014    1.0\n",
      "9285    1.0\n",
      "6005    1.0\n",
      "9287    1.0\n",
      "9288    1.0\n",
      "7018    1.0\n",
      "9289    1.0\n",
      "9290    1.0\n",
      "Name: hp_kW, dtype: float64\n",
      " \n",
      "the biggest 10 values :\n",
      " 3595    294.0\n",
      "3606    294.0\n",
      "3587    294.0\n",
      "3590    294.0\n",
      "3592    294.0\n",
      "3593    294.0\n",
      "3596    294.0\n",
      "3598    294.0\n",
      "3599    294.0\n",
      "3600    294.0\n",
      "Name: hp_kW, dtype: float64\n",
      "\n",
      "\n",
      "\n",
      "column name :  previous_owners\n",
      "----------------------------------------\n",
      "Q1 :  1.0\n",
      "Q3 :  1.0\n",
      "IQR :  0.0\n",
      "lower limit :  1.0\n",
      "mean :  0.95\n",
      "median :  1.0\n",
      "upper limit :  1.0\n",
      "count of lower values :  1659\n",
      "count of upper values :  797\n",
      " \n",
      "the smallest 10 values :\n",
      " 2295     0.0\n",
      "1697     0.0\n",
      "12697    0.0\n",
      "12696    0.0\n",
      "12694    0.0\n",
      "12693    0.0\n",
      "12692    0.0\n",
      "12691    0.0\n",
      "12690    0.0\n",
      "12689    0.0\n",
      "Name: previous_owners, dtype: float64\n",
      " \n",
      "the biggest 10 values :\n",
      " 15256    4.0\n",
      "972      4.0\n",
      "14994    3.0\n",
      "9478     3.0\n",
      "10770    3.0\n",
      "13560    3.0\n",
      "1290     3.0\n",
      "11443    3.0\n",
      "13568    3.0\n",
      "15007    3.0\n",
      "Name: previous_owners, dtype: float64\n",
      "\n",
      "\n",
      "\n",
      "column name :  warranty\n",
      "----------------------------------------\n",
      "Q1 :  0.0\n",
      "Q3 :  1.0\n",
      "IQR :  1.0\n",
      "lower limit :  -1.5\n",
      "mean :  0.3\n",
      "median :  0.0\n",
      "upper limit :  2.5\n",
      "count of lower values :  0\n",
      "count of upper values :  0\n",
      " \n",
      "the smallest 10 values :\n",
      " 0       0.0\n",
      "9659    0.0\n",
      "9660    0.0\n",
      "9661    0.0\n",
      "9662    0.0\n",
      "9663    0.0\n",
      "9664    0.0\n",
      "9665    0.0\n",
      "9666    0.0\n",
      "9667    0.0\n",
      "Name: warranty, dtype: float64\n",
      " \n",
      "the biggest 10 values :\n",
      " 7959     1.0\n",
      "12349    1.0\n",
      "5174     1.0\n",
      "5173     1.0\n",
      "5171     1.0\n",
      "5169     1.0\n",
      "12343    1.0\n",
      "5166     1.0\n",
      "12346    1.0\n",
      "5161     1.0\n",
      "Name: warranty, dtype: float64\n",
      "\n",
      "\n",
      "\n",
      "column name :  nr_of_doors\n",
      "----------------------------------------\n",
      "Q1 :  4.0\n",
      "Q3 :  5.0\n",
      "IQR :  1.0\n",
      "lower limit :  2.5\n",
      "mean :  4.66\n",
      "median :  5.0\n",
      "upper limit :  6.5\n",
      "count of lower values :  220\n",
      "count of upper values :  1\n",
      " \n",
      "the smallest 10 values :\n",
      " 13782    1.0\n",
      "330      2.0\n",
      "842      2.0\n",
      "1451     2.0\n",
      "1183     2.0\n",
      "1184     2.0\n",
      "1445     2.0\n",
      "8701     2.0\n",
      "8751     2.0\n",
      "1440     2.0\n",
      "Name: nr_of_doors, dtype: float64\n",
      " \n",
      "the biggest 10 values :\n",
      " 15202    7.0\n",
      "10005    5.0\n",
      "9994     5.0\n",
      "9995     5.0\n",
      "9996     5.0\n",
      "9997     5.0\n",
      "9998     5.0\n",
      "9999     5.0\n",
      "10000    5.0\n",
      "10001    5.0\n",
      "Name: nr_of_doors, dtype: float64\n",
      "\n",
      "\n",
      "\n",
      "column name :  nr_of_seats\n",
      "----------------------------------------\n",
      "Q1 :  5.0\n",
      "Q3 :  5.0\n",
      "IQR :  0.0\n",
      "lower limit :  5.0\n",
      "mean :  4.95\n",
      "median :  5.0\n",
      "upper limit :  5.0\n",
      "count of lower values :  1242\n",
      "count of upper values :  364\n",
      " \n",
      "the smallest 10 values :\n",
      " 13666    2.0\n",
      "13918    2.0\n",
      "13528    2.0\n",
      "14507    2.0\n",
      "13529    2.0\n",
      "8679     2.0\n",
      "13535    2.0\n",
      "13536    2.0\n",
      "8821     2.0\n",
      "13611    2.0\n",
      "Name: nr_of_seats, dtype: float64\n",
      " \n",
      "the biggest 10 values :\n",
      " 15484    7.0\n",
      "15445    7.0\n",
      "15410    7.0\n",
      "15411    7.0\n",
      "15414    7.0\n",
      "15416    7.0\n",
      "15420    7.0\n",
      "15422    7.0\n",
      "15426    7.0\n",
      "15429    7.0\n",
      "Name: nr_of_seats, dtype: float64\n",
      "\n",
      "\n",
      "\n",
      "column name :  engine_displacement_cc\n",
      "----------------------------------------\n",
      "Q1 :  1229.0\n",
      "Q3 :  1598.0\n",
      "IQR :  369.0\n",
      "lower limit :  675.5\n",
      "mean :  1423.54\n",
      "median :  1461.0\n",
      "upper limit :  2151.5\n",
      "count of lower values :  51\n",
      "count of upper values :  23\n",
      " \n",
      "the smallest 10 values :\n",
      " 12796    1.0\n",
      "12768    1.0\n",
      "13904    1.0\n",
      "12823    1.0\n",
      "12790    1.0\n",
      "14319    1.0\n",
      "14284    1.0\n",
      "12849    1.0\n",
      "12848    1.0\n",
      "12781    1.0\n",
      "Name: engine_displacement_cc, dtype: float64\n",
      " \n",
      "the biggest 10 values :\n",
      " 10932    16000.0\n",
      "7169     15898.0\n",
      "10771     2967.0\n",
      "3602      2480.0\n",
      "3610      2480.0\n",
      "3606      2480.0\n",
      "3605      2480.0\n",
      "3604      2480.0\n",
      "3603      2480.0\n",
      "3587      2480.0\n",
      "Name: engine_displacement_cc, dtype: float64\n",
      "\n",
      "\n",
      "\n",
      "column name :  cylinders\n",
      "----------------------------------------\n",
      "Q1 :  4.0\n",
      "Q3 :  4.0\n",
      "IQR :  0.0\n",
      "lower limit :  4.0\n",
      "mean :  3.8\n",
      "median :  4.0\n",
      "upper limit :  4.0\n",
      "count of lower values :  2107\n",
      "count of upper values :  27\n",
      " \n",
      "the smallest 10 values :\n",
      " 9956     1.0\n",
      "15835    2.0\n",
      "11342    2.0\n",
      "2472     3.0\n",
      "2477     3.0\n",
      "2480     3.0\n",
      "2481     3.0\n",
      "2482     3.0\n",
      "2483     3.0\n",
      "2484     3.0\n",
      "Name: cylinders, dtype: float64\n",
      " \n",
      "the biggest 10 values :\n",
      " 15055    8.0\n",
      "535      8.0\n",
      "10771    6.0\n",
      "10826    6.0\n",
      "12897    6.0\n",
      "3608     5.0\n",
      "3606     5.0\n",
      "3604     5.0\n",
      "3603     5.0\n",
      "3602     5.0\n",
      "Name: cylinders, dtype: float64\n",
      "\n",
      "\n",
      "\n",
      "column name :  weight_kg\n",
      "----------------------------------------\n",
      "Q1 :  1165.0\n",
      "Q3 :  1487.0\n",
      "IQR :  322.0\n",
      "lower limit :  682.0\n",
      "mean :  1351.11\n",
      "median :  1288.0\n",
      "upper limit :  1970.0\n",
      "count of lower values :  3\n",
      "count of upper values :  75\n",
      " \n",
      "the smallest 10 values :\n",
      " 8355       1.0\n",
      "12779      1.0\n",
      "1143     102.0\n",
      "8857     840.0\n",
      "14313    900.0\n",
      "13513    977.0\n",
      "13555    977.0\n",
      "14479    980.0\n",
      "14654    980.0\n",
      "13609    980.0\n",
      "Name: weight_kg, dtype: float64\n",
      " \n",
      "the biggest 10 values :\n",
      " 15185    2471.0\n",
      "14975    2471.0\n",
      "15280    2471.0\n",
      "15678    2471.0\n",
      "15231    2471.0\n",
      "10638    2450.0\n",
      "10646    2450.0\n",
      "15133    2410.0\n",
      "15136    2410.0\n",
      "15143    2410.0\n",
      "Name: weight_kg, dtype: float64\n",
      "\n",
      "\n",
      "\n",
      "column name :  co2e_g\n",
      "----------------------------------------\n",
      "Q1 :  104.0\n",
      "Q3 :  129.0\n",
      "IQR :  25.0\n",
      "lower limit :  66.5\n",
      "mean :  123.79\n",
      "median :  116.0\n",
      "upper limit :  166.5\n",
      "count of lower values :  6\n",
      "count of upper values :  236\n",
      " \n",
      "the smallest 10 values :\n",
      " 8110     14.0\n",
      "3617     36.0\n",
      "3612     36.0\n",
      "3615     36.0\n",
      "12547    45.0\n",
      "9798     51.0\n",
      "7857     80.0\n",
      "13668    82.0\n",
      "13518    82.0\n",
      "13861    82.0\n",
      "Name: co2e_g, dtype: float64\n",
      " \n",
      "the biggest 10 values :\n",
      " 11888    14457.0\n",
      "12343    13983.0\n",
      "8542     12324.0\n",
      "6579     12087.0\n",
      "5818     12087.0\n",
      "6578     12087.0\n",
      "4089      1060.0\n",
      "4556       990.0\n",
      "535        331.0\n",
      "10513      253.0\n",
      "Name: co2e_g, dtype: float64\n",
      "\n",
      "\n",
      "\n",
      "column name :  gears\n",
      "----------------------------------------\n",
      "Q1 :  5.0\n",
      "Q3 :  6.0\n",
      "IQR :  1.0\n",
      "lower limit :  3.5\n",
      "mean :  5.92\n",
      "median :  6.0\n",
      "upper limit :  7.5\n",
      "count of lower values :  5\n",
      "count of upper values :  231\n",
      " \n",
      "the smallest 10 values :\n",
      " 8921     1.0\n",
      "14375    1.0\n",
      "9812     2.0\n",
      "15817    3.0\n",
      "15845    3.0\n",
      "15823    4.0\n",
      "15822    4.0\n",
      "10259    5.0\n",
      "10260    5.0\n",
      "10261    5.0\n",
      "Name: gears, dtype: float64\n",
      " \n",
      "the biggest 10 values :\n",
      " 14495    50.0\n",
      "15824     9.0\n",
      "15869     9.0\n",
      "15827     9.0\n",
      "15876     9.0\n",
      "15814     9.0\n",
      "15812     9.0\n",
      "12028     8.0\n",
      "11999     8.0\n",
      "12008     8.0\n",
      "Name: gears, dtype: float64\n",
      "\n",
      "\n",
      "\n",
      "column name :  consumption_comb\n",
      "----------------------------------------\n",
      "Q1 :  4.2\n",
      "Q3 :  5.5\n",
      "IQR :  1.2999999999999998\n",
      "lower limit :  2.2500000000000004\n",
      "mean :  4.86\n",
      "median :  4.8\n",
      "upper limit :  7.449999999999999\n",
      "count of lower values :  4\n",
      "count of upper values :  54\n",
      " \n",
      "the smallest 10 values :\n",
      " 13678    1.2\n",
      "3615     1.6\n",
      "3617     1.6\n",
      "3612     1.6\n",
      "8904     3.1\n",
      "8911     3.1\n",
      "8912     3.1\n",
      "13679    3.1\n",
      "8566     3.1\n",
      "8874     3.1\n",
      "Name: consumption_comb, dtype: float64\n",
      " \n",
      "the biggest 10 values :\n",
      " 535      13.8\n",
      "10771     9.1\n",
      "12529     8.7\n",
      "12054     8.7\n",
      "10817     8.7\n",
      "12530     8.6\n",
      "12553     8.6\n",
      "10789     8.6\n",
      "12422     8.6\n",
      "3587      8.3\n",
      "Name: consumption_comb, dtype: float64\n",
      "\n",
      "\n",
      "\n",
      "column name :  consumption_city\n",
      "----------------------------------------\n",
      "Q1 :  4.7\n",
      "Q3 :  7.1\n",
      "IQR :  2.3999999999999995\n",
      "lower limit :  1.100000000000001\n",
      "mean :  5.97\n",
      "median :  5.8\n",
      "upper limit :  10.7\n",
      "count of lower values :  0\n",
      "count of upper values :  32\n",
      " \n",
      "the smallest 10 values :\n",
      " 13359    3.3\n",
      "13351    3.3\n",
      "13352    3.3\n",
      "13353    3.3\n",
      "13354    3.3\n",
      "13355    3.3\n",
      "13356    3.3\n",
      "13369    3.3\n",
      "13357    3.3\n",
      "13360    3.3\n",
      "Name: consumption_city, dtype: float64\n",
      " \n",
      "the biggest 10 values :\n",
      " 535      19.9\n",
      "10513    16.1\n",
      "12553    11.5\n",
      "12529    11.5\n",
      "12054    11.5\n",
      "10515    11.5\n",
      "3602     11.3\n",
      "3649     11.3\n",
      "3648     11.3\n",
      "10771    11.3\n",
      "Name: consumption_city, dtype: float64\n",
      "\n",
      "\n",
      "\n",
      "column name :  consumption_country\n",
      "----------------------------------------\n",
      "Q1 :  3.7\n",
      "Q3 :  4.6\n",
      "IQR :  0.8999999999999995\n",
      "lower limit :  2.350000000000001\n",
      "mean :  4.21\n",
      "median :  4.2\n",
      "upper limit :  5.949999999999999\n",
      "count of lower values :  0\n",
      "count of upper values :  127\n",
      " \n",
      "the smallest 10 values :\n",
      " 4223     2.9\n",
      "14597    3.1\n",
      "6969     3.1\n",
      "6970     3.1\n",
      "6971     3.1\n",
      "13395    3.1\n",
      "1170     3.1\n",
      "711      3.1\n",
      "405      3.1\n",
      "13642    3.1\n",
      "Name: consumption_country, dtype: float64\n",
      " \n",
      "the biggest 10 values :\n",
      " 535      10.3\n",
      "10755     8.6\n",
      "10771     7.8\n",
      "10764     7.8\n",
      "12662     7.7\n",
      "12665     7.7\n",
      "12664     7.7\n",
      "12663     7.7\n",
      "12591     7.7\n",
      "12592     7.7\n",
      "Name: consumption_country, dtype: float64\n",
      "\n",
      "\n",
      "\n",
      "column name :  age\n",
      "----------------------------------------\n",
      "Q1 :  0.0\n",
      "Q3 :  2.0\n",
      "IQR :  2.0\n",
      "lower limit :  -3.0\n",
      "mean :  1.39\n",
      "median :  1.0\n",
      "upper limit :  5.0\n",
      "count of lower values :  0\n",
      "count of upper values :  0\n",
      " \n",
      "the smallest 10 values :\n",
      " 7959    0.0\n",
      "7936    0.0\n",
      "7935    0.0\n",
      "7934    0.0\n",
      "7933    0.0\n",
      "7932    0.0\n",
      "7931    0.0\n",
      "7930    0.0\n",
      "7929    0.0\n",
      "7928    0.0\n",
      "Name: age, dtype: float64\n",
      " \n",
      "the biggest 10 values :\n",
      " 0       3.0\n",
      "5938    3.0\n",
      "5955    3.0\n",
      "5954    3.0\n",
      "5953    3.0\n",
      "5952    3.0\n",
      "5950    3.0\n",
      "5949    3.0\n",
      "5947    3.0\n",
      "5940    3.0\n",
      "Name: age, dtype: float64\n",
      "\n",
      "\n",
      "\n"
     ]
    }
   ],
   "source": [
    "for i in df.select_dtypes(exclude=\"O\").columns:\n",
    "    detect_outlier(i)"
   ]
  },
  {
   "cell_type": "code",
   "execution_count": 224,
   "id": "e56f7e33",
   "metadata": {
    "ExecuteTime": {
     "end_time": "2022-08-03T09:15:47.247621Z",
     "start_time": "2022-08-03T09:15:47.240716Z"
    }
   },
   "outputs": [],
   "source": [
    "df_numeric = df.select_dtypes(include=\"number\")"
   ]
  },
  {
   "cell_type": "code",
   "execution_count": null,
   "id": "b65f894f",
   "metadata": {},
   "outputs": [],
   "source": []
  },
  {
   "cell_type": "code",
   "execution_count": 225,
   "id": "f410a6ff",
   "metadata": {
    "ExecuteTime": {
     "end_time": "2022-08-03T09:15:47.260766Z",
     "start_time": "2022-08-03T09:15:47.251958Z"
    }
   },
   "outputs": [
    {
     "data": {
      "text/plain": [
       "Index(['price_€', 'km', 'hp_kW', 'previous_owners', 'warranty', 'nr_of_doors',\n",
       "       'nr_of_seats', 'engine_displacement_cc', 'cylinders', 'weight_kg',\n",
       "       'co2e_g', 'gears', 'consumption_comb', 'consumption_city',\n",
       "       'consumption_country', 'age'],\n",
       "      dtype='object')"
      ]
     },
     "execution_count": 225,
     "metadata": {},
     "output_type": "execute_result"
    }
   ],
   "source": [
    "df_numeric.columns\n"
   ]
  },
  {
   "cell_type": "code",
   "execution_count": null,
   "id": "53577de5",
   "metadata": {},
   "outputs": [],
   "source": []
  },
  {
   "cell_type": "code",
   "execution_count": null,
   "id": "88818948",
   "metadata": {},
   "outputs": [],
   "source": []
  },
  {
   "cell_type": "code",
   "execution_count": 226,
   "id": "33f7e266",
   "metadata": {
    "ExecuteTime": {
     "end_time": "2022-08-03T09:15:47.279574Z",
     "start_time": "2022-08-03T09:15:47.270134Z"
    }
   },
   "outputs": [],
   "source": [
    "def detect_values(col, col2):\n",
    "    my_list = df[col].unique()\n",
    "    for i in my_list:\n",
    "        a = df[df[col] == i][col2].max()\n",
    "        b = df[df[col] == i][col2].min()\n",
    "        c = df[df[col] == i][col2].mean()\n",
    "        print(f\"{i} max : {a}   min : {b}   mean : {c}\")"
   ]
  },
  {
   "cell_type": "code",
   "execution_count": null,
   "id": "df97718a",
   "metadata": {},
   "outputs": [],
   "source": []
  },
  {
   "cell_type": "code",
   "execution_count": null,
   "id": "7ebbedc4",
   "metadata": {},
   "outputs": [],
   "source": []
  },
  {
   "cell_type": "code",
   "execution_count": null,
   "id": "8d143487",
   "metadata": {},
   "outputs": [],
   "source": []
  },
  {
   "cell_type": "markdown",
   "id": "e18ff62a",
   "metadata": {},
   "source": [
    "## 1. price_€"
   ]
  },
  {
   "cell_type": "code",
   "execution_count": 227,
   "id": "d044eea3",
   "metadata": {
    "ExecuteTime": {
     "end_time": "2022-08-03T09:15:47.305378Z",
     "start_time": "2022-08-03T09:15:47.287351Z"
    }
   },
   "outputs": [
    {
     "name": "stdout",
     "output_type": "stream",
     "text": [
      "column name :  price_€\n",
      "----------------------------------------\n",
      "Q1 :  12850.0\n",
      "Q3 :  21900.0\n",
      "IQR :  9050.0\n",
      "lower limit :  -725.0\n",
      "mean :  18019.9\n",
      "median :  16900.0\n",
      "upper limit :  35475.0\n",
      "count of lower values :  0\n",
      "count of upper values :  479\n",
      " \n",
      "the smallest 10 values :\n",
      " 8594       13.0\n",
      "8828      120.0\n",
      "6066      255.0\n",
      "8829      331.0\n",
      "8827     4950.0\n",
      "8825     4990.0\n",
      "8826     5250.0\n",
      "8824     5300.0\n",
      "13770    5445.0\n",
      "8823     5450.0\n",
      "Name: price_€, dtype: float64\n",
      " \n",
      "the biggest 10 values :\n",
      " 3648     74600.0\n",
      "15826    68320.0\n",
      "3649     67600.0\n",
      "3587     64900.0\n",
      "15828    64332.0\n",
      "15831    64298.0\n",
      "3595     63900.0\n",
      "15833    63477.0\n",
      "3590     62900.0\n",
      "3594     58990.0\n",
      "Name: price_€, dtype: float64\n",
      "\n",
      "\n",
      "\n"
     ]
    }
   ],
   "source": [
    "detect_outlier(\"price_€\")"
   ]
  },
  {
   "cell_type": "code",
   "execution_count": 228,
   "id": "6e3585b2",
   "metadata": {
    "ExecuteTime": {
     "end_time": "2022-08-03T09:15:47.356946Z",
     "start_time": "2022-08-03T09:15:47.310317Z"
    }
   },
   "outputs": [
    {
     "data": {
      "text/html": [
       "<div>\n",
       "<style scoped>\n",
       "    .dataframe tbody tr th:only-of-type {\n",
       "        vertical-align: middle;\n",
       "    }\n",
       "\n",
       "    .dataframe tbody tr th {\n",
       "        vertical-align: top;\n",
       "    }\n",
       "\n",
       "    .dataframe thead th {\n",
       "        text-align: right;\n",
       "    }\n",
       "</style>\n",
       "<table border=\"1\" class=\"dataframe\">\n",
       "  <thead>\n",
       "    <tr style=\"text-align: right;\">\n",
       "      <th></th>\n",
       "      <th>body_type</th>\n",
       "      <th>price_€</th>\n",
       "      <th>vat</th>\n",
       "      <th>km</th>\n",
       "      <th>hp_kW</th>\n",
       "      <th>type</th>\n",
       "      <th>previous_owners</th>\n",
       "      <th>warranty</th>\n",
       "      <th>make</th>\n",
       "      <th>model</th>\n",
       "      <th>body_color</th>\n",
       "      <th>paint_type</th>\n",
       "      <th>upholstery</th>\n",
       "      <th>nr_of_doors</th>\n",
       "      <th>nr_of_seats</th>\n",
       "      <th>gearing_type</th>\n",
       "      <th>engine_displacement_cc</th>\n",
       "      <th>cylinders</th>\n",
       "      <th>weight_kg</th>\n",
       "      <th>drive_chain</th>\n",
       "      <th>fuel</th>\n",
       "      <th>co2e_g</th>\n",
       "      <th>emission_class</th>\n",
       "      <th>comfort&amp;convenience</th>\n",
       "      <th>entertainment&amp;media</th>\n",
       "      <th>extras</th>\n",
       "      <th>safety&amp;security</th>\n",
       "      <th>gears</th>\n",
       "      <th>country_version</th>\n",
       "      <th>consumption_comb</th>\n",
       "      <th>consumption_city</th>\n",
       "      <th>consumption_country</th>\n",
       "      <th>age</th>\n",
       "    </tr>\n",
       "  </thead>\n",
       "  <tbody>\n",
       "    <tr>\n",
       "      <th>8594</th>\n",
       "      <td>Sedans</td>\n",
       "      <td>13.0</td>\n",
       "      <td>VAT deductible</td>\n",
       "      <td>123.0</td>\n",
       "      <td>66.0</td>\n",
       "      <td>Used</td>\n",
       "      <td>1.0</td>\n",
       "      <td>0.0</td>\n",
       "      <td>Opel</td>\n",
       "      <td>Corsa</td>\n",
       "      <td>Gold</td>\n",
       "      <td>Metallic</td>\n",
       "      <td>Cloth</td>\n",
       "      <td>3.0</td>\n",
       "      <td>5.0</td>\n",
       "      <td>Manual</td>\n",
       "      <td>1398.0</td>\n",
       "      <td>4.0</td>\n",
       "      <td>1141.0</td>\n",
       "      <td>NaN</td>\n",
       "      <td>Benzine</td>\n",
       "      <td>128.0</td>\n",
       "      <td>Euro 6d-TEMP</td>\n",
       "      <td>Air conditioning,Cruise control,Electrical sid...</td>\n",
       "      <td>Bluetooth,CD player,Hands-free equipment,MP3,O...</td>\n",
       "      <td>Alloy wheels</td>\n",
       "      <td>ABS,Adaptive headlights,Central door lock with...</td>\n",
       "      <td>5.0</td>\n",
       "      <td>NaN</td>\n",
       "      <td>5.6</td>\n",
       "      <td>6.8</td>\n",
       "      <td>4.9</td>\n",
       "      <td>1.0</td>\n",
       "    </tr>\n",
       "    <tr>\n",
       "      <th>8828</th>\n",
       "      <td>Compact</td>\n",
       "      <td>120.0</td>\n",
       "      <td>VAT deductible</td>\n",
       "      <td>12.0</td>\n",
       "      <td>66.0</td>\n",
       "      <td>New</td>\n",
       "      <td>0.0</td>\n",
       "      <td>0.0</td>\n",
       "      <td>Opel</td>\n",
       "      <td>Corsa</td>\n",
       "      <td>Grey</td>\n",
       "      <td>Metallic</td>\n",
       "      <td>Cloth</td>\n",
       "      <td>5.0</td>\n",
       "      <td>5.0</td>\n",
       "      <td>Manual</td>\n",
       "      <td>999.0</td>\n",
       "      <td>3.0</td>\n",
       "      <td>1099.0</td>\n",
       "      <td>NaN</td>\n",
       "      <td>Benzine</td>\n",
       "      <td>107.0</td>\n",
       "      <td>Euro 6</td>\n",
       "      <td>Air conditioning,Automatic climate control,Cru...</td>\n",
       "      <td>Digital radio,On-board computer,Radio</td>\n",
       "      <td>Alloy wheels,Sport suspension</td>\n",
       "      <td>Central door lock,Daytime running lights,Drive...</td>\n",
       "      <td>6.0</td>\n",
       "      <td>Netherlands</td>\n",
       "      <td>4.6</td>\n",
       "      <td>5.6</td>\n",
       "      <td>4.1</td>\n",
       "      <td>0.0</td>\n",
       "    </tr>\n",
       "    <tr>\n",
       "      <th>6066</th>\n",
       "      <td>Station wagon</td>\n",
       "      <td>255.0</td>\n",
       "      <td>VAT deductible</td>\n",
       "      <td>5563.0</td>\n",
       "      <td>100.0</td>\n",
       "      <td>Used</td>\n",
       "      <td>1.0</td>\n",
       "      <td>0.0</td>\n",
       "      <td>Opel</td>\n",
       "      <td>Astra</td>\n",
       "      <td>Gold</td>\n",
       "      <td>Metallic</td>\n",
       "      <td>Cloth</td>\n",
       "      <td>5.0</td>\n",
       "      <td>5.0</td>\n",
       "      <td>Manual</td>\n",
       "      <td>1598.0</td>\n",
       "      <td>4.0</td>\n",
       "      <td>1403.0</td>\n",
       "      <td>NaN</td>\n",
       "      <td>Diesel</td>\n",
       "      <td>101.0</td>\n",
       "      <td>Euro 6</td>\n",
       "      <td>Air conditioning,Cruise control,Electrical sid...</td>\n",
       "      <td>Bluetooth,Hands-free equipment,On-board comput...</td>\n",
       "      <td>Roof rack</td>\n",
       "      <td>ABS,Central door lock with remote control,Dayt...</td>\n",
       "      <td>6.0</td>\n",
       "      <td>NaN</td>\n",
       "      <td>3.8</td>\n",
       "      <td>4.5</td>\n",
       "      <td>3.4</td>\n",
       "      <td>1.0</td>\n",
       "    </tr>\n",
       "    <tr>\n",
       "      <th>8829</th>\n",
       "      <td>Other</td>\n",
       "      <td>331.0</td>\n",
       "      <td>VAT deductible</td>\n",
       "      <td>10.0</td>\n",
       "      <td>66.0</td>\n",
       "      <td>New</td>\n",
       "      <td>0.0</td>\n",
       "      <td>0.0</td>\n",
       "      <td>Opel</td>\n",
       "      <td>Corsa</td>\n",
       "      <td>White</td>\n",
       "      <td>Metallic</td>\n",
       "      <td>Cloth</td>\n",
       "      <td>5.0</td>\n",
       "      <td>5.0</td>\n",
       "      <td>Manual</td>\n",
       "      <td>999.0</td>\n",
       "      <td>3.0</td>\n",
       "      <td>1163.0</td>\n",
       "      <td>NaN</td>\n",
       "      <td>Benzine</td>\n",
       "      <td>NaN</td>\n",
       "      <td>NaN</td>\n",
       "      <td>Air conditioning,Armrest,Automatic climate con...</td>\n",
       "      <td>Hands-free equipment,On-board computer,Radio</td>\n",
       "      <td>Alloy wheels,Sport package</td>\n",
       "      <td>ABS,Central door lock,Driver-side airbag,Elect...</td>\n",
       "      <td>6.0</td>\n",
       "      <td>Netherlands</td>\n",
       "      <td>NaN</td>\n",
       "      <td>NaN</td>\n",
       "      <td>NaN</td>\n",
       "      <td>0.0</td>\n",
       "    </tr>\n",
       "  </tbody>\n",
       "</table>\n",
       "</div>"
      ],
      "text/plain": [
       "          body_type  price_€             vat      km  hp_kW  type  \\\n",
       "8594         Sedans     13.0  VAT deductible   123.0   66.0  Used   \n",
       "8828        Compact    120.0  VAT deductible    12.0   66.0   New   \n",
       "6066  Station wagon    255.0  VAT deductible  5563.0  100.0  Used   \n",
       "8829          Other    331.0  VAT deductible    10.0   66.0   New   \n",
       "\n",
       "      previous_owners  warranty  make  model body_color paint_type upholstery  \\\n",
       "8594              1.0       0.0  Opel  Corsa       Gold   Metallic      Cloth   \n",
       "8828              0.0       0.0  Opel  Corsa       Grey   Metallic      Cloth   \n",
       "6066              1.0       0.0  Opel  Astra       Gold   Metallic      Cloth   \n",
       "8829              0.0       0.0  Opel  Corsa      White   Metallic      Cloth   \n",
       "\n",
       "      nr_of_doors  nr_of_seats gearing_type  engine_displacement_cc  \\\n",
       "8594          3.0          5.0       Manual                  1398.0   \n",
       "8828          5.0          5.0       Manual                   999.0   \n",
       "6066          5.0          5.0       Manual                  1598.0   \n",
       "8829          5.0          5.0       Manual                   999.0   \n",
       "\n",
       "      cylinders  weight_kg drive_chain     fuel  co2e_g emission_class  \\\n",
       "8594        4.0     1141.0         NaN  Benzine   128.0   Euro 6d-TEMP   \n",
       "8828        3.0     1099.0         NaN  Benzine   107.0         Euro 6   \n",
       "6066        4.0     1403.0         NaN   Diesel   101.0         Euro 6   \n",
       "8829        3.0     1163.0         NaN  Benzine     NaN            NaN   \n",
       "\n",
       "                                    comfort&convenience  \\\n",
       "8594  Air conditioning,Cruise control,Electrical sid...   \n",
       "8828  Air conditioning,Automatic climate control,Cru...   \n",
       "6066  Air conditioning,Cruise control,Electrical sid...   \n",
       "8829  Air conditioning,Armrest,Automatic climate con...   \n",
       "\n",
       "                                    entertainment&media  \\\n",
       "8594  Bluetooth,CD player,Hands-free equipment,MP3,O...   \n",
       "8828              Digital radio,On-board computer,Radio   \n",
       "6066  Bluetooth,Hands-free equipment,On-board comput...   \n",
       "8829       Hands-free equipment,On-board computer,Radio   \n",
       "\n",
       "                             extras  \\\n",
       "8594                   Alloy wheels   \n",
       "8828  Alloy wheels,Sport suspension   \n",
       "6066                      Roof rack   \n",
       "8829     Alloy wheels,Sport package   \n",
       "\n",
       "                                        safety&security  gears  \\\n",
       "8594  ABS,Adaptive headlights,Central door lock with...    5.0   \n",
       "8828  Central door lock,Daytime running lights,Drive...    6.0   \n",
       "6066  ABS,Central door lock with remote control,Dayt...    6.0   \n",
       "8829  ABS,Central door lock,Driver-side airbag,Elect...    6.0   \n",
       "\n",
       "     country_version  consumption_comb  consumption_city  consumption_country  \\\n",
       "8594             NaN               5.6               6.8                  4.9   \n",
       "8828     Netherlands               4.6               5.6                  4.1   \n",
       "6066             NaN               3.8               4.5                  3.4   \n",
       "8829     Netherlands               NaN               NaN                  NaN   \n",
       "\n",
       "      age  \n",
       "8594  1.0  \n",
       "8828  0.0  \n",
       "6066  1.0  \n",
       "8829  0.0  "
      ]
     },
     "execution_count": 228,
     "metadata": {},
     "output_type": "execute_result"
    }
   ],
   "source": [
    "df.iloc[[8594, 8828, 6066, 8829]]"
   ]
  },
  {
   "cell_type": "code",
   "execution_count": 229,
   "id": "85efd7c3",
   "metadata": {
    "ExecuteTime": {
     "end_time": "2022-08-03T09:15:47.371974Z",
     "start_time": "2022-08-03T09:15:47.360848Z"
    }
   },
   "outputs": [],
   "source": [
    "df.loc[df[\"price_€\"] < 332.0,  [\"price_€\"]] = np.nan"
   ]
  },
  {
   "cell_type": "code",
   "execution_count": 230,
   "id": "ee89b3ff",
   "metadata": {
    "ExecuteTime": {
     "end_time": "2022-08-03T09:15:47.400118Z",
     "start_time": "2022-08-03T09:15:47.388527Z"
    }
   },
   "outputs": [
    {
     "data": {
      "text/plain": [
       "4"
      ]
     },
     "execution_count": 230,
     "metadata": {},
     "output_type": "execute_result"
    }
   ],
   "source": [
    "df[\"price_€\"].isnull().sum()"
   ]
  },
  {
   "cell_type": "code",
   "execution_count": 231,
   "id": "40e929d7",
   "metadata": {
    "ExecuteTime": {
     "end_time": "2022-08-03T09:15:47.462218Z",
     "start_time": "2022-08-03T09:15:47.403413Z"
    },
    "scrolled": true
   },
   "outputs": [],
   "source": [
    "df[\"price_€\"] = df.groupby([\"make\", \"model\", \"body_type\", \"age\"])[\"price_€\"].apply(lambda x : x.fillna(round(x.mean(), 0)))"
   ]
  },
  {
   "cell_type": "code",
   "execution_count": 232,
   "id": "f9f9774e",
   "metadata": {
    "ExecuteTime": {
     "end_time": "2022-08-03T09:15:47.479132Z",
     "start_time": "2022-08-03T09:15:47.467071Z"
    }
   },
   "outputs": [
    {
     "data": {
      "text/plain": [
       "8594    10853.0\n",
       "8828    13816.0\n",
       "6066    16933.0\n",
       "8829    12310.0\n",
       "Name: price_€, dtype: float64"
      ]
     },
     "execution_count": 232,
     "metadata": {},
     "output_type": "execute_result"
    }
   ],
   "source": [
    "df.iloc[[8594, 8828, 6066, 8829]][\"price_€\"]"
   ]
  },
  {
   "cell_type": "code",
   "execution_count": null,
   "id": "e59c5603",
   "metadata": {},
   "outputs": [],
   "source": []
  },
  {
   "cell_type": "code",
   "execution_count": null,
   "id": "4d3aeb50",
   "metadata": {},
   "outputs": [],
   "source": []
  },
  {
   "cell_type": "code",
   "execution_count": null,
   "id": "41a36652",
   "metadata": {},
   "outputs": [],
   "source": []
  },
  {
   "cell_type": "code",
   "execution_count": null,
   "id": "d8eee201",
   "metadata": {},
   "outputs": [],
   "source": []
  },
  {
   "cell_type": "code",
   "execution_count": null,
   "id": "5bdae87f",
   "metadata": {},
   "outputs": [],
   "source": []
  },
  {
   "cell_type": "code",
   "execution_count": null,
   "id": "af0108d3",
   "metadata": {},
   "outputs": [],
   "source": []
  },
  {
   "cell_type": "code",
   "execution_count": null,
   "id": "7358c913",
   "metadata": {},
   "outputs": [],
   "source": []
  },
  {
   "cell_type": "markdown",
   "id": "77109eff",
   "metadata": {},
   "source": [
    "## 2. km"
   ]
  },
  {
   "cell_type": "code",
   "execution_count": 233,
   "id": "0dfde3db",
   "metadata": {
    "ExecuteTime": {
     "end_time": "2022-08-03T09:15:47.509044Z",
     "start_time": "2022-08-03T09:15:47.482902Z"
    }
   },
   "outputs": [
    {
     "name": "stdout",
     "output_type": "stream",
     "text": [
      "column name :  km\n",
      "----------------------------------------\n",
      "Q1 :  2000.0\n",
      "Q3 :  46898.5\n",
      "IQR :  44898.5\n",
      "lower limit :  -65347.75\n",
      "mean :  31964.85\n",
      "median :  20410.0\n",
      "upper limit :  114246.25\n",
      "count of lower values :  0\n",
      "count of upper values :  691\n",
      " \n",
      "the smallest 10 values :\n",
      " 14518    0.0\n",
      "9892     0.0\n",
      "2496     0.0\n",
      "9882     0.0\n",
      "15668    0.0\n",
      "5553     0.0\n",
      "12512    0.0\n",
      "5672     0.0\n",
      "9929     0.0\n",
      "7828     0.0\n",
      "Name: km, dtype: float64\n",
      " \n",
      "the biggest 10 values :\n",
      " 9279     317000.0\n",
      "3003     291800.0\n",
      "5712     260000.0\n",
      "6224     248000.0\n",
      "15277    240000.0\n",
      "10804    232000.0\n",
      "6380     231879.0\n",
      "6062     230928.0\n",
      "6399     229500.0\n",
      "10495    222346.0\n",
      "Name: km, dtype: float64\n",
      "\n",
      "\n",
      "\n"
     ]
    }
   ],
   "source": [
    "detect_outlier(\"km\")"
   ]
  },
  {
   "cell_type": "code",
   "execution_count": null,
   "id": "e0d33480",
   "metadata": {},
   "outputs": [],
   "source": []
  },
  {
   "cell_type": "code",
   "execution_count": 234,
   "id": "4d3ae1e9",
   "metadata": {
    "ExecuteTime": {
     "end_time": "2022-08-03T09:15:47.780884Z",
     "start_time": "2022-08-03T09:15:47.512434Z"
    }
   },
   "outputs": [
    {
     "data": {
      "text/plain": [
       "<AxesSubplot:xlabel='km'>"
      ]
     },
     "execution_count": 234,
     "metadata": {},
     "output_type": "execute_result"
    },
    {
     "data": {
      "image/png": "[encoded data removed]",
      "text/plain": [
       "<Figure size 720x432 with 1 Axes>"
      ]
     },
     "metadata": {},
     "output_type": "display_data"
    }
   ],
   "source": [
    "sns.boxplot(df.km)"
   ]
  },
  {
   "cell_type": "code",
   "execution_count": 235,
   "id": "0eefd144",
   "metadata": {
    "ExecuteTime": {
     "end_time": "2022-08-03T09:15:47.798866Z",
     "start_time": "2022-08-03T09:15:47.784425Z"
    }
   },
   "outputs": [
    {
     "data": {
      "text/plain": [
       "age\n",
       "0.0    127022.0\n",
       "1.0    136000.0\n",
       "2.0    317000.0\n",
       "3.0    291800.0\n",
       "Name: km, dtype: float64"
      ]
     },
     "execution_count": 235,
     "metadata": {},
     "output_type": "execute_result"
    }
   ],
   "source": [
    "df.groupby(\"age\")[\"km\"].mean()\n",
    "df.groupby(\"age\")[\"km\"].min()\n",
    "df.groupby(\"age\")[\"km\"].max()"
   ]
  },
  {
   "cell_type": "code",
   "execution_count": 236,
   "id": "9554502b",
   "metadata": {
    "ExecuteTime": {
     "end_time": "2022-08-03T09:15:48.100352Z",
     "start_time": "2022-08-03T09:15:47.803857Z"
    }
   },
   "outputs": [
    {
     "data": {
      "text/plain": [
       "<AxesSubplot:xlabel='km'>"
      ]
     },
     "execution_count": 236,
     "metadata": {},
     "output_type": "execute_result"
    },
    {
     "data": {
      "image/png": "[encoded data removed]",
      "text/plain": [
       "<Figure size 720x432 with 1 Axes>"
      ]
     },
     "metadata": {},
     "output_type": "display_data"
    }
   ],
   "source": [
    "sns.boxplot(df[df.age == 1][\"km\"])"
   ]
  },
  {
   "cell_type": "code",
   "execution_count": 237,
   "id": "60d4c31f",
   "metadata": {
    "ExecuteTime": {
     "end_time": "2022-08-03T09:15:48.371113Z",
     "start_time": "2022-08-03T09:15:48.105351Z"
    }
   },
   "outputs": [
    {
     "data": {
      "text/plain": [
       "<AxesSubplot:xlabel='km'>"
      ]
     },
     "execution_count": 237,
     "metadata": {},
     "output_type": "execute_result"
    },
    {
     "data": {
      "image/png": "[encoded data removed]",
      "text/plain": [
       "<Figure size 720x432 with 1 Axes>"
      ]
     },
     "metadata": {},
     "output_type": "display_data"
    }
   ],
   "source": [
    "sns.boxplot(df[df.age == 2][\"km\"])"
   ]
  },
  {
   "cell_type": "code",
   "execution_count": 238,
   "id": "cc124237",
   "metadata": {
    "ExecuteTime": {
     "end_time": "2022-08-03T09:15:48.604518Z",
     "start_time": "2022-08-03T09:15:48.378135Z"
    }
   },
   "outputs": [
    {
     "data": {
      "text/plain": [
       "<AxesSubplot:xlabel='km'>"
      ]
     },
     "execution_count": 238,
     "metadata": {},
     "output_type": "execute_result"
    },
    {
     "data": {
      "image/png": "[encoded data removed]",
      "text/plain": [
       "<Figure size 720x432 with 1 Axes>"
      ]
     },
     "metadata": {},
     "output_type": "display_data"
    }
   ],
   "source": [
    "sns.boxplot(df[df.age == 3][\"km\"])"
   ]
  },
  {
   "cell_type": "code",
   "execution_count": 239,
   "id": "5cf652b9",
   "metadata": {
    "ExecuteTime": {
     "end_time": "2022-08-03T09:15:48.878073Z",
     "start_time": "2022-08-03T09:15:48.609801Z"
    }
   },
   "outputs": [
    {
     "data": {
      "text/plain": [
       "<AxesSubplot:xlabel='km'>"
      ]
     },
     "execution_count": 239,
     "metadata": {},
     "output_type": "execute_result"
    },
    {
     "data": {
      "image/png": "[encoded data removed]",
      "text/plain": [
       "<Figure size 720x432 with 1 Axes>"
      ]
     },
     "metadata": {},
     "output_type": "display_data"
    }
   ],
   "source": [
    "sns.boxplot(df[df.age == 0][\"km\"])"
   ]
  },
  {
   "cell_type": "code",
   "execution_count": null,
   "id": "ffcf6d8d",
   "metadata": {},
   "outputs": [],
   "source": []
  },
  {
   "cell_type": "markdown",
   "id": "880a544a",
   "metadata": {},
   "source": [
    "## 3. hp_kW"
   ]
  },
  {
   "cell_type": "code",
   "execution_count": 240,
   "id": "24483953",
   "metadata": {
    "ExecuteTime": {
     "end_time": "2022-08-03T09:15:48.904193Z",
     "start_time": "2022-08-03T09:15:48.883061Z"
    }
   },
   "outputs": [
    {
     "name": "stdout",
     "output_type": "stream",
     "text": [
      "column name :  hp_kW\n",
      "----------------------------------------\n",
      "Q1 :  66.0\n",
      "Q3 :  101.0\n",
      "IQR :  35.0\n",
      "lower limit :  13.5\n",
      "mean :  88.37\n",
      "median :  85.0\n",
      "upper limit :  153.5\n",
      "count of lower values :  22\n",
      "count of upper values :  406\n",
      " \n",
      "the smallest 10 values :\n",
      " 6034    1.0\n",
      "7019    1.0\n",
      "7014    1.0\n",
      "9285    1.0\n",
      "6005    1.0\n",
      "9287    1.0\n",
      "9288    1.0\n",
      "7018    1.0\n",
      "9289    1.0\n",
      "9290    1.0\n",
      "Name: hp_kW, dtype: float64\n",
      " \n",
      "the biggest 10 values :\n",
      " 3595    294.0\n",
      "3606    294.0\n",
      "3587    294.0\n",
      "3590    294.0\n",
      "3592    294.0\n",
      "3593    294.0\n",
      "3596    294.0\n",
      "3598    294.0\n",
      "3599    294.0\n",
      "3600    294.0\n",
      "Name: hp_kW, dtype: float64\n",
      "\n",
      "\n",
      "\n"
     ]
    }
   ],
   "source": [
    "detect_outlier(\"hp_kW\")"
   ]
  },
  {
   "cell_type": "code",
   "execution_count": 241,
   "id": "ea2c54d6",
   "metadata": {
    "ExecuteTime": {
     "end_time": "2022-08-03T09:15:48.927230Z",
     "start_time": "2022-08-03T09:15:48.909655Z"
    }
   },
   "outputs": [
    {
     "data": {
      "text/plain": [
       "6034    1.0\n",
       "7019    1.0\n",
       "7014    1.0\n",
       "9285    1.0\n",
       "6005    1.0\n",
       "9287    1.0\n",
       "9288    1.0\n",
       "7018    1.0\n",
       "9289    1.0\n",
       "9290    1.0\n",
       "Name: hp_kW, dtype: float64"
      ]
     },
     "execution_count": 241,
     "metadata": {},
     "output_type": "execute_result"
    }
   ],
   "source": [
    "df[\"hp_kW\"].sort_values(ascending=True).head(10)"
   ]
  },
  {
   "cell_type": "code",
   "execution_count": null,
   "id": "b98fdc7b",
   "metadata": {},
   "outputs": [],
   "source": []
  },
  {
   "cell_type": "code",
   "execution_count": 242,
   "id": "c992b6db",
   "metadata": {
    "ExecuteTime": {
     "end_time": "2022-08-03T09:15:48.949447Z",
     "start_time": "2022-08-03T09:15:48.932428Z"
    }
   },
   "outputs": [
    {
     "data": {
      "text/plain": [
       "3595    294.0\n",
       "3606    294.0\n",
       "3587    294.0\n",
       "3590    294.0\n",
       "3592    294.0\n",
       "3593    294.0\n",
       "3596    294.0\n",
       "3598    294.0\n",
       "3599    294.0\n",
       "3600    294.0\n",
       "3601    294.0\n",
       "3602    294.0\n",
       "3604    294.0\n",
       "3605    294.0\n",
       "3603    294.0\n",
       "3610    294.0\n",
       "3648    294.0\n",
       "3649    294.0\n",
       "3608    270.0\n",
       "3609    270.0\n",
       "Name: hp_kW, dtype: float64"
      ]
     },
     "execution_count": 242,
     "metadata": {},
     "output_type": "execute_result"
    }
   ],
   "source": [
    "df[\"hp_kW\"].sort_values(ascending=False).head(20)"
   ]
  },
  {
   "cell_type": "code",
   "execution_count": 243,
   "id": "860716b0",
   "metadata": {
    "ExecuteTime": {
     "end_time": "2022-08-03T09:15:48.960815Z",
     "start_time": "2022-08-03T09:15:48.954131Z"
    }
   },
   "outputs": [],
   "source": [
    "# the hp_kw values for opel corsa is min=33 max=155"
   ]
  },
  {
   "cell_type": "code",
   "execution_count": 244,
   "id": "c9b85bd7",
   "metadata": {
    "ExecuteTime": {
     "end_time": "2022-08-03T09:15:48.980893Z",
     "start_time": "2022-08-03T09:15:48.965008Z"
    }
   },
   "outputs": [
    {
     "data": {
      "text/plain": [
       "make     model   \n",
       "Opel     Astra       7\n",
       "         Corsa       7\n",
       "         Insignia    4\n",
       "Renault  Espace      2\n",
       "Audi     A3          1\n",
       "Renault  Clio        1\n",
       "dtype: int64"
      ]
     },
     "execution_count": 244,
     "metadata": {},
     "output_type": "execute_result"
    }
   ],
   "source": [
    "df[df[\"hp_kW\"] < 33.0][[\"make\", \"model\"]].value_counts()"
   ]
  },
  {
   "cell_type": "code",
   "execution_count": 245,
   "id": "07a0c0d3",
   "metadata": {
    "ExecuteTime": {
     "end_time": "2022-08-03T09:15:48.998929Z",
     "start_time": "2022-08-03T09:15:48.983970Z"
    }
   },
   "outputs": [
    {
     "data": {
      "text/plain": [
       "make  model   \n",
       "Audi  A3          22\n",
       "Opel  Insignia     1\n",
       "dtype: int64"
      ]
     },
     "execution_count": 245,
     "metadata": {},
     "output_type": "execute_result"
    }
   ],
   "source": [
    "df[df[\"hp_kW\"] > 195][[\"make\", \"model\"]].value_counts()"
   ]
  },
  {
   "cell_type": "code",
   "execution_count": 246,
   "id": "eeb71998",
   "metadata": {
    "ExecuteTime": {
     "end_time": "2022-08-03T09:15:49.071916Z",
     "start_time": "2022-08-03T09:15:49.003705Z"
    },
    "scrolled": true
   },
   "outputs": [
    {
     "data": {
      "text/plain": [
       "0"
      ]
     },
     "execution_count": 246,
     "metadata": {},
     "output_type": "execute_result"
    }
   ],
   "source": [
    "df.groupby([\"make\", \"model\", \"drive_chain\", \"engine_displacement_cc\"])[\"hp_kW\"].apply(lambda x: x.fillna(x.median() if  x.median() > 1 else df[\"hp_kW\"].median())).isnull().sum()"
   ]
  },
  {
   "cell_type": "code",
   "execution_count": 247,
   "id": "84f83b79",
   "metadata": {
    "ExecuteTime": {
     "end_time": "2022-08-03T09:15:49.147376Z",
     "start_time": "2022-08-03T09:15:49.076600Z"
    }
   },
   "outputs": [],
   "source": [
    "df[\"hp_kW\"] = df.groupby([\"make\", \"model\", \"drive_chain\", \"engine_displacement_cc\"])[\"hp_kW\"].apply(lambda x: x.fillna(x.median() if  x.median() > 1 else df[\"hp_kW\"].median()))"
   ]
  },
  {
   "cell_type": "markdown",
   "id": "1cadd292",
   "metadata": {},
   "source": [
    "## 4. previous_owners"
   ]
  },
  {
   "cell_type": "code",
   "execution_count": 248,
   "id": "30151cff",
   "metadata": {
    "ExecuteTime": {
     "end_time": "2022-08-03T09:15:49.171605Z",
     "start_time": "2022-08-03T09:15:49.152866Z"
    }
   },
   "outputs": [
    {
     "name": "stdout",
     "output_type": "stream",
     "text": [
      "column name :  previous_owners\n",
      "----------------------------------------\n",
      "Q1 :  1.0\n",
      "Q3 :  1.0\n",
      "IQR :  0.0\n",
      "lower limit :  1.0\n",
      "mean :  0.95\n",
      "median :  1.0\n",
      "upper limit :  1.0\n",
      "count of lower values :  1659\n",
      "count of upper values :  797\n",
      " \n",
      "the smallest 10 values :\n",
      " 2295     0.0\n",
      "1697     0.0\n",
      "12697    0.0\n",
      "12696    0.0\n",
      "12694    0.0\n",
      "12693    0.0\n",
      "12692    0.0\n",
      "12691    0.0\n",
      "12690    0.0\n",
      "12689    0.0\n",
      "Name: previous_owners, dtype: float64\n",
      " \n",
      "the biggest 10 values :\n",
      " 15256    4.0\n",
      "972      4.0\n",
      "14994    3.0\n",
      "9478     3.0\n",
      "10770    3.0\n",
      "13560    3.0\n",
      "1290     3.0\n",
      "11443    3.0\n",
      "13568    3.0\n",
      "15007    3.0\n",
      "Name: previous_owners, dtype: float64\n",
      "\n",
      "\n",
      "\n"
     ]
    }
   ],
   "source": [
    "detect_outlier(\"previous_owners\")"
   ]
  },
  {
   "cell_type": "code",
   "execution_count": 249,
   "id": "c5768fa4",
   "metadata": {
    "ExecuteTime": {
     "end_time": "2022-08-03T09:15:49.190743Z",
     "start_time": "2022-08-03T09:15:49.175695Z"
    }
   },
   "outputs": [
    {
     "data": {
      "text/plain": [
       "15256    4.0\n",
       "972      4.0\n",
       "14994    3.0\n",
       "9478     3.0\n",
       "10770    3.0\n",
       "        ... \n",
       "5441     0.0\n",
       "2032     0.0\n",
       "14744    0.0\n",
       "2031     0.0\n",
       "5624     0.0\n",
       "Name: previous_owners, Length: 15919, dtype: float64"
      ]
     },
     "execution_count": 249,
     "metadata": {},
     "output_type": "execute_result"
    }
   ],
   "source": [
    "df.previous_owners.sort_values(ascending=False)"
   ]
  },
  {
   "cell_type": "code",
   "execution_count": 250,
   "id": "b33b09ea",
   "metadata": {
    "ExecuteTime": {
     "end_time": "2022-08-03T09:15:49.283326Z",
     "start_time": "2022-08-03T09:15:49.197191Z"
    }
   },
   "outputs": [
    {
     "data": {
      "text/plain": [
       "{0: '0.0', 1: '1.0', 2: '2.0', 3: '3.0', 4: '4.0'}"
      ]
     },
     "execution_count": 250,
     "metadata": {},
     "output_type": "execute_result"
    }
   ],
   "source": [
    "get_diff_category_column(df.previous_owners)"
   ]
  },
  {
   "cell_type": "markdown",
   "id": "e1ae817d",
   "metadata": {},
   "source": [
    "## 5. nr_of_doors"
   ]
  },
  {
   "cell_type": "code",
   "execution_count": 251,
   "id": "c728cb40",
   "metadata": {
    "ExecuteTime": {
     "end_time": "2022-08-03T09:15:49.302779Z",
     "start_time": "2022-08-03T09:15:49.286916Z"
    }
   },
   "outputs": [
    {
     "name": "stdout",
     "output_type": "stream",
     "text": [
      "column name :  nr_of_doors\n",
      "----------------------------------------\n",
      "Q1 :  4.0\n",
      "Q3 :  5.0\n",
      "IQR :  1.0\n",
      "lower limit :  2.5\n",
      "mean :  4.66\n",
      "median :  5.0\n",
      "upper limit :  6.5\n",
      "count of lower values :  220\n",
      "count of upper values :  1\n",
      " \n",
      "the smallest 10 values :\n",
      " 13782    1.0\n",
      "330      2.0\n",
      "842      2.0\n",
      "1451     2.0\n",
      "1183     2.0\n",
      "1184     2.0\n",
      "1445     2.0\n",
      "8701     2.0\n",
      "8751     2.0\n",
      "1440     2.0\n",
      "Name: nr_of_doors, dtype: float64\n",
      " \n",
      "the biggest 10 values :\n",
      " 15202    7.0\n",
      "10005    5.0\n",
      "9994     5.0\n",
      "9995     5.0\n",
      "9996     5.0\n",
      "9997     5.0\n",
      "9998     5.0\n",
      "9999     5.0\n",
      "10000    5.0\n",
      "10001    5.0\n",
      "Name: nr_of_doors, dtype: float64\n",
      "\n",
      "\n",
      "\n"
     ]
    }
   ],
   "source": [
    "detect_outlier(\"nr_of_doors\")"
   ]
  },
  {
   "cell_type": "code",
   "execution_count": 252,
   "id": "c052e40a",
   "metadata": {
    "ExecuteTime": {
     "end_time": "2022-08-03T09:15:49.315810Z",
     "start_time": "2022-08-03T09:15:49.306231Z"
    }
   },
   "outputs": [],
   "source": [
    "df.loc[(df.nr_of_doors == 1) | (df.nr_of_doors == 7), \"nr_of_doors\"] = 5"
   ]
  },
  {
   "cell_type": "code",
   "execution_count": 253,
   "id": "60575a04",
   "metadata": {
    "ExecuteTime": {
     "end_time": "2022-08-03T09:15:49.340799Z",
     "start_time": "2022-08-03T09:15:49.319323Z"
    }
   },
   "outputs": [
    {
     "name": "stdout",
     "output_type": "stream",
     "text": [
      "column name :  nr_of_doors\n",
      "----------------------------------------\n",
      "Q1 :  4.0\n",
      "Q3 :  5.0\n",
      "IQR :  1.0\n",
      "lower limit :  2.5\n",
      "mean :  4.66\n",
      "median :  5.0\n",
      "upper limit :  6.5\n",
      "count of lower values :  219\n",
      "count of upper values :  0\n",
      " \n",
      "the smallest 10 values :\n",
      " 8477    2.0\n",
      "3124    2.0\n",
      "281     2.0\n",
      "1183    2.0\n",
      "1184    2.0\n",
      "273     2.0\n",
      "9650    2.0\n",
      "3152    2.0\n",
      "1228    2.0\n",
      "1229    2.0\n",
      "Name: nr_of_doors, dtype: float64\n",
      " \n",
      "the biggest 10 values :\n",
      " 0        5.0\n",
      "10020    5.0\n",
      "9994     5.0\n",
      "9995     5.0\n",
      "9996     5.0\n",
      "9997     5.0\n",
      "9998     5.0\n",
      "9999     5.0\n",
      "10000    5.0\n",
      "10001    5.0\n",
      "Name: nr_of_doors, dtype: float64\n",
      "\n",
      "\n",
      "\n"
     ]
    }
   ],
   "source": [
    "detect_outlier(\"nr_of_doors\")"
   ]
  },
  {
   "cell_type": "markdown",
   "id": "68613479",
   "metadata": {},
   "source": [
    "## 5. nr_of_seats"
   ]
  },
  {
   "cell_type": "code",
   "execution_count": 254,
   "id": "15143a08",
   "metadata": {
    "ExecuteTime": {
     "end_time": "2022-08-03T09:15:49.373669Z",
     "start_time": "2022-08-03T09:15:49.354474Z"
    }
   },
   "outputs": [
    {
     "name": "stdout",
     "output_type": "stream",
     "text": [
      "column name :  nr_of_seats\n",
      "----------------------------------------\n",
      "Q1 :  5.0\n",
      "Q3 :  5.0\n",
      "IQR :  0.0\n",
      "lower limit :  5.0\n",
      "mean :  4.95\n",
      "median :  5.0\n",
      "upper limit :  5.0\n",
      "count of lower values :  1242\n",
      "count of upper values :  364\n",
      " \n",
      "the smallest 10 values :\n",
      " 13666    2.0\n",
      "13918    2.0\n",
      "13528    2.0\n",
      "14507    2.0\n",
      "13529    2.0\n",
      "8679     2.0\n",
      "13535    2.0\n",
      "13536    2.0\n",
      "8821     2.0\n",
      "13611    2.0\n",
      "Name: nr_of_seats, dtype: float64\n",
      " \n",
      "the biggest 10 values :\n",
      " 15484    7.0\n",
      "15445    7.0\n",
      "15410    7.0\n",
      "15411    7.0\n",
      "15414    7.0\n",
      "15416    7.0\n",
      "15420    7.0\n",
      "15422    7.0\n",
      "15426    7.0\n",
      "15429    7.0\n",
      "Name: nr_of_seats, dtype: float64\n",
      "\n",
      "\n",
      "\n"
     ]
    }
   ],
   "source": [
    "detect_outlier(\"nr_of_seats\")"
   ]
  },
  {
   "cell_type": "code",
   "execution_count": 255,
   "id": "473806ce",
   "metadata": {
    "ExecuteTime": {
     "end_time": "2022-08-03T09:15:49.395994Z",
     "start_time": "2022-08-03T09:15:49.377461Z"
    }
   },
   "outputs": [
    {
     "data": {
      "text/plain": [
       "make     model   body_type    \n",
       "Renault  Espace  Van              315\n",
       "                 Station wagon     19\n",
       "                 Transporter       16\n",
       "                 Sedans             4\n",
       "                 Off-Road           3\n",
       "                 Other              3\n",
       "                 Compact            2\n",
       "dtype: int64"
      ]
     },
     "execution_count": 255,
     "metadata": {},
     "output_type": "execute_result"
    }
   ],
   "source": [
    "df[df[\"nr_of_seats\"] == 7][[\"make\", \"model\", \"body_type\"]].value_counts()"
   ]
  },
  {
   "cell_type": "code",
   "execution_count": 256,
   "id": "98e727cb",
   "metadata": {
    "ExecuteTime": {
     "end_time": "2022-08-03T09:15:49.416935Z",
     "start_time": "2022-08-03T09:15:49.401386Z"
    }
   },
   "outputs": [
    {
     "data": {
      "text/plain": [
       "make     model     body_type    \n",
       "Renault  Clio      Sedans           71\n",
       "                   Transporter      26\n",
       "                   Compact           8\n",
       "Opel     Corsa     Transporter       4\n",
       "Renault  Clio      Other             4\n",
       "Opel     Corsa     Coupe             1\n",
       "         Insignia  Station wagon     1\n",
       "Renault  Clio      Van               1\n",
       "dtype: int64"
      ]
     },
     "execution_count": 256,
     "metadata": {},
     "output_type": "execute_result"
    }
   ],
   "source": [
    "df[df[\"nr_of_seats\"] == 2][[\"make\", \"model\", \"body_type\"]].value_counts()"
   ]
  },
  {
   "cell_type": "code",
   "execution_count": null,
   "id": "fcf022cf",
   "metadata": {},
   "outputs": [],
   "source": []
  },
  {
   "cell_type": "markdown",
   "id": "d684d3b0",
   "metadata": {},
   "source": [
    "## 6. engine_displacement_cc"
   ]
  },
  {
   "cell_type": "code",
   "execution_count": 257,
   "id": "a84f6d08",
   "metadata": {
    "ExecuteTime": {
     "end_time": "2022-08-03T09:15:49.442257Z",
     "start_time": "2022-08-03T09:15:49.422080Z"
    }
   },
   "outputs": [
    {
     "name": "stdout",
     "output_type": "stream",
     "text": [
      "column name :  engine_displacement_cc\n",
      "----------------------------------------\n",
      "Q1 :  1229.0\n",
      "Q3 :  1598.0\n",
      "IQR :  369.0\n",
      "lower limit :  675.5\n",
      "mean :  1423.54\n",
      "median :  1461.0\n",
      "upper limit :  2151.5\n",
      "count of lower values :  51\n",
      "count of upper values :  23\n",
      " \n",
      "the smallest 10 values :\n",
      " 12796    1.0\n",
      "12768    1.0\n",
      "13904    1.0\n",
      "12823    1.0\n",
      "12790    1.0\n",
      "14319    1.0\n",
      "14284    1.0\n",
      "12849    1.0\n",
      "12848    1.0\n",
      "12781    1.0\n",
      "Name: engine_displacement_cc, dtype: float64\n",
      " \n",
      "the biggest 10 values :\n",
      " 10932    16000.0\n",
      "7169     15898.0\n",
      "10771     2967.0\n",
      "3602      2480.0\n",
      "3610      2480.0\n",
      "3606      2480.0\n",
      "3605      2480.0\n",
      "3604      2480.0\n",
      "3603      2480.0\n",
      "3587      2480.0\n",
      "Name: engine_displacement_cc, dtype: float64\n",
      "\n",
      "\n",
      "\n"
     ]
    }
   ],
   "source": [
    "detect_outlier(\"engine_displacement_cc\")"
   ]
  },
  {
   "cell_type": "code",
   "execution_count": 258,
   "id": "55997411",
   "metadata": {
    "ExecuteTime": {
     "end_time": "2022-08-03T09:15:49.456474Z",
     "start_time": "2022-08-03T09:15:49.445472Z"
    }
   },
   "outputs": [],
   "source": [
    "df.loc[(df.engine_displacement_cc > 3000), \"engine_displacement_cc\"] = df.engine_displacement_cc/10"
   ]
  },
  {
   "cell_type": "code",
   "execution_count": null,
   "id": "cae61896",
   "metadata": {},
   "outputs": [],
   "source": []
  },
  {
   "cell_type": "code",
   "execution_count": 259,
   "id": "433feda8",
   "metadata": {
    "ExecuteTime": {
     "end_time": "2022-08-03T09:15:49.500972Z",
     "start_time": "2022-08-03T09:15:49.460492Z"
    }
   },
   "outputs": [
    {
     "data": {
      "text/html": [
       "<div>\n",
       "<style scoped>\n",
       "    .dataframe tbody tr th:only-of-type {\n",
       "        vertical-align: middle;\n",
       "    }\n",
       "\n",
       "    .dataframe tbody tr th {\n",
       "        vertical-align: top;\n",
       "    }\n",
       "\n",
       "    .dataframe thead th {\n",
       "        text-align: right;\n",
       "    }\n",
       "</style>\n",
       "<table border=\"1\" class=\"dataframe\">\n",
       "  <thead>\n",
       "    <tr style=\"text-align: right;\">\n",
       "      <th></th>\n",
       "      <th>body_type</th>\n",
       "      <th>price_€</th>\n",
       "      <th>vat</th>\n",
       "      <th>km</th>\n",
       "      <th>hp_kW</th>\n",
       "      <th>type</th>\n",
       "      <th>previous_owners</th>\n",
       "      <th>warranty</th>\n",
       "      <th>make</th>\n",
       "      <th>model</th>\n",
       "      <th>body_color</th>\n",
       "      <th>paint_type</th>\n",
       "      <th>upholstery</th>\n",
       "      <th>nr_of_doors</th>\n",
       "      <th>nr_of_seats</th>\n",
       "      <th>gearing_type</th>\n",
       "      <th>engine_displacement_cc</th>\n",
       "      <th>cylinders</th>\n",
       "      <th>weight_kg</th>\n",
       "      <th>drive_chain</th>\n",
       "      <th>fuel</th>\n",
       "      <th>co2e_g</th>\n",
       "      <th>emission_class</th>\n",
       "      <th>comfort&amp;convenience</th>\n",
       "      <th>entertainment&amp;media</th>\n",
       "      <th>extras</th>\n",
       "      <th>safety&amp;security</th>\n",
       "      <th>gears</th>\n",
       "      <th>country_version</th>\n",
       "      <th>consumption_comb</th>\n",
       "      <th>consumption_city</th>\n",
       "      <th>consumption_country</th>\n",
       "      <th>age</th>\n",
       "    </tr>\n",
       "  </thead>\n",
       "  <tbody>\n",
       "    <tr>\n",
       "      <th>10932</th>\n",
       "      <td>Station wagon</td>\n",
       "      <td>14300.0</td>\n",
       "      <td>Price negotiable</td>\n",
       "      <td>76500.0</td>\n",
       "      <td>88.0</td>\n",
       "      <td>Used</td>\n",
       "      <td>1.0</td>\n",
       "      <td>0.0</td>\n",
       "      <td>Opel</td>\n",
       "      <td>Insignia</td>\n",
       "      <td>Grey</td>\n",
       "      <td>Metallic</td>\n",
       "      <td>Full leather</td>\n",
       "      <td>5.0</td>\n",
       "      <td>5.0</td>\n",
       "      <td>Manual</td>\n",
       "      <td>1600.0</td>\n",
       "      <td>NaN</td>\n",
       "      <td>NaN</td>\n",
       "      <td>front</td>\n",
       "      <td>Diesel</td>\n",
       "      <td>NaN</td>\n",
       "      <td>NaN</td>\n",
       "      <td>Air conditioning,Automatic climate control,Cru...</td>\n",
       "      <td>Bluetooth,Hands-free equipment,MP3,On-board co...</td>\n",
       "      <td>Alloy wheels,Touch screen,Voice Control</td>\n",
       "      <td>ABS,Central door lock,Daytime running lights,D...</td>\n",
       "      <td>6.0</td>\n",
       "      <td>NaN</td>\n",
       "      <td>NaN</td>\n",
       "      <td>NaN</td>\n",
       "      <td>NaN</td>\n",
       "      <td>3.0</td>\n",
       "    </tr>\n",
       "    <tr>\n",
       "      <th>7169</th>\n",
       "      <td>Station wagon</td>\n",
       "      <td>18490.0</td>\n",
       "      <td>VAT deductible</td>\n",
       "      <td>22327.0</td>\n",
       "      <td>100.0</td>\n",
       "      <td>Employee's car</td>\n",
       "      <td>1.0</td>\n",
       "      <td>0.0</td>\n",
       "      <td>Opel</td>\n",
       "      <td>Astra</td>\n",
       "      <td>Green</td>\n",
       "      <td>Metallic</td>\n",
       "      <td>Cloth</td>\n",
       "      <td>5.0</td>\n",
       "      <td>5.0</td>\n",
       "      <td>Automatic</td>\n",
       "      <td>1589.8</td>\n",
       "      <td>4.0</td>\n",
       "      <td>NaN</td>\n",
       "      <td>front</td>\n",
       "      <td>Benzine</td>\n",
       "      <td>119.0</td>\n",
       "      <td>Euro 6</td>\n",
       "      <td>Air conditioning,Armrest,Automatic climate con...</td>\n",
       "      <td>Bluetooth,Hands-free equipment,MP3,On-board co...</td>\n",
       "      <td>Alloy wheels,Touch screen,Voice Control</td>\n",
       "      <td>ABS,Central door lock,Daytime running lights,D...</td>\n",
       "      <td>6.0</td>\n",
       "      <td>NaN</td>\n",
       "      <td>4.5</td>\n",
       "      <td>5.7</td>\n",
       "      <td>3.8</td>\n",
       "      <td>1.0</td>\n",
       "    </tr>\n",
       "  </tbody>\n",
       "</table>\n",
       "</div>"
      ],
      "text/plain": [
       "           body_type  price_€               vat       km  hp_kW  \\\n",
       "10932  Station wagon  14300.0  Price negotiable  76500.0   88.0   \n",
       "7169   Station wagon  18490.0    VAT deductible  22327.0  100.0   \n",
       "\n",
       "                 type  previous_owners  warranty  make     model body_color  \\\n",
       "10932            Used              1.0       0.0  Opel  Insignia       Grey   \n",
       "7169   Employee's car              1.0       0.0  Opel     Astra      Green   \n",
       "\n",
       "      paint_type    upholstery  nr_of_doors  nr_of_seats gearing_type  \\\n",
       "10932   Metallic  Full leather          5.0          5.0       Manual   \n",
       "7169    Metallic         Cloth          5.0          5.0    Automatic   \n",
       "\n",
       "       engine_displacement_cc  cylinders  weight_kg drive_chain     fuel  \\\n",
       "10932                  1600.0        NaN        NaN       front   Diesel   \n",
       "7169                   1589.8        4.0        NaN       front  Benzine   \n",
       "\n",
       "       co2e_g emission_class  \\\n",
       "10932     NaN            NaN   \n",
       "7169    119.0         Euro 6   \n",
       "\n",
       "                                     comfort&convenience  \\\n",
       "10932  Air conditioning,Automatic climate control,Cru...   \n",
       "7169   Air conditioning,Armrest,Automatic climate con...   \n",
       "\n",
       "                                     entertainment&media  \\\n",
       "10932  Bluetooth,Hands-free equipment,MP3,On-board co...   \n",
       "7169   Bluetooth,Hands-free equipment,MP3,On-board co...   \n",
       "\n",
       "                                        extras  \\\n",
       "10932  Alloy wheels,Touch screen,Voice Control   \n",
       "7169   Alloy wheels,Touch screen,Voice Control   \n",
       "\n",
       "                                         safety&security  gears  \\\n",
       "10932  ABS,Central door lock,Daytime running lights,D...    6.0   \n",
       "7169   ABS,Central door lock,Daytime running lights,D...    6.0   \n",
       "\n",
       "      country_version  consumption_comb  consumption_city  \\\n",
       "10932             NaN               NaN               NaN   \n",
       "7169              NaN               4.5               5.7   \n",
       "\n",
       "       consumption_country  age  \n",
       "10932                  NaN  3.0  \n",
       "7169                   3.8  1.0  "
      ]
     },
     "execution_count": 259,
     "metadata": {},
     "output_type": "execute_result"
    }
   ],
   "source": [
    "df.iloc[[10932, 7169]]"
   ]
  },
  {
   "cell_type": "code",
   "execution_count": 260,
   "id": "491c1f0b",
   "metadata": {
    "ExecuteTime": {
     "end_time": "2022-08-03T09:15:49.513725Z",
     "start_time": "2022-08-03T09:15:49.504369Z"
    }
   },
   "outputs": [],
   "source": [
    "df.loc[(df.engine_displacement_cc < 800), \"engine_displacement_cc\"] = np.nan"
   ]
  },
  {
   "cell_type": "code",
   "execution_count": 261,
   "id": "7eabe0e6",
   "metadata": {
    "ExecuteTime": {
     "end_time": "2022-08-03T09:15:49.569709Z",
     "start_time": "2022-08-03T09:15:49.516472Z"
    },
    "scrolled": false
   },
   "outputs": [
    {
     "data": {
      "text/plain": [
       "0"
      ]
     },
     "execution_count": 261,
     "metadata": {},
     "output_type": "execute_result"
    }
   ],
   "source": [
    "df.groupby([\"make\", \"model\",\"cylinders\", \"hp_kW\"])[\"engine_displacement_cc\"].apply(lambda x : x.fillna(x.median()) if x.median() > 0 else df[\"engine_displacement_cc\"].median()).isnull().sum()"
   ]
  },
  {
   "cell_type": "code",
   "execution_count": 262,
   "id": "2d286867",
   "metadata": {
    "ExecuteTime": {
     "end_time": "2022-08-03T09:15:49.627572Z",
     "start_time": "2022-08-03T09:15:49.576336Z"
    }
   },
   "outputs": [],
   "source": [
    "df[\"hp_kW\"] = df.groupby([\"make\", \"model\", \"drive_chain\", \"engine_displacement_cc\"])[\"hp_kW\"].apply(lambda x: x.fillna(x.median() if  x.median() > 1 else df[\"hp_kW\"].median()))"
   ]
  },
  {
   "cell_type": "code",
   "execution_count": 263,
   "id": "8512105a",
   "metadata": {
    "ExecuteTime": {
     "end_time": "2022-08-03T09:15:49.718189Z",
     "start_time": "2022-08-03T09:15:49.632849Z"
    }
   },
   "outputs": [
    {
     "data": {
      "text/plain": [
       "{0: '1000.0',\n",
       " 1: '1100.0',\n",
       " 2: '1149.0',\n",
       " 3: '1195.0',\n",
       " 4: '1197.0',\n",
       " 5: '1198.0',\n",
       " 6: '1199.0',\n",
       " 7: '1200.0',\n",
       " 8: '1229.0',\n",
       " 9: '1239.0',\n",
       " 10: '1248.0',\n",
       " 11: '1300.0',\n",
       " 12: '1333.0',\n",
       " 13: '1350.0',\n",
       " 14: '1364.0',\n",
       " 15: '1368.0',\n",
       " 16: '1369.0',\n",
       " 17: '1390.0',\n",
       " 18: '1395.0',\n",
       " 19: '1396.0',\n",
       " 20: '1397.0',\n",
       " 21: '1398.0',\n",
       " 22: '1399.0',\n",
       " 23: '1400.0',\n",
       " 24: '1422.0',\n",
       " 25: '1461.0',\n",
       " 26: '1490.0',\n",
       " 27: '1495.0',\n",
       " 28: '1496.0',\n",
       " 29: '1498.0',\n",
       " 30: '1499.0',\n",
       " 31: '1500.0',\n",
       " 32: '1533.0',\n",
       " 33: '1568.0',\n",
       " 34: '1580.0',\n",
       " 35: '1584.0',\n",
       " 36: '1589.0',\n",
       " 37: '1589.8',\n",
       " 38: '1596.0',\n",
       " 39: '1598.0',\n",
       " 40: '1599.0',\n",
       " 41: '1600.0',\n",
       " 42: '1618.0',\n",
       " 43: '1686.0',\n",
       " 44: '1696.0',\n",
       " 45: '1798.0',\n",
       " 46: '1800.0',\n",
       " 47: '1856.0',\n",
       " 48: '1896.0',\n",
       " 49: '1956.0',\n",
       " 50: '1968.0',\n",
       " 51: '1984.0',\n",
       " 52: '1995.0',\n",
       " 53: '1997.0',\n",
       " 54: '1998.0',\n",
       " 55: '2000.0',\n",
       " 56: '2480.0',\n",
       " 57: '2967.0',\n",
       " 58: '890.0',\n",
       " 59: '898.0',\n",
       " 60: '899.0',\n",
       " 61: '900.0',\n",
       " 62: '929.0',\n",
       " 63: '973.0',\n",
       " 64: '995.0',\n",
       " 65: '996.0',\n",
       " 66: '997.0',\n",
       " 67: '998.0',\n",
       " 68: '999.0'}"
      ]
     },
     "execution_count": 263,
     "metadata": {},
     "output_type": "execute_result"
    }
   ],
   "source": [
    "get_diff_category_column(df.engine_displacement_cc)"
   ]
  },
  {
   "cell_type": "code",
   "execution_count": 264,
   "id": "935daff1",
   "metadata": {
    "ExecuteTime": {
     "end_time": "2022-08-03T09:15:49.746272Z",
     "start_time": "2022-08-03T09:15:49.721474Z"
    }
   },
   "outputs": [],
   "source": [
    "df.loc[df.engine_displacement_cc > 2500, \"engine_displacement_cc\" ] = 3.0\n",
    "df.loc[df.engine_displacement_cc > 2000, \"engine_displacement_cc\" ] = 2.5\n",
    "df.loc[df.engine_displacement_cc > 1800, \"engine_displacement_cc\" ] = 2.0\n",
    "df.loc[df.engine_displacement_cc > 1600, \"engine_displacement_cc\" ] = 1.8\n",
    "df.loc[df.engine_displacement_cc > 1500, \"engine_displacement_cc\" ] = 1.6\n",
    "df.loc[df.engine_displacement_cc > 1400, \"engine_displacement_cc\" ] = 1.5\n",
    "df.loc[df.engine_displacement_cc > 1300, \"engine_displacement_cc\" ] = 1.4\n",
    "df.loc[df.engine_displacement_cc > 1200, \"engine_displacement_cc\" ] = 1.3\n",
    "df.loc[df.engine_displacement_cc > 1100, \"engine_displacement_cc\" ] = 1.2\n",
    "df.loc[df.engine_displacement_cc > 800, \"engine_displacement_cc\" ] = 1.0"
   ]
  },
  {
   "cell_type": "code",
   "execution_count": 265,
   "id": "43db1c19",
   "metadata": {
    "ExecuteTime": {
     "end_time": "2022-08-03T09:15:49.755758Z",
     "start_time": "2022-08-03T09:15:49.748317Z"
    }
   },
   "outputs": [],
   "source": [
    "df.engine_displacement_cc = df.engine_displacement_cc *1000"
   ]
  },
  {
   "cell_type": "code",
   "execution_count": 266,
   "id": "096b6b21",
   "metadata": {
    "ExecuteTime": {
     "end_time": "2022-08-03T09:15:49.770252Z",
     "start_time": "2022-08-03T09:15:49.759438Z"
    }
   },
   "outputs": [
    {
     "data": {
      "text/plain": [
       "1600.0    4906\n",
       "1000.0    2931\n",
       "1400.0    2594\n",
       "1500.0    1875\n",
       "2000.0    1166\n",
       "1300.0     790\n",
       "1200.0     664\n",
       "1800.0     425\n",
       "2500.0      20\n",
       "3000.0       1\n",
       "Name: engine_displacement_cc, dtype: int64"
      ]
     },
     "execution_count": 266,
     "metadata": {},
     "output_type": "execute_result"
    }
   ],
   "source": [
    "df.engine_displacement_cc.value_counts()"
   ]
  },
  {
   "cell_type": "markdown",
   "id": "6c5c16e4",
   "metadata": {},
   "source": [
    "## 7. cylinders"
   ]
  },
  {
   "cell_type": "code",
   "execution_count": 267,
   "id": "2801d129",
   "metadata": {
    "ExecuteTime": {
     "end_time": "2022-08-03T09:15:49.793121Z",
     "start_time": "2022-08-03T09:15:49.773691Z"
    }
   },
   "outputs": [
    {
     "name": "stdout",
     "output_type": "stream",
     "text": [
      "column name :  cylinders\n",
      "----------------------------------------\n",
      "Q1 :  4.0\n",
      "Q3 :  4.0\n",
      "IQR :  0.0\n",
      "lower limit :  4.0\n",
      "mean :  3.8\n",
      "median :  4.0\n",
      "upper limit :  4.0\n",
      "count of lower values :  2107\n",
      "count of upper values :  27\n",
      " \n",
      "the smallest 10 values :\n",
      " 9956     1.0\n",
      "15835    2.0\n",
      "11342    2.0\n",
      "2472     3.0\n",
      "2477     3.0\n",
      "2480     3.0\n",
      "2481     3.0\n",
      "2482     3.0\n",
      "2483     3.0\n",
      "2484     3.0\n",
      "Name: cylinders, dtype: float64\n",
      " \n",
      "the biggest 10 values :\n",
      " 15055    8.0\n",
      "535      8.0\n",
      "10771    6.0\n",
      "10826    6.0\n",
      "12897    6.0\n",
      "3608     5.0\n",
      "3606     5.0\n",
      "3604     5.0\n",
      "3603     5.0\n",
      "3602     5.0\n",
      "Name: cylinders, dtype: float64\n",
      "\n",
      "\n",
      "\n"
     ]
    }
   ],
   "source": [
    "detect_outlier(\"cylinders\")"
   ]
  },
  {
   "cell_type": "code",
   "execution_count": 268,
   "id": "ca5aa397",
   "metadata": {
    "ExecuteTime": {
     "end_time": "2022-08-03T09:15:49.842576Z",
     "start_time": "2022-08-03T09:15:49.798701Z"
    },
    "scrolled": false
   },
   "outputs": [
    {
     "data": {
      "text/html": [
       "<div>\n",
       "<style scoped>\n",
       "    .dataframe tbody tr th:only-of-type {\n",
       "        vertical-align: middle;\n",
       "    }\n",
       "\n",
       "    .dataframe tbody tr th {\n",
       "        vertical-align: top;\n",
       "    }\n",
       "\n",
       "    .dataframe thead th {\n",
       "        text-align: right;\n",
       "    }\n",
       "</style>\n",
       "<table border=\"1\" class=\"dataframe\">\n",
       "  <thead>\n",
       "    <tr style=\"text-align: right;\">\n",
       "      <th></th>\n",
       "      <th>body_type</th>\n",
       "      <th>price_€</th>\n",
       "      <th>vat</th>\n",
       "      <th>km</th>\n",
       "      <th>hp_kW</th>\n",
       "      <th>type</th>\n",
       "      <th>previous_owners</th>\n",
       "      <th>warranty</th>\n",
       "      <th>make</th>\n",
       "      <th>model</th>\n",
       "      <th>body_color</th>\n",
       "      <th>paint_type</th>\n",
       "      <th>upholstery</th>\n",
       "      <th>nr_of_doors</th>\n",
       "      <th>nr_of_seats</th>\n",
       "      <th>gearing_type</th>\n",
       "      <th>engine_displacement_cc</th>\n",
       "      <th>cylinders</th>\n",
       "      <th>weight_kg</th>\n",
       "      <th>drive_chain</th>\n",
       "      <th>fuel</th>\n",
       "      <th>co2e_g</th>\n",
       "      <th>emission_class</th>\n",
       "      <th>comfort&amp;convenience</th>\n",
       "      <th>entertainment&amp;media</th>\n",
       "      <th>extras</th>\n",
       "      <th>safety&amp;security</th>\n",
       "      <th>gears</th>\n",
       "      <th>country_version</th>\n",
       "      <th>consumption_comb</th>\n",
       "      <th>consumption_city</th>\n",
       "      <th>consumption_country</th>\n",
       "      <th>age</th>\n",
       "    </tr>\n",
       "  </thead>\n",
       "  <tbody>\n",
       "    <tr>\n",
       "      <th>9956</th>\n",
       "      <td>Compact</td>\n",
       "      <td>16625.0</td>\n",
       "      <td>VAT deductible</td>\n",
       "      <td>100.0</td>\n",
       "      <td>66.0</td>\n",
       "      <td>Pre-registered</td>\n",
       "      <td>1.0</td>\n",
       "      <td>0.0</td>\n",
       "      <td>Opel</td>\n",
       "      <td>Corsa</td>\n",
       "      <td>Black</td>\n",
       "      <td>Metallic</td>\n",
       "      <td>Cloth</td>\n",
       "      <td>3.0</td>\n",
       "      <td>5.0</td>\n",
       "      <td>Automatic</td>\n",
       "      <td>1400.0</td>\n",
       "      <td>1.0</td>\n",
       "      <td>1163.0</td>\n",
       "      <td>front</td>\n",
       "      <td>Benzine</td>\n",
       "      <td>140.0</td>\n",
       "      <td>Euro 6d-TEMP</td>\n",
       "      <td>Air conditioning,Automatic climate control,Cru...</td>\n",
       "      <td>Bluetooth,Digital radio,Hands-free equipment,M...</td>\n",
       "      <td>Alloy wheels,Sport suspension</td>\n",
       "      <td>ABS,Central door lock,Daytime running lights,D...</td>\n",
       "      <td>6.0</td>\n",
       "      <td>Germany</td>\n",
       "      <td>NaN</td>\n",
       "      <td>7.8</td>\n",
       "      <td>4.9</td>\n",
       "      <td>0.0</td>\n",
       "    </tr>\n",
       "    <tr>\n",
       "      <th>11342</th>\n",
       "      <td>Station wagon</td>\n",
       "      <td>21900.0</td>\n",
       "      <td>VAT deductible</td>\n",
       "      <td>13600.0</td>\n",
       "      <td>NaN</td>\n",
       "      <td>Employee's car</td>\n",
       "      <td>1.0</td>\n",
       "      <td>0.0</td>\n",
       "      <td>Opel</td>\n",
       "      <td>Insignia</td>\n",
       "      <td>Grey</td>\n",
       "      <td>Metallic</td>\n",
       "      <td>Part leather</td>\n",
       "      <td>5.0</td>\n",
       "      <td>5.0</td>\n",
       "      <td>Automatic</td>\n",
       "      <td>NaN</td>\n",
       "      <td>2.0</td>\n",
       "      <td>NaN</td>\n",
       "      <td>front</td>\n",
       "      <td>Diesel</td>\n",
       "      <td>NaN</td>\n",
       "      <td>NaN</td>\n",
       "      <td>Air conditioning,Armrest,Automatic climate con...</td>\n",
       "      <td>Bluetooth,Digital radio,Hands-free equipment,M...</td>\n",
       "      <td>Alloy wheels,Catalytic Converter,Touch screen,...</td>\n",
       "      <td>ABS,Central door lock with remote control,Driv...</td>\n",
       "      <td>6.0</td>\n",
       "      <td>Italy</td>\n",
       "      <td>NaN</td>\n",
       "      <td>NaN</td>\n",
       "      <td>NaN</td>\n",
       "      <td>1.0</td>\n",
       "    </tr>\n",
       "    <tr>\n",
       "      <th>15835</th>\n",
       "      <td>Van</td>\n",
       "      <td>47590.0</td>\n",
       "      <td>VAT deductible</td>\n",
       "      <td>6000.0</td>\n",
       "      <td>147.0</td>\n",
       "      <td>Employee's car</td>\n",
       "      <td>1.0</td>\n",
       "      <td>0.0</td>\n",
       "      <td>Renault</td>\n",
       "      <td>Espace</td>\n",
       "      <td>Black</td>\n",
       "      <td>Metallic</td>\n",
       "      <td>Full leather</td>\n",
       "      <td>5.0</td>\n",
       "      <td>7.0</td>\n",
       "      <td>Automatic</td>\n",
       "      <td>2000.0</td>\n",
       "      <td>2.0</td>\n",
       "      <td>1840.0</td>\n",
       "      <td>front</td>\n",
       "      <td>Diesel</td>\n",
       "      <td>139.0</td>\n",
       "      <td>Euro 6d-TEMP</td>\n",
       "      <td>Air conditioning,Automatic climate control,Ele...</td>\n",
       "      <td>Bluetooth,Hands-free equipment,On-board comput...</td>\n",
       "      <td>Voice Control</td>\n",
       "      <td>ABS,Alarm system,Blind spot monitor,Central do...</td>\n",
       "      <td>6.0</td>\n",
       "      <td>Germany</td>\n",
       "      <td>5.3</td>\n",
       "      <td>6.2</td>\n",
       "      <td>4.7</td>\n",
       "      <td>0.0</td>\n",
       "    </tr>\n",
       "  </tbody>\n",
       "</table>\n",
       "</div>"
      ],
      "text/plain": [
       "           body_type  price_€             vat       km  hp_kW            type  \\\n",
       "9956         Compact  16625.0  VAT deductible    100.0   66.0  Pre-registered   \n",
       "11342  Station wagon  21900.0  VAT deductible  13600.0    NaN  Employee's car   \n",
       "15835            Van  47590.0  VAT deductible   6000.0  147.0  Employee's car   \n",
       "\n",
       "       previous_owners  warranty     make     model body_color paint_type  \\\n",
       "9956               1.0       0.0     Opel     Corsa      Black   Metallic   \n",
       "11342              1.0       0.0     Opel  Insignia       Grey   Metallic   \n",
       "15835              1.0       0.0  Renault    Espace      Black   Metallic   \n",
       "\n",
       "         upholstery  nr_of_doors  nr_of_seats gearing_type  \\\n",
       "9956          Cloth          3.0          5.0    Automatic   \n",
       "11342  Part leather          5.0          5.0    Automatic   \n",
       "15835  Full leather          5.0          7.0    Automatic   \n",
       "\n",
       "       engine_displacement_cc  cylinders  weight_kg drive_chain     fuel  \\\n",
       "9956                   1400.0        1.0     1163.0       front  Benzine   \n",
       "11342                     NaN        2.0        NaN       front   Diesel   \n",
       "15835                  2000.0        2.0     1840.0       front   Diesel   \n",
       "\n",
       "       co2e_g emission_class  \\\n",
       "9956    140.0   Euro 6d-TEMP   \n",
       "11342     NaN            NaN   \n",
       "15835   139.0   Euro 6d-TEMP   \n",
       "\n",
       "                                     comfort&convenience  \\\n",
       "9956   Air conditioning,Automatic climate control,Cru...   \n",
       "11342  Air conditioning,Armrest,Automatic climate con...   \n",
       "15835  Air conditioning,Automatic climate control,Ele...   \n",
       "\n",
       "                                     entertainment&media  \\\n",
       "9956   Bluetooth,Digital radio,Hands-free equipment,M...   \n",
       "11342  Bluetooth,Digital radio,Hands-free equipment,M...   \n",
       "15835  Bluetooth,Hands-free equipment,On-board comput...   \n",
       "\n",
       "                                                  extras  \\\n",
       "9956                       Alloy wheels,Sport suspension   \n",
       "11342  Alloy wheels,Catalytic Converter,Touch screen,...   \n",
       "15835                                      Voice Control   \n",
       "\n",
       "                                         safety&security  gears  \\\n",
       "9956   ABS,Central door lock,Daytime running lights,D...    6.0   \n",
       "11342  ABS,Central door lock with remote control,Driv...    6.0   \n",
       "15835  ABS,Alarm system,Blind spot monitor,Central do...    6.0   \n",
       "\n",
       "      country_version  consumption_comb  consumption_city  \\\n",
       "9956          Germany               NaN               7.8   \n",
       "11342           Italy               NaN               NaN   \n",
       "15835         Germany               5.3               6.2   \n",
       "\n",
       "       consumption_country  age  \n",
       "9956                   4.9  0.0  \n",
       "11342                  NaN  1.0  \n",
       "15835                  4.7  0.0  "
      ]
     },
     "execution_count": 268,
     "metadata": {},
     "output_type": "execute_result"
    }
   ],
   "source": [
    "df[(df.cylinders == 1) | (df.cylinders==2)]"
   ]
  },
  {
   "cell_type": "code",
   "execution_count": 269,
   "id": "b21c9ca3",
   "metadata": {
    "ExecuteTime": {
     "end_time": "2022-08-03T09:15:49.856774Z",
     "start_time": "2022-08-03T09:15:49.847623Z"
    },
    "scrolled": true
   },
   "outputs": [],
   "source": [
    "df.loc[(df.cylinders ==1)|(df.cylinders ==2), \"cylinders\"] = 4.0"
   ]
  },
  {
   "cell_type": "markdown",
   "id": "6957b13a",
   "metadata": {},
   "source": [
    "## 8. weight_kg"
   ]
  },
  {
   "cell_type": "code",
   "execution_count": 270,
   "id": "a30e300c",
   "metadata": {
    "ExecuteTime": {
     "end_time": "2022-08-03T09:15:49.886813Z",
     "start_time": "2022-08-03T09:15:49.863787Z"
    }
   },
   "outputs": [
    {
     "name": "stdout",
     "output_type": "stream",
     "text": [
      "column name :  weight_kg\n",
      "----------------------------------------\n",
      "Q1 :  1165.0\n",
      "Q3 :  1487.0\n",
      "IQR :  322.0\n",
      "lower limit :  682.0\n",
      "mean :  1351.11\n",
      "median :  1288.0\n",
      "upper limit :  1970.0\n",
      "count of lower values :  3\n",
      "count of upper values :  75\n",
      " \n",
      "the smallest 10 values :\n",
      " 8355       1.0\n",
      "12779      1.0\n",
      "1143     102.0\n",
      "8857     840.0\n",
      "14313    900.0\n",
      "13513    977.0\n",
      "13555    977.0\n",
      "14479    980.0\n",
      "14654    980.0\n",
      "13609    980.0\n",
      "Name: weight_kg, dtype: float64\n",
      " \n",
      "the biggest 10 values :\n",
      " 15185    2471.0\n",
      "14975    2471.0\n",
      "15280    2471.0\n",
      "15678    2471.0\n",
      "15231    2471.0\n",
      "10638    2450.0\n",
      "10646    2450.0\n",
      "15133    2410.0\n",
      "15136    2410.0\n",
      "15143    2410.0\n",
      "Name: weight_kg, dtype: float64\n",
      "\n",
      "\n",
      "\n"
     ]
    }
   ],
   "source": [
    "detect_outlier(\"weight_kg\")"
   ]
  },
  {
   "cell_type": "code",
   "execution_count": 271,
   "id": "54730320",
   "metadata": {
    "ExecuteTime": {
     "end_time": "2022-08-03T09:15:49.912417Z",
     "start_time": "2022-08-03T09:15:49.890209Z"
    },
    "scrolled": false
   },
   "outputs": [
    {
     "data": {
      "text/plain": [
       "make  model  body_type  weight_kg\n",
       "Audi  A1     Compact    1180.0        86\n",
       "                        1165.0        77\n",
       "                        1200.0        65\n",
       "                        1135.0        53\n",
       "                        1195.0        40\n",
       "                        1065.0        36\n",
       "                        1110.0        22\n",
       "                        1250.0        17\n",
       "                        1105.0        12\n",
       "                        1090.0         9\n",
       "                        1215.0         9\n",
       "                        1240.0         7\n",
       "                        1035.0         6\n",
       "                        1134.0         6\n",
       "                        1155.0         5\n",
       "                        1205.0         5\n",
       "                        1275.0         5\n",
       "                        1485.0         5\n",
       "                        1225.0         4\n",
       "                        1600.0         4\n",
       "                        1115.0         3\n",
       "                        1133.0         3\n",
       "                        1230.0         3\n",
       "                        1285.0         3\n",
       "                        1335.0         3\n",
       "                        1345.0         3\n",
       "                        1010.0         2\n",
       "                        1040.0         2\n",
       "                        1100.0         2\n",
       "                        1220.0         2\n",
       "                        1235.0         2\n",
       "                        102.0          1\n",
       "                        1125.0         1\n",
       "                        1138.0         1\n",
       "                        1140.0         1\n",
       "                        1147.0         1\n",
       "                        1150.0         1\n",
       "                        1280.0         1\n",
       "                        1500.0         1\n",
       "                        1580.0         1\n",
       "                        1625.0         1\n",
       "                        1675.0         1\n",
       "                        1792.0         1\n",
       "             Coupe      1010.0         1\n",
       "             Other      1165.0         1\n",
       "                        1205.0         1\n",
       "                        1230.0         1\n",
       "                        1250.0         1\n",
       "             Sedans     1135.0       106\n",
       "                        1165.0        89\n",
       "                        1250.0        58\n",
       "                        1110.0        53\n",
       "                        1180.0        51\n",
       "                        1275.0        51\n",
       "                        1230.0        50\n",
       "                        1195.0        45\n",
       "                        1200.0        36\n",
       "                        1680.0        31\n",
       "                        1205.0        30\n",
       "                        1255.0        24\n",
       "Name: weight_kg, dtype: int64"
      ]
     },
     "execution_count": 271,
     "metadata": {},
     "output_type": "execute_result"
    }
   ],
   "source": [
    "df.groupby([\"make\", \"model\", \"body_type\"])[\"weight_kg\"].value_counts().head(60)"
   ]
  },
  {
   "cell_type": "code",
   "execution_count": null,
   "id": "cf54c23b",
   "metadata": {},
   "outputs": [],
   "source": []
  },
  {
   "cell_type": "code",
   "execution_count": 272,
   "id": "a97ac7cd",
   "metadata": {
    "ExecuteTime": {
     "end_time": "2022-08-03T09:15:49.925660Z",
     "start_time": "2022-08-03T09:15:49.915826Z"
    }
   },
   "outputs": [],
   "source": [
    "df.loc[df.weight_kg < 103, \"weight_kg\"] = np.nan"
   ]
  },
  {
   "cell_type": "code",
   "execution_count": 273,
   "id": "ddc4e464",
   "metadata": {
    "ExecuteTime": {
     "end_time": "2022-08-03T09:15:49.973318Z",
     "start_time": "2022-08-03T09:15:49.927706Z"
    }
   },
   "outputs": [],
   "source": [
    "df.weight_kg = df.groupby([\"make\", \"model\", \"body_type\"])[\"weight_kg\"].apply(lambda x:x.fillna(x.mean()))"
   ]
  },
  {
   "cell_type": "markdown",
   "id": "7fe55a8a",
   "metadata": {},
   "source": [
    "## 9. co2e_g"
   ]
  },
  {
   "cell_type": "code",
   "execution_count": 274,
   "id": "6b5dee87",
   "metadata": {
    "ExecuteTime": {
     "end_time": "2022-08-03T09:15:50.000644Z",
     "start_time": "2022-08-03T09:15:49.975969Z"
    }
   },
   "outputs": [
    {
     "name": "stdout",
     "output_type": "stream",
     "text": [
      "column name :  co2e_g\n",
      "----------------------------------------\n",
      "Q1 :  104.0\n",
      "Q3 :  129.0\n",
      "IQR :  25.0\n",
      "lower limit :  66.5\n",
      "mean :  123.79\n",
      "median :  116.0\n",
      "upper limit :  166.5\n",
      "count of lower values :  6\n",
      "count of upper values :  236\n",
      " \n",
      "the smallest 10 values :\n",
      " 8110     14.0\n",
      "3617     36.0\n",
      "3612     36.0\n",
      "3615     36.0\n",
      "12547    45.0\n",
      "9798     51.0\n",
      "7857     80.0\n",
      "13668    82.0\n",
      "13518    82.0\n",
      "13861    82.0\n",
      "Name: co2e_g, dtype: float64\n",
      " \n",
      "the biggest 10 values :\n",
      " 11888    14457.0\n",
      "12343    13983.0\n",
      "8542     12324.0\n",
      "6579     12087.0\n",
      "5818     12087.0\n",
      "6578     12087.0\n",
      "4089      1060.0\n",
      "4556       990.0\n",
      "535        331.0\n",
      "10513      253.0\n",
      "Name: co2e_g, dtype: float64\n",
      "\n",
      "\n",
      "\n"
     ]
    }
   ],
   "source": [
    "detect_outlier(\"co2e_g\")"
   ]
  },
  {
   "cell_type": "code",
   "execution_count": 275,
   "id": "ff9c8acb",
   "metadata": {
    "ExecuteTime": {
     "end_time": "2022-08-03T09:15:50.020617Z",
     "start_time": "2022-08-03T09:15:50.005206Z"
    },
    "scrolled": true
   },
   "outputs": [
    {
     "data": {
      "text/plain": [
       "120.0    740\n",
       "99.0     545\n",
       "97.0     537\n",
       "104.0    501\n",
       "102.0    477\n",
       "103.0    445\n",
       "114.0    382\n",
       "124.0    372\n",
       "107.0    362\n",
       "108.0    362\n",
       "119.0    361\n",
       "106.0    349\n",
       "128.0    329\n",
       "126.0    282\n",
       "85.0     275\n",
       "118.0    270\n",
       "110.0    266\n",
       "127.0    257\n",
       "117.0    254\n",
       "111.0    237\n",
       "113.0    235\n",
       "109.0    234\n",
       "139.0    224\n",
       "140.0    218\n",
       "129.0    213\n",
       "135.0    202\n",
       "105.0    202\n",
       "92.0     198\n",
       "130.0    180\n",
       "123.0    178\n",
       "150.0    174\n",
       "143.0    171\n",
       "112.0    171\n",
       "95.0     161\n",
       "116.0    157\n",
       "141.0    156\n",
       "98.0     151\n",
       "133.0    145\n",
       "136.0    145\n",
       "137.0    133\n",
       "125.0    132\n",
       "134.0    130\n",
       "145.0    126\n",
       "149.0    117\n",
       "153.0    113\n",
       "147.0    109\n",
       "101.0    105\n",
       "132.0    100\n",
       "115.0     86\n",
       "122.0     83\n",
       "121.0     82\n",
       "138.0     75\n",
       "93.0      66\n",
       "168.0     58\n",
       "142.0     58\n",
       "131.0     48\n",
       "148.0     48\n",
       "144.0     40\n",
       "154.0     40\n",
       "94.0      37\n",
       "Name: co2e_g, dtype: int64"
      ]
     },
     "execution_count": 275,
     "metadata": {},
     "output_type": "execute_result"
    }
   ],
   "source": [
    "df.co2e_g.value_counts().head(60)"
   ]
  },
  {
   "cell_type": "code",
   "execution_count": 276,
   "id": "2d7ef95b",
   "metadata": {
    "ExecuteTime": {
     "end_time": "2022-08-03T09:15:50.046537Z",
     "start_time": "2022-08-03T09:15:50.039191Z"
    }
   },
   "outputs": [],
   "source": [
    "from scipy.stats.mstats import winsorize"
   ]
  },
  {
   "cell_type": "code",
   "execution_count": null,
   "id": "5dcb72ae",
   "metadata": {},
   "outputs": [],
   "source": []
  },
  {
   "cell_type": "code",
   "execution_count": 277,
   "id": "94b8ab45",
   "metadata": {
    "ExecuteTime": {
     "end_time": "2022-08-03T09:15:50.067151Z",
     "start_time": "2022-08-03T09:15:50.053468Z"
    }
   },
   "outputs": [],
   "source": [
    "Q1 = df.co2e_g.quantile(0.25)\n",
    "Q3 = df.co2e_g.quantile(0.75)\n",
    "IQR = Q3 - Q1\n",
    "lower_limit = Q1 - 1.5*IQR\n",
    "upper_limit = Q3 + 1.5*IQR"
   ]
  },
  {
   "cell_type": "code",
   "execution_count": 278,
   "id": "9f42dbf3",
   "metadata": {
    "ExecuteTime": {
     "end_time": "2022-08-03T09:15:50.083653Z",
     "start_time": "2022-08-03T09:15:50.072454Z"
    }
   },
   "outputs": [
    {
     "data": {
      "text/plain": [
       "0.0003769080972422891"
      ]
     },
     "execution_count": 278,
     "metadata": {},
     "output_type": "execute_result"
    }
   ],
   "source": [
    "a = len(df.co2e_g[df.co2e_g < lower_limit]) / len(df)\n",
    "a"
   ]
  },
  {
   "cell_type": "code",
   "execution_count": 279,
   "id": "c5abfcbe",
   "metadata": {
    "ExecuteTime": {
     "end_time": "2022-08-03T09:15:50.125804Z",
     "start_time": "2022-08-03T09:15:50.087899Z"
    }
   },
   "outputs": [
    {
     "data": {
      "text/plain": [
       "0.01482505182486337"
      ]
     },
     "execution_count": 279,
     "metadata": {},
     "output_type": "execute_result"
    }
   ],
   "source": [
    "b = len(df.co2e_g[df.co2e_g > upper_limit]) / len(df)\n",
    "b"
   ]
  },
  {
   "cell_type": "code",
   "execution_count": 280,
   "id": "bb4e0f5d",
   "metadata": {
    "ExecuteTime": {
     "end_time": "2022-08-03T09:15:50.164520Z",
     "start_time": "2022-08-03T09:15:50.131219Z"
    }
   },
   "outputs": [
    {
     "data": {
      "text/plain": [
       "masked_array(data=[ 99., 129.,  99., ..., 139., 139., 153.],\n",
       "             mask=False,\n",
       "       fill_value=1e+20)"
      ]
     },
     "execution_count": 280,
     "metadata": {},
     "output_type": "execute_result"
    }
   ],
   "source": [
    "table_win = winsorize(df.co2e_g, (a,b))\n",
    "table_win"
   ]
  },
  {
   "cell_type": "code",
   "execution_count": 281,
   "id": "8e9475f8",
   "metadata": {
    "ExecuteTime": {
     "end_time": "2022-08-03T09:15:50.201421Z",
     "start_time": "2022-08-03T09:15:50.187302Z"
    }
   },
   "outputs": [],
   "source": [
    "df[\"co2e_g\"] = pd.Series(table_win)"
   ]
  },
  {
   "cell_type": "code",
   "execution_count": 282,
   "id": "df853c42",
   "metadata": {
    "ExecuteTime": {
     "end_time": "2022-08-03T09:15:50.224822Z",
     "start_time": "2022-08-03T09:15:50.208108Z"
    }
   },
   "outputs": [
    {
     "data": {
      "text/plain": [
       "7857     80.0\n",
       "8110     80.0\n",
       "3617     80.0\n",
       "3612     80.0\n",
       "12547    80.0\n",
       "         ... \n",
       "15883     NaN\n",
       "15903     NaN\n",
       "15906     NaN\n",
       "15908     NaN\n",
       "15909     NaN\n",
       "Name: co2e_g, Length: 15919, dtype: float64"
      ]
     },
     "execution_count": 282,
     "metadata": {},
     "output_type": "execute_result"
    }
   ],
   "source": [
    "df[\"co2e_g\"].sort_values()"
   ]
  },
  {
   "cell_type": "code",
   "execution_count": 283,
   "id": "458c410b",
   "metadata": {
    "ExecuteTime": {
     "end_time": "2022-08-03T09:15:50.478352Z",
     "start_time": "2022-08-03T09:15:50.229581Z"
    }
   },
   "outputs": [
    {
     "data": {
      "text/plain": [
       "<AxesSubplot:xlabel='co2e_g'>"
      ]
     },
     "execution_count": 283,
     "metadata": {},
     "output_type": "execute_result"
    },
    {
     "data": {
      "image/png": "[encoded data removed]",
      "text/plain": [
       "<Figure size 720x432 with 1 Axes>"
      ]
     },
     "metadata": {},
     "output_type": "display_data"
    }
   ],
   "source": [
    "sns.boxplot(df.co2e_g)"
   ]
  },
  {
   "cell_type": "markdown",
   "id": "e318d86f",
   "metadata": {},
   "source": [
    "## 10. gears"
   ]
  },
  {
   "cell_type": "code",
   "execution_count": 284,
   "id": "dbf7a346",
   "metadata": {
    "ExecuteTime": {
     "end_time": "2022-08-03T09:15:50.502403Z",
     "start_time": "2022-08-03T09:15:50.483315Z"
    }
   },
   "outputs": [
    {
     "name": "stdout",
     "output_type": "stream",
     "text": [
      "column name :  gears\n",
      "----------------------------------------\n",
      "Q1 :  5.0\n",
      "Q3 :  6.0\n",
      "IQR :  1.0\n",
      "lower limit :  3.5\n",
      "mean :  5.92\n",
      "median :  6.0\n",
      "upper limit :  7.5\n",
      "count of lower values :  5\n",
      "count of upper values :  231\n",
      " \n",
      "the smallest 10 values :\n",
      " 8921     1.0\n",
      "14375    1.0\n",
      "9812     2.0\n",
      "15817    3.0\n",
      "15845    3.0\n",
      "15823    4.0\n",
      "15822    4.0\n",
      "10259    5.0\n",
      "10260    5.0\n",
      "10261    5.0\n",
      "Name: gears, dtype: float64\n",
      " \n",
      "the biggest 10 values :\n",
      " 14495    50.0\n",
      "15824     9.0\n",
      "15869     9.0\n",
      "15827     9.0\n",
      "15876     9.0\n",
      "15814     9.0\n",
      "15812     9.0\n",
      "12028     8.0\n",
      "11999     8.0\n",
      "12008     8.0\n",
      "Name: gears, dtype: float64\n",
      "\n",
      "\n",
      "\n"
     ]
    }
   ],
   "source": [
    "detect_outlier(\"gears\")"
   ]
  },
  {
   "cell_type": "code",
   "execution_count": 285,
   "id": "339aec2b",
   "metadata": {
    "ExecuteTime": {
     "end_time": "2022-08-03T09:15:50.522632Z",
     "start_time": "2022-08-03T09:15:50.505329Z"
    }
   },
   "outputs": [
    {
     "data": {
      "text/html": [
       "<div>\n",
       "<style scoped>\n",
       "    .dataframe tbody tr th:only-of-type {\n",
       "        vertical-align: middle;\n",
       "    }\n",
       "\n",
       "    .dataframe tbody tr th {\n",
       "        vertical-align: top;\n",
       "    }\n",
       "\n",
       "    .dataframe thead th {\n",
       "        text-align: right;\n",
       "    }\n",
       "</style>\n",
       "<table border=\"1\" class=\"dataframe\">\n",
       "  <thead>\n",
       "    <tr style=\"text-align: right;\">\n",
       "      <th></th>\n",
       "      <th>make</th>\n",
       "      <th>model</th>\n",
       "    </tr>\n",
       "  </thead>\n",
       "  <tbody>\n",
       "    <tr>\n",
       "      <th>8921</th>\n",
       "      <td>Opel</td>\n",
       "      <td>Corsa</td>\n",
       "    </tr>\n",
       "    <tr>\n",
       "      <th>9812</th>\n",
       "      <td>Opel</td>\n",
       "      <td>Corsa</td>\n",
       "    </tr>\n",
       "    <tr>\n",
       "      <th>14375</th>\n",
       "      <td>Renault</td>\n",
       "      <td>Clio</td>\n",
       "    </tr>\n",
       "    <tr>\n",
       "      <th>15817</th>\n",
       "      <td>Renault</td>\n",
       "      <td>Espace</td>\n",
       "    </tr>\n",
       "    <tr>\n",
       "      <th>15845</th>\n",
       "      <td>Renault</td>\n",
       "      <td>Espace</td>\n",
       "    </tr>\n",
       "  </tbody>\n",
       "</table>\n",
       "</div>"
      ],
      "text/plain": [
       "          make   model\n",
       "8921      Opel   Corsa\n",
       "9812      Opel   Corsa\n",
       "14375  Renault    Clio\n",
       "15817  Renault  Espace\n",
       "15845  Renault  Espace"
      ]
     },
     "execution_count": 285,
     "metadata": {},
     "output_type": "execute_result"
    }
   ],
   "source": [
    "df[df.gears < 4][[\"make\", \"model\"]]"
   ]
  },
  {
   "cell_type": "code",
   "execution_count": 286,
   "id": "4a2e09ee",
   "metadata": {
    "ExecuteTime": {
     "end_time": "2022-08-03T09:15:50.538033Z",
     "start_time": "2022-08-03T09:15:50.526779Z"
    }
   },
   "outputs": [
    {
     "data": {
      "text/plain": [
       "Series([], Name: gears, dtype: int64)"
      ]
     },
     "execution_count": 286,
     "metadata": {},
     "output_type": "execute_result"
    }
   ],
   "source": [
    "df[df.make == \"Corsa\"].gears.value_counts()"
   ]
  },
  {
   "cell_type": "code",
   "execution_count": 287,
   "id": "e9706632",
   "metadata": {
    "ExecuteTime": {
     "end_time": "2022-08-03T09:15:50.574769Z",
     "start_time": "2022-08-03T09:15:50.550486Z"
    },
    "scrolled": true
   },
   "outputs": [
    {
     "data": {
      "text/plain": [
       "6.0     895\n",
       "5.0     884\n",
       "7.0     138\n",
       "9.0       6\n",
       "3.0       2\n",
       "4.0       2\n",
       "1.0       1\n",
       "50.0      1\n",
       "Name: gears, dtype: int64"
      ]
     },
     "execution_count": 287,
     "metadata": {},
     "output_type": "execute_result"
    }
   ],
   "source": [
    "df[df.make == \"Renault\"].gears.value_counts()"
   ]
  },
  {
   "cell_type": "code",
   "execution_count": 288,
   "id": "8cf8126d",
   "metadata": {
    "ExecuteTime": {
     "end_time": "2022-08-03T09:15:50.606229Z",
     "start_time": "2022-08-03T09:15:50.581539Z"
    }
   },
   "outputs": [
    {
     "data": {
      "text/plain": [
       "6.0    3483\n",
       "5.0    1535\n",
       "8.0     222\n",
       "7.0       3\n",
       "1.0       1\n",
       "2.0       1\n",
       "Name: gears, dtype: int64"
      ]
     },
     "execution_count": 288,
     "metadata": {},
     "output_type": "execute_result"
    }
   ],
   "source": [
    "df[df.make == \"Opel\"].gears.value_counts()"
   ]
  },
  {
   "cell_type": "code",
   "execution_count": 289,
   "id": "4a9156d9",
   "metadata": {
    "ExecuteTime": {
     "end_time": "2022-08-03T09:15:50.634323Z",
     "start_time": "2022-08-03T09:15:50.611743Z"
    }
   },
   "outputs": [
    {
     "data": {
      "text/plain": [
       "7.0    1767\n",
       "6.0    1444\n",
       "5.0     820\n",
       "8.0       2\n",
       "Name: gears, dtype: int64"
      ]
     },
     "execution_count": 289,
     "metadata": {},
     "output_type": "execute_result"
    }
   ],
   "source": [
    "df[df.make == \"Audi\"].gears.value_counts()"
   ]
  },
  {
   "cell_type": "code",
   "execution_count": 290,
   "id": "d54a8466",
   "metadata": {
    "ExecuteTime": {
     "end_time": "2022-08-03T09:15:50.652290Z",
     "start_time": "2022-08-03T09:15:50.638329Z"
    }
   },
   "outputs": [],
   "source": [
    "df.loc[df.gears == 50, \"gears\"] = 5"
   ]
  },
  {
   "cell_type": "code",
   "execution_count": 291,
   "id": "eb877d2b",
   "metadata": {
    "ExecuteTime": {
     "end_time": "2022-08-03T09:15:50.669708Z",
     "start_time": "2022-08-03T09:15:50.657094Z"
    }
   },
   "outputs": [],
   "source": [
    "df.loc[df.gears <= 4, \"gears\"] = np.nan"
   ]
  },
  {
   "cell_type": "code",
   "execution_count": 292,
   "id": "12c1b372",
   "metadata": {
    "ExecuteTime": {
     "end_time": "2022-08-03T09:15:50.792867Z",
     "start_time": "2022-08-03T09:15:50.678797Z"
    }
   },
   "outputs": [
    {
     "ename": "KeyError",
     "evalue": "0",
     "output_type": "error",
     "traceback": [
      "\u001b[0;31m---------------------------------------------------------------------------\u001b[0m",
      "\u001b[0;31mValueError\u001b[0m                                Traceback (most recent call last)",
      "\u001b[0;32m~/opt/anaconda3/lib/python3.9/site-packages/pandas/core/indexes/range.py\u001b[0m in \u001b[0;36mget_loc\u001b[0;34m(self, key, method, tolerance)\u001b[0m\n\u001b[1;32m    384\u001b[0m                 \u001b[0;32mtry\u001b[0m\u001b[0;34m:\u001b[0m\u001b[0;34m\u001b[0m\u001b[0;34m\u001b[0m\u001b[0m\n\u001b[0;32m--> 385\u001b[0;31m                     \u001b[0;32mreturn\u001b[0m \u001b[0mself\u001b[0m\u001b[0;34m.\u001b[0m\u001b[0m_range\u001b[0m\u001b[0;34m.\u001b[0m\u001b[0mindex\u001b[0m\u001b[0;34m(\u001b[0m\u001b[0mnew_key\u001b[0m\u001b[0;34m)\u001b[0m\u001b[0;34m\u001b[0m\u001b[0;34m\u001b[0m\u001b[0m\n\u001b[0m\u001b[1;32m    386\u001b[0m                 \u001b[0;32mexcept\u001b[0m \u001b[0mValueError\u001b[0m \u001b[0;32mas\u001b[0m \u001b[0merr\u001b[0m\u001b[0;34m:\u001b[0m\u001b[0;34m\u001b[0m\u001b[0;34m\u001b[0m\u001b[0m\n",
      "\u001b[0;31mValueError\u001b[0m: 0 is not in range",
      "\nThe above exception was the direct cause of the following exception:\n",
      "\u001b[0;31mKeyError\u001b[0m                                  Traceback (most recent call last)",
      "\u001b[0;32m/var/folders/cv/t5lmh27d0bd2hlz5c0h0ts2m0000gn/T/ipykernel_779/2313133647.py\u001b[0m in \u001b[0;36m<module>\u001b[0;34m\u001b[0m\n\u001b[0;32m----> 1\u001b[0;31m \u001b[0mdf\u001b[0m\u001b[0;34m.\u001b[0m\u001b[0mgroupby\u001b[0m\u001b[0;34m(\u001b[0m\u001b[0;34m[\u001b[0m\u001b[0;34m\"make\"\u001b[0m\u001b[0;34m,\u001b[0m \u001b[0;34m\"model\"\u001b[0m\u001b[0;34m,\u001b[0m \u001b[0;34m\"body_type\"\u001b[0m\u001b[0;34m]\u001b[0m\u001b[0;34m)\u001b[0m\u001b[0;34m[\u001b[0m\u001b[0;34m\"gears\"\u001b[0m\u001b[0;34m]\u001b[0m\u001b[0;34m.\u001b[0m\u001b[0mapply\u001b[0m\u001b[0;34m(\u001b[0m\u001b[0;32mlambda\u001b[0m \u001b[0mx\u001b[0m \u001b[0;34m:\u001b[0m \u001b[0mx\u001b[0m\u001b[0;34m.\u001b[0m\u001b[0mfillna\u001b[0m\u001b[0;34m(\u001b[0m\u001b[0mx\u001b[0m\u001b[0;34m.\u001b[0m\u001b[0mmode\u001b[0m\u001b[0;34m(\u001b[0m\u001b[0;34m)\u001b[0m\u001b[0;34m[\u001b[0m\u001b[0;36m0\u001b[0m\u001b[0;34m]\u001b[0m\u001b[0;34m)\u001b[0m\u001b[0;34m)\u001b[0m\u001b[0;34m\u001b[0m\u001b[0;34m\u001b[0m\u001b[0m\n\u001b[0m",
      "\u001b[0;32m~/opt/anaconda3/lib/python3.9/site-packages/pandas/core/groupby/generic.py\u001b[0m in \u001b[0;36mapply\u001b[0;34m(self, func, *args, **kwargs)\u001b[0m\n\u001b[1;32m    221\u001b[0m     )\n\u001b[1;32m    222\u001b[0m     \u001b[0;32mdef\u001b[0m \u001b[0mapply\u001b[0m\u001b[0;34m(\u001b[0m\u001b[0mself\u001b[0m\u001b[0;34m,\u001b[0m \u001b[0mfunc\u001b[0m\u001b[0;34m,\u001b[0m \u001b[0;34m*\u001b[0m\u001b[0margs\u001b[0m\u001b[0;34m,\u001b[0m \u001b[0;34m**\u001b[0m\u001b[0mkwargs\u001b[0m\u001b[0;34m)\u001b[0m\u001b[0;34m:\u001b[0m\u001b[0;34m\u001b[0m\u001b[0;34m\u001b[0m\u001b[0m\n\u001b[0;32m--> 223\u001b[0;31m         \u001b[0;32mreturn\u001b[0m \u001b[0msuper\u001b[0m\u001b[0;34m(\u001b[0m\u001b[0;34m)\u001b[0m\u001b[0;34m.\u001b[0m\u001b[0mapply\u001b[0m\u001b[0;34m(\u001b[0m\u001b[0mfunc\u001b[0m\u001b[0;34m,\u001b[0m \u001b[0;34m*\u001b[0m\u001b[0margs\u001b[0m\u001b[0;34m,\u001b[0m \u001b[0;34m**\u001b[0m\u001b[0mkwargs\u001b[0m\u001b[0;34m)\u001b[0m\u001b[0;34m\u001b[0m\u001b[0;34m\u001b[0m\u001b[0m\n\u001b[0m\u001b[1;32m    224\u001b[0m \u001b[0;34m\u001b[0m\u001b[0m\n\u001b[1;32m    225\u001b[0m     \u001b[0;34m@\u001b[0m\u001b[0mdoc\u001b[0m\u001b[0;34m(\u001b[0m\u001b[0m_agg_template\u001b[0m\u001b[0;34m,\u001b[0m \u001b[0mexamples\u001b[0m\u001b[0;34m=\u001b[0m\u001b[0m_agg_examples_doc\u001b[0m\u001b[0;34m,\u001b[0m \u001b[0mklass\u001b[0m\u001b[0;34m=\u001b[0m\u001b[0;34m\"Series\"\u001b[0m\u001b[0;34m)\u001b[0m\u001b[0;34m\u001b[0m\u001b[0;34m\u001b[0m\u001b[0m\n",
      "\u001b[0;32m~/opt/anaconda3/lib/python3.9/site-packages/pandas/core/groupby/groupby.py\u001b[0m in \u001b[0;36mapply\u001b[0;34m(self, func, *args, **kwargs)\u001b[0m\n\u001b[1;32m   1273\u001b[0m         \u001b[0;32mwith\u001b[0m \u001b[0moption_context\u001b[0m\u001b[0;34m(\u001b[0m\u001b[0;34m\"mode.chained_assignment\"\u001b[0m\u001b[0;34m,\u001b[0m \u001b[0;32mNone\u001b[0m\u001b[0;34m)\u001b[0m\u001b[0;34m:\u001b[0m\u001b[0;34m\u001b[0m\u001b[0;34m\u001b[0m\u001b[0m\n\u001b[1;32m   1274\u001b[0m             \u001b[0;32mtry\u001b[0m\u001b[0;34m:\u001b[0m\u001b[0;34m\u001b[0m\u001b[0;34m\u001b[0m\u001b[0m\n\u001b[0;32m-> 1275\u001b[0;31m                 \u001b[0mresult\u001b[0m \u001b[0;34m=\u001b[0m \u001b[0mself\u001b[0m\u001b[0;34m.\u001b[0m\u001b[0m_python_apply_general\u001b[0m\u001b[0;34m(\u001b[0m\u001b[0mf\u001b[0m\u001b[0;34m,\u001b[0m \u001b[0mself\u001b[0m\u001b[0;34m.\u001b[0m\u001b[0m_selected_obj\u001b[0m\u001b[0;34m)\u001b[0m\u001b[0;34m\u001b[0m\u001b[0;34m\u001b[0m\u001b[0m\n\u001b[0m\u001b[1;32m   1276\u001b[0m             \u001b[0;32mexcept\u001b[0m \u001b[0mTypeError\u001b[0m\u001b[0;34m:\u001b[0m\u001b[0;34m\u001b[0m\u001b[0;34m\u001b[0m\u001b[0m\n\u001b[1;32m   1277\u001b[0m                 \u001b[0;31m# gh-20949\u001b[0m\u001b[0;34m\u001b[0m\u001b[0;34m\u001b[0m\u001b[0m\n",
      "\u001b[0;32m~/opt/anaconda3/lib/python3.9/site-packages/pandas/core/groupby/groupby.py\u001b[0m in \u001b[0;36m_python_apply_general\u001b[0;34m(self, f, data)\u001b[0m\n\u001b[1;32m   1307\u001b[0m             \u001b[0mdata\u001b[0m \u001b[0mafter\u001b[0m \u001b[0mapplying\u001b[0m \u001b[0mf\u001b[0m\u001b[0;34m\u001b[0m\u001b[0;34m\u001b[0m\u001b[0m\n\u001b[1;32m   1308\u001b[0m         \"\"\"\n\u001b[0;32m-> 1309\u001b[0;31m         \u001b[0mkeys\u001b[0m\u001b[0;34m,\u001b[0m \u001b[0mvalues\u001b[0m\u001b[0;34m,\u001b[0m \u001b[0mmutated\u001b[0m \u001b[0;34m=\u001b[0m \u001b[0mself\u001b[0m\u001b[0;34m.\u001b[0m\u001b[0mgrouper\u001b[0m\u001b[0;34m.\u001b[0m\u001b[0mapply\u001b[0m\u001b[0;34m(\u001b[0m\u001b[0mf\u001b[0m\u001b[0;34m,\u001b[0m \u001b[0mdata\u001b[0m\u001b[0;34m,\u001b[0m \u001b[0mself\u001b[0m\u001b[0;34m.\u001b[0m\u001b[0maxis\u001b[0m\u001b[0;34m)\u001b[0m\u001b[0;34m\u001b[0m\u001b[0;34m\u001b[0m\u001b[0m\n\u001b[0m\u001b[1;32m   1310\u001b[0m \u001b[0;34m\u001b[0m\u001b[0m\n\u001b[1;32m   1311\u001b[0m         return self._wrap_applied_output(\n",
      "\u001b[0;32m~/opt/anaconda3/lib/python3.9/site-packages/pandas/core/groupby/ops.py\u001b[0m in \u001b[0;36mapply\u001b[0;34m(self, f, data, axis)\u001b[0m\n\u001b[1;32m    839\u001b[0m             \u001b[0;31m# group might be modified\u001b[0m\u001b[0;34m\u001b[0m\u001b[0;34m\u001b[0m\u001b[0m\n\u001b[1;32m    840\u001b[0m             \u001b[0mgroup_axes\u001b[0m \u001b[0;34m=\u001b[0m \u001b[0mgroup\u001b[0m\u001b[0;34m.\u001b[0m\u001b[0maxes\u001b[0m\u001b[0;34m\u001b[0m\u001b[0;34m\u001b[0m\u001b[0m\n\u001b[0;32m--> 841\u001b[0;31m             \u001b[0mres\u001b[0m \u001b[0;34m=\u001b[0m \u001b[0mf\u001b[0m\u001b[0;34m(\u001b[0m\u001b[0mgroup\u001b[0m\u001b[0;34m)\u001b[0m\u001b[0;34m\u001b[0m\u001b[0;34m\u001b[0m\u001b[0m\n\u001b[0m\u001b[1;32m    842\u001b[0m             \u001b[0;32mif\u001b[0m \u001b[0;32mnot\u001b[0m \u001b[0m_is_indexed_like\u001b[0m\u001b[0;34m(\u001b[0m\u001b[0mres\u001b[0m\u001b[0;34m,\u001b[0m \u001b[0mgroup_axes\u001b[0m\u001b[0;34m,\u001b[0m \u001b[0maxis\u001b[0m\u001b[0;34m)\u001b[0m\u001b[0;34m:\u001b[0m\u001b[0;34m\u001b[0m\u001b[0;34m\u001b[0m\u001b[0m\n\u001b[1;32m    843\u001b[0m                 \u001b[0mmutated\u001b[0m \u001b[0;34m=\u001b[0m \u001b[0;32mTrue\u001b[0m\u001b[0;34m\u001b[0m\u001b[0;34m\u001b[0m\u001b[0m\n",
      "\u001b[0;32m/var/folders/cv/t5lmh27d0bd2hlz5c0h0ts2m0000gn/T/ipykernel_779/2313133647.py\u001b[0m in \u001b[0;36m<lambda>\u001b[0;34m(x)\u001b[0m\n\u001b[0;32m----> 1\u001b[0;31m \u001b[0mdf\u001b[0m\u001b[0;34m.\u001b[0m\u001b[0mgroupby\u001b[0m\u001b[0;34m(\u001b[0m\u001b[0;34m[\u001b[0m\u001b[0;34m\"make\"\u001b[0m\u001b[0;34m,\u001b[0m \u001b[0;34m\"model\"\u001b[0m\u001b[0;34m,\u001b[0m \u001b[0;34m\"body_type\"\u001b[0m\u001b[0;34m]\u001b[0m\u001b[0;34m)\u001b[0m\u001b[0;34m[\u001b[0m\u001b[0;34m\"gears\"\u001b[0m\u001b[0;34m]\u001b[0m\u001b[0;34m.\u001b[0m\u001b[0mapply\u001b[0m\u001b[0;34m(\u001b[0m\u001b[0;32mlambda\u001b[0m \u001b[0mx\u001b[0m \u001b[0;34m:\u001b[0m \u001b[0mx\u001b[0m\u001b[0;34m.\u001b[0m\u001b[0mfillna\u001b[0m\u001b[0;34m(\u001b[0m\u001b[0mx\u001b[0m\u001b[0;34m.\u001b[0m\u001b[0mmode\u001b[0m\u001b[0;34m(\u001b[0m\u001b[0;34m)\u001b[0m\u001b[0;34m[\u001b[0m\u001b[0;36m0\u001b[0m\u001b[0;34m]\u001b[0m\u001b[0;34m)\u001b[0m\u001b[0;34m)\u001b[0m\u001b[0;34m\u001b[0m\u001b[0;34m\u001b[0m\u001b[0m\n\u001b[0m",
      "\u001b[0;32m~/opt/anaconda3/lib/python3.9/site-packages/pandas/core/series.py\u001b[0m in \u001b[0;36m__getitem__\u001b[0;34m(self, key)\u001b[0m\n\u001b[1;32m    940\u001b[0m \u001b[0;34m\u001b[0m\u001b[0m\n\u001b[1;32m    941\u001b[0m         \u001b[0;32melif\u001b[0m \u001b[0mkey_is_scalar\u001b[0m\u001b[0;34m:\u001b[0m\u001b[0;34m\u001b[0m\u001b[0;34m\u001b[0m\u001b[0m\n\u001b[0;32m--> 942\u001b[0;31m             \u001b[0;32mreturn\u001b[0m \u001b[0mself\u001b[0m\u001b[0;34m.\u001b[0m\u001b[0m_get_value\u001b[0m\u001b[0;34m(\u001b[0m\u001b[0mkey\u001b[0m\u001b[0;34m)\u001b[0m\u001b[0;34m\u001b[0m\u001b[0;34m\u001b[0m\u001b[0m\n\u001b[0m\u001b[1;32m    943\u001b[0m \u001b[0;34m\u001b[0m\u001b[0m\n\u001b[1;32m    944\u001b[0m         \u001b[0;32mif\u001b[0m \u001b[0mis_hashable\u001b[0m\u001b[0;34m(\u001b[0m\u001b[0mkey\u001b[0m\u001b[0;34m)\u001b[0m\u001b[0;34m:\u001b[0m\u001b[0;34m\u001b[0m\u001b[0;34m\u001b[0m\u001b[0m\n",
      "\u001b[0;32m~/opt/anaconda3/lib/python3.9/site-packages/pandas/core/series.py\u001b[0m in \u001b[0;36m_get_value\u001b[0;34m(self, label, takeable)\u001b[0m\n\u001b[1;32m   1049\u001b[0m \u001b[0;34m\u001b[0m\u001b[0m\n\u001b[1;32m   1050\u001b[0m         \u001b[0;31m# Similar to Index.get_value, but we do not fall back to positional\u001b[0m\u001b[0;34m\u001b[0m\u001b[0;34m\u001b[0m\u001b[0m\n\u001b[0;32m-> 1051\u001b[0;31m         \u001b[0mloc\u001b[0m \u001b[0;34m=\u001b[0m \u001b[0mself\u001b[0m\u001b[0;34m.\u001b[0m\u001b[0mindex\u001b[0m\u001b[0;34m.\u001b[0m\u001b[0mget_loc\u001b[0m\u001b[0;34m(\u001b[0m\u001b[0mlabel\u001b[0m\u001b[0;34m)\u001b[0m\u001b[0;34m\u001b[0m\u001b[0;34m\u001b[0m\u001b[0m\n\u001b[0m\u001b[1;32m   1052\u001b[0m         \u001b[0;32mreturn\u001b[0m \u001b[0mself\u001b[0m\u001b[0;34m.\u001b[0m\u001b[0mindex\u001b[0m\u001b[0;34m.\u001b[0m\u001b[0m_get_values_for_loc\u001b[0m\u001b[0;34m(\u001b[0m\u001b[0mself\u001b[0m\u001b[0;34m,\u001b[0m \u001b[0mloc\u001b[0m\u001b[0;34m,\u001b[0m \u001b[0mlabel\u001b[0m\u001b[0;34m)\u001b[0m\u001b[0;34m\u001b[0m\u001b[0;34m\u001b[0m\u001b[0m\n\u001b[1;32m   1053\u001b[0m \u001b[0;34m\u001b[0m\u001b[0m\n",
      "\u001b[0;32m~/opt/anaconda3/lib/python3.9/site-packages/pandas/core/indexes/range.py\u001b[0m in \u001b[0;36mget_loc\u001b[0;34m(self, key, method, tolerance)\u001b[0m\n\u001b[1;32m    385\u001b[0m                     \u001b[0;32mreturn\u001b[0m \u001b[0mself\u001b[0m\u001b[0;34m.\u001b[0m\u001b[0m_range\u001b[0m\u001b[0;34m.\u001b[0m\u001b[0mindex\u001b[0m\u001b[0;34m(\u001b[0m\u001b[0mnew_key\u001b[0m\u001b[0;34m)\u001b[0m\u001b[0;34m\u001b[0m\u001b[0;34m\u001b[0m\u001b[0m\n\u001b[1;32m    386\u001b[0m                 \u001b[0;32mexcept\u001b[0m \u001b[0mValueError\u001b[0m \u001b[0;32mas\u001b[0m \u001b[0merr\u001b[0m\u001b[0;34m:\u001b[0m\u001b[0;34m\u001b[0m\u001b[0;34m\u001b[0m\u001b[0m\n\u001b[0;32m--> 387\u001b[0;31m                     \u001b[0;32mraise\u001b[0m \u001b[0mKeyError\u001b[0m\u001b[0;34m(\u001b[0m\u001b[0mkey\u001b[0m\u001b[0;34m)\u001b[0m \u001b[0;32mfrom\u001b[0m \u001b[0merr\u001b[0m\u001b[0;34m\u001b[0m\u001b[0;34m\u001b[0m\u001b[0m\n\u001b[0m\u001b[1;32m    388\u001b[0m             \u001b[0;32mraise\u001b[0m \u001b[0mKeyError\u001b[0m\u001b[0;34m(\u001b[0m\u001b[0mkey\u001b[0m\u001b[0;34m)\u001b[0m\u001b[0;34m\u001b[0m\u001b[0;34m\u001b[0m\u001b[0m\n\u001b[1;32m    389\u001b[0m         \u001b[0;32mreturn\u001b[0m \u001b[0msuper\u001b[0m\u001b[0;34m(\u001b[0m\u001b[0;34m)\u001b[0m\u001b[0;34m.\u001b[0m\u001b[0mget_loc\u001b[0m\u001b[0;34m(\u001b[0m\u001b[0mkey\u001b[0m\u001b[0;34m,\u001b[0m \u001b[0mmethod\u001b[0m\u001b[0;34m=\u001b[0m\u001b[0mmethod\u001b[0m\u001b[0;34m,\u001b[0m \u001b[0mtolerance\u001b[0m\u001b[0;34m=\u001b[0m\u001b[0mtolerance\u001b[0m\u001b[0;34m)\u001b[0m\u001b[0;34m\u001b[0m\u001b[0;34m\u001b[0m\u001b[0m\n",
      "\u001b[0;31mKeyError\u001b[0m: 0"
     ]
    }
   ],
   "source": [
    "df.groupby([\"make\", \"model\", \"body_type\"])[\"gears\"].apply(lambda x : x.fillna(x.mode()[0]))"
   ]
  },
  {
   "cell_type": "code",
   "execution_count": null,
   "id": "0e9a8c9f",
   "metadata": {},
   "outputs": [],
   "source": []
  },
  {
   "cell_type": "markdown",
   "id": "41c03f19",
   "metadata": {},
   "source": [
    "## 11. consumption_comb"
   ]
  },
  {
   "cell_type": "code",
   "execution_count": null,
   "id": "2ae222f2",
   "metadata": {
    "ExecuteTime": {
     "end_time": "2022-08-03T09:15:50.803059Z",
     "start_time": "2022-08-03T09:15:50.803018Z"
    }
   },
   "outputs": [],
   "source": [
    "df.drop(columns=[\"consumption_city\", \"consumption_country\"], inplace=True)"
   ]
  },
  {
   "cell_type": "code",
   "execution_count": null,
   "id": "9d6c6cb8",
   "metadata": {
    "ExecuteTime": {
     "end_time": "2022-08-03T09:15:50.808358Z",
     "start_time": "2022-08-03T09:15:50.808318Z"
    }
   },
   "outputs": [],
   "source": [
    "detect_outlier(\"consumption_comb\")"
   ]
  },
  {
   "cell_type": "code",
   "execution_count": null,
   "id": "60fd4254",
   "metadata": {
    "ExecuteTime": {
     "end_time": "2022-08-03T09:15:50.813342Z",
     "start_time": "2022-08-03T09:15:50.813303Z"
    },
    "scrolled": true
   },
   "outputs": [],
   "source": [
    "df.iloc[[13678]]"
   ]
  },
  {
   "cell_type": "code",
   "execution_count": null,
   "id": "24d3329f",
   "metadata": {
    "ExecuteTime": {
     "end_time": "2022-08-03T09:15:50.818583Z",
     "start_time": "2022-08-03T09:15:50.818541Z"
    }
   },
   "outputs": [],
   "source": [
    "df.iloc[[535]]"
   ]
  },
  {
   "cell_type": "code",
   "execution_count": null,
   "id": "ab66ccc1",
   "metadata": {},
   "outputs": [],
   "source": []
  },
  {
   "cell_type": "code",
   "execution_count": null,
   "id": "0ac94207",
   "metadata": {
    "ExecuteTime": {
     "end_time": "2022-08-03T09:15:50.823036Z",
     "start_time": "2022-08-03T09:15:50.822996Z"
    },
    "scrolled": true
   },
   "outputs": [],
   "source": [
    "df[df.consumption_comb < 3][[\"make\", \"model\"]].value_counts()"
   ]
  },
  {
   "cell_type": "code",
   "execution_count": null,
   "id": "f654bb0e",
   "metadata": {
    "ExecuteTime": {
     "end_time": "2022-08-03T09:15:50.827979Z",
     "start_time": "2022-08-03T09:15:50.827948Z"
    },
    "scrolled": true
   },
   "outputs": [],
   "source": [
    "df.groupby([\"make\", \"model\", \"body_type\"])[\"consumption_comb\"].median()"
   ]
  },
  {
   "cell_type": "code",
   "execution_count": null,
   "id": "13cc0f15",
   "metadata": {
    "ExecuteTime": {
     "end_time": "2022-08-03T09:15:50.830914Z",
     "start_time": "2022-08-03T09:15:50.830881Z"
    }
   },
   "outputs": [],
   "source": [
    "df.consumption_comb.iloc[[13678]] "
   ]
  },
  {
   "cell_type": "code",
   "execution_count": null,
   "id": "70a89be8",
   "metadata": {},
   "outputs": [],
   "source": []
  },
  {
   "cell_type": "code",
   "execution_count": null,
   "id": "33051f2b",
   "metadata": {
    "ExecuteTime": {
     "end_time": "2022-08-03T09:15:50.835860Z",
     "start_time": "2022-08-03T09:15:50.835821Z"
    },
    "scrolled": true
   },
   "outputs": [],
   "source": [
    "df.consumption_comb.iloc[[13678]] = 3.35"
   ]
  },
  {
   "cell_type": "code",
   "execution_count": null,
   "id": "a3cce6a5",
   "metadata": {
    "ExecuteTime": {
     "end_time": "2022-08-03T09:15:50.843922Z",
     "start_time": "2022-08-03T09:15:50.843881Z"
    }
   },
   "outputs": [],
   "source": [
    "df.consumption_comb.iloc[[13678]]"
   ]
  },
  {
   "cell_type": "code",
   "execution_count": null,
   "id": "0542e468",
   "metadata": {
    "ExecuteTime": {
     "end_time": "2022-08-03T09:15:50.849754Z",
     "start_time": "2022-08-03T09:15:50.849671Z"
    }
   },
   "outputs": [],
   "source": [
    "df.consumption_comb.iloc[[535]] = 4.400"
   ]
  },
  {
   "cell_type": "code",
   "execution_count": null,
   "id": "fa975abb",
   "metadata": {},
   "outputs": [],
   "source": []
  },
  {
   "cell_type": "markdown",
   "id": "0590cef7",
   "metadata": {},
   "source": [
    "## 12. age"
   ]
  },
  {
   "cell_type": "code",
   "execution_count": null,
   "id": "8a19c1b5",
   "metadata": {
    "ExecuteTime": {
     "end_time": "2022-08-03T09:15:50.854326Z",
     "start_time": "2022-08-03T09:15:50.854288Z"
    },
    "scrolled": true
   },
   "outputs": [],
   "source": [
    "detect_outlier(\"age\")"
   ]
  },
  {
   "cell_type": "code",
   "execution_count": null,
   "id": "2ee6d9f6",
   "metadata": {
    "ExecuteTime": {
     "end_time": "2022-08-03T09:15:50.858667Z",
     "start_time": "2022-08-03T09:15:50.858632Z"
    }
   },
   "outputs": [],
   "source": [
    "col_o = ['body_type','vat','type', 'previous_owners',\n",
    "       'warranty', 'make', 'model', 'body_color', 'paint_type', 'upholstery',\n",
    "       'gearing_type',\n",
    "       'drive_chain', 'fuel', \n",
    "       'emission_class', 'comfort&convenience', 'entertainment&media',\n",
    "       'extras', 'safety&security', 'country_version']"
   ]
  },
  {
   "cell_type": "code",
   "execution_count": null,
   "id": "fb993a28",
   "metadata": {
    "ExecuteTime": {
     "end_time": "2022-08-03T09:15:50.867507Z",
     "start_time": "2022-08-03T09:15:50.867453Z"
    }
   },
   "outputs": [],
   "source": [
    "def control_outlier(col) :\n",
    "    print(\"column name : \",col)\n",
    "    print(\"--\"*20)\n",
    "    print(get_diff_category_column(df[col]))\n",
    "    print(\"**\"*40)\n",
    "    \n",
    "    print(\"\\n\\n\")"
   ]
  },
  {
   "cell_type": "code",
   "execution_count": null,
   "id": "bc1ec538",
   "metadata": {
    "ExecuteTime": {
     "end_time": "2022-08-03T09:15:50.872816Z",
     "start_time": "2022-08-03T09:15:50.872761Z"
    },
    "scrolled": false
   },
   "outputs": [],
   "source": [
    "for col in col_o:\n",
    "    control_outlier(col)"
   ]
  },
  {
   "cell_type": "code",
   "execution_count": null,
   "id": "e72de009",
   "metadata": {
    "ExecuteTime": {
     "end_time": "2022-08-03T09:15:50.875748Z",
     "start_time": "2022-08-03T09:15:50.875708Z"
    }
   },
   "outputs": [],
   "source": [
    "df.warranty.value_counts()"
   ]
  },
  {
   "cell_type": "code",
   "execution_count": null,
   "id": "0ca3606b",
   "metadata": {},
   "outputs": [],
   "source": []
  },
  {
   "cell_type": "code",
   "execution_count": null,
   "id": "1fd40b3a",
   "metadata": {},
   "outputs": [],
   "source": []
  },
  {
   "cell_type": "code",
   "execution_count": null,
   "id": "6509b53a",
   "metadata": {},
   "outputs": [],
   "source": []
  },
  {
   "cell_type": "code",
   "execution_count": null,
   "id": "0f54e7a0",
   "metadata": {},
   "outputs": [],
   "source": []
  },
  {
   "cell_type": "code",
   "execution_count": null,
   "id": "a3702a53",
   "metadata": {},
   "outputs": [],
   "source": []
  },
  {
   "cell_type": "code",
   "execution_count": null,
   "id": "c0dcc233",
   "metadata": {},
   "outputs": [],
   "source": []
  },
  {
   "cell_type": "code",
   "execution_count": null,
   "id": "9f6397c9",
   "metadata": {},
   "outputs": [],
   "source": []
  },
  {
   "cell_type": "code",
   "execution_count": null,
   "id": "ed04cdb4",
   "metadata": {},
   "outputs": [],
   "source": []
  },
  {
   "cell_type": "code",
   "execution_count": null,
   "id": "ab7fdd42",
   "metadata": {},
   "outputs": [],
   "source": []
  },
  {
   "cell_type": "code",
   "execution_count": null,
   "id": "c3cfa497",
   "metadata": {},
   "outputs": [],
   "source": []
  },
  {
   "cell_type": "code",
   "execution_count": null,
   "id": "d465b001",
   "metadata": {},
   "outputs": [],
   "source": []
  },
  {
   "cell_type": "code",
   "execution_count": null,
   "id": "21793b9c",
   "metadata": {},
   "outputs": [],
   "source": []
  },
  {
   "cell_type": "code",
   "execution_count": null,
   "id": "3ab627f2",
   "metadata": {},
   "outputs": [],
   "source": []
  },
  {
   "cell_type": "code",
   "execution_count": null,
   "id": "aac939c0",
   "metadata": {},
   "outputs": [],
   "source": []
  },
  {
   "cell_type": "code",
   "execution_count": null,
   "id": "8034dc60",
   "metadata": {
    "ExecuteTime": {
     "end_time": "2022-08-03T09:15:50.881714Z",
     "start_time": "2022-08-03T09:15:50.881589Z"
    },
    "scrolled": true
   },
   "outputs": [],
   "source": [
    "sns.heatmap(df_numeric)"
   ]
  },
  {
   "cell_type": "code",
   "execution_count": null,
   "id": "7fc4b0ca",
   "metadata": {},
   "outputs": [],
   "source": []
  },
  {
   "cell_type": "code",
   "execution_count": null,
   "id": "ecce263a",
   "metadata": {},
   "outputs": [],
   "source": []
  },
  {
   "cell_type": "code",
   "execution_count": null,
   "id": "9823ee50",
   "metadata": {
    "ExecuteTime": {
     "end_time": "2022-08-03T09:15:50.885131Z",
     "start_time": "2022-08-03T09:15:50.885015Z"
    }
   },
   "outputs": [],
   "source": [
    "plt.figure(figsize=(20, 20))\n",
    "sns.heatmap(df.corr(), annot=True, cmap=\"YlGnBu\")"
   ]
  },
  {
   "cell_type": "code",
   "execution_count": null,
   "id": "98299a63",
   "metadata": {},
   "outputs": [],
   "source": []
  },
  {
   "cell_type": "code",
   "execution_count": null,
   "id": "d4025ad3",
   "metadata": {},
   "outputs": [],
   "source": []
  },
  {
   "cell_type": "code",
   "execution_count": null,
   "id": "fb5a65d7",
   "metadata": {
    "ExecuteTime": {
     "end_time": "2022-08-03T09:15:50.887450Z",
     "start_time": "2022-08-03T09:15:50.887411Z"
    }
   },
   "outputs": [],
   "source": [
    "df.to_csv(\"auto_scout_handling_outliers.csv\", index=False)"
   ]
  },
  {
   "cell_type": "code",
   "execution_count": null,
   "id": "493ff12f",
   "metadata": {},
   "outputs": [],
   "source": []
  },
  {
   "cell_type": "code",
   "execution_count": null,
   "id": "075aa833",
   "metadata": {},
   "outputs": [],
   "source": []
  },
  {
   "cell_type": "code",
   "execution_count": null,
   "id": "937831bf",
   "metadata": {},
   "outputs": [],
   "source": []
  },
  {
   "cell_type": "code",
   "execution_count": null,
   "id": "9f22ff52",
   "metadata": {},
   "outputs": [],
   "source": []
  },
  {
   "cell_type": "code",
   "execution_count": null,
   "id": "d3a7a7c2",
   "metadata": {},
   "outputs": [],
   "source": []
  },
  {
   "cell_type": "code",
   "execution_count": null,
   "id": "2e189899",
   "metadata": {},
   "outputs": [],
   "source": []
  },
  {
   "cell_type": "code",
   "execution_count": null,
   "id": "2e049a8f",
   "metadata": {},
   "outputs": [],
   "source": []
  },
  {
   "cell_type": "code",
   "execution_count": null,
   "id": "8edd1846",
   "metadata": {},
   "outputs": [],
   "source": []
  },
  {
   "cell_type": "code",
   "execution_count": null,
   "id": "84fb8b0e",
   "metadata": {},
   "outputs": [],
   "source": []
  },
  {
   "cell_type": "code",
   "execution_count": null,
   "id": "d9dc87f0",
   "metadata": {},
   "outputs": [],
   "source": []
  },
  {
   "cell_type": "code",
   "execution_count": null,
   "id": "4f408f25",
   "metadata": {},
   "outputs": [],
   "source": []
  },
  {
   "cell_type": "code",
   "execution_count": null,
   "id": "c90a7c30",
   "metadata": {},
   "outputs": [],
   "source": []
  },
  {
   "cell_type": "code",
   "execution_count": null,
   "id": "886fde80",
   "metadata": {},
   "outputs": [],
   "source": []
  },
  {
   "cell_type": "code",
   "execution_count": null,
   "id": "415101ab",
   "metadata": {},
   "outputs": [],
   "source": []
  },
  {
   "cell_type": "code",
   "execution_count": null,
   "id": "6b020a60",
   "metadata": {},
   "outputs": [],
   "source": []
  },
  {
   "cell_type": "code",
   "execution_count": null,
   "id": "3df66d79",
   "metadata": {},
   "outputs": [],
   "source": []
  },
  {
   "cell_type": "code",
   "execution_count": null,
   "id": "4dc4366f",
   "metadata": {},
   "outputs": [],
   "source": []
  },
  {
   "cell_type": "code",
   "execution_count": null,
   "id": "61fd9d29",
   "metadata": {},
   "outputs": [],
   "source": []
  },
  {
   "cell_type": "code",
   "execution_count": null,
   "id": "b0c124d2",
   "metadata": {},
   "outputs": [],
   "source": []
  },
  {
   "cell_type": "code",
   "execution_count": null,
   "id": "f1f0f174",
   "metadata": {},
   "outputs": [],
   "source": []
  },
  {
   "cell_type": "code",
   "execution_count": null,
   "id": "7d0bb8b6",
   "metadata": {},
   "outputs": [],
   "source": []
  },
  {
   "cell_type": "code",
   "execution_count": null,
   "id": "8e237b2c",
   "metadata": {},
   "outputs": [],
   "source": []
  },
  {
   "cell_type": "code",
   "execution_count": null,
   "id": "9f0288ea",
   "metadata": {},
   "outputs": [],
   "source": []
  },
  {
   "cell_type": "code",
   "execution_count": null,
   "id": "93809692",
   "metadata": {},
   "outputs": [],
   "source": []
  },
  {
   "cell_type": "code",
   "execution_count": null,
   "id": "4ac2e7d5",
   "metadata": {},
   "outputs": [],
   "source": []
  },
  {
   "cell_type": "code",
   "execution_count": null,
   "id": "30745fa7",
   "metadata": {},
   "outputs": [],
   "source": []
  },
  {
   "cell_type": "code",
   "execution_count": null,
   "id": "ec726e73",
   "metadata": {},
   "outputs": [],
   "source": []
  },
  {
   "cell_type": "code",
   "execution_count": null,
   "id": "c1e83439",
   "metadata": {},
   "outputs": [],
   "source": []
  },
  {
   "cell_type": "code",
   "execution_count": null,
   "id": "b4500bba",
   "metadata": {},
   "outputs": [],
   "source": []
  },
  {
   "cell_type": "code",
   "execution_count": null,
   "id": "4a2f21e6",
   "metadata": {},
   "outputs": [],
   "source": []
  },
  {
   "cell_type": "code",
   "execution_count": null,
   "id": "221db43b",
   "metadata": {},
   "outputs": [],
   "source": []
  },
  {
   "cell_type": "code",
   "execution_count": null,
   "id": "89ade8a2",
   "metadata": {},
   "outputs": [],
   "source": []
  },
  {
   "cell_type": "code",
   "execution_count": null,
   "id": "931a2b79",
   "metadata": {},
   "outputs": [],
   "source": []
  },
  {
   "cell_type": "code",
   "execution_count": null,
   "id": "be250d71",
   "metadata": {},
   "outputs": [],
   "source": []
  },
  {
   "cell_type": "code",
   "execution_count": null,
   "id": "847b960f",
   "metadata": {},
   "outputs": [],
   "source": []
  },
  {
   "cell_type": "code",
   "execution_count": null,
   "id": "a14b431a",
   "metadata": {},
   "outputs": [],
   "source": []
  },
  {
   "cell_type": "code",
   "execution_count": null,
   "id": "acacbcbf",
   "metadata": {},
   "outputs": [],
   "source": []
  },
  {
   "cell_type": "code",
   "execution_count": null,
   "id": "0bdb87b3",
   "metadata": {},
   "outputs": [],
   "source": []
  },
  {
   "cell_type": "code",
   "execution_count": null,
   "id": "e2be6a2e",
   "metadata": {},
   "outputs": [],
   "source": []
  },
  {
   "cell_type": "code",
   "execution_count": null,
   "id": "953e0afa",
   "metadata": {},
   "outputs": [],
   "source": []
  }
 ],
 "metadata": {
  "hide_input": false,
  "kernelspec": {
   "display_name": "Python 3 (ipykernel)",
   "language": "python",
   "name": "python3"
  },
  "language_info": {
   "codemirror_mode": {
    "name": "ipython",
    "version": 3
   },
   "file_extension": ".py",
   "mimetype": "text/x-python",
   "name": "python",
   "nbconvert_exporter": "python",
   "pygments_lexer": "ipython3",
   "version": "3.9.7"
  },
  "toc": {
   "base_numbering": 1,
   "nav_menu": {},
   "number_sections": true,
   "sideBar": true,
   "skip_h1_title": false,
   "title_cell": "Table of Contents",
   "title_sidebar": "Contents",
   "toc_cell": false,
   "toc_position": {},
   "toc_section_display": true,
   "toc_window_display": false
  }
 },
 "nbformat": 4,
 "nbformat_minor": 5
}
