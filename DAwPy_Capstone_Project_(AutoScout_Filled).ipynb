{
 "cells": [
  {
   "cell_type": "markdown",
   "metadata": {
    "id": "Bv1I7_aas1L3"
   },
   "source": [
    "___\n",
    "\n",
    "<p style=\"text-align: center;\"><img src=\"https://docs.google.com/uc?id=1lY0Uj5R04yMY3-ZppPWxqCr5pvBLYPnV\" class=\"img-fluid\" \n",
    "alt=\"CLRSWY\"></p>\n",
    "\n",
    "## <p style=\"background-color:#FDFEFE; font-family:newtimeroman; color:#9d4f8c; font-size:100%; text-align:center; border-radius:10px 10px;\">WAY TO REINVENT YOURSELF</p>"
   ]
  },
  {
   "cell_type": "markdown",
   "metadata": {
    "id": "Bkw3_pB0s1L-"
   },
   "source": [
    "<img src=https://i.ibb.co/wJW61Y2/Used-cars.jpg width=\"700\" height=\"200\">\n",
    "\n",
    "## <p style=\"background-color:#FDFEFE; font-family:newtimeroman; color:#060108; font-size:200%; text-align:center; border-radius:10px 10px;\">The Capstone Project of Data Analytics Module</p>\n",
    "\n",
    "## <p style=\"background-color:#FDFEFE; font-family:newtimeroman; color:#060108; font-size:150%; text-align:center; border-radius:10px 10px;\">Car Price Prediction EDA</p>"
   ]
  },
  {
   "cell_type": "markdown",
   "metadata": {
    "id": "Z_oWczxZs1MA"
   },
   "source": [
    "## Introduction\n",
    "Welcome to \"***AutoScout Data Analysis Project***\". This is the capstone project of ***Data Analysis*** Module. **Auto Scout** data which using for this project, scraped from the on-line car trading company in 2019, contains many features of 9 different car models. In this project, you will have the opportunity to apply many commonly used algorithms for Data Cleaning and Exploratory Data Analysis by using many Python libraries such as Numpy, Pandas, Matplotlib, Seaborn, Scipy you will analyze clean dataset.\n",
    "\n",
    "### Some Reminders on Exploratory data analysis (EDA)\n",
    "\n",
    "Exploratory data analysis (EDA) is an especially important activity in the routine of a data analyst or scientist. It enables an in depth understanding of the dataset, define or discard hypotheses and create predictive models on a solid basis. It uses data manipulation techniques and several statistical tools to describe and understand the relationship between variables and how these can impact business. By means of EDA, we can obtain meaningful insights that can impact analysis under the following questions (If a checklist is good enough for pilots to use every flight, it’s good enough for data scientists to use with every dataset).\n",
    "1. What question are you trying to solve (or prove wrong)?\n",
    "2. What kind of data do you have?\n",
    "3. What’s missing from the data?\n",
    "4. Where are the outliers?\n",
    "5. How can you add, change or remove features to get more out of your data?\n",
    "\n",
    "**``Exploratory data analysis (EDA)``** is often an **iterative brainstorming process** where you pose a question, review the data, and develop further questions to investigate before beginning model development work. The image below shows how the brainstorming phase is connected with that of understanding the variables and how this in turn is connected again with the brainstorming phase.<br>\n",
    "\n",
    "<img src=https://i.ibb.co/k0MC950/EDA-Process.png width=\"300\" height=\"100\">\n",
    "\n",
    "[Image Credit: Andrew D.](https://towardsdatascience.com/exploratory-data-analysis-in-python-a-step-by-step-process-d0dfa6bf94ee)\n",
    "\n",
    "**``In this context, the project consists of 3 parts in general:``**\n",
    "* **The first part** is related to 'Data Cleaning'. It deals with Incorrect Headers, Incorrect Format, Anomalies, and Dropping useless columns.\n",
    "* **The second part** is related to 'Filling Data', in other words 'Imputation'. It deals with Missing Values. Categorical to numeric transformation is done as well.\n",
    "* **The third part** is related to 'Handling Outliers of Data' via Visualization libraries. So, some insights will be extracted.\n",
    "\n",
    "**``NOTE:``**  However, you are free to create your own style. You do NOT have to stick to the steps above. We, the DA & DV instructors, recommend you study each part separately to create a source notebook for each part title for your further studies. "
   ]
  },
  {
   "cell_type": "markdown",
   "metadata": {
    "id": "vvgJ5KWTs1MB"
   },
   "source": [
    "# PART- 1 `( Data Cleaning )`"
   ]
  },
  {
   "cell_type": "code",
   "execution_count": null,
   "metadata": {},
   "outputs": [],
   "source": []
  },
  {
   "cell_type": "markdown",
   "metadata": {
    "id": "uGeKSdYds1MD"
   },
   "source": [
    "# PART- 2 `( Handling With Missing Values )`"
   ]
  },
  {
   "cell_type": "code",
   "execution_count": 102,
   "metadata": {
    "ExecuteTime": {
     "end_time": "2022-08-03T09:12:12.306884Z",
     "start_time": "2022-08-03T09:12:12.300354Z"
    },
    "id": "WDZnqBhbs1ME"
   },
   "outputs": [],
   "source": [
    "import numpy as np\n",
    "import pandas as pd\n",
    "import matplotlib.pyplot as plt\n",
    "import seaborn as sns\n",
    "import warnings\n",
    "warnings.filterwarnings(\"ignore\")\n",
    "warnings.warn(\"this will not show\")\n",
    "plt.rcParams[\"figure.figsize\"] = (10, 6)\n",
    "sns.set_style(\"whitegrid\")\n",
    "pd.set_option('display.float_format', lambda x: '%.3f' % x)\n",
    "# Set it None to display all rows in the dataframe\n",
    "# pd.set_option('display.max_rows', None)\n",
    "# Set it to None to display all columns in the dataframe\n",
    "pd.set_option('display.max_columns', None)"
   ]
  },
  {
   "cell_type": "code",
   "execution_count": 103,
   "metadata": {
    "ExecuteTime": {
     "end_time": "2022-08-03T09:12:12.609218Z",
     "start_time": "2022-08-03T09:12:12.314988Z"
    }
   },
   "outputs": [],
   "source": [
    "df = pd.read_csv(\"autoscout_clean.csv\")"
   ]
  },
  {
   "cell_type": "code",
   "execution_count": 104,
   "metadata": {
    "ExecuteTime": {
     "end_time": "2022-08-03T09:12:12.635860Z",
     "start_time": "2022-08-03T09:12:12.614023Z"
    }
   },
   "outputs": [
    {
     "data": {
      "text/html": [
       "<div>\n",
       "<style scoped>\n",
       "    .dataframe tbody tr th:only-of-type {\n",
       "        vertical-align: middle;\n",
       "    }\n",
       "\n",
       "    .dataframe tbody tr th {\n",
       "        vertical-align: top;\n",
       "    }\n",
       "\n",
       "    .dataframe thead th {\n",
       "        text-align: right;\n",
       "    }\n",
       "</style>\n",
       "<table border=\"1\" class=\"dataframe\">\n",
       "  <thead>\n",
       "    <tr style=\"text-align: right;\">\n",
       "      <th></th>\n",
       "      <th>0</th>\n",
       "      <th>1</th>\n",
       "      <th>2</th>\n",
       "      <th>3</th>\n",
       "      <th>4</th>\n",
       "    </tr>\n",
       "  </thead>\n",
       "  <tbody>\n",
       "    <tr>\n",
       "      <th>short_description</th>\n",
       "      <td>Sportback 1.4 TDI S-tronic Xenon Navi Klima</td>\n",
       "      <td>1.8 TFSI sport</td>\n",
       "      <td>Sportback 1.6 TDI S tronic Einparkhilfe plus+m...</td>\n",
       "      <td>1.4 TDi Design S tronic</td>\n",
       "      <td>Sportback 1.4 TDI S-Tronic S-Line Ext. admired...</td>\n",
       "    </tr>\n",
       "    <tr>\n",
       "      <th>body_type</th>\n",
       "      <td>Sedans</td>\n",
       "      <td>Sedans</td>\n",
       "      <td>Sedans</td>\n",
       "      <td>Sedans</td>\n",
       "      <td>Sedans</td>\n",
       "    </tr>\n",
       "    <tr>\n",
       "      <th>price_€</th>\n",
       "      <td>15770.000</td>\n",
       "      <td>14500.000</td>\n",
       "      <td>14640.000</td>\n",
       "      <td>14500.000</td>\n",
       "      <td>16790.000</td>\n",
       "    </tr>\n",
       "    <tr>\n",
       "      <th>vat</th>\n",
       "      <td>VAT deductible</td>\n",
       "      <td>Price negotiable</td>\n",
       "      <td>VAT deductible</td>\n",
       "      <td>NaN</td>\n",
       "      <td>NaN</td>\n",
       "    </tr>\n",
       "    <tr>\n",
       "      <th>km</th>\n",
       "      <td>56013.000</td>\n",
       "      <td>80000.000</td>\n",
       "      <td>83450.000</td>\n",
       "      <td>73000.000</td>\n",
       "      <td>16200.000</td>\n",
       "    </tr>\n",
       "    <tr>\n",
       "      <th>registration</th>\n",
       "      <td>2016.000</td>\n",
       "      <td>2017.000</td>\n",
       "      <td>2016.000</td>\n",
       "      <td>2016.000</td>\n",
       "      <td>2016.000</td>\n",
       "    </tr>\n",
       "    <tr>\n",
       "      <th>prev_owner</th>\n",
       "      <td>2.000</td>\n",
       "      <td>NaN</td>\n",
       "      <td>1.000</td>\n",
       "      <td>1.000</td>\n",
       "      <td>1.000</td>\n",
       "    </tr>\n",
       "    <tr>\n",
       "      <th>hp_kW</th>\n",
       "      <td>66.000</td>\n",
       "      <td>141.000</td>\n",
       "      <td>85.000</td>\n",
       "      <td>66.000</td>\n",
       "      <td>66.000</td>\n",
       "    </tr>\n",
       "    <tr>\n",
       "      <th>type</th>\n",
       "      <td>Used</td>\n",
       "      <td>Used</td>\n",
       "      <td>Used</td>\n",
       "      <td>Used</td>\n",
       "      <td>Used</td>\n",
       "    </tr>\n",
       "    <tr>\n",
       "      <th>previous_owners</th>\n",
       "      <td>2.000</td>\n",
       "      <td>NaN</td>\n",
       "      <td>1.000</td>\n",
       "      <td>1.000</td>\n",
       "      <td>1.000</td>\n",
       "    </tr>\n",
       "    <tr>\n",
       "      <th>warranty</th>\n",
       "      <td>NaN</td>\n",
       "      <td>NaN</td>\n",
       "      <td>NaN</td>\n",
       "      <td>NaN</td>\n",
       "      <td>NaN</td>\n",
       "    </tr>\n",
       "    <tr>\n",
       "      <th>make</th>\n",
       "      <td>Audi</td>\n",
       "      <td>Audi</td>\n",
       "      <td>Audi</td>\n",
       "      <td>Audi</td>\n",
       "      <td>Audi</td>\n",
       "    </tr>\n",
       "    <tr>\n",
       "      <th>model</th>\n",
       "      <td>A1</td>\n",
       "      <td>A1</td>\n",
       "      <td>A1</td>\n",
       "      <td>A1</td>\n",
       "      <td>A1</td>\n",
       "    </tr>\n",
       "    <tr>\n",
       "      <th>body_color</th>\n",
       "      <td>Black</td>\n",
       "      <td>Red</td>\n",
       "      <td>Black</td>\n",
       "      <td>Brown</td>\n",
       "      <td>Black</td>\n",
       "    </tr>\n",
       "    <tr>\n",
       "      <th>paint_type</th>\n",
       "      <td>Metallic</td>\n",
       "      <td>NaN</td>\n",
       "      <td>Metallic</td>\n",
       "      <td>Metallic</td>\n",
       "      <td>Metallic</td>\n",
       "    </tr>\n",
       "    <tr>\n",
       "      <th>body_color_original</th>\n",
       "      <td>Mythosschwarz</td>\n",
       "      <td>NaN</td>\n",
       "      <td>mythosschwarz metallic</td>\n",
       "      <td>NaN</td>\n",
       "      <td>Mythosschwarz Metallic</td>\n",
       "    </tr>\n",
       "    <tr>\n",
       "      <th>upholstery</th>\n",
       "      <td>Cloth</td>\n",
       "      <td>Cloth</td>\n",
       "      <td>Cloth</td>\n",
       "      <td>NaN</td>\n",
       "      <td>Cloth</td>\n",
       "    </tr>\n",
       "    <tr>\n",
       "      <th>nr_of_doors</th>\n",
       "      <td>5.000</td>\n",
       "      <td>3.000</td>\n",
       "      <td>4.000</td>\n",
       "      <td>3.000</td>\n",
       "      <td>5.000</td>\n",
       "    </tr>\n",
       "    <tr>\n",
       "      <th>nr_of_seats</th>\n",
       "      <td>5.000</td>\n",
       "      <td>4.000</td>\n",
       "      <td>4.000</td>\n",
       "      <td>4.000</td>\n",
       "      <td>5.000</td>\n",
       "    </tr>\n",
       "    <tr>\n",
       "      <th>gearing_type</th>\n",
       "      <td>Automatic</td>\n",
       "      <td>Automatic</td>\n",
       "      <td>Automatic</td>\n",
       "      <td>Automatic</td>\n",
       "      <td>Automatic</td>\n",
       "    </tr>\n",
       "    <tr>\n",
       "      <th>engine_displacement_cc</th>\n",
       "      <td>1422.000</td>\n",
       "      <td>1798.000</td>\n",
       "      <td>1598.000</td>\n",
       "      <td>1422.000</td>\n",
       "      <td>1422.000</td>\n",
       "    </tr>\n",
       "    <tr>\n",
       "      <th>cylinders</th>\n",
       "      <td>3.000</td>\n",
       "      <td>4.000</td>\n",
       "      <td>NaN</td>\n",
       "      <td>3.000</td>\n",
       "      <td>3.000</td>\n",
       "    </tr>\n",
       "    <tr>\n",
       "      <th>weight_kg</th>\n",
       "      <td>1220.000</td>\n",
       "      <td>1255.000</td>\n",
       "      <td>NaN</td>\n",
       "      <td>1195.000</td>\n",
       "      <td>NaN</td>\n",
       "    </tr>\n",
       "    <tr>\n",
       "      <th>drive_chain</th>\n",
       "      <td>front</td>\n",
       "      <td>front</td>\n",
       "      <td>front</td>\n",
       "      <td>NaN</td>\n",
       "      <td>front</td>\n",
       "    </tr>\n",
       "    <tr>\n",
       "      <th>fuel</th>\n",
       "      <td>Diesel</td>\n",
       "      <td>Benzine</td>\n",
       "      <td>Diesel</td>\n",
       "      <td>Diesel</td>\n",
       "      <td>Diesel</td>\n",
       "    </tr>\n",
       "    <tr>\n",
       "      <th>co2e_g</th>\n",
       "      <td>99.000</td>\n",
       "      <td>129.000</td>\n",
       "      <td>99.000</td>\n",
       "      <td>99.000</td>\n",
       "      <td>109.000</td>\n",
       "    </tr>\n",
       "    <tr>\n",
       "      <th>emission_class</th>\n",
       "      <td>Euro 6</td>\n",
       "      <td>Euro 6</td>\n",
       "      <td>Euro 6</td>\n",
       "      <td>Euro 6</td>\n",
       "      <td>Euro 6</td>\n",
       "    </tr>\n",
       "    <tr>\n",
       "      <th>comfort&amp;convenience</th>\n",
       "      <td>Air conditioning,Armrest,Automatic climate con...</td>\n",
       "      <td>Air conditioning,Automatic climate control,Hil...</td>\n",
       "      <td>Air conditioning,Cruise control,Electrical sid...</td>\n",
       "      <td>Air suspension,Armrest,Auxiliary heating,Elect...</td>\n",
       "      <td>Air conditioning,Armrest,Automatic climate con...</td>\n",
       "    </tr>\n",
       "    <tr>\n",
       "      <th>entertainment&amp;media</th>\n",
       "      <td>Bluetooth,Hands-free equipment,On-board comput...</td>\n",
       "      <td>Bluetooth,Hands-free equipment,On-board comput...</td>\n",
       "      <td>MP3,On-board computer</td>\n",
       "      <td>Bluetooth,CD player,Hands-free equipment,MP3,O...</td>\n",
       "      <td>Bluetooth,CD player,Hands-free equipment,MP3,O...</td>\n",
       "    </tr>\n",
       "    <tr>\n",
       "      <th>extras</th>\n",
       "      <td>Alloy wheels,Catalytic Converter,Voice Control</td>\n",
       "      <td>Alloy wheels,Sport seats,Sport suspension,Voic...</td>\n",
       "      <td>Alloy wheels,Voice Control</td>\n",
       "      <td>Alloy wheels,Sport seats,Voice Control</td>\n",
       "      <td>Alloy wheels,Sport package,Sport suspension,Vo...</td>\n",
       "    </tr>\n",
       "    <tr>\n",
       "      <th>safety&amp;security</th>\n",
       "      <td>ABS,Central door lock,Daytime running lights,D...</td>\n",
       "      <td>ABS,Central door lock,Central door lock with r...</td>\n",
       "      <td>ABS,Central door lock,Daytime running lights,D...</td>\n",
       "      <td>ABS,Alarm system,Central door lock with remote...</td>\n",
       "      <td>ABS,Central door lock,Driver-side airbag,Elect...</td>\n",
       "    </tr>\n",
       "    <tr>\n",
       "      <th>gears</th>\n",
       "      <td>NaN</td>\n",
       "      <td>7.000</td>\n",
       "      <td>NaN</td>\n",
       "      <td>6.000</td>\n",
       "      <td>NaN</td>\n",
       "    </tr>\n",
       "    <tr>\n",
       "      <th>country_version</th>\n",
       "      <td>NaN</td>\n",
       "      <td>NaN</td>\n",
       "      <td>NaN</td>\n",
       "      <td>NaN</td>\n",
       "      <td>Germany</td>\n",
       "    </tr>\n",
       "    <tr>\n",
       "      <th>consumption_comb</th>\n",
       "      <td>3.800</td>\n",
       "      <td>5.600</td>\n",
       "      <td>3.800</td>\n",
       "      <td>3.800</td>\n",
       "      <td>4.100</td>\n",
       "    </tr>\n",
       "    <tr>\n",
       "      <th>consumption_city</th>\n",
       "      <td>4.300</td>\n",
       "      <td>7.100</td>\n",
       "      <td>4.400</td>\n",
       "      <td>4.300</td>\n",
       "      <td>4.600</td>\n",
       "    </tr>\n",
       "    <tr>\n",
       "      <th>consumption_country</th>\n",
       "      <td>3.500</td>\n",
       "      <td>4.700</td>\n",
       "      <td>3.400</td>\n",
       "      <td>3.500</td>\n",
       "      <td>3.800</td>\n",
       "    </tr>\n",
       "  </tbody>\n",
       "</table>\n",
       "</div>"
      ],
      "text/plain": [
       "                                                                        0  \\\n",
       "short_description             Sportback 1.4 TDI S-tronic Xenon Navi Klima   \n",
       "body_type                                                          Sedans   \n",
       "price_€                                                         15770.000   \n",
       "vat                                                        VAT deductible   \n",
       "km                                                              56013.000   \n",
       "registration                                                     2016.000   \n",
       "prev_owner                                                          2.000   \n",
       "hp_kW                                                              66.000   \n",
       "type                                                                 Used   \n",
       "previous_owners                                                     2.000   \n",
       "warranty                                                              NaN   \n",
       "make                                                                 Audi   \n",
       "model                                                                  A1   \n",
       "body_color                                                          Black   \n",
       "paint_type                                                       Metallic   \n",
       "body_color_original                                         Mythosschwarz   \n",
       "upholstery                                                          Cloth   \n",
       "nr_of_doors                                                         5.000   \n",
       "nr_of_seats                                                         5.000   \n",
       "gearing_type                                                    Automatic   \n",
       "engine_displacement_cc                                           1422.000   \n",
       "cylinders                                                           3.000   \n",
       "weight_kg                                                        1220.000   \n",
       "drive_chain                                                         front   \n",
       "fuel                                                               Diesel   \n",
       "co2e_g                                                             99.000   \n",
       "emission_class                                                     Euro 6   \n",
       "comfort&convenience     Air conditioning,Armrest,Automatic climate con...   \n",
       "entertainment&media     Bluetooth,Hands-free equipment,On-board comput...   \n",
       "extras                     Alloy wheels,Catalytic Converter,Voice Control   \n",
       "safety&security         ABS,Central door lock,Daytime running lights,D...   \n",
       "gears                                                                 NaN   \n",
       "country_version                                                       NaN   \n",
       "consumption_comb                                                    3.800   \n",
       "consumption_city                                                    4.300   \n",
       "consumption_country                                                 3.500   \n",
       "\n",
       "                                                                        1  \\\n",
       "short_description                                          1.8 TFSI sport   \n",
       "body_type                                                          Sedans   \n",
       "price_€                                                         14500.000   \n",
       "vat                                                      Price negotiable   \n",
       "km                                                              80000.000   \n",
       "registration                                                     2017.000   \n",
       "prev_owner                                                            NaN   \n",
       "hp_kW                                                             141.000   \n",
       "type                                                                 Used   \n",
       "previous_owners                                                       NaN   \n",
       "warranty                                                              NaN   \n",
       "make                                                                 Audi   \n",
       "model                                                                  A1   \n",
       "body_color                                                            Red   \n",
       "paint_type                                                            NaN   \n",
       "body_color_original                                                   NaN   \n",
       "upholstery                                                          Cloth   \n",
       "nr_of_doors                                                         3.000   \n",
       "nr_of_seats                                                         4.000   \n",
       "gearing_type                                                    Automatic   \n",
       "engine_displacement_cc                                           1798.000   \n",
       "cylinders                                                           4.000   \n",
       "weight_kg                                                        1255.000   \n",
       "drive_chain                                                         front   \n",
       "fuel                                                              Benzine   \n",
       "co2e_g                                                            129.000   \n",
       "emission_class                                                     Euro 6   \n",
       "comfort&convenience     Air conditioning,Automatic climate control,Hil...   \n",
       "entertainment&media     Bluetooth,Hands-free equipment,On-board comput...   \n",
       "extras                  Alloy wheels,Sport seats,Sport suspension,Voic...   \n",
       "safety&security         ABS,Central door lock,Central door lock with r...   \n",
       "gears                                                               7.000   \n",
       "country_version                                                       NaN   \n",
       "consumption_comb                                                    5.600   \n",
       "consumption_city                                                    7.100   \n",
       "consumption_country                                                 4.700   \n",
       "\n",
       "                                                                        2  \\\n",
       "short_description       Sportback 1.6 TDI S tronic Einparkhilfe plus+m...   \n",
       "body_type                                                          Sedans   \n",
       "price_€                                                         14640.000   \n",
       "vat                                                        VAT deductible   \n",
       "km                                                              83450.000   \n",
       "registration                                                     2016.000   \n",
       "prev_owner                                                          1.000   \n",
       "hp_kW                                                              85.000   \n",
       "type                                                                 Used   \n",
       "previous_owners                                                     1.000   \n",
       "warranty                                                              NaN   \n",
       "make                                                                 Audi   \n",
       "model                                                                  A1   \n",
       "body_color                                                          Black   \n",
       "paint_type                                                       Metallic   \n",
       "body_color_original                                mythosschwarz metallic   \n",
       "upholstery                                                          Cloth   \n",
       "nr_of_doors                                                         4.000   \n",
       "nr_of_seats                                                         4.000   \n",
       "gearing_type                                                    Automatic   \n",
       "engine_displacement_cc                                           1598.000   \n",
       "cylinders                                                             NaN   \n",
       "weight_kg                                                             NaN   \n",
       "drive_chain                                                         front   \n",
       "fuel                                                               Diesel   \n",
       "co2e_g                                                             99.000   \n",
       "emission_class                                                     Euro 6   \n",
       "comfort&convenience     Air conditioning,Cruise control,Electrical sid...   \n",
       "entertainment&media                                 MP3,On-board computer   \n",
       "extras                                         Alloy wheels,Voice Control   \n",
       "safety&security         ABS,Central door lock,Daytime running lights,D...   \n",
       "gears                                                                 NaN   \n",
       "country_version                                                       NaN   \n",
       "consumption_comb                                                    3.800   \n",
       "consumption_city                                                    4.400   \n",
       "consumption_country                                                 3.400   \n",
       "\n",
       "                                                                        3  \\\n",
       "short_description                                 1.4 TDi Design S tronic   \n",
       "body_type                                                          Sedans   \n",
       "price_€                                                         14500.000   \n",
       "vat                                                                   NaN   \n",
       "km                                                              73000.000   \n",
       "registration                                                     2016.000   \n",
       "prev_owner                                                          1.000   \n",
       "hp_kW                                                              66.000   \n",
       "type                                                                 Used   \n",
       "previous_owners                                                     1.000   \n",
       "warranty                                                              NaN   \n",
       "make                                                                 Audi   \n",
       "model                                                                  A1   \n",
       "body_color                                                          Brown   \n",
       "paint_type                                                       Metallic   \n",
       "body_color_original                                                   NaN   \n",
       "upholstery                                                            NaN   \n",
       "nr_of_doors                                                         3.000   \n",
       "nr_of_seats                                                         4.000   \n",
       "gearing_type                                                    Automatic   \n",
       "engine_displacement_cc                                           1422.000   \n",
       "cylinders                                                           3.000   \n",
       "weight_kg                                                        1195.000   \n",
       "drive_chain                                                           NaN   \n",
       "fuel                                                               Diesel   \n",
       "co2e_g                                                             99.000   \n",
       "emission_class                                                     Euro 6   \n",
       "comfort&convenience     Air suspension,Armrest,Auxiliary heating,Elect...   \n",
       "entertainment&media     Bluetooth,CD player,Hands-free equipment,MP3,O...   \n",
       "extras                             Alloy wheels,Sport seats,Voice Control   \n",
       "safety&security         ABS,Alarm system,Central door lock with remote...   \n",
       "gears                                                               6.000   \n",
       "country_version                                                       NaN   \n",
       "consumption_comb                                                    3.800   \n",
       "consumption_city                                                    4.300   \n",
       "consumption_country                                                 3.500   \n",
       "\n",
       "                                                                        4  \n",
       "short_description       Sportback 1.4 TDI S-Tronic S-Line Ext. admired...  \n",
       "body_type                                                          Sedans  \n",
       "price_€                                                         16790.000  \n",
       "vat                                                                   NaN  \n",
       "km                                                              16200.000  \n",
       "registration                                                     2016.000  \n",
       "prev_owner                                                          1.000  \n",
       "hp_kW                                                              66.000  \n",
       "type                                                                 Used  \n",
       "previous_owners                                                     1.000  \n",
       "warranty                                                              NaN  \n",
       "make                                                                 Audi  \n",
       "model                                                                  A1  \n",
       "body_color                                                          Black  \n",
       "paint_type                                                       Metallic  \n",
       "body_color_original                                Mythosschwarz Metallic  \n",
       "upholstery                                                          Cloth  \n",
       "nr_of_doors                                                         5.000  \n",
       "nr_of_seats                                                         5.000  \n",
       "gearing_type                                                    Automatic  \n",
       "engine_displacement_cc                                           1422.000  \n",
       "cylinders                                                           3.000  \n",
       "weight_kg                                                             NaN  \n",
       "drive_chain                                                         front  \n",
       "fuel                                                               Diesel  \n",
       "co2e_g                                                            109.000  \n",
       "emission_class                                                     Euro 6  \n",
       "comfort&convenience     Air conditioning,Armrest,Automatic climate con...  \n",
       "entertainment&media     Bluetooth,CD player,Hands-free equipment,MP3,O...  \n",
       "extras                  Alloy wheels,Sport package,Sport suspension,Vo...  \n",
       "safety&security         ABS,Central door lock,Driver-side airbag,Elect...  \n",
       "gears                                                                 NaN  \n",
       "country_version                                                   Germany  \n",
       "consumption_comb                                                    4.100  \n",
       "consumption_city                                                    4.600  \n",
       "consumption_country                                                 3.800  "
      ]
     },
     "execution_count": 104,
     "metadata": {},
     "output_type": "execute_result"
    }
   ],
   "source": [
    "df.head().T"
   ]
  },
  {
   "cell_type": "code",
   "execution_count": 105,
   "metadata": {
    "ExecuteTime": {
     "end_time": "2022-08-03T09:12:12.653556Z",
     "start_time": "2022-08-03T09:12:12.643324Z"
    }
   },
   "outputs": [
    {
     "data": {
      "text/plain": [
       "(15919, 36)"
      ]
     },
     "execution_count": 105,
     "metadata": {},
     "output_type": "execute_result"
    }
   ],
   "source": [
    "df.shape"
   ]
  },
  {
   "cell_type": "code",
   "execution_count": 106,
   "metadata": {
    "ExecuteTime": {
     "end_time": "2022-08-03T09:12:12.701470Z",
     "start_time": "2022-08-03T09:12:12.662775Z"
    }
   },
   "outputs": [
    {
     "name": "stdout",
     "output_type": "stream",
     "text": [
      "<class 'pandas.core.frame.DataFrame'>\n",
      "RangeIndex: 15919 entries, 0 to 15918\n",
      "Data columns (total 36 columns):\n",
      " #   Column                  Non-Null Count  Dtype  \n",
      "---  ------                  --------------  -----  \n",
      " 0   short_description       15873 non-null  object \n",
      " 1   body_type               15859 non-null  object \n",
      " 2   price_€                 15919 non-null  float64\n",
      " 3   vat                     11406 non-null  object \n",
      " 4   km                      14895 non-null  float64\n",
      " 5   registration            14322 non-null  float64\n",
      " 6   prev_owner              9091 non-null   float64\n",
      " 7   hp_kW                   15831 non-null  float64\n",
      " 8   type                    15917 non-null  object \n",
      " 9   previous_owners         9279 non-null   float64\n",
      " 10  warranty                4853 non-null   float64\n",
      " 11  make                    15919 non-null  object \n",
      " 12  model                   15919 non-null  object \n",
      " 13  body_color              15322 non-null  object \n",
      " 14  paint_type              10147 non-null  object \n",
      " 15  body_color_original     12145 non-null  object \n",
      " 16  upholstery              12199 non-null  object \n",
      " 17  nr_of_doors             15707 non-null  float64\n",
      " 18  nr_of_seats             14942 non-null  float64\n",
      " 19  gearing_type            15919 non-null  object \n",
      " 20  engine_displacement_cc  15423 non-null  float64\n",
      " 21  cylinders               10239 non-null  float64\n",
      " 22  weight_kg               8945 non-null   float64\n",
      " 23  drive_chain             9061 non-null   object \n",
      " 24  fuel                    15919 non-null  object \n",
      " 25  co2e_g                  13477 non-null  float64\n",
      " 26  emission_class          12291 non-null  object \n",
      " 27  comfort&convenience     14999 non-null  object \n",
      " 28  entertainment&media     14545 non-null  object \n",
      " 29  extras                  12957 non-null  object \n",
      " 30  safety&security         14937 non-null  object \n",
      " 31  gears                   11207 non-null  float64\n",
      " 32  country_version         7586 non-null   object \n",
      " 33  consumption_comb        12129 non-null  float64\n",
      " 34  consumption_city        11880 non-null  float64\n",
      " 35  consumption_country     12554 non-null  float64\n",
      "dtypes: float64(17), object(19)\n",
      "memory usage: 4.4+ MB\n"
     ]
    }
   ],
   "source": [
    "df.info()"
   ]
  },
  {
   "cell_type": "code",
   "execution_count": 107,
   "metadata": {
    "ExecuteTime": {
     "end_time": "2022-08-03T09:12:12.734970Z",
     "start_time": "2022-08-03T09:12:12.706393Z"
    },
    "scrolled": true
   },
   "outputs": [
    {
     "data": {
      "text/plain": [
       "short_description            46\n",
       "body_type                    60\n",
       "price_€                       0\n",
       "vat                        4513\n",
       "km                         1024\n",
       "registration               1597\n",
       "prev_owner                 6828\n",
       "hp_kW                        88\n",
       "type                          2\n",
       "previous_owners            6640\n",
       "warranty                  11066\n",
       "make                          0\n",
       "model                         0\n",
       "body_color                  597\n",
       "paint_type                 5772\n",
       "body_color_original        3774\n",
       "upholstery                 3720\n",
       "nr_of_doors                 212\n",
       "nr_of_seats                 977\n",
       "gearing_type                  0\n",
       "engine_displacement_cc      496\n",
       "cylinders                  5680\n",
       "weight_kg                  6974\n",
       "drive_chain                6858\n",
       "fuel                          0\n",
       "co2e_g                     2442\n",
       "emission_class             3628\n",
       "comfort&convenience         920\n",
       "entertainment&media        1374\n",
       "extras                     2962\n",
       "safety&security             982\n",
       "gears                      4712\n",
       "country_version            8333\n",
       "consumption_comb           3790\n",
       "consumption_city           4039\n",
       "consumption_country        3365\n",
       "dtype: int64"
      ]
     },
     "execution_count": 107,
     "metadata": {},
     "output_type": "execute_result"
    }
   ],
   "source": [
    "df.isnull().sum()"
   ]
  },
  {
   "cell_type": "code",
   "execution_count": 108,
   "metadata": {
    "ExecuteTime": {
     "end_time": "2022-08-03T09:12:12.806262Z",
     "start_time": "2022-08-03T09:12:12.738987Z"
    }
   },
   "outputs": [
    {
     "data": {
      "text/plain": [
       "False    14476\n",
       "True      1443\n",
       "dtype: int64"
      ]
     },
     "execution_count": 108,
     "metadata": {},
     "output_type": "execute_result"
    }
   ],
   "source": [
    "df.duplicated().value_counts()"
   ]
  },
  {
   "cell_type": "code",
   "execution_count": 109,
   "metadata": {
    "ExecuteTime": {
     "end_time": "2022-08-03T09:12:12.815091Z",
     "start_time": "2022-08-03T09:12:12.810038Z"
    }
   },
   "outputs": [],
   "source": [
    " # df.drop_duplicates(keep = 'first', inplace = True, ignore_index=True)"
   ]
  },
  {
   "cell_type": "code",
   "execution_count": 110,
   "metadata": {
    "ExecuteTime": {
     "end_time": "2022-08-03T09:12:12.852336Z",
     "start_time": "2022-08-03T09:12:12.819841Z"
    }
   },
   "outputs": [
    {
     "data": {
      "text/plain": [
       "short_description            46\n",
       "body_type                    60\n",
       "price_€                       0\n",
       "vat                        4513\n",
       "km                         1024\n",
       "registration               1597\n",
       "prev_owner                 6828\n",
       "hp_kW                        88\n",
       "type                          2\n",
       "previous_owners            6640\n",
       "warranty                  11066\n",
       "make                          0\n",
       "model                         0\n",
       "body_color                  597\n",
       "paint_type                 5772\n",
       "body_color_original        3774\n",
       "upholstery                 3720\n",
       "nr_of_doors                 212\n",
       "nr_of_seats                 977\n",
       "gearing_type                  0\n",
       "engine_displacement_cc      496\n",
       "cylinders                  5680\n",
       "weight_kg                  6974\n",
       "drive_chain                6858\n",
       "fuel                          0\n",
       "co2e_g                     2442\n",
       "emission_class             3628\n",
       "comfort&convenience         920\n",
       "entertainment&media        1374\n",
       "extras                     2962\n",
       "safety&security             982\n",
       "gears                      4712\n",
       "country_version            8333\n",
       "consumption_comb           3790\n",
       "consumption_city           4039\n",
       "consumption_country        3365\n",
       "dtype: int64"
      ]
     },
     "execution_count": 110,
     "metadata": {},
     "output_type": "execute_result"
    }
   ],
   "source": [
    "df.isnull().sum()"
   ]
  },
  {
   "cell_type": "code",
   "execution_count": 111,
   "metadata": {
    "ExecuteTime": {
     "end_time": "2022-08-03T09:12:12.945073Z",
     "start_time": "2022-08-03T09:12:12.855987Z"
    }
   },
   "outputs": [
    {
     "data": {
      "text/html": [
       "<div>\n",
       "<style scoped>\n",
       "    .dataframe tbody tr th:only-of-type {\n",
       "        vertical-align: middle;\n",
       "    }\n",
       "\n",
       "    .dataframe tbody tr th {\n",
       "        vertical-align: top;\n",
       "    }\n",
       "\n",
       "    .dataframe thead th {\n",
       "        text-align: right;\n",
       "    }\n",
       "</style>\n",
       "<table border=\"1\" class=\"dataframe\">\n",
       "  <thead>\n",
       "    <tr style=\"text-align: right;\">\n",
       "      <th></th>\n",
       "      <th>count</th>\n",
       "      <th>mean</th>\n",
       "      <th>std</th>\n",
       "      <th>min</th>\n",
       "      <th>25%</th>\n",
       "      <th>50%</th>\n",
       "      <th>75%</th>\n",
       "      <th>max</th>\n",
       "    </tr>\n",
       "  </thead>\n",
       "  <tbody>\n",
       "    <tr>\n",
       "      <th>price_€</th>\n",
       "      <td>15919.000</td>\n",
       "      <td>18019.897</td>\n",
       "      <td>7386.169</td>\n",
       "      <td>13.000</td>\n",
       "      <td>12850.000</td>\n",
       "      <td>16900.000</td>\n",
       "      <td>21900.000</td>\n",
       "      <td>74600.000</td>\n",
       "    </tr>\n",
       "    <tr>\n",
       "      <th>km</th>\n",
       "      <td>14895.000</td>\n",
       "      <td>34130.128</td>\n",
       "      <td>37352.978</td>\n",
       "      <td>0.000</td>\n",
       "      <td>5153.000</td>\n",
       "      <td>22740.000</td>\n",
       "      <td>49371.500</td>\n",
       "      <td>317000.000</td>\n",
       "    </tr>\n",
       "    <tr>\n",
       "      <th>registration</th>\n",
       "      <td>14322.000</td>\n",
       "      <td>2017.458</td>\n",
       "      <td>1.077</td>\n",
       "      <td>2016.000</td>\n",
       "      <td>2016.000</td>\n",
       "      <td>2018.000</td>\n",
       "      <td>2018.000</td>\n",
       "      <td>2019.000</td>\n",
       "    </tr>\n",
       "    <tr>\n",
       "      <th>prev_owner</th>\n",
       "      <td>9091.000</td>\n",
       "      <td>1.090</td>\n",
       "      <td>0.295</td>\n",
       "      <td>1.000</td>\n",
       "      <td>1.000</td>\n",
       "      <td>1.000</td>\n",
       "      <td>1.000</td>\n",
       "      <td>4.000</td>\n",
       "    </tr>\n",
       "    <tr>\n",
       "      <th>hp_kW</th>\n",
       "      <td>15831.000</td>\n",
       "      <td>88.368</td>\n",
       "      <td>26.835</td>\n",
       "      <td>1.000</td>\n",
       "      <td>66.000</td>\n",
       "      <td>85.000</td>\n",
       "      <td>101.000</td>\n",
       "      <td>294.000</td>\n",
       "    </tr>\n",
       "    <tr>\n",
       "      <th>previous_owners</th>\n",
       "      <td>9279.000</td>\n",
       "      <td>1.068</td>\n",
       "      <td>0.330</td>\n",
       "      <td>0.000</td>\n",
       "      <td>1.000</td>\n",
       "      <td>1.000</td>\n",
       "      <td>1.000</td>\n",
       "      <td>4.000</td>\n",
       "    </tr>\n",
       "    <tr>\n",
       "      <th>warranty</th>\n",
       "      <td>4853.000</td>\n",
       "      <td>21.927</td>\n",
       "      <td>15.771</td>\n",
       "      <td>1.000</td>\n",
       "      <td>12.000</td>\n",
       "      <td>12.000</td>\n",
       "      <td>24.000</td>\n",
       "      <td>72.000</td>\n",
       "    </tr>\n",
       "    <tr>\n",
       "      <th>nr_of_doors</th>\n",
       "      <td>15707.000</td>\n",
       "      <td>4.656</td>\n",
       "      <td>0.645</td>\n",
       "      <td>1.000</td>\n",
       "      <td>4.000</td>\n",
       "      <td>5.000</td>\n",
       "      <td>5.000</td>\n",
       "      <td>7.000</td>\n",
       "    </tr>\n",
       "    <tr>\n",
       "      <th>nr_of_seats</th>\n",
       "      <td>14942.000</td>\n",
       "      <td>4.950</td>\n",
       "      <td>0.490</td>\n",
       "      <td>2.000</td>\n",
       "      <td>5.000</td>\n",
       "      <td>5.000</td>\n",
       "      <td>5.000</td>\n",
       "      <td>7.000</td>\n",
       "    </tr>\n",
       "    <tr>\n",
       "      <th>engine_displacement_cc</th>\n",
       "      <td>15423.000</td>\n",
       "      <td>1423.541</td>\n",
       "      <td>333.531</td>\n",
       "      <td>1.000</td>\n",
       "      <td>1229.000</td>\n",
       "      <td>1461.000</td>\n",
       "      <td>1598.000</td>\n",
       "      <td>16000.000</td>\n",
       "    </tr>\n",
       "    <tr>\n",
       "      <th>cylinders</th>\n",
       "      <td>10239.000</td>\n",
       "      <td>3.797</td>\n",
       "      <td>0.415</td>\n",
       "      <td>1.000</td>\n",
       "      <td>4.000</td>\n",
       "      <td>4.000</td>\n",
       "      <td>4.000</td>\n",
       "      <td>8.000</td>\n",
       "    </tr>\n",
       "    <tr>\n",
       "      <th>weight_kg</th>\n",
       "      <td>8945.000</td>\n",
       "      <td>1351.107</td>\n",
       "      <td>220.662</td>\n",
       "      <td>1.000</td>\n",
       "      <td>1165.000</td>\n",
       "      <td>1288.000</td>\n",
       "      <td>1487.000</td>\n",
       "      <td>2471.000</td>\n",
       "    </tr>\n",
       "    <tr>\n",
       "      <th>co2e_g</th>\n",
       "      <td>13477.000</td>\n",
       "      <td>123.794</td>\n",
       "      <td>270.000</td>\n",
       "      <td>14.000</td>\n",
       "      <td>104.000</td>\n",
       "      <td>116.000</td>\n",
       "      <td>129.000</td>\n",
       "      <td>14457.000</td>\n",
       "    </tr>\n",
       "    <tr>\n",
       "      <th>gears</th>\n",
       "      <td>11207.000</td>\n",
       "      <td>5.925</td>\n",
       "      <td>0.848</td>\n",
       "      <td>1.000</td>\n",
       "      <td>5.000</td>\n",
       "      <td>6.000</td>\n",
       "      <td>6.000</td>\n",
       "      <td>50.000</td>\n",
       "    </tr>\n",
       "    <tr>\n",
       "      <th>consumption_comb</th>\n",
       "      <td>12129.000</td>\n",
       "      <td>4.861</td>\n",
       "      <td>0.906</td>\n",
       "      <td>1.200</td>\n",
       "      <td>4.200</td>\n",
       "      <td>4.800</td>\n",
       "      <td>5.500</td>\n",
       "      <td>13.800</td>\n",
       "    </tr>\n",
       "    <tr>\n",
       "      <th>consumption_city</th>\n",
       "      <td>11880.000</td>\n",
       "      <td>5.973</td>\n",
       "      <td>1.409</td>\n",
       "      <td>3.300</td>\n",
       "      <td>4.700</td>\n",
       "      <td>5.800</td>\n",
       "      <td>7.100</td>\n",
       "      <td>19.900</td>\n",
       "    </tr>\n",
       "    <tr>\n",
       "      <th>consumption_country</th>\n",
       "      <td>12554.000</td>\n",
       "      <td>4.214</td>\n",
       "      <td>0.676</td>\n",
       "      <td>2.900</td>\n",
       "      <td>3.700</td>\n",
       "      <td>4.200</td>\n",
       "      <td>4.600</td>\n",
       "      <td>10.300</td>\n",
       "    </tr>\n",
       "  </tbody>\n",
       "</table>\n",
       "</div>"
      ],
      "text/plain": [
       "                           count      mean       std      min       25%  \\\n",
       "price_€                15919.000 18019.897  7386.169   13.000 12850.000   \n",
       "km                     14895.000 34130.128 37352.978    0.000  5153.000   \n",
       "registration           14322.000  2017.458     1.077 2016.000  2016.000   \n",
       "prev_owner              9091.000     1.090     0.295    1.000     1.000   \n",
       "hp_kW                  15831.000    88.368    26.835    1.000    66.000   \n",
       "previous_owners         9279.000     1.068     0.330    0.000     1.000   \n",
       "warranty                4853.000    21.927    15.771    1.000    12.000   \n",
       "nr_of_doors            15707.000     4.656     0.645    1.000     4.000   \n",
       "nr_of_seats            14942.000     4.950     0.490    2.000     5.000   \n",
       "engine_displacement_cc 15423.000  1423.541   333.531    1.000  1229.000   \n",
       "cylinders              10239.000     3.797     0.415    1.000     4.000   \n",
       "weight_kg               8945.000  1351.107   220.662    1.000  1165.000   \n",
       "co2e_g                 13477.000   123.794   270.000   14.000   104.000   \n",
       "gears                  11207.000     5.925     0.848    1.000     5.000   \n",
       "consumption_comb       12129.000     4.861     0.906    1.200     4.200   \n",
       "consumption_city       11880.000     5.973     1.409    3.300     4.700   \n",
       "consumption_country    12554.000     4.214     0.676    2.900     3.700   \n",
       "\n",
       "                             50%       75%        max  \n",
       "price_€                16900.000 21900.000  74600.000  \n",
       "km                     22740.000 49371.500 317000.000  \n",
       "registration            2018.000  2018.000   2019.000  \n",
       "prev_owner                 1.000     1.000      4.000  \n",
       "hp_kW                     85.000   101.000    294.000  \n",
       "previous_owners            1.000     1.000      4.000  \n",
       "warranty                  12.000    24.000     72.000  \n",
       "nr_of_doors                5.000     5.000      7.000  \n",
       "nr_of_seats                5.000     5.000      7.000  \n",
       "engine_displacement_cc  1461.000  1598.000  16000.000  \n",
       "cylinders                  4.000     4.000      8.000  \n",
       "weight_kg               1288.000  1487.000   2471.000  \n",
       "co2e_g                   116.000   129.000  14457.000  \n",
       "gears                      6.000     6.000     50.000  \n",
       "consumption_comb           4.800     5.500     13.800  \n",
       "consumption_city           5.800     7.100     19.900  \n",
       "consumption_country        4.200     4.600     10.300  "
      ]
     },
     "execution_count": 111,
     "metadata": {},
     "output_type": "execute_result"
    }
   ],
   "source": [
    "df.describe().T"
   ]
  },
  {
   "cell_type": "code",
   "execution_count": 112,
   "metadata": {
    "ExecuteTime": {
     "end_time": "2022-08-03T09:12:13.070610Z",
     "start_time": "2022-08-03T09:12:12.954547Z"
    }
   },
   "outputs": [
    {
     "data": {
      "text/html": [
       "<div>\n",
       "<style scoped>\n",
       "    .dataframe tbody tr th:only-of-type {\n",
       "        vertical-align: middle;\n",
       "    }\n",
       "\n",
       "    .dataframe tbody tr th {\n",
       "        vertical-align: top;\n",
       "    }\n",
       "\n",
       "    .dataframe thead th {\n",
       "        text-align: right;\n",
       "    }\n",
       "</style>\n",
       "<table border=\"1\" class=\"dataframe\">\n",
       "  <thead>\n",
       "    <tr style=\"text-align: right;\">\n",
       "      <th></th>\n",
       "      <th>count</th>\n",
       "      <th>unique</th>\n",
       "      <th>top</th>\n",
       "      <th>freq</th>\n",
       "    </tr>\n",
       "  </thead>\n",
       "  <tbody>\n",
       "    <tr>\n",
       "      <th>short_description</th>\n",
       "      <td>15873</td>\n",
       "      <td>10001</td>\n",
       "      <td>SPB 1.6 TDI 116 CV S tronic Sport</td>\n",
       "      <td>64</td>\n",
       "    </tr>\n",
       "    <tr>\n",
       "      <th>body_type</th>\n",
       "      <td>15859</td>\n",
       "      <td>9</td>\n",
       "      <td>Sedans</td>\n",
       "      <td>7903</td>\n",
       "    </tr>\n",
       "    <tr>\n",
       "      <th>vat</th>\n",
       "      <td>11406</td>\n",
       "      <td>2</td>\n",
       "      <td>VAT deductible</td>\n",
       "      <td>10980</td>\n",
       "    </tr>\n",
       "    <tr>\n",
       "      <th>type</th>\n",
       "      <td>15917</td>\n",
       "      <td>5</td>\n",
       "      <td>Used</td>\n",
       "      <td>11096</td>\n",
       "    </tr>\n",
       "    <tr>\n",
       "      <th>make</th>\n",
       "      <td>15919</td>\n",
       "      <td>3</td>\n",
       "      <td>Opel</td>\n",
       "      <td>7343</td>\n",
       "    </tr>\n",
       "    <tr>\n",
       "      <th>model</th>\n",
       "      <td>15919</td>\n",
       "      <td>9</td>\n",
       "      <td>A3</td>\n",
       "      <td>3097</td>\n",
       "    </tr>\n",
       "    <tr>\n",
       "      <th>body_color</th>\n",
       "      <td>15322</td>\n",
       "      <td>14</td>\n",
       "      <td>Black</td>\n",
       "      <td>3745</td>\n",
       "    </tr>\n",
       "    <tr>\n",
       "      <th>paint_type</th>\n",
       "      <td>10147</td>\n",
       "      <td>3</td>\n",
       "      <td>Metallic</td>\n",
       "      <td>9794</td>\n",
       "    </tr>\n",
       "    <tr>\n",
       "      <th>body_color_original</th>\n",
       "      <td>12145</td>\n",
       "      <td>1926</td>\n",
       "      <td>Onyx Schwarz</td>\n",
       "      <td>338</td>\n",
       "    </tr>\n",
       "    <tr>\n",
       "      <th>upholstery</th>\n",
       "      <td>12199</td>\n",
       "      <td>6</td>\n",
       "      <td>Cloth</td>\n",
       "      <td>9206</td>\n",
       "    </tr>\n",
       "    <tr>\n",
       "      <th>gearing_type</th>\n",
       "      <td>15919</td>\n",
       "      <td>3</td>\n",
       "      <td>Manual</td>\n",
       "      <td>8153</td>\n",
       "    </tr>\n",
       "    <tr>\n",
       "      <th>drive_chain</th>\n",
       "      <td>9061</td>\n",
       "      <td>3</td>\n",
       "      <td>front</td>\n",
       "      <td>8886</td>\n",
       "    </tr>\n",
       "    <tr>\n",
       "      <th>fuel</th>\n",
       "      <td>15919</td>\n",
       "      <td>4</td>\n",
       "      <td>Benzine</td>\n",
       "      <td>8551</td>\n",
       "    </tr>\n",
       "    <tr>\n",
       "      <th>emission_class</th>\n",
       "      <td>12291</td>\n",
       "      <td>6</td>\n",
       "      <td>Euro 6</td>\n",
       "      <td>10139</td>\n",
       "    </tr>\n",
       "    <tr>\n",
       "      <th>comfort&amp;convenience</th>\n",
       "      <td>14999</td>\n",
       "      <td>6198</td>\n",
       "      <td>Air conditioning,Electrical side mirrors,Hill ...</td>\n",
       "      <td>216</td>\n",
       "    </tr>\n",
       "    <tr>\n",
       "      <th>entertainment&amp;media</th>\n",
       "      <td>14545</td>\n",
       "      <td>346</td>\n",
       "      <td>Bluetooth,Hands-free equipment,On-board comput...</td>\n",
       "      <td>1282</td>\n",
       "    </tr>\n",
       "    <tr>\n",
       "      <th>extras</th>\n",
       "      <td>12957</td>\n",
       "      <td>659</td>\n",
       "      <td>Alloy wheels</td>\n",
       "      <td>3245</td>\n",
       "    </tr>\n",
       "    <tr>\n",
       "      <th>safety&amp;security</th>\n",
       "      <td>14937</td>\n",
       "      <td>4443</td>\n",
       "      <td>ABS,Central door lock,Daytime running lights,D...</td>\n",
       "      <td>538</td>\n",
       "    </tr>\n",
       "    <tr>\n",
       "      <th>country_version</th>\n",
       "      <td>7586</td>\n",
       "      <td>23</td>\n",
       "      <td>Germany</td>\n",
       "      <td>4502</td>\n",
       "    </tr>\n",
       "  </tbody>\n",
       "</table>\n",
       "</div>"
      ],
      "text/plain": [
       "                     count unique  \\\n",
       "short_description    15873  10001   \n",
       "body_type            15859      9   \n",
       "vat                  11406      2   \n",
       "type                 15917      5   \n",
       "make                 15919      3   \n",
       "model                15919      9   \n",
       "body_color           15322     14   \n",
       "paint_type           10147      3   \n",
       "body_color_original  12145   1926   \n",
       "upholstery           12199      6   \n",
       "gearing_type         15919      3   \n",
       "drive_chain           9061      3   \n",
       "fuel                 15919      4   \n",
       "emission_class       12291      6   \n",
       "comfort&convenience  14999   6198   \n",
       "entertainment&media  14545    346   \n",
       "extras               12957    659   \n",
       "safety&security      14937   4443   \n",
       "country_version       7586     23   \n",
       "\n",
       "                                                                   top   freq  \n",
       "short_description                    SPB 1.6 TDI 116 CV S tronic Sport     64  \n",
       "body_type                                                       Sedans   7903  \n",
       "vat                                                     VAT deductible  10980  \n",
       "type                                                              Used  11096  \n",
       "make                                                              Opel   7343  \n",
       "model                                                               A3   3097  \n",
       "body_color                                                       Black   3745  \n",
       "paint_type                                                    Metallic   9794  \n",
       "body_color_original                                       Onyx Schwarz    338  \n",
       "upholstery                                                       Cloth   9206  \n",
       "gearing_type                                                    Manual   8153  \n",
       "drive_chain                                                      front   8886  \n",
       "fuel                                                           Benzine   8551  \n",
       "emission_class                                                  Euro 6  10139  \n",
       "comfort&convenience  Air conditioning,Electrical side mirrors,Hill ...    216  \n",
       "entertainment&media  Bluetooth,Hands-free equipment,On-board comput...   1282  \n",
       "extras                                                    Alloy wheels   3245  \n",
       "safety&security      ABS,Central door lock,Daytime running lights,D...    538  \n",
       "country_version                                                Germany   4502  "
      ]
     },
     "execution_count": 112,
     "metadata": {},
     "output_type": "execute_result"
    }
   ],
   "source": [
    "df.describe(include=\"object\").T"
   ]
  },
  {
   "cell_type": "code",
   "execution_count": 113,
   "metadata": {
    "ExecuteTime": {
     "end_time": "2022-08-03T09:12:13.089731Z",
     "start_time": "2022-08-03T09:12:13.073631Z"
    }
   },
   "outputs": [
    {
     "data": {
      "text/plain": [
       "8594       13.000\n",
       "8828      120.000\n",
       "6066      255.000\n",
       "8829      331.000\n",
       "8827     4950.000\n",
       "           ...   \n",
       "15828   64332.000\n",
       "3587    64900.000\n",
       "3649    67600.000\n",
       "15826   68320.000\n",
       "3648    74600.000\n",
       "Name: price_€, Length: 15919, dtype: float64"
      ]
     },
     "execution_count": 113,
     "metadata": {},
     "output_type": "execute_result"
    }
   ],
   "source": [
    "df[\"price_€\"].sort_values()"
   ]
  },
  {
   "cell_type": "code",
   "execution_count": 114,
   "metadata": {
    "ExecuteTime": {
     "end_time": "2022-08-03T09:12:13.100980Z",
     "start_time": "2022-08-03T09:12:13.092979Z"
    }
   },
   "outputs": [],
   "source": [
    "df[\"age\"] = 2019 - df.registration\n"
   ]
  },
  {
   "cell_type": "code",
   "execution_count": 115,
   "metadata": {
    "ExecuteTime": {
     "end_time": "2022-08-03T09:12:13.137251Z",
     "start_time": "2022-08-03T09:12:13.105134Z"
    }
   },
   "outputs": [
    {
     "name": "stdout",
     "output_type": "stream",
     "text": [
      "<class 'pandas.core.frame.DataFrame'>\n",
      "RangeIndex: 15919 entries, 0 to 15918\n",
      "Data columns (total 37 columns):\n",
      " #   Column                  Non-Null Count  Dtype  \n",
      "---  ------                  --------------  -----  \n",
      " 0   short_description       15873 non-null  object \n",
      " 1   body_type               15859 non-null  object \n",
      " 2   price_€                 15919 non-null  float64\n",
      " 3   vat                     11406 non-null  object \n",
      " 4   km                      14895 non-null  float64\n",
      " 5   registration            14322 non-null  float64\n",
      " 6   prev_owner              9091 non-null   float64\n",
      " 7   hp_kW                   15831 non-null  float64\n",
      " 8   type                    15917 non-null  object \n",
      " 9   previous_owners         9279 non-null   float64\n",
      " 10  warranty                4853 non-null   float64\n",
      " 11  make                    15919 non-null  object \n",
      " 12  model                   15919 non-null  object \n",
      " 13  body_color              15322 non-null  object \n",
      " 14  paint_type              10147 non-null  object \n",
      " 15  body_color_original     12145 non-null  object \n",
      " 16  upholstery              12199 non-null  object \n",
      " 17  nr_of_doors             15707 non-null  float64\n",
      " 18  nr_of_seats             14942 non-null  float64\n",
      " 19  gearing_type            15919 non-null  object \n",
      " 20  engine_displacement_cc  15423 non-null  float64\n",
      " 21  cylinders               10239 non-null  float64\n",
      " 22  weight_kg               8945 non-null   float64\n",
      " 23  drive_chain             9061 non-null   object \n",
      " 24  fuel                    15919 non-null  object \n",
      " 25  co2e_g                  13477 non-null  float64\n",
      " 26  emission_class          12291 non-null  object \n",
      " 27  comfort&convenience     14999 non-null  object \n",
      " 28  entertainment&media     14545 non-null  object \n",
      " 29  extras                  12957 non-null  object \n",
      " 30  safety&security         14937 non-null  object \n",
      " 31  gears                   11207 non-null  float64\n",
      " 32  country_version         7586 non-null   object \n",
      " 33  consumption_comb        12129 non-null  float64\n",
      " 34  consumption_city        11880 non-null  float64\n",
      " 35  consumption_country     12554 non-null  float64\n",
      " 36  age                     14322 non-null  float64\n",
      "dtypes: float64(18), object(19)\n",
      "memory usage: 4.5+ MB\n"
     ]
    }
   ],
   "source": [
    "df.info()"
   ]
  },
  {
   "cell_type": "code",
   "execution_count": null,
   "metadata": {},
   "outputs": [],
   "source": []
  },
  {
   "cell_type": "code",
   "execution_count": null,
   "metadata": {},
   "outputs": [],
   "source": []
  },
  {
   "cell_type": "code",
   "execution_count": 116,
   "metadata": {
    "ExecuteTime": {
     "end_time": "2022-08-03T09:12:13.157119Z",
     "start_time": "2022-08-03T09:12:13.141027Z"
    }
   },
   "outputs": [],
   "source": [
    "df.drop([\"registration\", \"short_description\"], axis=1, inplace=True)"
   ]
  },
  {
   "cell_type": "code",
   "execution_count": 117,
   "metadata": {
    "ExecuteTime": {
     "end_time": "2022-08-03T09:12:13.188423Z",
     "start_time": "2022-08-03T09:12:13.160741Z"
    },
    "scrolled": true
   },
   "outputs": [
    {
     "data": {
      "text/plain": [
       "body_type                    60\n",
       "price_€                       0\n",
       "vat                        4513\n",
       "km                         1024\n",
       "prev_owner                 6828\n",
       "hp_kW                        88\n",
       "type                          2\n",
       "previous_owners            6640\n",
       "warranty                  11066\n",
       "make                          0\n",
       "model                         0\n",
       "body_color                  597\n",
       "paint_type                 5772\n",
       "body_color_original        3774\n",
       "upholstery                 3720\n",
       "nr_of_doors                 212\n",
       "nr_of_seats                 977\n",
       "gearing_type                  0\n",
       "engine_displacement_cc      496\n",
       "cylinders                  5680\n",
       "weight_kg                  6974\n",
       "drive_chain                6858\n",
       "fuel                          0\n",
       "co2e_g                     2442\n",
       "emission_class             3628\n",
       "comfort&convenience         920\n",
       "entertainment&media        1374\n",
       "extras                     2962\n",
       "safety&security             982\n",
       "gears                      4712\n",
       "country_version            8333\n",
       "consumption_comb           3790\n",
       "consumption_city           4039\n",
       "consumption_country        3365\n",
       "age                        1597\n",
       "dtype: int64"
      ]
     },
     "execution_count": 117,
     "metadata": {},
     "output_type": "execute_result"
    }
   ],
   "source": [
    "df.isnull().sum()"
   ]
  },
  {
   "cell_type": "code",
   "execution_count": 118,
   "metadata": {
    "ExecuteTime": {
     "end_time": "2022-08-03T09:12:13.198555Z",
     "start_time": "2022-08-03T09:12:13.193040Z"
    }
   },
   "outputs": [],
   "source": [
    "def check_df(col):\n",
    "    print('column name : ', col)\n",
    "    print('--------------------------------')\n",
    "    print('Per_of_Nulls   : ', '%', round(df[col].isnull().sum() / df.shape[0]*100, 2))\n",
    "    print('Num_of_Nulls   : ', df[col].isnull().sum())\n",
    "    print(df[col].value_counts(dropna = False))\n",
    "    print(\"*\"*30)\n",
    "    print(\"\\n\\n\")"
   ]
  },
  {
   "cell_type": "code",
   "execution_count": null,
   "metadata": {},
   "outputs": [],
   "source": []
  },
  {
   "cell_type": "markdown",
   "metadata": {},
   "source": [
    "## 1. body_type"
   ]
  },
  {
   "cell_type": "code",
   "execution_count": 119,
   "metadata": {
    "ExecuteTime": {
     "end_time": "2022-08-03T09:12:13.219241Z",
     "start_time": "2022-08-03T09:12:13.203583Z"
    }
   },
   "outputs": [
    {
     "name": "stdout",
     "output_type": "stream",
     "text": [
      "column name :  body_type\n",
      "--------------------------------\n",
      "Per_of_Nulls   :  % 0.38\n",
      "Num_of_Nulls   :  60\n",
      "Sedans           7903\n",
      "Station wagon    3553\n",
      "Compact          3153\n",
      "Van               783\n",
      "Other             290\n",
      "Transporter        88\n",
      "NaN                60\n",
      "Off-Road           56\n",
      "Coupe              25\n",
      "Convertible         8\n",
      "Name: body_type, dtype: int64\n",
      "******************************\n",
      "\n",
      "\n",
      "\n"
     ]
    }
   ],
   "source": [
    "check_df(\"body_type\")"
   ]
  },
  {
   "cell_type": "code",
   "execution_count": 120,
   "metadata": {
    "ExecuteTime": {
     "end_time": "2022-08-03T09:12:13.301518Z",
     "start_time": "2022-08-03T09:12:13.223448Z"
    }
   },
   "outputs": [
    {
     "data": {
      "text/html": [
       "<div>\n",
       "<style scoped>\n",
       "    .dataframe tbody tr th:only-of-type {\n",
       "        vertical-align: middle;\n",
       "    }\n",
       "\n",
       "    .dataframe tbody tr th {\n",
       "        vertical-align: top;\n",
       "    }\n",
       "\n",
       "    .dataframe thead th {\n",
       "        text-align: right;\n",
       "    }\n",
       "</style>\n",
       "<table border=\"1\" class=\"dataframe\">\n",
       "  <thead>\n",
       "    <tr style=\"text-align: right;\">\n",
       "      <th></th>\n",
       "      <th>body_type</th>\n",
       "      <th>price_€</th>\n",
       "      <th>vat</th>\n",
       "      <th>km</th>\n",
       "      <th>prev_owner</th>\n",
       "      <th>hp_kW</th>\n",
       "      <th>type</th>\n",
       "      <th>previous_owners</th>\n",
       "      <th>warranty</th>\n",
       "      <th>make</th>\n",
       "      <th>model</th>\n",
       "      <th>body_color</th>\n",
       "      <th>paint_type</th>\n",
       "      <th>body_color_original</th>\n",
       "      <th>upholstery</th>\n",
       "      <th>nr_of_doors</th>\n",
       "      <th>nr_of_seats</th>\n",
       "      <th>gearing_type</th>\n",
       "      <th>engine_displacement_cc</th>\n",
       "      <th>cylinders</th>\n",
       "      <th>weight_kg</th>\n",
       "      <th>drive_chain</th>\n",
       "      <th>fuel</th>\n",
       "      <th>co2e_g</th>\n",
       "      <th>emission_class</th>\n",
       "      <th>comfort&amp;convenience</th>\n",
       "      <th>entertainment&amp;media</th>\n",
       "      <th>extras</th>\n",
       "      <th>safety&amp;security</th>\n",
       "      <th>gears</th>\n",
       "      <th>country_version</th>\n",
       "      <th>consumption_comb</th>\n",
       "      <th>consumption_city</th>\n",
       "      <th>consumption_country</th>\n",
       "      <th>age</th>\n",
       "    </tr>\n",
       "  </thead>\n",
       "  <tbody>\n",
       "    <tr>\n",
       "      <th>3175</th>\n",
       "      <td>NaN</td>\n",
       "      <td>14400.000</td>\n",
       "      <td>NaN</td>\n",
       "      <td>119000.000</td>\n",
       "      <td>1.000</td>\n",
       "      <td>81.000</td>\n",
       "      <td>Used</td>\n",
       "      <td>1.000</td>\n",
       "      <td>NaN</td>\n",
       "      <td>Audi</td>\n",
       "      <td>A3</td>\n",
       "      <td>Black</td>\n",
       "      <td>Metallic</td>\n",
       "      <td>NaN</td>\n",
       "      <td>Cloth</td>\n",
       "      <td>5.000</td>\n",
       "      <td>5.000</td>\n",
       "      <td>Manual</td>\n",
       "      <td>1598.000</td>\n",
       "      <td>4.000</td>\n",
       "      <td>1385.000</td>\n",
       "      <td>NaN</td>\n",
       "      <td>Diesel</td>\n",
       "      <td>99.000</td>\n",
       "      <td>Euro 6</td>\n",
       "      <td>Air conditioning,Armrest,Automatic climate con...</td>\n",
       "      <td>Bluetooth,CD player,Hands-free equipment,MP3,O...</td>\n",
       "      <td>Alloy wheels,Sport package,Trailer hitch,Voice...</td>\n",
       "      <td>ABS,Adaptive headlights,Central door lock,Cent...</td>\n",
       "      <td>6.000</td>\n",
       "      <td>NaN</td>\n",
       "      <td>3.800</td>\n",
       "      <td>4.500</td>\n",
       "      <td>3.400</td>\n",
       "      <td>3.000</td>\n",
       "    </tr>\n",
       "    <tr>\n",
       "      <th>3255</th>\n",
       "      <td>NaN</td>\n",
       "      <td>18500.000</td>\n",
       "      <td>Price negotiable</td>\n",
       "      <td>70000.000</td>\n",
       "      <td>NaN</td>\n",
       "      <td>81.000</td>\n",
       "      <td>Used</td>\n",
       "      <td>NaN</td>\n",
       "      <td>NaN</td>\n",
       "      <td>Audi</td>\n",
       "      <td>A3</td>\n",
       "      <td>White</td>\n",
       "      <td>NaN</td>\n",
       "      <td>NaN</td>\n",
       "      <td>Cloth</td>\n",
       "      <td>3.000</td>\n",
       "      <td>5.000</td>\n",
       "      <td>Automatic</td>\n",
       "      <td>1598.000</td>\n",
       "      <td>4.000</td>\n",
       "      <td>1255.000</td>\n",
       "      <td>NaN</td>\n",
       "      <td>Diesel</td>\n",
       "      <td>99.000</td>\n",
       "      <td>Euro 6</td>\n",
       "      <td>Air conditioning,Armrest,Automatic climate con...</td>\n",
       "      <td>Bluetooth,On-board computer,Radio,USB</td>\n",
       "      <td>Alloy wheels,Shift paddles</td>\n",
       "      <td>ABS,Alarm system,Central door lock,Driver-side...</td>\n",
       "      <td>7.000</td>\n",
       "      <td>NaN</td>\n",
       "      <td>3.800</td>\n",
       "      <td>4.300</td>\n",
       "      <td>3.500</td>\n",
       "      <td>3.000</td>\n",
       "    </tr>\n",
       "    <tr>\n",
       "      <th>3975</th>\n",
       "      <td>NaN</td>\n",
       "      <td>19950.000</td>\n",
       "      <td>NaN</td>\n",
       "      <td>25000.000</td>\n",
       "      <td>2.000</td>\n",
       "      <td>85.000</td>\n",
       "      <td>Used</td>\n",
       "      <td>2.000</td>\n",
       "      <td>NaN</td>\n",
       "      <td>Audi</td>\n",
       "      <td>A3</td>\n",
       "      <td>Blue</td>\n",
       "      <td>Metallic</td>\n",
       "      <td>NaN</td>\n",
       "      <td>NaN</td>\n",
       "      <td>5.000</td>\n",
       "      <td>5.000</td>\n",
       "      <td>Automatic</td>\n",
       "      <td>999.000</td>\n",
       "      <td>3.000</td>\n",
       "      <td>1275.000</td>\n",
       "      <td>NaN</td>\n",
       "      <td>Benzine</td>\n",
       "      <td>107.000</td>\n",
       "      <td>Euro 6</td>\n",
       "      <td>Air conditioning,Armrest,Automatic climate con...</td>\n",
       "      <td>Bluetooth,CD player,Digital radio,MP3,On-board...</td>\n",
       "      <td>Alloy wheels,Roof rack,Sport package,Sport sea...</td>\n",
       "      <td>ABS,Adaptive headlights,Central door lock with...</td>\n",
       "      <td>7.000</td>\n",
       "      <td>NaN</td>\n",
       "      <td>4.700</td>\n",
       "      <td>5.600</td>\n",
       "      <td>4.200</td>\n",
       "      <td>2.000</td>\n",
       "    </tr>\n",
       "    <tr>\n",
       "      <th>3997</th>\n",
       "      <td>NaN</td>\n",
       "      <td>19750.000</td>\n",
       "      <td>VAT deductible</td>\n",
       "      <td>38800.000</td>\n",
       "      <td>1.000</td>\n",
       "      <td>82.000</td>\n",
       "      <td>Used</td>\n",
       "      <td>1.000</td>\n",
       "      <td>6.000</td>\n",
       "      <td>Audi</td>\n",
       "      <td>A3</td>\n",
       "      <td>Black</td>\n",
       "      <td>NaN</td>\n",
       "      <td>NOIR</td>\n",
       "      <td>NaN</td>\n",
       "      <td>3.000</td>\n",
       "      <td>NaN</td>\n",
       "      <td>Automatic</td>\n",
       "      <td>1598.000</td>\n",
       "      <td>NaN</td>\n",
       "      <td>NaN</td>\n",
       "      <td>NaN</td>\n",
       "      <td>Diesel</td>\n",
       "      <td>NaN</td>\n",
       "      <td>NaN</td>\n",
       "      <td>Air conditioning,Automatic climate control,Cru...</td>\n",
       "      <td>Bluetooth,On-board computer,Radio</td>\n",
       "      <td>Alloy wheels</td>\n",
       "      <td>ABS,Daytime running lights,Driver-side airbag,...</td>\n",
       "      <td>NaN</td>\n",
       "      <td>NaN</td>\n",
       "      <td>NaN</td>\n",
       "      <td>NaN</td>\n",
       "      <td>NaN</td>\n",
       "      <td>2.000</td>\n",
       "    </tr>\n",
       "    <tr>\n",
       "      <th>4206</th>\n",
       "      <td>NaN</td>\n",
       "      <td>18490.000</td>\n",
       "      <td>NaN</td>\n",
       "      <td>20000.000</td>\n",
       "      <td>NaN</td>\n",
       "      <td>92.000</td>\n",
       "      <td>Used</td>\n",
       "      <td>NaN</td>\n",
       "      <td>NaN</td>\n",
       "      <td>Audi</td>\n",
       "      <td>A3</td>\n",
       "      <td>White</td>\n",
       "      <td>NaN</td>\n",
       "      <td>NaN</td>\n",
       "      <td>NaN</td>\n",
       "      <td>5.000</td>\n",
       "      <td>NaN</td>\n",
       "      <td>Manual</td>\n",
       "      <td>NaN</td>\n",
       "      <td>NaN</td>\n",
       "      <td>NaN</td>\n",
       "      <td>NaN</td>\n",
       "      <td>Benzine</td>\n",
       "      <td>117.000</td>\n",
       "      <td>NaN</td>\n",
       "      <td>Air conditioning</td>\n",
       "      <td>NaN</td>\n",
       "      <td>NaN</td>\n",
       "      <td>ABS,Central door lock,Daytime running lights,D...</td>\n",
       "      <td>NaN</td>\n",
       "      <td>NaN</td>\n",
       "      <td>5.100</td>\n",
       "      <td>6.700</td>\n",
       "      <td>4.100</td>\n",
       "      <td>2.000</td>\n",
       "    </tr>\n",
       "    <tr>\n",
       "      <th>4297</th>\n",
       "      <td>NaN</td>\n",
       "      <td>17990.000</td>\n",
       "      <td>NaN</td>\n",
       "      <td>20000.000</td>\n",
       "      <td>NaN</td>\n",
       "      <td>92.000</td>\n",
       "      <td>Used</td>\n",
       "      <td>NaN</td>\n",
       "      <td>NaN</td>\n",
       "      <td>Audi</td>\n",
       "      <td>A3</td>\n",
       "      <td>White</td>\n",
       "      <td>NaN</td>\n",
       "      <td>NaN</td>\n",
       "      <td>NaN</td>\n",
       "      <td>5.000</td>\n",
       "      <td>NaN</td>\n",
       "      <td>Manual</td>\n",
       "      <td>NaN</td>\n",
       "      <td>NaN</td>\n",
       "      <td>NaN</td>\n",
       "      <td>NaN</td>\n",
       "      <td>Benzine</td>\n",
       "      <td>117.000</td>\n",
       "      <td>NaN</td>\n",
       "      <td>Air conditioning</td>\n",
       "      <td>NaN</td>\n",
       "      <td>NaN</td>\n",
       "      <td>ABS,Central door lock,Daytime running lights,D...</td>\n",
       "      <td>NaN</td>\n",
       "      <td>NaN</td>\n",
       "      <td>5.100</td>\n",
       "      <td>6.700</td>\n",
       "      <td>4.100</td>\n",
       "      <td>2.000</td>\n",
       "    </tr>\n",
       "    <tr>\n",
       "      <th>4298</th>\n",
       "      <td>NaN</td>\n",
       "      <td>17990.000</td>\n",
       "      <td>NaN</td>\n",
       "      <td>20000.000</td>\n",
       "      <td>NaN</td>\n",
       "      <td>92.000</td>\n",
       "      <td>Used</td>\n",
       "      <td>NaN</td>\n",
       "      <td>NaN</td>\n",
       "      <td>Audi</td>\n",
       "      <td>A3</td>\n",
       "      <td>White</td>\n",
       "      <td>NaN</td>\n",
       "      <td>NaN</td>\n",
       "      <td>NaN</td>\n",
       "      <td>5.000</td>\n",
       "      <td>NaN</td>\n",
       "      <td>Manual</td>\n",
       "      <td>NaN</td>\n",
       "      <td>NaN</td>\n",
       "      <td>NaN</td>\n",
       "      <td>NaN</td>\n",
       "      <td>Benzine</td>\n",
       "      <td>117.000</td>\n",
       "      <td>NaN</td>\n",
       "      <td>Air conditioning</td>\n",
       "      <td>NaN</td>\n",
       "      <td>NaN</td>\n",
       "      <td>ABS,Central door lock,Daytime running lights,D...</td>\n",
       "      <td>NaN</td>\n",
       "      <td>NaN</td>\n",
       "      <td>5.100</td>\n",
       "      <td>6.700</td>\n",
       "      <td>4.100</td>\n",
       "      <td>2.000</td>\n",
       "    </tr>\n",
       "    <tr>\n",
       "      <th>5718</th>\n",
       "      <td>NaN</td>\n",
       "      <td>12990.000</td>\n",
       "      <td>NaN</td>\n",
       "      <td>47000.000</td>\n",
       "      <td>NaN</td>\n",
       "      <td>100.000</td>\n",
       "      <td>Used</td>\n",
       "      <td>NaN</td>\n",
       "      <td>NaN</td>\n",
       "      <td>Opel</td>\n",
       "      <td>Astra</td>\n",
       "      <td>Black</td>\n",
       "      <td>NaN</td>\n",
       "      <td>NaN</td>\n",
       "      <td>NaN</td>\n",
       "      <td>5.000</td>\n",
       "      <td>NaN</td>\n",
       "      <td>Automatic</td>\n",
       "      <td>NaN</td>\n",
       "      <td>NaN</td>\n",
       "      <td>NaN</td>\n",
       "      <td>NaN</td>\n",
       "      <td>Diesel</td>\n",
       "      <td>119.000</td>\n",
       "      <td>NaN</td>\n",
       "      <td>Air conditioning,Multi-function steering wheel</td>\n",
       "      <td>NaN</td>\n",
       "      <td>NaN</td>\n",
       "      <td>ABS,Central door lock,Daytime running lights,D...</td>\n",
       "      <td>NaN</td>\n",
       "      <td>NaN</td>\n",
       "      <td>4.500</td>\n",
       "      <td>5.700</td>\n",
       "      <td>3.800</td>\n",
       "      <td>3.000</td>\n",
       "    </tr>\n",
       "    <tr>\n",
       "      <th>5938</th>\n",
       "      <td>NaN</td>\n",
       "      <td>12990.000</td>\n",
       "      <td>NaN</td>\n",
       "      <td>47000.000</td>\n",
       "      <td>NaN</td>\n",
       "      <td>100.000</td>\n",
       "      <td>Used</td>\n",
       "      <td>NaN</td>\n",
       "      <td>NaN</td>\n",
       "      <td>Opel</td>\n",
       "      <td>Astra</td>\n",
       "      <td>Black</td>\n",
       "      <td>NaN</td>\n",
       "      <td>NaN</td>\n",
       "      <td>NaN</td>\n",
       "      <td>5.000</td>\n",
       "      <td>NaN</td>\n",
       "      <td>Automatic</td>\n",
       "      <td>NaN</td>\n",
       "      <td>NaN</td>\n",
       "      <td>NaN</td>\n",
       "      <td>NaN</td>\n",
       "      <td>Diesel</td>\n",
       "      <td>119.000</td>\n",
       "      <td>NaN</td>\n",
       "      <td>Air conditioning,Multi-function steering wheel</td>\n",
       "      <td>NaN</td>\n",
       "      <td>NaN</td>\n",
       "      <td>ABS,Central door lock,Daytime running lights,D...</td>\n",
       "      <td>NaN</td>\n",
       "      <td>NaN</td>\n",
       "      <td>4.500</td>\n",
       "      <td>5.700</td>\n",
       "      <td>3.800</td>\n",
       "      <td>3.000</td>\n",
       "    </tr>\n",
       "    <tr>\n",
       "      <th>5940</th>\n",
       "      <td>NaN</td>\n",
       "      <td>12990.000</td>\n",
       "      <td>NaN</td>\n",
       "      <td>47000.000</td>\n",
       "      <td>NaN</td>\n",
       "      <td>100.000</td>\n",
       "      <td>Used</td>\n",
       "      <td>NaN</td>\n",
       "      <td>NaN</td>\n",
       "      <td>Opel</td>\n",
       "      <td>Astra</td>\n",
       "      <td>Black</td>\n",
       "      <td>NaN</td>\n",
       "      <td>NaN</td>\n",
       "      <td>NaN</td>\n",
       "      <td>5.000</td>\n",
       "      <td>NaN</td>\n",
       "      <td>Automatic</td>\n",
       "      <td>NaN</td>\n",
       "      <td>NaN</td>\n",
       "      <td>NaN</td>\n",
       "      <td>NaN</td>\n",
       "      <td>Diesel</td>\n",
       "      <td>119.000</td>\n",
       "      <td>NaN</td>\n",
       "      <td>Air conditioning,Multi-function steering wheel</td>\n",
       "      <td>NaN</td>\n",
       "      <td>NaN</td>\n",
       "      <td>ABS,Central door lock,Daytime running lights,D...</td>\n",
       "      <td>NaN</td>\n",
       "      <td>NaN</td>\n",
       "      <td>4.500</td>\n",
       "      <td>5.700</td>\n",
       "      <td>3.800</td>\n",
       "      <td>3.000</td>\n",
       "    </tr>\n",
       "    <tr>\n",
       "      <th>6920</th>\n",
       "      <td>NaN</td>\n",
       "      <td>11990.000</td>\n",
       "      <td>NaN</td>\n",
       "      <td>64000.000</td>\n",
       "      <td>NaN</td>\n",
       "      <td>81.000</td>\n",
       "      <td>Used</td>\n",
       "      <td>NaN</td>\n",
       "      <td>NaN</td>\n",
       "      <td>Opel</td>\n",
       "      <td>Astra</td>\n",
       "      <td>Black</td>\n",
       "      <td>NaN</td>\n",
       "      <td>NaN</td>\n",
       "      <td>NaN</td>\n",
       "      <td>5.000</td>\n",
       "      <td>NaN</td>\n",
       "      <td>Manual</td>\n",
       "      <td>NaN</td>\n",
       "      <td>NaN</td>\n",
       "      <td>NaN</td>\n",
       "      <td>NaN</td>\n",
       "      <td>Diesel</td>\n",
       "      <td>97.000</td>\n",
       "      <td>NaN</td>\n",
       "      <td>Air conditioning</td>\n",
       "      <td>NaN</td>\n",
       "      <td>NaN</td>\n",
       "      <td>ABS,Central door lock,Daytime running lights,D...</td>\n",
       "      <td>NaN</td>\n",
       "      <td>NaN</td>\n",
       "      <td>3.700</td>\n",
       "      <td>4.200</td>\n",
       "      <td>3.300</td>\n",
       "      <td>2.000</td>\n",
       "    </tr>\n",
       "    <tr>\n",
       "      <th>6922</th>\n",
       "      <td>NaN</td>\n",
       "      <td>11990.000</td>\n",
       "      <td>NaN</td>\n",
       "      <td>64000.000</td>\n",
       "      <td>NaN</td>\n",
       "      <td>81.000</td>\n",
       "      <td>Used</td>\n",
       "      <td>NaN</td>\n",
       "      <td>NaN</td>\n",
       "      <td>Opel</td>\n",
       "      <td>Astra</td>\n",
       "      <td>Black</td>\n",
       "      <td>NaN</td>\n",
       "      <td>NaN</td>\n",
       "      <td>NaN</td>\n",
       "      <td>5.000</td>\n",
       "      <td>NaN</td>\n",
       "      <td>Manual</td>\n",
       "      <td>NaN</td>\n",
       "      <td>NaN</td>\n",
       "      <td>NaN</td>\n",
       "      <td>NaN</td>\n",
       "      <td>Diesel</td>\n",
       "      <td>97.000</td>\n",
       "      <td>NaN</td>\n",
       "      <td>Air conditioning</td>\n",
       "      <td>NaN</td>\n",
       "      <td>NaN</td>\n",
       "      <td>ABS,Central door lock,Daytime running lights,D...</td>\n",
       "      <td>NaN</td>\n",
       "      <td>NaN</td>\n",
       "      <td>3.700</td>\n",
       "      <td>4.200</td>\n",
       "      <td>3.300</td>\n",
       "      <td>2.000</td>\n",
       "    </tr>\n",
       "    <tr>\n",
       "      <th>6927</th>\n",
       "      <td>NaN</td>\n",
       "      <td>11990.000</td>\n",
       "      <td>NaN</td>\n",
       "      <td>64000.000</td>\n",
       "      <td>NaN</td>\n",
       "      <td>81.000</td>\n",
       "      <td>Used</td>\n",
       "      <td>NaN</td>\n",
       "      <td>NaN</td>\n",
       "      <td>Opel</td>\n",
       "      <td>Astra</td>\n",
       "      <td>Black</td>\n",
       "      <td>NaN</td>\n",
       "      <td>NaN</td>\n",
       "      <td>NaN</td>\n",
       "      <td>5.000</td>\n",
       "      <td>NaN</td>\n",
       "      <td>Manual</td>\n",
       "      <td>NaN</td>\n",
       "      <td>NaN</td>\n",
       "      <td>NaN</td>\n",
       "      <td>NaN</td>\n",
       "      <td>Diesel</td>\n",
       "      <td>97.000</td>\n",
       "      <td>NaN</td>\n",
       "      <td>Air conditioning</td>\n",
       "      <td>NaN</td>\n",
       "      <td>NaN</td>\n",
       "      <td>ABS,Central door lock,Daytime running lights,D...</td>\n",
       "      <td>NaN</td>\n",
       "      <td>NaN</td>\n",
       "      <td>3.700</td>\n",
       "      <td>4.200</td>\n",
       "      <td>3.300</td>\n",
       "      <td>2.000</td>\n",
       "    </tr>\n",
       "    <tr>\n",
       "      <th>7709</th>\n",
       "      <td>NaN</td>\n",
       "      <td>26490.000</td>\n",
       "      <td>NaN</td>\n",
       "      <td>6000.000</td>\n",
       "      <td>NaN</td>\n",
       "      <td>112.000</td>\n",
       "      <td>Used</td>\n",
       "      <td>NaN</td>\n",
       "      <td>NaN</td>\n",
       "      <td>Opel</td>\n",
       "      <td>Astra</td>\n",
       "      <td>Grey</td>\n",
       "      <td>NaN</td>\n",
       "      <td>Gris Cosmique</td>\n",
       "      <td>NaN</td>\n",
       "      <td>5.000</td>\n",
       "      <td>NaN</td>\n",
       "      <td>Automatic</td>\n",
       "      <td>NaN</td>\n",
       "      <td>NaN</td>\n",
       "      <td>NaN</td>\n",
       "      <td>NaN</td>\n",
       "      <td>Benzine</td>\n",
       "      <td>NaN</td>\n",
       "      <td>NaN</td>\n",
       "      <td>NaN</td>\n",
       "      <td>NaN</td>\n",
       "      <td>NaN</td>\n",
       "      <td>NaN</td>\n",
       "      <td>NaN</td>\n",
       "      <td>NaN</td>\n",
       "      <td>NaN</td>\n",
       "      <td>NaN</td>\n",
       "      <td>NaN</td>\n",
       "      <td>0.000</td>\n",
       "    </tr>\n",
       "    <tr>\n",
       "      <th>8408</th>\n",
       "      <td>NaN</td>\n",
       "      <td>12435.000</td>\n",
       "      <td>VAT deductible</td>\n",
       "      <td>21050.000</td>\n",
       "      <td>1.000</td>\n",
       "      <td>44.000</td>\n",
       "      <td>Used</td>\n",
       "      <td>1.000</td>\n",
       "      <td>NaN</td>\n",
       "      <td>Opel</td>\n",
       "      <td>Corsa</td>\n",
       "      <td>White</td>\n",
       "      <td>NaN</td>\n",
       "      <td>SchneeWeiss/SummitWhite/Arctic</td>\n",
       "      <td>Cloth</td>\n",
       "      <td>5.000</td>\n",
       "      <td>5.000</td>\n",
       "      <td>Automatic</td>\n",
       "      <td>1364.000</td>\n",
       "      <td>4.000</td>\n",
       "      <td>NaN</td>\n",
       "      <td>NaN</td>\n",
       "      <td>Benzine</td>\n",
       "      <td>NaN</td>\n",
       "      <td>NaN</td>\n",
       "      <td>Air conditioning,Cruise control,Electrically h...</td>\n",
       "      <td>Bluetooth,CD player,Hands-free equipment,On-bo...</td>\n",
       "      <td>Alloy wheels,Sport seats</td>\n",
       "      <td>ABS,Central door lock,Daytime running lights,D...</td>\n",
       "      <td>5.000</td>\n",
       "      <td>Germany</td>\n",
       "      <td>NaN</td>\n",
       "      <td>NaN</td>\n",
       "      <td>NaN</td>\n",
       "      <td>1.000</td>\n",
       "    </tr>\n",
       "    <tr>\n",
       "      <th>8584</th>\n",
       "      <td>NaN</td>\n",
       "      <td>8900.000</td>\n",
       "      <td>NaN</td>\n",
       "      <td>43731.000</td>\n",
       "      <td>NaN</td>\n",
       "      <td>51.000</td>\n",
       "      <td>Used</td>\n",
       "      <td>NaN</td>\n",
       "      <td>NaN</td>\n",
       "      <td>Opel</td>\n",
       "      <td>Corsa</td>\n",
       "      <td>Black</td>\n",
       "      <td>NaN</td>\n",
       "      <td>NaN</td>\n",
       "      <td>NaN</td>\n",
       "      <td>NaN</td>\n",
       "      <td>NaN</td>\n",
       "      <td>Automatic</td>\n",
       "      <td>NaN</td>\n",
       "      <td>NaN</td>\n",
       "      <td>NaN</td>\n",
       "      <td>NaN</td>\n",
       "      <td>Benzine</td>\n",
       "      <td>NaN</td>\n",
       "      <td>NaN</td>\n",
       "      <td>Air conditioning,Air suspension,Armrest,Automa...</td>\n",
       "      <td>Bluetooth,CD player,Digital radio,Hands-free e...</td>\n",
       "      <td>Alloy wheels,Catalytic Converter,Handicapped e...</td>\n",
       "      <td>ABS,Adaptive Cruise Control,Adaptive headlight...</td>\n",
       "      <td>NaN</td>\n",
       "      <td>NaN</td>\n",
       "      <td>NaN</td>\n",
       "      <td>NaN</td>\n",
       "      <td>NaN</td>\n",
       "      <td>2.000</td>\n",
       "    </tr>\n",
       "    <tr>\n",
       "      <th>10837</th>\n",
       "      <td>NaN</td>\n",
       "      <td>11490.000</td>\n",
       "      <td>NaN</td>\n",
       "      <td>99000.000</td>\n",
       "      <td>NaN</td>\n",
       "      <td>125.000</td>\n",
       "      <td>Used</td>\n",
       "      <td>NaN</td>\n",
       "      <td>NaN</td>\n",
       "      <td>Opel</td>\n",
       "      <td>Insignia</td>\n",
       "      <td>Black</td>\n",
       "      <td>NaN</td>\n",
       "      <td>NaN</td>\n",
       "      <td>NaN</td>\n",
       "      <td>5.000</td>\n",
       "      <td>NaN</td>\n",
       "      <td>Automatic</td>\n",
       "      <td>NaN</td>\n",
       "      <td>NaN</td>\n",
       "      <td>NaN</td>\n",
       "      <td>NaN</td>\n",
       "      <td>Diesel</td>\n",
       "      <td>147.000</td>\n",
       "      <td>NaN</td>\n",
       "      <td>Air conditioning</td>\n",
       "      <td>NaN</td>\n",
       "      <td>NaN</td>\n",
       "      <td>ABS,Central door lock,Daytime running lights,D...</td>\n",
       "      <td>NaN</td>\n",
       "      <td>NaN</td>\n",
       "      <td>5.600</td>\n",
       "      <td>7.800</td>\n",
       "      <td>4.200</td>\n",
       "      <td>2.000</td>\n",
       "    </tr>\n",
       "    <tr>\n",
       "      <th>10838</th>\n",
       "      <td>NaN</td>\n",
       "      <td>11490.000</td>\n",
       "      <td>NaN</td>\n",
       "      <td>99000.000</td>\n",
       "      <td>NaN</td>\n",
       "      <td>125.000</td>\n",
       "      <td>Used</td>\n",
       "      <td>NaN</td>\n",
       "      <td>NaN</td>\n",
       "      <td>Opel</td>\n",
       "      <td>Insignia</td>\n",
       "      <td>Black</td>\n",
       "      <td>NaN</td>\n",
       "      <td>NaN</td>\n",
       "      <td>NaN</td>\n",
       "      <td>5.000</td>\n",
       "      <td>NaN</td>\n",
       "      <td>Automatic</td>\n",
       "      <td>NaN</td>\n",
       "      <td>NaN</td>\n",
       "      <td>NaN</td>\n",
       "      <td>NaN</td>\n",
       "      <td>Diesel</td>\n",
       "      <td>147.000</td>\n",
       "      <td>NaN</td>\n",
       "      <td>Air conditioning</td>\n",
       "      <td>NaN</td>\n",
       "      <td>NaN</td>\n",
       "      <td>ABS,Central door lock,Daytime running lights,D...</td>\n",
       "      <td>NaN</td>\n",
       "      <td>NaN</td>\n",
       "      <td>5.600</td>\n",
       "      <td>7.800</td>\n",
       "      <td>4.200</td>\n",
       "      <td>2.000</td>\n",
       "    </tr>\n",
       "    <tr>\n",
       "      <th>10857</th>\n",
       "      <td>NaN</td>\n",
       "      <td>11490.000</td>\n",
       "      <td>NaN</td>\n",
       "      <td>99000.000</td>\n",
       "      <td>NaN</td>\n",
       "      <td>125.000</td>\n",
       "      <td>Used</td>\n",
       "      <td>NaN</td>\n",
       "      <td>NaN</td>\n",
       "      <td>Opel</td>\n",
       "      <td>Insignia</td>\n",
       "      <td>Black</td>\n",
       "      <td>NaN</td>\n",
       "      <td>NaN</td>\n",
       "      <td>NaN</td>\n",
       "      <td>5.000</td>\n",
       "      <td>NaN</td>\n",
       "      <td>Automatic</td>\n",
       "      <td>NaN</td>\n",
       "      <td>NaN</td>\n",
       "      <td>NaN</td>\n",
       "      <td>NaN</td>\n",
       "      <td>Diesel</td>\n",
       "      <td>147.000</td>\n",
       "      <td>NaN</td>\n",
       "      <td>Air conditioning</td>\n",
       "      <td>NaN</td>\n",
       "      <td>NaN</td>\n",
       "      <td>ABS,Central door lock,Daytime running lights,D...</td>\n",
       "      <td>NaN</td>\n",
       "      <td>NaN</td>\n",
       "      <td>5.600</td>\n",
       "      <td>7.800</td>\n",
       "      <td>4.200</td>\n",
       "      <td>2.000</td>\n",
       "    </tr>\n",
       "    <tr>\n",
       "      <th>13430</th>\n",
       "      <td>NaN</td>\n",
       "      <td>7990.000</td>\n",
       "      <td>VAT deductible</td>\n",
       "      <td>76021.000</td>\n",
       "      <td>NaN</td>\n",
       "      <td>67.000</td>\n",
       "      <td>Used</td>\n",
       "      <td>NaN</td>\n",
       "      <td>NaN</td>\n",
       "      <td>Renault</td>\n",
       "      <td>Clio</td>\n",
       "      <td>White</td>\n",
       "      <td>NaN</td>\n",
       "      <td>BLANC</td>\n",
       "      <td>NaN</td>\n",
       "      <td>5.000</td>\n",
       "      <td>NaN</td>\n",
       "      <td>Manual</td>\n",
       "      <td>1461.000</td>\n",
       "      <td>NaN</td>\n",
       "      <td>NaN</td>\n",
       "      <td>NaN</td>\n",
       "      <td>Diesel</td>\n",
       "      <td>NaN</td>\n",
       "      <td>NaN</td>\n",
       "      <td>Air conditioning,Automatic climate control,Cru...</td>\n",
       "      <td>Bluetooth,Hands-free equipment,On-board computer</td>\n",
       "      <td>Sport package</td>\n",
       "      <td>ABS,Daytime running lights,Driver-side airbag,...</td>\n",
       "      <td>NaN</td>\n",
       "      <td>NaN</td>\n",
       "      <td>NaN</td>\n",
       "      <td>NaN</td>\n",
       "      <td>NaN</td>\n",
       "      <td>3.000</td>\n",
       "    </tr>\n",
       "    <tr>\n",
       "      <th>13470</th>\n",
       "      <td>NaN</td>\n",
       "      <td>8490.000</td>\n",
       "      <td>NaN</td>\n",
       "      <td>39990.000</td>\n",
       "      <td>NaN</td>\n",
       "      <td>55.000</td>\n",
       "      <td>Used</td>\n",
       "      <td>NaN</td>\n",
       "      <td>NaN</td>\n",
       "      <td>Renault</td>\n",
       "      <td>Clio</td>\n",
       "      <td>White</td>\n",
       "      <td>NaN</td>\n",
       "      <td>NaN</td>\n",
       "      <td>NaN</td>\n",
       "      <td>5.000</td>\n",
       "      <td>NaN</td>\n",
       "      <td>Manual</td>\n",
       "      <td>NaN</td>\n",
       "      <td>NaN</td>\n",
       "      <td>NaN</td>\n",
       "      <td>NaN</td>\n",
       "      <td>Benzine</td>\n",
       "      <td>NaN</td>\n",
       "      <td>NaN</td>\n",
       "      <td>Air conditioning,Multi-function steering wheel...</td>\n",
       "      <td>NaN</td>\n",
       "      <td>NaN</td>\n",
       "      <td>ABS,Central door lock,Daytime running lights,D...</td>\n",
       "      <td>NaN</td>\n",
       "      <td>NaN</td>\n",
       "      <td>NaN</td>\n",
       "      <td>NaN</td>\n",
       "      <td>NaN</td>\n",
       "      <td>1.000</td>\n",
       "    </tr>\n",
       "    <tr>\n",
       "      <th>13576</th>\n",
       "      <td>NaN</td>\n",
       "      <td>7980.000</td>\n",
       "      <td>VAT deductible</td>\n",
       "      <td>79980.000</td>\n",
       "      <td>1.000</td>\n",
       "      <td>56.000</td>\n",
       "      <td>Used</td>\n",
       "      <td>1.000</td>\n",
       "      <td>3.000</td>\n",
       "      <td>Renault</td>\n",
       "      <td>Clio</td>\n",
       "      <td>White</td>\n",
       "      <td>NaN</td>\n",
       "      <td>BLANC GLACIER</td>\n",
       "      <td>NaN</td>\n",
       "      <td>5.000</td>\n",
       "      <td>NaN</td>\n",
       "      <td>Manual</td>\n",
       "      <td>1461.000</td>\n",
       "      <td>NaN</td>\n",
       "      <td>NaN</td>\n",
       "      <td>NaN</td>\n",
       "      <td>Diesel</td>\n",
       "      <td>NaN</td>\n",
       "      <td>NaN</td>\n",
       "      <td>Air conditioning,Automatic climate control,Cru...</td>\n",
       "      <td>Bluetooth,Hands-free equipment,On-board computer</td>\n",
       "      <td>Sport package</td>\n",
       "      <td>ABS,Daytime running lights,Driver-side airbag,...</td>\n",
       "      <td>NaN</td>\n",
       "      <td>NaN</td>\n",
       "      <td>NaN</td>\n",
       "      <td>NaN</td>\n",
       "      <td>NaN</td>\n",
       "      <td>3.000</td>\n",
       "    </tr>\n",
       "    <tr>\n",
       "      <th>13703</th>\n",
       "      <td>NaN</td>\n",
       "      <td>7690.000</td>\n",
       "      <td>VAT deductible</td>\n",
       "      <td>63372.000</td>\n",
       "      <td>NaN</td>\n",
       "      <td>56.000</td>\n",
       "      <td>Used</td>\n",
       "      <td>NaN</td>\n",
       "      <td>6.000</td>\n",
       "      <td>Renault</td>\n",
       "      <td>Clio</td>\n",
       "      <td>White</td>\n",
       "      <td>NaN</td>\n",
       "      <td>BLANC</td>\n",
       "      <td>NaN</td>\n",
       "      <td>5.000</td>\n",
       "      <td>NaN</td>\n",
       "      <td>Manual</td>\n",
       "      <td>1461.000</td>\n",
       "      <td>NaN</td>\n",
       "      <td>NaN</td>\n",
       "      <td>NaN</td>\n",
       "      <td>Diesel</td>\n",
       "      <td>NaN</td>\n",
       "      <td>NaN</td>\n",
       "      <td>Air conditioning,Automatic climate control,Cru...</td>\n",
       "      <td>Bluetooth,Hands-free equipment,On-board computer</td>\n",
       "      <td>NaN</td>\n",
       "      <td>ABS,Electronic stability control,Fog lights</td>\n",
       "      <td>NaN</td>\n",
       "      <td>NaN</td>\n",
       "      <td>NaN</td>\n",
       "      <td>NaN</td>\n",
       "      <td>NaN</td>\n",
       "      <td>2.000</td>\n",
       "    </tr>\n",
       "    <tr>\n",
       "      <th>13725</th>\n",
       "      <td>NaN</td>\n",
       "      <td>7490.000</td>\n",
       "      <td>VAT deductible</td>\n",
       "      <td>69031.000</td>\n",
       "      <td>NaN</td>\n",
       "      <td>56.000</td>\n",
       "      <td>Used</td>\n",
       "      <td>NaN</td>\n",
       "      <td>6.000</td>\n",
       "      <td>Renault</td>\n",
       "      <td>Clio</td>\n",
       "      <td>White</td>\n",
       "      <td>NaN</td>\n",
       "      <td>BLANC</td>\n",
       "      <td>NaN</td>\n",
       "      <td>5.000</td>\n",
       "      <td>NaN</td>\n",
       "      <td>Manual</td>\n",
       "      <td>1461.000</td>\n",
       "      <td>NaN</td>\n",
       "      <td>NaN</td>\n",
       "      <td>NaN</td>\n",
       "      <td>Diesel</td>\n",
       "      <td>NaN</td>\n",
       "      <td>NaN</td>\n",
       "      <td>Air conditioning,Automatic climate control,Cru...</td>\n",
       "      <td>Bluetooth,Hands-free equipment,On-board computer</td>\n",
       "      <td>NaN</td>\n",
       "      <td>ABS,Electronic stability control,Fog lights</td>\n",
       "      <td>NaN</td>\n",
       "      <td>NaN</td>\n",
       "      <td>NaN</td>\n",
       "      <td>NaN</td>\n",
       "      <td>NaN</td>\n",
       "      <td>2.000</td>\n",
       "    </tr>\n",
       "    <tr>\n",
       "      <th>13852</th>\n",
       "      <td>NaN</td>\n",
       "      <td>8500.000</td>\n",
       "      <td>NaN</td>\n",
       "      <td>34564.000</td>\n",
       "      <td>NaN</td>\n",
       "      <td>55.000</td>\n",
       "      <td>Used</td>\n",
       "      <td>NaN</td>\n",
       "      <td>NaN</td>\n",
       "      <td>Renault</td>\n",
       "      <td>Clio</td>\n",
       "      <td>White</td>\n",
       "      <td>NaN</td>\n",
       "      <td>Bianco</td>\n",
       "      <td>NaN</td>\n",
       "      <td>5.000</td>\n",
       "      <td>NaN</td>\n",
       "      <td>Manual</td>\n",
       "      <td>1461.000</td>\n",
       "      <td>4.000</td>\n",
       "      <td>NaN</td>\n",
       "      <td>NaN</td>\n",
       "      <td>Diesel</td>\n",
       "      <td>NaN</td>\n",
       "      <td>NaN</td>\n",
       "      <td>NaN</td>\n",
       "      <td>NaN</td>\n",
       "      <td>NaN</td>\n",
       "      <td>ABS,Power steering</td>\n",
       "      <td>NaN</td>\n",
       "      <td>NaN</td>\n",
       "      <td>NaN</td>\n",
       "      <td>NaN</td>\n",
       "      <td>NaN</td>\n",
       "      <td>2.000</td>\n",
       "    </tr>\n",
       "    <tr>\n",
       "      <th>13900</th>\n",
       "      <td>NaN</td>\n",
       "      <td>9490.000</td>\n",
       "      <td>VAT deductible</td>\n",
       "      <td>84496.000</td>\n",
       "      <td>NaN</td>\n",
       "      <td>56.000</td>\n",
       "      <td>Used</td>\n",
       "      <td>NaN</td>\n",
       "      <td>NaN</td>\n",
       "      <td>Renault</td>\n",
       "      <td>Clio</td>\n",
       "      <td>White</td>\n",
       "      <td>NaN</td>\n",
       "      <td>BLANC</td>\n",
       "      <td>NaN</td>\n",
       "      <td>5.000</td>\n",
       "      <td>NaN</td>\n",
       "      <td>Manual</td>\n",
       "      <td>1461.000</td>\n",
       "      <td>NaN</td>\n",
       "      <td>NaN</td>\n",
       "      <td>NaN</td>\n",
       "      <td>Diesel</td>\n",
       "      <td>NaN</td>\n",
       "      <td>NaN</td>\n",
       "      <td>Air conditioning,Automatic climate control,Cru...</td>\n",
       "      <td>Bluetooth,Hands-free equipment,On-board comput...</td>\n",
       "      <td>NaN</td>\n",
       "      <td>ABS,Daytime running lights,Driver-side airbag,...</td>\n",
       "      <td>NaN</td>\n",
       "      <td>NaN</td>\n",
       "      <td>NaN</td>\n",
       "      <td>NaN</td>\n",
       "      <td>NaN</td>\n",
       "      <td>2.000</td>\n",
       "    </tr>\n",
       "    <tr>\n",
       "      <th>14107</th>\n",
       "      <td>NaN</td>\n",
       "      <td>9990.000</td>\n",
       "      <td>NaN</td>\n",
       "      <td>39000.000</td>\n",
       "      <td>NaN</td>\n",
       "      <td>55.000</td>\n",
       "      <td>Used</td>\n",
       "      <td>NaN</td>\n",
       "      <td>NaN</td>\n",
       "      <td>Renault</td>\n",
       "      <td>Clio</td>\n",
       "      <td>White</td>\n",
       "      <td>NaN</td>\n",
       "      <td>NaN</td>\n",
       "      <td>NaN</td>\n",
       "      <td>5.000</td>\n",
       "      <td>NaN</td>\n",
       "      <td>Manual</td>\n",
       "      <td>NaN</td>\n",
       "      <td>NaN</td>\n",
       "      <td>NaN</td>\n",
       "      <td>NaN</td>\n",
       "      <td>Diesel</td>\n",
       "      <td>85.000</td>\n",
       "      <td>NaN</td>\n",
       "      <td>Air conditioning,Power windows</td>\n",
       "      <td>NaN</td>\n",
       "      <td>NaN</td>\n",
       "      <td>ABS,Central door lock,Daytime running lights,D...</td>\n",
       "      <td>NaN</td>\n",
       "      <td>NaN</td>\n",
       "      <td>3.300</td>\n",
       "      <td>3.500</td>\n",
       "      <td>3.100</td>\n",
       "      <td>2.000</td>\n",
       "    </tr>\n",
       "    <tr>\n",
       "      <th>14124</th>\n",
       "      <td>NaN</td>\n",
       "      <td>9990.000</td>\n",
       "      <td>VAT deductible</td>\n",
       "      <td>15.000</td>\n",
       "      <td>1.000</td>\n",
       "      <td>56.000</td>\n",
       "      <td>Used</td>\n",
       "      <td>1.000</td>\n",
       "      <td>NaN</td>\n",
       "      <td>Renault</td>\n",
       "      <td>Clio</td>\n",
       "      <td>White</td>\n",
       "      <td>NaN</td>\n",
       "      <td>BLANCHE</td>\n",
       "      <td>NaN</td>\n",
       "      <td>5.000</td>\n",
       "      <td>NaN</td>\n",
       "      <td>Manual</td>\n",
       "      <td>1461.000</td>\n",
       "      <td>NaN</td>\n",
       "      <td>NaN</td>\n",
       "      <td>NaN</td>\n",
       "      <td>Diesel</td>\n",
       "      <td>NaN</td>\n",
       "      <td>NaN</td>\n",
       "      <td>Air conditioning,Automatic climate control,Cru...</td>\n",
       "      <td>Bluetooth,Hands-free equipment,On-board comput...</td>\n",
       "      <td>Sport package</td>\n",
       "      <td>ABS,Daytime running lights,Driver-side airbag,...</td>\n",
       "      <td>NaN</td>\n",
       "      <td>NaN</td>\n",
       "      <td>NaN</td>\n",
       "      <td>NaN</td>\n",
       "      <td>NaN</td>\n",
       "      <td>1.000</td>\n",
       "    </tr>\n",
       "    <tr>\n",
       "      <th>14127</th>\n",
       "      <td>NaN</td>\n",
       "      <td>9990.000</td>\n",
       "      <td>VAT deductible</td>\n",
       "      <td>15.000</td>\n",
       "      <td>1.000</td>\n",
       "      <td>56.000</td>\n",
       "      <td>Used</td>\n",
       "      <td>1.000</td>\n",
       "      <td>NaN</td>\n",
       "      <td>Renault</td>\n",
       "      <td>Clio</td>\n",
       "      <td>White</td>\n",
       "      <td>NaN</td>\n",
       "      <td>BLANCHE</td>\n",
       "      <td>NaN</td>\n",
       "      <td>5.000</td>\n",
       "      <td>NaN</td>\n",
       "      <td>Manual</td>\n",
       "      <td>1461.000</td>\n",
       "      <td>NaN</td>\n",
       "      <td>NaN</td>\n",
       "      <td>NaN</td>\n",
       "      <td>Diesel</td>\n",
       "      <td>NaN</td>\n",
       "      <td>NaN</td>\n",
       "      <td>Air conditioning,Automatic climate control,Cru...</td>\n",
       "      <td>Bluetooth,Hands-free equipment,On-board comput...</td>\n",
       "      <td>Sport package</td>\n",
       "      <td>ABS,Daytime running lights,Driver-side airbag,...</td>\n",
       "      <td>NaN</td>\n",
       "      <td>NaN</td>\n",
       "      <td>NaN</td>\n",
       "      <td>NaN</td>\n",
       "      <td>NaN</td>\n",
       "      <td>1.000</td>\n",
       "    </tr>\n",
       "    <tr>\n",
       "      <th>14134</th>\n",
       "      <td>NaN</td>\n",
       "      <td>9980.000</td>\n",
       "      <td>VAT deductible</td>\n",
       "      <td>10.000</td>\n",
       "      <td>NaN</td>\n",
       "      <td>56.000</td>\n",
       "      <td>Used</td>\n",
       "      <td>NaN</td>\n",
       "      <td>NaN</td>\n",
       "      <td>Renault</td>\n",
       "      <td>Clio</td>\n",
       "      <td>White</td>\n",
       "      <td>NaN</td>\n",
       "      <td>BLANC GLACIE</td>\n",
       "      <td>NaN</td>\n",
       "      <td>5.000</td>\n",
       "      <td>NaN</td>\n",
       "      <td>Manual</td>\n",
       "      <td>1461.000</td>\n",
       "      <td>NaN</td>\n",
       "      <td>NaN</td>\n",
       "      <td>NaN</td>\n",
       "      <td>Diesel</td>\n",
       "      <td>NaN</td>\n",
       "      <td>NaN</td>\n",
       "      <td>Cruise control,Power windows</td>\n",
       "      <td>On-board computer</td>\n",
       "      <td>Roof rack,Sport package</td>\n",
       "      <td>ABS,Central door lock,Daytime running lights,D...</td>\n",
       "      <td>NaN</td>\n",
       "      <td>NaN</td>\n",
       "      <td>NaN</td>\n",
       "      <td>NaN</td>\n",
       "      <td>NaN</td>\n",
       "      <td>1.000</td>\n",
       "    </tr>\n",
       "    <tr>\n",
       "      <th>14135</th>\n",
       "      <td>NaN</td>\n",
       "      <td>9980.000</td>\n",
       "      <td>VAT deductible</td>\n",
       "      <td>10.000</td>\n",
       "      <td>NaN</td>\n",
       "      <td>56.000</td>\n",
       "      <td>Used</td>\n",
       "      <td>NaN</td>\n",
       "      <td>NaN</td>\n",
       "      <td>Renault</td>\n",
       "      <td>Clio</td>\n",
       "      <td>White</td>\n",
       "      <td>NaN</td>\n",
       "      <td>BLANC GLACIE</td>\n",
       "      <td>NaN</td>\n",
       "      <td>5.000</td>\n",
       "      <td>NaN</td>\n",
       "      <td>Manual</td>\n",
       "      <td>1461.000</td>\n",
       "      <td>NaN</td>\n",
       "      <td>NaN</td>\n",
       "      <td>NaN</td>\n",
       "      <td>Diesel</td>\n",
       "      <td>NaN</td>\n",
       "      <td>NaN</td>\n",
       "      <td>Cruise control,Power windows</td>\n",
       "      <td>On-board computer</td>\n",
       "      <td>Roof rack,Sport package</td>\n",
       "      <td>ABS,Central door lock,Daytime running lights,D...</td>\n",
       "      <td>NaN</td>\n",
       "      <td>NaN</td>\n",
       "      <td>NaN</td>\n",
       "      <td>NaN</td>\n",
       "      <td>NaN</td>\n",
       "      <td>1.000</td>\n",
       "    </tr>\n",
       "    <tr>\n",
       "      <th>14480</th>\n",
       "      <td>NaN</td>\n",
       "      <td>10000.000</td>\n",
       "      <td>NaN</td>\n",
       "      <td>8000.000</td>\n",
       "      <td>NaN</td>\n",
       "      <td>54.000</td>\n",
       "      <td>Used</td>\n",
       "      <td>NaN</td>\n",
       "      <td>NaN</td>\n",
       "      <td>Renault</td>\n",
       "      <td>Clio</td>\n",
       "      <td>Red</td>\n",
       "      <td>NaN</td>\n",
       "      <td>NaN</td>\n",
       "      <td>Cloth</td>\n",
       "      <td>5.000</td>\n",
       "      <td>5.000</td>\n",
       "      <td>Manual</td>\n",
       "      <td>NaN</td>\n",
       "      <td>5.000</td>\n",
       "      <td>1134.000</td>\n",
       "      <td>NaN</td>\n",
       "      <td>Benzine</td>\n",
       "      <td>127.000</td>\n",
       "      <td>Euro 4</td>\n",
       "      <td>Air conditioning,Cruise control,Electrical sid...</td>\n",
       "      <td>Bluetooth,Hands-free equipment,On-board comput...</td>\n",
       "      <td>NaN</td>\n",
       "      <td>ABS,Central door lock,Central door lock with r...</td>\n",
       "      <td>5.000</td>\n",
       "      <td>NaN</td>\n",
       "      <td>5.600</td>\n",
       "      <td>7.200</td>\n",
       "      <td>4.700</td>\n",
       "      <td>1.000</td>\n",
       "    </tr>\n",
       "    <tr>\n",
       "      <th>14869</th>\n",
       "      <td>NaN</td>\n",
       "      <td>10850.000</td>\n",
       "      <td>VAT deductible</td>\n",
       "      <td>10.000</td>\n",
       "      <td>NaN</td>\n",
       "      <td>56.000</td>\n",
       "      <td>New</td>\n",
       "      <td>NaN</td>\n",
       "      <td>NaN</td>\n",
       "      <td>Renault</td>\n",
       "      <td>Clio</td>\n",
       "      <td>Grey</td>\n",
       "      <td>Metallic</td>\n",
       "      <td>titangraumet.</td>\n",
       "      <td>Cloth</td>\n",
       "      <td>5.000</td>\n",
       "      <td>5.000</td>\n",
       "      <td>Manual</td>\n",
       "      <td>898.000</td>\n",
       "      <td>NaN</td>\n",
       "      <td>1165.000</td>\n",
       "      <td>NaN</td>\n",
       "      <td>Benzine</td>\n",
       "      <td>114.000</td>\n",
       "      <td>Euro 6c</td>\n",
       "      <td>Air conditioning,Cruise control,Electrical sid...</td>\n",
       "      <td>Bluetooth,Digital radio,Hands-free equipment,O...</td>\n",
       "      <td>NaN</td>\n",
       "      <td>ABS,Central door lock,Driver-side airbag,Elect...</td>\n",
       "      <td>5.000</td>\n",
       "      <td>NaN</td>\n",
       "      <td>NaN</td>\n",
       "      <td>6.400</td>\n",
       "      <td>4.200</td>\n",
       "      <td>NaN</td>\n",
       "    </tr>\n",
       "    <tr>\n",
       "      <th>14870</th>\n",
       "      <td>NaN</td>\n",
       "      <td>10850.000</td>\n",
       "      <td>VAT deductible</td>\n",
       "      <td>10.000</td>\n",
       "      <td>NaN</td>\n",
       "      <td>56.000</td>\n",
       "      <td>New</td>\n",
       "      <td>NaN</td>\n",
       "      <td>NaN</td>\n",
       "      <td>Renault</td>\n",
       "      <td>Clio</td>\n",
       "      <td>Black</td>\n",
       "      <td>Metallic</td>\n",
       "      <td>schwarzmet.</td>\n",
       "      <td>Cloth</td>\n",
       "      <td>5.000</td>\n",
       "      <td>5.000</td>\n",
       "      <td>Manual</td>\n",
       "      <td>898.000</td>\n",
       "      <td>NaN</td>\n",
       "      <td>1165.000</td>\n",
       "      <td>NaN</td>\n",
       "      <td>Benzine</td>\n",
       "      <td>114.000</td>\n",
       "      <td>Euro 6c</td>\n",
       "      <td>Air conditioning,Cruise control,Electrical sid...</td>\n",
       "      <td>Bluetooth,Hands-free equipment,On-board comput...</td>\n",
       "      <td>NaN</td>\n",
       "      <td>ABS,Central door lock,Driver-side airbag,Elect...</td>\n",
       "      <td>5.000</td>\n",
       "      <td>NaN</td>\n",
       "      <td>NaN</td>\n",
       "      <td>6.400</td>\n",
       "      <td>4.200</td>\n",
       "      <td>NaN</td>\n",
       "    </tr>\n",
       "    <tr>\n",
       "      <th>14928</th>\n",
       "      <td>NaN</td>\n",
       "      <td>17500.000</td>\n",
       "      <td>NaN</td>\n",
       "      <td>141000.000</td>\n",
       "      <td>NaN</td>\n",
       "      <td>118.000</td>\n",
       "      <td>Used</td>\n",
       "      <td>NaN</td>\n",
       "      <td>NaN</td>\n",
       "      <td>Renault</td>\n",
       "      <td>Espace</td>\n",
       "      <td>White</td>\n",
       "      <td>NaN</td>\n",
       "      <td>NaN</td>\n",
       "      <td>NaN</td>\n",
       "      <td>5.000</td>\n",
       "      <td>NaN</td>\n",
       "      <td>Automatic</td>\n",
       "      <td>NaN</td>\n",
       "      <td>NaN</td>\n",
       "      <td>NaN</td>\n",
       "      <td>NaN</td>\n",
       "      <td>Diesel</td>\n",
       "      <td>120.000</td>\n",
       "      <td>NaN</td>\n",
       "      <td>Air conditioning</td>\n",
       "      <td>NaN</td>\n",
       "      <td>NaN</td>\n",
       "      <td>ABS,Central door lock,Daytime running lights,D...</td>\n",
       "      <td>NaN</td>\n",
       "      <td>NaN</td>\n",
       "      <td>4.600</td>\n",
       "      <td>NaN</td>\n",
       "      <td>4.400</td>\n",
       "      <td>3.000</td>\n",
       "    </tr>\n",
       "    <tr>\n",
       "      <th>14990</th>\n",
       "      <td>NaN</td>\n",
       "      <td>26800.000</td>\n",
       "      <td>NaN</td>\n",
       "      <td>332.000</td>\n",
       "      <td>NaN</td>\n",
       "      <td>165.000</td>\n",
       "      <td>Used</td>\n",
       "      <td>NaN</td>\n",
       "      <td>NaN</td>\n",
       "      <td>Renault</td>\n",
       "      <td>Espace</td>\n",
       "      <td>Grey</td>\n",
       "      <td>NaN</td>\n",
       "      <td>Gris Cassiopée</td>\n",
       "      <td>NaN</td>\n",
       "      <td>5.000</td>\n",
       "      <td>NaN</td>\n",
       "      <td>Automatic</td>\n",
       "      <td>1798.000</td>\n",
       "      <td>4.000</td>\n",
       "      <td>NaN</td>\n",
       "      <td>NaN</td>\n",
       "      <td>Benzine</td>\n",
       "      <td>152.000</td>\n",
       "      <td>NaN</td>\n",
       "      <td>NaN</td>\n",
       "      <td>NaN</td>\n",
       "      <td>NaN</td>\n",
       "      <td>NaN</td>\n",
       "      <td>7.000</td>\n",
       "      <td>NaN</td>\n",
       "      <td>6.800</td>\n",
       "      <td>8.700</td>\n",
       "      <td>5.600</td>\n",
       "      <td>1.000</td>\n",
       "    </tr>\n",
       "    <tr>\n",
       "      <th>15058</th>\n",
       "      <td>NaN</td>\n",
       "      <td>24990.000</td>\n",
       "      <td>NaN</td>\n",
       "      <td>45000.000</td>\n",
       "      <td>NaN</td>\n",
       "      <td>118.000</td>\n",
       "      <td>Used</td>\n",
       "      <td>NaN</td>\n",
       "      <td>NaN</td>\n",
       "      <td>Renault</td>\n",
       "      <td>Espace</td>\n",
       "      <td>White</td>\n",
       "      <td>NaN</td>\n",
       "      <td>NaN</td>\n",
       "      <td>NaN</td>\n",
       "      <td>5.000</td>\n",
       "      <td>NaN</td>\n",
       "      <td>Automatic</td>\n",
       "      <td>NaN</td>\n",
       "      <td>NaN</td>\n",
       "      <td>NaN</td>\n",
       "      <td>NaN</td>\n",
       "      <td>Diesel</td>\n",
       "      <td>120.000</td>\n",
       "      <td>NaN</td>\n",
       "      <td>Air conditioning</td>\n",
       "      <td>NaN</td>\n",
       "      <td>NaN</td>\n",
       "      <td>ABS,Central door lock,Daytime running lights,D...</td>\n",
       "      <td>NaN</td>\n",
       "      <td>NaN</td>\n",
       "      <td>4.600</td>\n",
       "      <td>NaN</td>\n",
       "      <td>4.400</td>\n",
       "      <td>2.000</td>\n",
       "    </tr>\n",
       "    <tr>\n",
       "      <th>15059</th>\n",
       "      <td>NaN</td>\n",
       "      <td>24990.000</td>\n",
       "      <td>NaN</td>\n",
       "      <td>45000.000</td>\n",
       "      <td>NaN</td>\n",
       "      <td>118.000</td>\n",
       "      <td>Used</td>\n",
       "      <td>NaN</td>\n",
       "      <td>NaN</td>\n",
       "      <td>Renault</td>\n",
       "      <td>Espace</td>\n",
       "      <td>White</td>\n",
       "      <td>NaN</td>\n",
       "      <td>NaN</td>\n",
       "      <td>NaN</td>\n",
       "      <td>5.000</td>\n",
       "      <td>NaN</td>\n",
       "      <td>Automatic</td>\n",
       "      <td>NaN</td>\n",
       "      <td>NaN</td>\n",
       "      <td>NaN</td>\n",
       "      <td>NaN</td>\n",
       "      <td>Diesel</td>\n",
       "      <td>120.000</td>\n",
       "      <td>NaN</td>\n",
       "      <td>Air conditioning</td>\n",
       "      <td>NaN</td>\n",
       "      <td>NaN</td>\n",
       "      <td>ABS,Central door lock,Daytime running lights,D...</td>\n",
       "      <td>NaN</td>\n",
       "      <td>NaN</td>\n",
       "      <td>4.600</td>\n",
       "      <td>NaN</td>\n",
       "      <td>4.400</td>\n",
       "      <td>2.000</td>\n",
       "    </tr>\n",
       "    <tr>\n",
       "      <th>15060</th>\n",
       "      <td>NaN</td>\n",
       "      <td>24990.000</td>\n",
       "      <td>NaN</td>\n",
       "      <td>45000.000</td>\n",
       "      <td>NaN</td>\n",
       "      <td>118.000</td>\n",
       "      <td>Used</td>\n",
       "      <td>NaN</td>\n",
       "      <td>NaN</td>\n",
       "      <td>Renault</td>\n",
       "      <td>Espace</td>\n",
       "      <td>White</td>\n",
       "      <td>NaN</td>\n",
       "      <td>NaN</td>\n",
       "      <td>NaN</td>\n",
       "      <td>5.000</td>\n",
       "      <td>NaN</td>\n",
       "      <td>Automatic</td>\n",
       "      <td>NaN</td>\n",
       "      <td>NaN</td>\n",
       "      <td>NaN</td>\n",
       "      <td>NaN</td>\n",
       "      <td>Diesel</td>\n",
       "      <td>120.000</td>\n",
       "      <td>NaN</td>\n",
       "      <td>Air conditioning</td>\n",
       "      <td>NaN</td>\n",
       "      <td>NaN</td>\n",
       "      <td>ABS,Central door lock,Daytime running lights,D...</td>\n",
       "      <td>NaN</td>\n",
       "      <td>NaN</td>\n",
       "      <td>4.600</td>\n",
       "      <td>NaN</td>\n",
       "      <td>4.400</td>\n",
       "      <td>2.000</td>\n",
       "    </tr>\n",
       "    <tr>\n",
       "      <th>15124</th>\n",
       "      <td>NaN</td>\n",
       "      <td>24500.000</td>\n",
       "      <td>NaN</td>\n",
       "      <td>58078.000</td>\n",
       "      <td>NaN</td>\n",
       "      <td>118.000</td>\n",
       "      <td>Used</td>\n",
       "      <td>NaN</td>\n",
       "      <td>NaN</td>\n",
       "      <td>Renault</td>\n",
       "      <td>Espace</td>\n",
       "      <td>Grey</td>\n",
       "      <td>NaN</td>\n",
       "      <td>Gris Cassiopée</td>\n",
       "      <td>NaN</td>\n",
       "      <td>5.000</td>\n",
       "      <td>NaN</td>\n",
       "      <td>Automatic</td>\n",
       "      <td>1598.000</td>\n",
       "      <td>4.000</td>\n",
       "      <td>NaN</td>\n",
       "      <td>NaN</td>\n",
       "      <td>Diesel</td>\n",
       "      <td>120.000</td>\n",
       "      <td>NaN</td>\n",
       "      <td>NaN</td>\n",
       "      <td>NaN</td>\n",
       "      <td>NaN</td>\n",
       "      <td>NaN</td>\n",
       "      <td>6.000</td>\n",
       "      <td>NaN</td>\n",
       "      <td>4.600</td>\n",
       "      <td>NaN</td>\n",
       "      <td>4.400</td>\n",
       "      <td>3.000</td>\n",
       "    </tr>\n",
       "    <tr>\n",
       "      <th>15269</th>\n",
       "      <td>NaN</td>\n",
       "      <td>17500.000</td>\n",
       "      <td>NaN</td>\n",
       "      <td>141000.000</td>\n",
       "      <td>NaN</td>\n",
       "      <td>118.000</td>\n",
       "      <td>Used</td>\n",
       "      <td>NaN</td>\n",
       "      <td>NaN</td>\n",
       "      <td>Renault</td>\n",
       "      <td>Espace</td>\n",
       "      <td>White</td>\n",
       "      <td>NaN</td>\n",
       "      <td>NaN</td>\n",
       "      <td>NaN</td>\n",
       "      <td>5.000</td>\n",
       "      <td>NaN</td>\n",
       "      <td>Automatic</td>\n",
       "      <td>NaN</td>\n",
       "      <td>NaN</td>\n",
       "      <td>NaN</td>\n",
       "      <td>NaN</td>\n",
       "      <td>Diesel</td>\n",
       "      <td>120.000</td>\n",
       "      <td>NaN</td>\n",
       "      <td>Air conditioning</td>\n",
       "      <td>NaN</td>\n",
       "      <td>NaN</td>\n",
       "      <td>ABS,Central door lock,Daytime running lights,D...</td>\n",
       "      <td>NaN</td>\n",
       "      <td>NaN</td>\n",
       "      <td>4.600</td>\n",
       "      <td>NaN</td>\n",
       "      <td>4.400</td>\n",
       "      <td>3.000</td>\n",
       "    </tr>\n",
       "    <tr>\n",
       "      <th>15275</th>\n",
       "      <td>NaN</td>\n",
       "      <td>17500.000</td>\n",
       "      <td>NaN</td>\n",
       "      <td>141000.000</td>\n",
       "      <td>NaN</td>\n",
       "      <td>118.000</td>\n",
       "      <td>Used</td>\n",
       "      <td>NaN</td>\n",
       "      <td>NaN</td>\n",
       "      <td>Renault</td>\n",
       "      <td>Espace</td>\n",
       "      <td>White</td>\n",
       "      <td>NaN</td>\n",
       "      <td>NaN</td>\n",
       "      <td>NaN</td>\n",
       "      <td>5.000</td>\n",
       "      <td>NaN</td>\n",
       "      <td>Automatic</td>\n",
       "      <td>NaN</td>\n",
       "      <td>NaN</td>\n",
       "      <td>NaN</td>\n",
       "      <td>NaN</td>\n",
       "      <td>Diesel</td>\n",
       "      <td>120.000</td>\n",
       "      <td>NaN</td>\n",
       "      <td>Air conditioning</td>\n",
       "      <td>NaN</td>\n",
       "      <td>NaN</td>\n",
       "      <td>ABS,Central door lock,Daytime running lights,D...</td>\n",
       "      <td>NaN</td>\n",
       "      <td>NaN</td>\n",
       "      <td>4.600</td>\n",
       "      <td>NaN</td>\n",
       "      <td>4.400</td>\n",
       "      <td>3.000</td>\n",
       "    </tr>\n",
       "    <tr>\n",
       "      <th>15289</th>\n",
       "      <td>NaN</td>\n",
       "      <td>28140.000</td>\n",
       "      <td>NaN</td>\n",
       "      <td>10.000</td>\n",
       "      <td>NaN</td>\n",
       "      <td>96.000</td>\n",
       "      <td>Used</td>\n",
       "      <td>NaN</td>\n",
       "      <td>NaN</td>\n",
       "      <td>Renault</td>\n",
       "      <td>Espace</td>\n",
       "      <td>Grey</td>\n",
       "      <td>NaN</td>\n",
       "      <td>Gris</td>\n",
       "      <td>NaN</td>\n",
       "      <td>5.000</td>\n",
       "      <td>NaN</td>\n",
       "      <td>Manual</td>\n",
       "      <td>1598.000</td>\n",
       "      <td>4.000</td>\n",
       "      <td>NaN</td>\n",
       "      <td>NaN</td>\n",
       "      <td>Diesel</td>\n",
       "      <td>116.000</td>\n",
       "      <td>NaN</td>\n",
       "      <td>NaN</td>\n",
       "      <td>NaN</td>\n",
       "      <td>NaN</td>\n",
       "      <td>NaN</td>\n",
       "      <td>6.000</td>\n",
       "      <td>NaN</td>\n",
       "      <td>4.400</td>\n",
       "      <td>5.100</td>\n",
       "      <td>NaN</td>\n",
       "      <td>NaN</td>\n",
       "    </tr>\n",
       "    <tr>\n",
       "      <th>15307</th>\n",
       "      <td>NaN</td>\n",
       "      <td>31000.000</td>\n",
       "      <td>NaN</td>\n",
       "      <td>10.000</td>\n",
       "      <td>NaN</td>\n",
       "      <td>96.000</td>\n",
       "      <td>Used</td>\n",
       "      <td>NaN</td>\n",
       "      <td>NaN</td>\n",
       "      <td>Renault</td>\n",
       "      <td>Espace</td>\n",
       "      <td>Grey</td>\n",
       "      <td>NaN</td>\n",
       "      <td>Gris</td>\n",
       "      <td>NaN</td>\n",
       "      <td>5.000</td>\n",
       "      <td>NaN</td>\n",
       "      <td>Manual</td>\n",
       "      <td>1598.000</td>\n",
       "      <td>4.000</td>\n",
       "      <td>NaN</td>\n",
       "      <td>NaN</td>\n",
       "      <td>Diesel</td>\n",
       "      <td>116.000</td>\n",
       "      <td>NaN</td>\n",
       "      <td>NaN</td>\n",
       "      <td>NaN</td>\n",
       "      <td>NaN</td>\n",
       "      <td>NaN</td>\n",
       "      <td>6.000</td>\n",
       "      <td>NaN</td>\n",
       "      <td>4.400</td>\n",
       "      <td>5.100</td>\n",
       "      <td>NaN</td>\n",
       "      <td>NaN</td>\n",
       "    </tr>\n",
       "    <tr>\n",
       "      <th>15378</th>\n",
       "      <td>NaN</td>\n",
       "      <td>26450.000</td>\n",
       "      <td>NaN</td>\n",
       "      <td>10.000</td>\n",
       "      <td>NaN</td>\n",
       "      <td>96.000</td>\n",
       "      <td>Used</td>\n",
       "      <td>NaN</td>\n",
       "      <td>NaN</td>\n",
       "      <td>Renault</td>\n",
       "      <td>Espace</td>\n",
       "      <td>Grey</td>\n",
       "      <td>NaN</td>\n",
       "      <td>Gris</td>\n",
       "      <td>NaN</td>\n",
       "      <td>5.000</td>\n",
       "      <td>NaN</td>\n",
       "      <td>Manual</td>\n",
       "      <td>1598.000</td>\n",
       "      <td>4.000</td>\n",
       "      <td>NaN</td>\n",
       "      <td>NaN</td>\n",
       "      <td>Diesel</td>\n",
       "      <td>116.000</td>\n",
       "      <td>NaN</td>\n",
       "      <td>NaN</td>\n",
       "      <td>NaN</td>\n",
       "      <td>NaN</td>\n",
       "      <td>NaN</td>\n",
       "      <td>6.000</td>\n",
       "      <td>NaN</td>\n",
       "      <td>4.400</td>\n",
       "      <td>5.100</td>\n",
       "      <td>NaN</td>\n",
       "      <td>NaN</td>\n",
       "    </tr>\n",
       "    <tr>\n",
       "      <th>15437</th>\n",
       "      <td>NaN</td>\n",
       "      <td>33000.000</td>\n",
       "      <td>VAT deductible</td>\n",
       "      <td>NaN</td>\n",
       "      <td>NaN</td>\n",
       "      <td>118.000</td>\n",
       "      <td>Pre-registered</td>\n",
       "      <td>NaN</td>\n",
       "      <td>NaN</td>\n",
       "      <td>Renault</td>\n",
       "      <td>Espace</td>\n",
       "      <td>Black</td>\n",
       "      <td>Metallic</td>\n",
       "      <td>Nero</td>\n",
       "      <td>NaN</td>\n",
       "      <td>5.000</td>\n",
       "      <td>7.000</td>\n",
       "      <td>Automatic</td>\n",
       "      <td>1598.000</td>\n",
       "      <td>4.000</td>\n",
       "      <td>NaN</td>\n",
       "      <td>NaN</td>\n",
       "      <td>Diesel</td>\n",
       "      <td>123.000</td>\n",
       "      <td>Euro 6</td>\n",
       "      <td>Air conditioning,Automatic climate control,Cru...</td>\n",
       "      <td>Digital radio,Radio,USB</td>\n",
       "      <td>Touch screen</td>\n",
       "      <td>ABS,Alarm system,Driver-side airbag,Electronic...</td>\n",
       "      <td>6.000</td>\n",
       "      <td>NaN</td>\n",
       "      <td>4.700</td>\n",
       "      <td>5.100</td>\n",
       "      <td>4.400</td>\n",
       "      <td>1.000</td>\n",
       "    </tr>\n",
       "    <tr>\n",
       "      <th>15452</th>\n",
       "      <td>NaN</td>\n",
       "      <td>33300.000</td>\n",
       "      <td>NaN</td>\n",
       "      <td>10.000</td>\n",
       "      <td>NaN</td>\n",
       "      <td>118.000</td>\n",
       "      <td>Used</td>\n",
       "      <td>NaN</td>\n",
       "      <td>NaN</td>\n",
       "      <td>Renault</td>\n",
       "      <td>Espace</td>\n",
       "      <td>Grey</td>\n",
       "      <td>NaN</td>\n",
       "      <td>Gris</td>\n",
       "      <td>NaN</td>\n",
       "      <td>5.000</td>\n",
       "      <td>NaN</td>\n",
       "      <td>Automatic</td>\n",
       "      <td>1598.000</td>\n",
       "      <td>4.000</td>\n",
       "      <td>NaN</td>\n",
       "      <td>NaN</td>\n",
       "      <td>Diesel</td>\n",
       "      <td>120.000</td>\n",
       "      <td>NaN</td>\n",
       "      <td>NaN</td>\n",
       "      <td>NaN</td>\n",
       "      <td>NaN</td>\n",
       "      <td>NaN</td>\n",
       "      <td>6.000</td>\n",
       "      <td>NaN</td>\n",
       "      <td>4.600</td>\n",
       "      <td>NaN</td>\n",
       "      <td>4.400</td>\n",
       "      <td>NaN</td>\n",
       "    </tr>\n",
       "    <tr>\n",
       "      <th>15456</th>\n",
       "      <td>NaN</td>\n",
       "      <td>33400.000</td>\n",
       "      <td>NaN</td>\n",
       "      <td>886.000</td>\n",
       "      <td>NaN</td>\n",
       "      <td>118.000</td>\n",
       "      <td>Used</td>\n",
       "      <td>NaN</td>\n",
       "      <td>NaN</td>\n",
       "      <td>Renault</td>\n",
       "      <td>Espace</td>\n",
       "      <td>Black</td>\n",
       "      <td>NaN</td>\n",
       "      <td>Noir Etoilé</td>\n",
       "      <td>NaN</td>\n",
       "      <td>5.000</td>\n",
       "      <td>NaN</td>\n",
       "      <td>Automatic</td>\n",
       "      <td>1598.000</td>\n",
       "      <td>4.000</td>\n",
       "      <td>NaN</td>\n",
       "      <td>NaN</td>\n",
       "      <td>Diesel</td>\n",
       "      <td>120.000</td>\n",
       "      <td>NaN</td>\n",
       "      <td>NaN</td>\n",
       "      <td>NaN</td>\n",
       "      <td>NaN</td>\n",
       "      <td>NaN</td>\n",
       "      <td>6.000</td>\n",
       "      <td>NaN</td>\n",
       "      <td>4.600</td>\n",
       "      <td>NaN</td>\n",
       "      <td>4.400</td>\n",
       "      <td>1.000</td>\n",
       "    </tr>\n",
       "    <tr>\n",
       "      <th>15457</th>\n",
       "      <td>NaN</td>\n",
       "      <td>33400.000</td>\n",
       "      <td>NaN</td>\n",
       "      <td>454.000</td>\n",
       "      <td>NaN</td>\n",
       "      <td>118.000</td>\n",
       "      <td>Used</td>\n",
       "      <td>NaN</td>\n",
       "      <td>NaN</td>\n",
       "      <td>Renault</td>\n",
       "      <td>Espace</td>\n",
       "      <td>White</td>\n",
       "      <td>NaN</td>\n",
       "      <td>Blanc Nacré</td>\n",
       "      <td>NaN</td>\n",
       "      <td>5.000</td>\n",
       "      <td>NaN</td>\n",
       "      <td>Automatic</td>\n",
       "      <td>1598.000</td>\n",
       "      <td>4.000</td>\n",
       "      <td>NaN</td>\n",
       "      <td>NaN</td>\n",
       "      <td>Diesel</td>\n",
       "      <td>120.000</td>\n",
       "      <td>NaN</td>\n",
       "      <td>NaN</td>\n",
       "      <td>NaN</td>\n",
       "      <td>NaN</td>\n",
       "      <td>NaN</td>\n",
       "      <td>6.000</td>\n",
       "      <td>NaN</td>\n",
       "      <td>4.600</td>\n",
       "      <td>NaN</td>\n",
       "      <td>4.400</td>\n",
       "      <td>1.000</td>\n",
       "    </tr>\n",
       "    <tr>\n",
       "      <th>15488</th>\n",
       "      <td>NaN</td>\n",
       "      <td>32600.000</td>\n",
       "      <td>NaN</td>\n",
       "      <td>10.000</td>\n",
       "      <td>NaN</td>\n",
       "      <td>165.000</td>\n",
       "      <td>Used</td>\n",
       "      <td>NaN</td>\n",
       "      <td>NaN</td>\n",
       "      <td>Renault</td>\n",
       "      <td>Espace</td>\n",
       "      <td>Grey</td>\n",
       "      <td>NaN</td>\n",
       "      <td>Gris</td>\n",
       "      <td>NaN</td>\n",
       "      <td>5.000</td>\n",
       "      <td>NaN</td>\n",
       "      <td>Automatic</td>\n",
       "      <td>1798.000</td>\n",
       "      <td>4.000</td>\n",
       "      <td>NaN</td>\n",
       "      <td>NaN</td>\n",
       "      <td>Benzine</td>\n",
       "      <td>NaN</td>\n",
       "      <td>NaN</td>\n",
       "      <td>NaN</td>\n",
       "      <td>NaN</td>\n",
       "      <td>NaN</td>\n",
       "      <td>NaN</td>\n",
       "      <td>7.000</td>\n",
       "      <td>NaN</td>\n",
       "      <td>NaN</td>\n",
       "      <td>NaN</td>\n",
       "      <td>NaN</td>\n",
       "      <td>NaN</td>\n",
       "    </tr>\n",
       "    <tr>\n",
       "      <th>15489</th>\n",
       "      <td>NaN</td>\n",
       "      <td>32576.000</td>\n",
       "      <td>VAT deductible</td>\n",
       "      <td>10100.000</td>\n",
       "      <td>1.000</td>\n",
       "      <td>118.000</td>\n",
       "      <td>Used</td>\n",
       "      <td>1.000</td>\n",
       "      <td>NaN</td>\n",
       "      <td>Renault</td>\n",
       "      <td>Espace</td>\n",
       "      <td>Black</td>\n",
       "      <td>Metallic</td>\n",
       "      <td>NaN</td>\n",
       "      <td>Full leather</td>\n",
       "      <td>5.000</td>\n",
       "      <td>7.000</td>\n",
       "      <td>Automatic</td>\n",
       "      <td>1598.000</td>\n",
       "      <td>4.000</td>\n",
       "      <td>1734.000</td>\n",
       "      <td>front</td>\n",
       "      <td>Diesel</td>\n",
       "      <td>120.000</td>\n",
       "      <td>NaN</td>\n",
       "      <td>Air conditioning,Armrest,Automatic climate con...</td>\n",
       "      <td>Bluetooth,Digital radio,MP3,On-board computer,...</td>\n",
       "      <td>Alloy wheels,Touch screen,Voice Control</td>\n",
       "      <td>ABS,Adaptive Cruise Control,Blind spot monitor...</td>\n",
       "      <td>6.000</td>\n",
       "      <td>NaN</td>\n",
       "      <td>4.600</td>\n",
       "      <td>NaN</td>\n",
       "      <td>4.400</td>\n",
       "      <td>1.000</td>\n",
       "    </tr>\n",
       "    <tr>\n",
       "      <th>15491</th>\n",
       "      <td>NaN</td>\n",
       "      <td>32576.000</td>\n",
       "      <td>VAT deductible</td>\n",
       "      <td>10100.000</td>\n",
       "      <td>1.000</td>\n",
       "      <td>118.000</td>\n",
       "      <td>Used</td>\n",
       "      <td>1.000</td>\n",
       "      <td>NaN</td>\n",
       "      <td>Renault</td>\n",
       "      <td>Espace</td>\n",
       "      <td>Black</td>\n",
       "      <td>Metallic</td>\n",
       "      <td>NaN</td>\n",
       "      <td>Full leather</td>\n",
       "      <td>5.000</td>\n",
       "      <td>7.000</td>\n",
       "      <td>Automatic</td>\n",
       "      <td>1598.000</td>\n",
       "      <td>4.000</td>\n",
       "      <td>1734.000</td>\n",
       "      <td>front</td>\n",
       "      <td>Diesel</td>\n",
       "      <td>120.000</td>\n",
       "      <td>NaN</td>\n",
       "      <td>Air conditioning,Armrest,Automatic climate con...</td>\n",
       "      <td>Bluetooth,Digital radio,MP3,On-board computer,...</td>\n",
       "      <td>Alloy wheels,Touch screen,Voice Control</td>\n",
       "      <td>ABS,Adaptive Cruise Control,Blind spot monitor...</td>\n",
       "      <td>6.000</td>\n",
       "      <td>NaN</td>\n",
       "      <td>4.600</td>\n",
       "      <td>NaN</td>\n",
       "      <td>4.400</td>\n",
       "      <td>1.000</td>\n",
       "    </tr>\n",
       "    <tr>\n",
       "      <th>15499</th>\n",
       "      <td>NaN</td>\n",
       "      <td>32200.000</td>\n",
       "      <td>NaN</td>\n",
       "      <td>10.000</td>\n",
       "      <td>NaN</td>\n",
       "      <td>165.000</td>\n",
       "      <td>Used</td>\n",
       "      <td>NaN</td>\n",
       "      <td>NaN</td>\n",
       "      <td>Renault</td>\n",
       "      <td>Espace</td>\n",
       "      <td>Grey</td>\n",
       "      <td>NaN</td>\n",
       "      <td>Gris</td>\n",
       "      <td>NaN</td>\n",
       "      <td>5.000</td>\n",
       "      <td>NaN</td>\n",
       "      <td>Automatic</td>\n",
       "      <td>1798.000</td>\n",
       "      <td>4.000</td>\n",
       "      <td>NaN</td>\n",
       "      <td>NaN</td>\n",
       "      <td>Benzine</td>\n",
       "      <td>NaN</td>\n",
       "      <td>NaN</td>\n",
       "      <td>NaN</td>\n",
       "      <td>NaN</td>\n",
       "      <td>NaN</td>\n",
       "      <td>NaN</td>\n",
       "      <td>7.000</td>\n",
       "      <td>NaN</td>\n",
       "      <td>NaN</td>\n",
       "      <td>NaN</td>\n",
       "      <td>NaN</td>\n",
       "      <td>NaN</td>\n",
       "    </tr>\n",
       "    <tr>\n",
       "      <th>15544</th>\n",
       "      <td>NaN</td>\n",
       "      <td>29750.000</td>\n",
       "      <td>NaN</td>\n",
       "      <td>10.000</td>\n",
       "      <td>NaN</td>\n",
       "      <td>165.000</td>\n",
       "      <td>Used</td>\n",
       "      <td>NaN</td>\n",
       "      <td>NaN</td>\n",
       "      <td>Renault</td>\n",
       "      <td>Espace</td>\n",
       "      <td>Grey</td>\n",
       "      <td>NaN</td>\n",
       "      <td>Gris</td>\n",
       "      <td>NaN</td>\n",
       "      <td>5.000</td>\n",
       "      <td>NaN</td>\n",
       "      <td>Automatic</td>\n",
       "      <td>1798.000</td>\n",
       "      <td>4.000</td>\n",
       "      <td>NaN</td>\n",
       "      <td>NaN</td>\n",
       "      <td>Benzine</td>\n",
       "      <td>NaN</td>\n",
       "      <td>NaN</td>\n",
       "      <td>NaN</td>\n",
       "      <td>NaN</td>\n",
       "      <td>NaN</td>\n",
       "      <td>NaN</td>\n",
       "      <td>7.000</td>\n",
       "      <td>NaN</td>\n",
       "      <td>NaN</td>\n",
       "      <td>NaN</td>\n",
       "      <td>NaN</td>\n",
       "      <td>NaN</td>\n",
       "    </tr>\n",
       "    <tr>\n",
       "      <th>15556</th>\n",
       "      <td>NaN</td>\n",
       "      <td>30160.000</td>\n",
       "      <td>NaN</td>\n",
       "      <td>10.000</td>\n",
       "      <td>NaN</td>\n",
       "      <td>118.000</td>\n",
       "      <td>Used</td>\n",
       "      <td>NaN</td>\n",
       "      <td>NaN</td>\n",
       "      <td>Renault</td>\n",
       "      <td>Espace</td>\n",
       "      <td>Grey</td>\n",
       "      <td>NaN</td>\n",
       "      <td>Gris</td>\n",
       "      <td>NaN</td>\n",
       "      <td>5.000</td>\n",
       "      <td>NaN</td>\n",
       "      <td>Automatic</td>\n",
       "      <td>1598.000</td>\n",
       "      <td>4.000</td>\n",
       "      <td>NaN</td>\n",
       "      <td>NaN</td>\n",
       "      <td>Diesel</td>\n",
       "      <td>120.000</td>\n",
       "      <td>NaN</td>\n",
       "      <td>NaN</td>\n",
       "      <td>NaN</td>\n",
       "      <td>NaN</td>\n",
       "      <td>NaN</td>\n",
       "      <td>6.000</td>\n",
       "      <td>NaN</td>\n",
       "      <td>4.600</td>\n",
       "      <td>NaN</td>\n",
       "      <td>4.400</td>\n",
       "      <td>NaN</td>\n",
       "    </tr>\n",
       "    <tr>\n",
       "      <th>15589</th>\n",
       "      <td>NaN</td>\n",
       "      <td>31000.000</td>\n",
       "      <td>VAT deductible</td>\n",
       "      <td>NaN</td>\n",
       "      <td>NaN</td>\n",
       "      <td>118.000</td>\n",
       "      <td>Pre-registered</td>\n",
       "      <td>NaN</td>\n",
       "      <td>NaN</td>\n",
       "      <td>Renault</td>\n",
       "      <td>Espace</td>\n",
       "      <td>White</td>\n",
       "      <td>Metallic</td>\n",
       "      <td>Bianco</td>\n",
       "      <td>NaN</td>\n",
       "      <td>5.000</td>\n",
       "      <td>7.000</td>\n",
       "      <td>Automatic</td>\n",
       "      <td>1598.000</td>\n",
       "      <td>4.000</td>\n",
       "      <td>NaN</td>\n",
       "      <td>NaN</td>\n",
       "      <td>Diesel</td>\n",
       "      <td>123.000</td>\n",
       "      <td>Euro 6</td>\n",
       "      <td>Air conditioning,Automatic climate control,Cru...</td>\n",
       "      <td>Radio,USB</td>\n",
       "      <td>NaN</td>\n",
       "      <td>ABS,Driver-side airbag,Electronic stability co...</td>\n",
       "      <td>6.000</td>\n",
       "      <td>NaN</td>\n",
       "      <td>4.700</td>\n",
       "      <td>5.100</td>\n",
       "      <td>4.400</td>\n",
       "      <td>1.000</td>\n",
       "    </tr>\n",
       "    <tr>\n",
       "      <th>15696</th>\n",
       "      <td>NaN</td>\n",
       "      <td>38200.000</td>\n",
       "      <td>VAT deductible</td>\n",
       "      <td>1.000</td>\n",
       "      <td>NaN</td>\n",
       "      <td>118.000</td>\n",
       "      <td>Pre-registered</td>\n",
       "      <td>NaN</td>\n",
       "      <td>NaN</td>\n",
       "      <td>Renault</td>\n",
       "      <td>Espace</td>\n",
       "      <td>Black</td>\n",
       "      <td>Metallic</td>\n",
       "      <td>Nero</td>\n",
       "      <td>NaN</td>\n",
       "      <td>5.000</td>\n",
       "      <td>7.000</td>\n",
       "      <td>Automatic</td>\n",
       "      <td>1598.000</td>\n",
       "      <td>4.000</td>\n",
       "      <td>NaN</td>\n",
       "      <td>NaN</td>\n",
       "      <td>Diesel</td>\n",
       "      <td>123.000</td>\n",
       "      <td>Euro 6</td>\n",
       "      <td>Air conditioning,Automatic climate control,Cru...</td>\n",
       "      <td>Digital radio,Radio,USB</td>\n",
       "      <td>Touch screen</td>\n",
       "      <td>ABS,Alarm system,Driver-side airbag,Electronic...</td>\n",
       "      <td>6.000</td>\n",
       "      <td>NaN</td>\n",
       "      <td>4.700</td>\n",
       "      <td>5.100</td>\n",
       "      <td>4.400</td>\n",
       "      <td>0.000</td>\n",
       "    </tr>\n",
       "    <tr>\n",
       "      <th>15712</th>\n",
       "      <td>NaN</td>\n",
       "      <td>37100.000</td>\n",
       "      <td>VAT deductible</td>\n",
       "      <td>1.000</td>\n",
       "      <td>NaN</td>\n",
       "      <td>118.000</td>\n",
       "      <td>Pre-registered</td>\n",
       "      <td>NaN</td>\n",
       "      <td>NaN</td>\n",
       "      <td>Renault</td>\n",
       "      <td>Espace</td>\n",
       "      <td>White</td>\n",
       "      <td>Metallic</td>\n",
       "      <td>Bianco</td>\n",
       "      <td>NaN</td>\n",
       "      <td>5.000</td>\n",
       "      <td>7.000</td>\n",
       "      <td>Automatic</td>\n",
       "      <td>1598.000</td>\n",
       "      <td>4.000</td>\n",
       "      <td>NaN</td>\n",
       "      <td>NaN</td>\n",
       "      <td>Diesel</td>\n",
       "      <td>123.000</td>\n",
       "      <td>Euro 6</td>\n",
       "      <td>Air conditioning,Automatic climate control,Cru...</td>\n",
       "      <td>Radio,USB</td>\n",
       "      <td>NaN</td>\n",
       "      <td>ABS,Driver-side airbag,Electronic stability co...</td>\n",
       "      <td>6.000</td>\n",
       "      <td>NaN</td>\n",
       "      <td>4.700</td>\n",
       "      <td>5.100</td>\n",
       "      <td>4.400</td>\n",
       "      <td>0.000</td>\n",
       "    </tr>\n",
       "    <tr>\n",
       "      <th>15736</th>\n",
       "      <td>NaN</td>\n",
       "      <td>35448.000</td>\n",
       "      <td>NaN</td>\n",
       "      <td>10.000</td>\n",
       "      <td>NaN</td>\n",
       "      <td>165.000</td>\n",
       "      <td>Used</td>\n",
       "      <td>NaN</td>\n",
       "      <td>NaN</td>\n",
       "      <td>Renault</td>\n",
       "      <td>Espace</td>\n",
       "      <td>Grey</td>\n",
       "      <td>NaN</td>\n",
       "      <td>Gris</td>\n",
       "      <td>NaN</td>\n",
       "      <td>5.000</td>\n",
       "      <td>NaN</td>\n",
       "      <td>Automatic</td>\n",
       "      <td>1798.000</td>\n",
       "      <td>4.000</td>\n",
       "      <td>NaN</td>\n",
       "      <td>NaN</td>\n",
       "      <td>Benzine</td>\n",
       "      <td>NaN</td>\n",
       "      <td>NaN</td>\n",
       "      <td>NaN</td>\n",
       "      <td>NaN</td>\n",
       "      <td>NaN</td>\n",
       "      <td>NaN</td>\n",
       "      <td>7.000</td>\n",
       "      <td>NaN</td>\n",
       "      <td>NaN</td>\n",
       "      <td>NaN</td>\n",
       "      <td>NaN</td>\n",
       "      <td>NaN</td>\n",
       "    </tr>\n",
       "    <tr>\n",
       "      <th>15770</th>\n",
       "      <td>NaN</td>\n",
       "      <td>35930.000</td>\n",
       "      <td>NaN</td>\n",
       "      <td>10.000</td>\n",
       "      <td>NaN</td>\n",
       "      <td>118.000</td>\n",
       "      <td>Used</td>\n",
       "      <td>NaN</td>\n",
       "      <td>NaN</td>\n",
       "      <td>Renault</td>\n",
       "      <td>Espace</td>\n",
       "      <td>Grey</td>\n",
       "      <td>NaN</td>\n",
       "      <td>Gris</td>\n",
       "      <td>NaN</td>\n",
       "      <td>5.000</td>\n",
       "      <td>NaN</td>\n",
       "      <td>Automatic</td>\n",
       "      <td>1598.000</td>\n",
       "      <td>4.000</td>\n",
       "      <td>NaN</td>\n",
       "      <td>NaN</td>\n",
       "      <td>Diesel</td>\n",
       "      <td>120.000</td>\n",
       "      <td>NaN</td>\n",
       "      <td>NaN</td>\n",
       "      <td>NaN</td>\n",
       "      <td>NaN</td>\n",
       "      <td>NaN</td>\n",
       "      <td>6.000</td>\n",
       "      <td>NaN</td>\n",
       "      <td>4.600</td>\n",
       "      <td>NaN</td>\n",
       "      <td>4.400</td>\n",
       "      <td>NaN</td>\n",
       "    </tr>\n",
       "  </tbody>\n",
       "</table>\n",
       "</div>"
      ],
      "text/plain": [
       "      body_type   price_€               vat         km  prev_owner   hp_kW  \\\n",
       "3175        NaN 14400.000               NaN 119000.000       1.000  81.000   \n",
       "3255        NaN 18500.000  Price negotiable  70000.000         NaN  81.000   \n",
       "3975        NaN 19950.000               NaN  25000.000       2.000  85.000   \n",
       "3997        NaN 19750.000    VAT deductible  38800.000       1.000  82.000   \n",
       "4206        NaN 18490.000               NaN  20000.000         NaN  92.000   \n",
       "4297        NaN 17990.000               NaN  20000.000         NaN  92.000   \n",
       "4298        NaN 17990.000               NaN  20000.000         NaN  92.000   \n",
       "5718        NaN 12990.000               NaN  47000.000         NaN 100.000   \n",
       "5938        NaN 12990.000               NaN  47000.000         NaN 100.000   \n",
       "5940        NaN 12990.000               NaN  47000.000         NaN 100.000   \n",
       "6920        NaN 11990.000               NaN  64000.000         NaN  81.000   \n",
       "6922        NaN 11990.000               NaN  64000.000         NaN  81.000   \n",
       "6927        NaN 11990.000               NaN  64000.000         NaN  81.000   \n",
       "7709        NaN 26490.000               NaN   6000.000         NaN 112.000   \n",
       "8408        NaN 12435.000    VAT deductible  21050.000       1.000  44.000   \n",
       "8584        NaN  8900.000               NaN  43731.000         NaN  51.000   \n",
       "10837       NaN 11490.000               NaN  99000.000         NaN 125.000   \n",
       "10838       NaN 11490.000               NaN  99000.000         NaN 125.000   \n",
       "10857       NaN 11490.000               NaN  99000.000         NaN 125.000   \n",
       "13430       NaN  7990.000    VAT deductible  76021.000         NaN  67.000   \n",
       "13470       NaN  8490.000               NaN  39990.000         NaN  55.000   \n",
       "13576       NaN  7980.000    VAT deductible  79980.000       1.000  56.000   \n",
       "13703       NaN  7690.000    VAT deductible  63372.000         NaN  56.000   \n",
       "13725       NaN  7490.000    VAT deductible  69031.000         NaN  56.000   \n",
       "13852       NaN  8500.000               NaN  34564.000         NaN  55.000   \n",
       "13900       NaN  9490.000    VAT deductible  84496.000         NaN  56.000   \n",
       "14107       NaN  9990.000               NaN  39000.000         NaN  55.000   \n",
       "14124       NaN  9990.000    VAT deductible     15.000       1.000  56.000   \n",
       "14127       NaN  9990.000    VAT deductible     15.000       1.000  56.000   \n",
       "14134       NaN  9980.000    VAT deductible     10.000         NaN  56.000   \n",
       "14135       NaN  9980.000    VAT deductible     10.000         NaN  56.000   \n",
       "14480       NaN 10000.000               NaN   8000.000         NaN  54.000   \n",
       "14869       NaN 10850.000    VAT deductible     10.000         NaN  56.000   \n",
       "14870       NaN 10850.000    VAT deductible     10.000         NaN  56.000   \n",
       "14928       NaN 17500.000               NaN 141000.000         NaN 118.000   \n",
       "14990       NaN 26800.000               NaN    332.000         NaN 165.000   \n",
       "15058       NaN 24990.000               NaN  45000.000         NaN 118.000   \n",
       "15059       NaN 24990.000               NaN  45000.000         NaN 118.000   \n",
       "15060       NaN 24990.000               NaN  45000.000         NaN 118.000   \n",
       "15124       NaN 24500.000               NaN  58078.000         NaN 118.000   \n",
       "15269       NaN 17500.000               NaN 141000.000         NaN 118.000   \n",
       "15275       NaN 17500.000               NaN 141000.000         NaN 118.000   \n",
       "15289       NaN 28140.000               NaN     10.000         NaN  96.000   \n",
       "15307       NaN 31000.000               NaN     10.000         NaN  96.000   \n",
       "15378       NaN 26450.000               NaN     10.000         NaN  96.000   \n",
       "15437       NaN 33000.000    VAT deductible        NaN         NaN 118.000   \n",
       "15452       NaN 33300.000               NaN     10.000         NaN 118.000   \n",
       "15456       NaN 33400.000               NaN    886.000         NaN 118.000   \n",
       "15457       NaN 33400.000               NaN    454.000         NaN 118.000   \n",
       "15488       NaN 32600.000               NaN     10.000         NaN 165.000   \n",
       "15489       NaN 32576.000    VAT deductible  10100.000       1.000 118.000   \n",
       "15491       NaN 32576.000    VAT deductible  10100.000       1.000 118.000   \n",
       "15499       NaN 32200.000               NaN     10.000         NaN 165.000   \n",
       "15544       NaN 29750.000               NaN     10.000         NaN 165.000   \n",
       "15556       NaN 30160.000               NaN     10.000         NaN 118.000   \n",
       "15589       NaN 31000.000    VAT deductible        NaN         NaN 118.000   \n",
       "15696       NaN 38200.000    VAT deductible      1.000         NaN 118.000   \n",
       "15712       NaN 37100.000    VAT deductible      1.000         NaN 118.000   \n",
       "15736       NaN 35448.000               NaN     10.000         NaN 165.000   \n",
       "15770       NaN 35930.000               NaN     10.000         NaN 118.000   \n",
       "\n",
       "                 type  previous_owners  warranty     make     model  \\\n",
       "3175             Used            1.000       NaN     Audi        A3   \n",
       "3255             Used              NaN       NaN     Audi        A3   \n",
       "3975             Used            2.000       NaN     Audi        A3   \n",
       "3997             Used            1.000     6.000     Audi        A3   \n",
       "4206             Used              NaN       NaN     Audi        A3   \n",
       "4297             Used              NaN       NaN     Audi        A3   \n",
       "4298             Used              NaN       NaN     Audi        A3   \n",
       "5718             Used              NaN       NaN     Opel     Astra   \n",
       "5938             Used              NaN       NaN     Opel     Astra   \n",
       "5940             Used              NaN       NaN     Opel     Astra   \n",
       "6920             Used              NaN       NaN     Opel     Astra   \n",
       "6922             Used              NaN       NaN     Opel     Astra   \n",
       "6927             Used              NaN       NaN     Opel     Astra   \n",
       "7709             Used              NaN       NaN     Opel     Astra   \n",
       "8408             Used            1.000       NaN     Opel     Corsa   \n",
       "8584             Used              NaN       NaN     Opel     Corsa   \n",
       "10837            Used              NaN       NaN     Opel  Insignia   \n",
       "10838            Used              NaN       NaN     Opel  Insignia   \n",
       "10857            Used              NaN       NaN     Opel  Insignia   \n",
       "13430            Used              NaN       NaN  Renault      Clio   \n",
       "13470            Used              NaN       NaN  Renault      Clio   \n",
       "13576            Used            1.000     3.000  Renault      Clio   \n",
       "13703            Used              NaN     6.000  Renault      Clio   \n",
       "13725            Used              NaN     6.000  Renault      Clio   \n",
       "13852            Used              NaN       NaN  Renault      Clio   \n",
       "13900            Used              NaN       NaN  Renault      Clio   \n",
       "14107            Used              NaN       NaN  Renault      Clio   \n",
       "14124            Used            1.000       NaN  Renault      Clio   \n",
       "14127            Used            1.000       NaN  Renault      Clio   \n",
       "14134            Used              NaN       NaN  Renault      Clio   \n",
       "14135            Used              NaN       NaN  Renault      Clio   \n",
       "14480            Used              NaN       NaN  Renault      Clio   \n",
       "14869             New              NaN       NaN  Renault      Clio   \n",
       "14870             New              NaN       NaN  Renault      Clio   \n",
       "14928            Used              NaN       NaN  Renault    Espace   \n",
       "14990            Used              NaN       NaN  Renault    Espace   \n",
       "15058            Used              NaN       NaN  Renault    Espace   \n",
       "15059            Used              NaN       NaN  Renault    Espace   \n",
       "15060            Used              NaN       NaN  Renault    Espace   \n",
       "15124            Used              NaN       NaN  Renault    Espace   \n",
       "15269            Used              NaN       NaN  Renault    Espace   \n",
       "15275            Used              NaN       NaN  Renault    Espace   \n",
       "15289            Used              NaN       NaN  Renault    Espace   \n",
       "15307            Used              NaN       NaN  Renault    Espace   \n",
       "15378            Used              NaN       NaN  Renault    Espace   \n",
       "15437  Pre-registered              NaN       NaN  Renault    Espace   \n",
       "15452            Used              NaN       NaN  Renault    Espace   \n",
       "15456            Used              NaN       NaN  Renault    Espace   \n",
       "15457            Used              NaN       NaN  Renault    Espace   \n",
       "15488            Used              NaN       NaN  Renault    Espace   \n",
       "15489            Used            1.000       NaN  Renault    Espace   \n",
       "15491            Used            1.000       NaN  Renault    Espace   \n",
       "15499            Used              NaN       NaN  Renault    Espace   \n",
       "15544            Used              NaN       NaN  Renault    Espace   \n",
       "15556            Used              NaN       NaN  Renault    Espace   \n",
       "15589  Pre-registered              NaN       NaN  Renault    Espace   \n",
       "15696  Pre-registered              NaN       NaN  Renault    Espace   \n",
       "15712  Pre-registered              NaN       NaN  Renault    Espace   \n",
       "15736            Used              NaN       NaN  Renault    Espace   \n",
       "15770            Used              NaN       NaN  Renault    Espace   \n",
       "\n",
       "      body_color paint_type             body_color_original    upholstery  \\\n",
       "3175       Black   Metallic                             NaN         Cloth   \n",
       "3255       White        NaN                             NaN         Cloth   \n",
       "3975        Blue   Metallic                             NaN           NaN   \n",
       "3997       Black        NaN                            NOIR           NaN   \n",
       "4206       White        NaN                             NaN           NaN   \n",
       "4297       White        NaN                             NaN           NaN   \n",
       "4298       White        NaN                             NaN           NaN   \n",
       "5718       Black        NaN                             NaN           NaN   \n",
       "5938       Black        NaN                             NaN           NaN   \n",
       "5940       Black        NaN                             NaN           NaN   \n",
       "6920       Black        NaN                             NaN           NaN   \n",
       "6922       Black        NaN                             NaN           NaN   \n",
       "6927       Black        NaN                             NaN           NaN   \n",
       "7709        Grey        NaN                   Gris Cosmique           NaN   \n",
       "8408       White        NaN  SchneeWeiss/SummitWhite/Arctic         Cloth   \n",
       "8584       Black        NaN                             NaN           NaN   \n",
       "10837      Black        NaN                             NaN           NaN   \n",
       "10838      Black        NaN                             NaN           NaN   \n",
       "10857      Black        NaN                             NaN           NaN   \n",
       "13430      White        NaN                           BLANC           NaN   \n",
       "13470      White        NaN                             NaN           NaN   \n",
       "13576      White        NaN                   BLANC GLACIER           NaN   \n",
       "13703      White        NaN                           BLANC           NaN   \n",
       "13725      White        NaN                           BLANC           NaN   \n",
       "13852      White        NaN                          Bianco           NaN   \n",
       "13900      White        NaN                           BLANC           NaN   \n",
       "14107      White        NaN                             NaN           NaN   \n",
       "14124      White        NaN                         BLANCHE           NaN   \n",
       "14127      White        NaN                         BLANCHE           NaN   \n",
       "14134      White        NaN                    BLANC GLACIE           NaN   \n",
       "14135      White        NaN                    BLANC GLACIE           NaN   \n",
       "14480        Red        NaN                             NaN         Cloth   \n",
       "14869       Grey   Metallic                   titangraumet.         Cloth   \n",
       "14870      Black   Metallic                     schwarzmet.         Cloth   \n",
       "14928      White        NaN                             NaN           NaN   \n",
       "14990       Grey        NaN                  Gris Cassiopée           NaN   \n",
       "15058      White        NaN                             NaN           NaN   \n",
       "15059      White        NaN                             NaN           NaN   \n",
       "15060      White        NaN                             NaN           NaN   \n",
       "15124       Grey        NaN                  Gris Cassiopée           NaN   \n",
       "15269      White        NaN                             NaN           NaN   \n",
       "15275      White        NaN                             NaN           NaN   \n",
       "15289       Grey        NaN                            Gris           NaN   \n",
       "15307       Grey        NaN                            Gris           NaN   \n",
       "15378       Grey        NaN                            Gris           NaN   \n",
       "15437      Black   Metallic                            Nero           NaN   \n",
       "15452       Grey        NaN                            Gris           NaN   \n",
       "15456      Black        NaN                     Noir Etoilé           NaN   \n",
       "15457      White        NaN                     Blanc Nacré           NaN   \n",
       "15488       Grey        NaN                            Gris           NaN   \n",
       "15489      Black   Metallic                             NaN  Full leather   \n",
       "15491      Black   Metallic                             NaN  Full leather   \n",
       "15499       Grey        NaN                            Gris           NaN   \n",
       "15544       Grey        NaN                            Gris           NaN   \n",
       "15556       Grey        NaN                            Gris           NaN   \n",
       "15589      White   Metallic                          Bianco           NaN   \n",
       "15696      Black   Metallic                            Nero           NaN   \n",
       "15712      White   Metallic                          Bianco           NaN   \n",
       "15736       Grey        NaN                            Gris           NaN   \n",
       "15770       Grey        NaN                            Gris           NaN   \n",
       "\n",
       "       nr_of_doors  nr_of_seats gearing_type  engine_displacement_cc  \\\n",
       "3175         5.000        5.000       Manual                1598.000   \n",
       "3255         3.000        5.000    Automatic                1598.000   \n",
       "3975         5.000        5.000    Automatic                 999.000   \n",
       "3997         3.000          NaN    Automatic                1598.000   \n",
       "4206         5.000          NaN       Manual                     NaN   \n",
       "4297         5.000          NaN       Manual                     NaN   \n",
       "4298         5.000          NaN       Manual                     NaN   \n",
       "5718         5.000          NaN    Automatic                     NaN   \n",
       "5938         5.000          NaN    Automatic                     NaN   \n",
       "5940         5.000          NaN    Automatic                     NaN   \n",
       "6920         5.000          NaN       Manual                     NaN   \n",
       "6922         5.000          NaN       Manual                     NaN   \n",
       "6927         5.000          NaN       Manual                     NaN   \n",
       "7709         5.000          NaN    Automatic                     NaN   \n",
       "8408         5.000        5.000    Automatic                1364.000   \n",
       "8584           NaN          NaN    Automatic                     NaN   \n",
       "10837        5.000          NaN    Automatic                     NaN   \n",
       "10838        5.000          NaN    Automatic                     NaN   \n",
       "10857        5.000          NaN    Automatic                     NaN   \n",
       "13430        5.000          NaN       Manual                1461.000   \n",
       "13470        5.000          NaN       Manual                     NaN   \n",
       "13576        5.000          NaN       Manual                1461.000   \n",
       "13703        5.000          NaN       Manual                1461.000   \n",
       "13725        5.000          NaN       Manual                1461.000   \n",
       "13852        5.000          NaN       Manual                1461.000   \n",
       "13900        5.000          NaN       Manual                1461.000   \n",
       "14107        5.000          NaN       Manual                     NaN   \n",
       "14124        5.000          NaN       Manual                1461.000   \n",
       "14127        5.000          NaN       Manual                1461.000   \n",
       "14134        5.000          NaN       Manual                1461.000   \n",
       "14135        5.000          NaN       Manual                1461.000   \n",
       "14480        5.000        5.000       Manual                     NaN   \n",
       "14869        5.000        5.000       Manual                 898.000   \n",
       "14870        5.000        5.000       Manual                 898.000   \n",
       "14928        5.000          NaN    Automatic                     NaN   \n",
       "14990        5.000          NaN    Automatic                1798.000   \n",
       "15058        5.000          NaN    Automatic                     NaN   \n",
       "15059        5.000          NaN    Automatic                     NaN   \n",
       "15060        5.000          NaN    Automatic                     NaN   \n",
       "15124        5.000          NaN    Automatic                1598.000   \n",
       "15269        5.000          NaN    Automatic                     NaN   \n",
       "15275        5.000          NaN    Automatic                     NaN   \n",
       "15289        5.000          NaN       Manual                1598.000   \n",
       "15307        5.000          NaN       Manual                1598.000   \n",
       "15378        5.000          NaN       Manual                1598.000   \n",
       "15437        5.000        7.000    Automatic                1598.000   \n",
       "15452        5.000          NaN    Automatic                1598.000   \n",
       "15456        5.000          NaN    Automatic                1598.000   \n",
       "15457        5.000          NaN    Automatic                1598.000   \n",
       "15488        5.000          NaN    Automatic                1798.000   \n",
       "15489        5.000        7.000    Automatic                1598.000   \n",
       "15491        5.000        7.000    Automatic                1598.000   \n",
       "15499        5.000          NaN    Automatic                1798.000   \n",
       "15544        5.000          NaN    Automatic                1798.000   \n",
       "15556        5.000          NaN    Automatic                1598.000   \n",
       "15589        5.000        7.000    Automatic                1598.000   \n",
       "15696        5.000        7.000    Automatic                1598.000   \n",
       "15712        5.000        7.000    Automatic                1598.000   \n",
       "15736        5.000          NaN    Automatic                1798.000   \n",
       "15770        5.000          NaN    Automatic                1598.000   \n",
       "\n",
       "       cylinders  weight_kg drive_chain     fuel  co2e_g emission_class  \\\n",
       "3175       4.000   1385.000         NaN   Diesel  99.000         Euro 6   \n",
       "3255       4.000   1255.000         NaN   Diesel  99.000         Euro 6   \n",
       "3975       3.000   1275.000         NaN  Benzine 107.000         Euro 6   \n",
       "3997         NaN        NaN         NaN   Diesel     NaN            NaN   \n",
       "4206         NaN        NaN         NaN  Benzine 117.000            NaN   \n",
       "4297         NaN        NaN         NaN  Benzine 117.000            NaN   \n",
       "4298         NaN        NaN         NaN  Benzine 117.000            NaN   \n",
       "5718         NaN        NaN         NaN   Diesel 119.000            NaN   \n",
       "5938         NaN        NaN         NaN   Diesel 119.000            NaN   \n",
       "5940         NaN        NaN         NaN   Diesel 119.000            NaN   \n",
       "6920         NaN        NaN         NaN   Diesel  97.000            NaN   \n",
       "6922         NaN        NaN         NaN   Diesel  97.000            NaN   \n",
       "6927         NaN        NaN         NaN   Diesel  97.000            NaN   \n",
       "7709         NaN        NaN         NaN  Benzine     NaN            NaN   \n",
       "8408       4.000        NaN         NaN  Benzine     NaN            NaN   \n",
       "8584         NaN        NaN         NaN  Benzine     NaN            NaN   \n",
       "10837        NaN        NaN         NaN   Diesel 147.000            NaN   \n",
       "10838        NaN        NaN         NaN   Diesel 147.000            NaN   \n",
       "10857        NaN        NaN         NaN   Diesel 147.000            NaN   \n",
       "13430        NaN        NaN         NaN   Diesel     NaN            NaN   \n",
       "13470        NaN        NaN         NaN  Benzine     NaN            NaN   \n",
       "13576        NaN        NaN         NaN   Diesel     NaN            NaN   \n",
       "13703        NaN        NaN         NaN   Diesel     NaN            NaN   \n",
       "13725        NaN        NaN         NaN   Diesel     NaN            NaN   \n",
       "13852      4.000        NaN         NaN   Diesel     NaN            NaN   \n",
       "13900        NaN        NaN         NaN   Diesel     NaN            NaN   \n",
       "14107        NaN        NaN         NaN   Diesel  85.000            NaN   \n",
       "14124        NaN        NaN         NaN   Diesel     NaN            NaN   \n",
       "14127        NaN        NaN         NaN   Diesel     NaN            NaN   \n",
       "14134        NaN        NaN         NaN   Diesel     NaN            NaN   \n",
       "14135        NaN        NaN         NaN   Diesel     NaN            NaN   \n",
       "14480      5.000   1134.000         NaN  Benzine 127.000         Euro 4   \n",
       "14869        NaN   1165.000         NaN  Benzine 114.000        Euro 6c   \n",
       "14870        NaN   1165.000         NaN  Benzine 114.000        Euro 6c   \n",
       "14928        NaN        NaN         NaN   Diesel 120.000            NaN   \n",
       "14990      4.000        NaN         NaN  Benzine 152.000            NaN   \n",
       "15058        NaN        NaN         NaN   Diesel 120.000            NaN   \n",
       "15059        NaN        NaN         NaN   Diesel 120.000            NaN   \n",
       "15060        NaN        NaN         NaN   Diesel 120.000            NaN   \n",
       "15124      4.000        NaN         NaN   Diesel 120.000            NaN   \n",
       "15269        NaN        NaN         NaN   Diesel 120.000            NaN   \n",
       "15275        NaN        NaN         NaN   Diesel 120.000            NaN   \n",
       "15289      4.000        NaN         NaN   Diesel 116.000            NaN   \n",
       "15307      4.000        NaN         NaN   Diesel 116.000            NaN   \n",
       "15378      4.000        NaN         NaN   Diesel 116.000            NaN   \n",
       "15437      4.000        NaN         NaN   Diesel 123.000         Euro 6   \n",
       "15452      4.000        NaN         NaN   Diesel 120.000            NaN   \n",
       "15456      4.000        NaN         NaN   Diesel 120.000            NaN   \n",
       "15457      4.000        NaN         NaN   Diesel 120.000            NaN   \n",
       "15488      4.000        NaN         NaN  Benzine     NaN            NaN   \n",
       "15489      4.000   1734.000       front   Diesel 120.000            NaN   \n",
       "15491      4.000   1734.000       front   Diesel 120.000            NaN   \n",
       "15499      4.000        NaN         NaN  Benzine     NaN            NaN   \n",
       "15544      4.000        NaN         NaN  Benzine     NaN            NaN   \n",
       "15556      4.000        NaN         NaN   Diesel 120.000            NaN   \n",
       "15589      4.000        NaN         NaN   Diesel 123.000         Euro 6   \n",
       "15696      4.000        NaN         NaN   Diesel 123.000         Euro 6   \n",
       "15712      4.000        NaN         NaN   Diesel 123.000         Euro 6   \n",
       "15736      4.000        NaN         NaN  Benzine     NaN            NaN   \n",
       "15770      4.000        NaN         NaN   Diesel 120.000            NaN   \n",
       "\n",
       "                                     comfort&convenience  \\\n",
       "3175   Air conditioning,Armrest,Automatic climate con...   \n",
       "3255   Air conditioning,Armrest,Automatic climate con...   \n",
       "3975   Air conditioning,Armrest,Automatic climate con...   \n",
       "3997   Air conditioning,Automatic climate control,Cru...   \n",
       "4206                                    Air conditioning   \n",
       "4297                                    Air conditioning   \n",
       "4298                                    Air conditioning   \n",
       "5718      Air conditioning,Multi-function steering wheel   \n",
       "5938      Air conditioning,Multi-function steering wheel   \n",
       "5940      Air conditioning,Multi-function steering wheel   \n",
       "6920                                    Air conditioning   \n",
       "6922                                    Air conditioning   \n",
       "6927                                    Air conditioning   \n",
       "7709                                                 NaN   \n",
       "8408   Air conditioning,Cruise control,Electrically h...   \n",
       "8584   Air conditioning,Air suspension,Armrest,Automa...   \n",
       "10837                                   Air conditioning   \n",
       "10838                                   Air conditioning   \n",
       "10857                                   Air conditioning   \n",
       "13430  Air conditioning,Automatic climate control,Cru...   \n",
       "13470  Air conditioning,Multi-function steering wheel...   \n",
       "13576  Air conditioning,Automatic climate control,Cru...   \n",
       "13703  Air conditioning,Automatic climate control,Cru...   \n",
       "13725  Air conditioning,Automatic climate control,Cru...   \n",
       "13852                                                NaN   \n",
       "13900  Air conditioning,Automatic climate control,Cru...   \n",
       "14107                     Air conditioning,Power windows   \n",
       "14124  Air conditioning,Automatic climate control,Cru...   \n",
       "14127  Air conditioning,Automatic climate control,Cru...   \n",
       "14134                       Cruise control,Power windows   \n",
       "14135                       Cruise control,Power windows   \n",
       "14480  Air conditioning,Cruise control,Electrical sid...   \n",
       "14869  Air conditioning,Cruise control,Electrical sid...   \n",
       "14870  Air conditioning,Cruise control,Electrical sid...   \n",
       "14928                                   Air conditioning   \n",
       "14990                                                NaN   \n",
       "15058                                   Air conditioning   \n",
       "15059                                   Air conditioning   \n",
       "15060                                   Air conditioning   \n",
       "15124                                                NaN   \n",
       "15269                                   Air conditioning   \n",
       "15275                                   Air conditioning   \n",
       "15289                                                NaN   \n",
       "15307                                                NaN   \n",
       "15378                                                NaN   \n",
       "15437  Air conditioning,Automatic climate control,Cru...   \n",
       "15452                                                NaN   \n",
       "15456                                                NaN   \n",
       "15457                                                NaN   \n",
       "15488                                                NaN   \n",
       "15489  Air conditioning,Armrest,Automatic climate con...   \n",
       "15491  Air conditioning,Armrest,Automatic climate con...   \n",
       "15499                                                NaN   \n",
       "15544                                                NaN   \n",
       "15556                                                NaN   \n",
       "15589  Air conditioning,Automatic climate control,Cru...   \n",
       "15696  Air conditioning,Automatic climate control,Cru...   \n",
       "15712  Air conditioning,Automatic climate control,Cru...   \n",
       "15736                                                NaN   \n",
       "15770                                                NaN   \n",
       "\n",
       "                                     entertainment&media  \\\n",
       "3175   Bluetooth,CD player,Hands-free equipment,MP3,O...   \n",
       "3255               Bluetooth,On-board computer,Radio,USB   \n",
       "3975   Bluetooth,CD player,Digital radio,MP3,On-board...   \n",
       "3997                   Bluetooth,On-board computer,Radio   \n",
       "4206                                                 NaN   \n",
       "4297                                                 NaN   \n",
       "4298                                                 NaN   \n",
       "5718                                                 NaN   \n",
       "5938                                                 NaN   \n",
       "5940                                                 NaN   \n",
       "6920                                                 NaN   \n",
       "6922                                                 NaN   \n",
       "6927                                                 NaN   \n",
       "7709                                                 NaN   \n",
       "8408   Bluetooth,CD player,Hands-free equipment,On-bo...   \n",
       "8584   Bluetooth,CD player,Digital radio,Hands-free e...   \n",
       "10837                                                NaN   \n",
       "10838                                                NaN   \n",
       "10857                                                NaN   \n",
       "13430   Bluetooth,Hands-free equipment,On-board computer   \n",
       "13470                                                NaN   \n",
       "13576   Bluetooth,Hands-free equipment,On-board computer   \n",
       "13703   Bluetooth,Hands-free equipment,On-board computer   \n",
       "13725   Bluetooth,Hands-free equipment,On-board computer   \n",
       "13852                                                NaN   \n",
       "13900  Bluetooth,Hands-free equipment,On-board comput...   \n",
       "14107                                                NaN   \n",
       "14124  Bluetooth,Hands-free equipment,On-board comput...   \n",
       "14127  Bluetooth,Hands-free equipment,On-board comput...   \n",
       "14134                                  On-board computer   \n",
       "14135                                  On-board computer   \n",
       "14480  Bluetooth,Hands-free equipment,On-board comput...   \n",
       "14869  Bluetooth,Digital radio,Hands-free equipment,O...   \n",
       "14870  Bluetooth,Hands-free equipment,On-board comput...   \n",
       "14928                                                NaN   \n",
       "14990                                                NaN   \n",
       "15058                                                NaN   \n",
       "15059                                                NaN   \n",
       "15060                                                NaN   \n",
       "15124                                                NaN   \n",
       "15269                                                NaN   \n",
       "15275                                                NaN   \n",
       "15289                                                NaN   \n",
       "15307                                                NaN   \n",
       "15378                                                NaN   \n",
       "15437                            Digital radio,Radio,USB   \n",
       "15452                                                NaN   \n",
       "15456                                                NaN   \n",
       "15457                                                NaN   \n",
       "15488                                                NaN   \n",
       "15489  Bluetooth,Digital radio,MP3,On-board computer,...   \n",
       "15491  Bluetooth,Digital radio,MP3,On-board computer,...   \n",
       "15499                                                NaN   \n",
       "15544                                                NaN   \n",
       "15556                                                NaN   \n",
       "15589                                          Radio,USB   \n",
       "15696                            Digital radio,Radio,USB   \n",
       "15712                                          Radio,USB   \n",
       "15736                                                NaN   \n",
       "15770                                                NaN   \n",
       "\n",
       "                                                  extras  \\\n",
       "3175   Alloy wheels,Sport package,Trailer hitch,Voice...   \n",
       "3255                          Alloy wheels,Shift paddles   \n",
       "3975   Alloy wheels,Roof rack,Sport package,Sport sea...   \n",
       "3997                                        Alloy wheels   \n",
       "4206                                                 NaN   \n",
       "4297                                                 NaN   \n",
       "4298                                                 NaN   \n",
       "5718                                                 NaN   \n",
       "5938                                                 NaN   \n",
       "5940                                                 NaN   \n",
       "6920                                                 NaN   \n",
       "6922                                                 NaN   \n",
       "6927                                                 NaN   \n",
       "7709                                                 NaN   \n",
       "8408                            Alloy wheels,Sport seats   \n",
       "8584   Alloy wheels,Catalytic Converter,Handicapped e...   \n",
       "10837                                                NaN   \n",
       "10838                                                NaN   \n",
       "10857                                                NaN   \n",
       "13430                                      Sport package   \n",
       "13470                                                NaN   \n",
       "13576                                      Sport package   \n",
       "13703                                                NaN   \n",
       "13725                                                NaN   \n",
       "13852                                                NaN   \n",
       "13900                                                NaN   \n",
       "14107                                                NaN   \n",
       "14124                                      Sport package   \n",
       "14127                                      Sport package   \n",
       "14134                            Roof rack,Sport package   \n",
       "14135                            Roof rack,Sport package   \n",
       "14480                                                NaN   \n",
       "14869                                                NaN   \n",
       "14870                                                NaN   \n",
       "14928                                                NaN   \n",
       "14990                                                NaN   \n",
       "15058                                                NaN   \n",
       "15059                                                NaN   \n",
       "15060                                                NaN   \n",
       "15124                                                NaN   \n",
       "15269                                                NaN   \n",
       "15275                                                NaN   \n",
       "15289                                                NaN   \n",
       "15307                                                NaN   \n",
       "15378                                                NaN   \n",
       "15437                                       Touch screen   \n",
       "15452                                                NaN   \n",
       "15456                                                NaN   \n",
       "15457                                                NaN   \n",
       "15488                                                NaN   \n",
       "15489            Alloy wheels,Touch screen,Voice Control   \n",
       "15491            Alloy wheels,Touch screen,Voice Control   \n",
       "15499                                                NaN   \n",
       "15544                                                NaN   \n",
       "15556                                                NaN   \n",
       "15589                                                NaN   \n",
       "15696                                       Touch screen   \n",
       "15712                                                NaN   \n",
       "15736                                                NaN   \n",
       "15770                                                NaN   \n",
       "\n",
       "                                         safety&security  gears  \\\n",
       "3175   ABS,Adaptive headlights,Central door lock,Cent...  6.000   \n",
       "3255   ABS,Alarm system,Central door lock,Driver-side...  7.000   \n",
       "3975   ABS,Adaptive headlights,Central door lock with...  7.000   \n",
       "3997   ABS,Daytime running lights,Driver-side airbag,...    NaN   \n",
       "4206   ABS,Central door lock,Daytime running lights,D...    NaN   \n",
       "4297   ABS,Central door lock,Daytime running lights,D...    NaN   \n",
       "4298   ABS,Central door lock,Daytime running lights,D...    NaN   \n",
       "5718   ABS,Central door lock,Daytime running lights,D...    NaN   \n",
       "5938   ABS,Central door lock,Daytime running lights,D...    NaN   \n",
       "5940   ABS,Central door lock,Daytime running lights,D...    NaN   \n",
       "6920   ABS,Central door lock,Daytime running lights,D...    NaN   \n",
       "6922   ABS,Central door lock,Daytime running lights,D...    NaN   \n",
       "6927   ABS,Central door lock,Daytime running lights,D...    NaN   \n",
       "7709                                                 NaN    NaN   \n",
       "8408   ABS,Central door lock,Daytime running lights,D...  5.000   \n",
       "8584   ABS,Adaptive Cruise Control,Adaptive headlight...    NaN   \n",
       "10837  ABS,Central door lock,Daytime running lights,D...    NaN   \n",
       "10838  ABS,Central door lock,Daytime running lights,D...    NaN   \n",
       "10857  ABS,Central door lock,Daytime running lights,D...    NaN   \n",
       "13430  ABS,Daytime running lights,Driver-side airbag,...    NaN   \n",
       "13470  ABS,Central door lock,Daytime running lights,D...    NaN   \n",
       "13576  ABS,Daytime running lights,Driver-side airbag,...    NaN   \n",
       "13703        ABS,Electronic stability control,Fog lights    NaN   \n",
       "13725        ABS,Electronic stability control,Fog lights    NaN   \n",
       "13852                                 ABS,Power steering    NaN   \n",
       "13900  ABS,Daytime running lights,Driver-side airbag,...    NaN   \n",
       "14107  ABS,Central door lock,Daytime running lights,D...    NaN   \n",
       "14124  ABS,Daytime running lights,Driver-side airbag,...    NaN   \n",
       "14127  ABS,Daytime running lights,Driver-side airbag,...    NaN   \n",
       "14134  ABS,Central door lock,Daytime running lights,D...    NaN   \n",
       "14135  ABS,Central door lock,Daytime running lights,D...    NaN   \n",
       "14480  ABS,Central door lock,Central door lock with r...  5.000   \n",
       "14869  ABS,Central door lock,Driver-side airbag,Elect...  5.000   \n",
       "14870  ABS,Central door lock,Driver-side airbag,Elect...  5.000   \n",
       "14928  ABS,Central door lock,Daytime running lights,D...    NaN   \n",
       "14990                                                NaN  7.000   \n",
       "15058  ABS,Central door lock,Daytime running lights,D...    NaN   \n",
       "15059  ABS,Central door lock,Daytime running lights,D...    NaN   \n",
       "15060  ABS,Central door lock,Daytime running lights,D...    NaN   \n",
       "15124                                                NaN  6.000   \n",
       "15269  ABS,Central door lock,Daytime running lights,D...    NaN   \n",
       "15275  ABS,Central door lock,Daytime running lights,D...    NaN   \n",
       "15289                                                NaN  6.000   \n",
       "15307                                                NaN  6.000   \n",
       "15378                                                NaN  6.000   \n",
       "15437  ABS,Alarm system,Driver-side airbag,Electronic...  6.000   \n",
       "15452                                                NaN  6.000   \n",
       "15456                                                NaN  6.000   \n",
       "15457                                                NaN  6.000   \n",
       "15488                                                NaN  7.000   \n",
       "15489  ABS,Adaptive Cruise Control,Blind spot monitor...  6.000   \n",
       "15491  ABS,Adaptive Cruise Control,Blind spot monitor...  6.000   \n",
       "15499                                                NaN  7.000   \n",
       "15544                                                NaN  7.000   \n",
       "15556                                                NaN  6.000   \n",
       "15589  ABS,Driver-side airbag,Electronic stability co...  6.000   \n",
       "15696  ABS,Alarm system,Driver-side airbag,Electronic...  6.000   \n",
       "15712  ABS,Driver-side airbag,Electronic stability co...  6.000   \n",
       "15736                                                NaN  7.000   \n",
       "15770                                                NaN  6.000   \n",
       "\n",
       "      country_version  consumption_comb  consumption_city  \\\n",
       "3175              NaN             3.800             4.500   \n",
       "3255              NaN             3.800             4.300   \n",
       "3975              NaN             4.700             5.600   \n",
       "3997              NaN               NaN               NaN   \n",
       "4206              NaN             5.100             6.700   \n",
       "4297              NaN             5.100             6.700   \n",
       "4298              NaN             5.100             6.700   \n",
       "5718              NaN             4.500             5.700   \n",
       "5938              NaN             4.500             5.700   \n",
       "5940              NaN             4.500             5.700   \n",
       "6920              NaN             3.700             4.200   \n",
       "6922              NaN             3.700             4.200   \n",
       "6927              NaN             3.700             4.200   \n",
       "7709              NaN               NaN               NaN   \n",
       "8408          Germany               NaN               NaN   \n",
       "8584              NaN               NaN               NaN   \n",
       "10837             NaN             5.600             7.800   \n",
       "10838             NaN             5.600             7.800   \n",
       "10857             NaN             5.600             7.800   \n",
       "13430             NaN               NaN               NaN   \n",
       "13470             NaN               NaN               NaN   \n",
       "13576             NaN               NaN               NaN   \n",
       "13703             NaN               NaN               NaN   \n",
       "13725             NaN               NaN               NaN   \n",
       "13852             NaN               NaN               NaN   \n",
       "13900             NaN               NaN               NaN   \n",
       "14107             NaN             3.300             3.500   \n",
       "14124             NaN               NaN               NaN   \n",
       "14127             NaN               NaN               NaN   \n",
       "14134             NaN               NaN               NaN   \n",
       "14135             NaN               NaN               NaN   \n",
       "14480             NaN             5.600             7.200   \n",
       "14869             NaN               NaN             6.400   \n",
       "14870             NaN               NaN             6.400   \n",
       "14928             NaN             4.600               NaN   \n",
       "14990             NaN             6.800             8.700   \n",
       "15058             NaN             4.600               NaN   \n",
       "15059             NaN             4.600               NaN   \n",
       "15060             NaN             4.600               NaN   \n",
       "15124             NaN             4.600               NaN   \n",
       "15269             NaN             4.600               NaN   \n",
       "15275             NaN             4.600               NaN   \n",
       "15289             NaN             4.400             5.100   \n",
       "15307             NaN             4.400             5.100   \n",
       "15378             NaN             4.400             5.100   \n",
       "15437             NaN             4.700             5.100   \n",
       "15452             NaN             4.600               NaN   \n",
       "15456             NaN             4.600               NaN   \n",
       "15457             NaN             4.600               NaN   \n",
       "15488             NaN               NaN               NaN   \n",
       "15489             NaN             4.600               NaN   \n",
       "15491             NaN             4.600               NaN   \n",
       "15499             NaN               NaN               NaN   \n",
       "15544             NaN               NaN               NaN   \n",
       "15556             NaN             4.600               NaN   \n",
       "15589             NaN             4.700             5.100   \n",
       "15696             NaN             4.700             5.100   \n",
       "15712             NaN             4.700             5.100   \n",
       "15736             NaN               NaN               NaN   \n",
       "15770             NaN             4.600               NaN   \n",
       "\n",
       "       consumption_country   age  \n",
       "3175                 3.400 3.000  \n",
       "3255                 3.500 3.000  \n",
       "3975                 4.200 2.000  \n",
       "3997                   NaN 2.000  \n",
       "4206                 4.100 2.000  \n",
       "4297                 4.100 2.000  \n",
       "4298                 4.100 2.000  \n",
       "5718                 3.800 3.000  \n",
       "5938                 3.800 3.000  \n",
       "5940                 3.800 3.000  \n",
       "6920                 3.300 2.000  \n",
       "6922                 3.300 2.000  \n",
       "6927                 3.300 2.000  \n",
       "7709                   NaN 0.000  \n",
       "8408                   NaN 1.000  \n",
       "8584                   NaN 2.000  \n",
       "10837                4.200 2.000  \n",
       "10838                4.200 2.000  \n",
       "10857                4.200 2.000  \n",
       "13430                  NaN 3.000  \n",
       "13470                  NaN 1.000  \n",
       "13576                  NaN 3.000  \n",
       "13703                  NaN 2.000  \n",
       "13725                  NaN 2.000  \n",
       "13852                  NaN 2.000  \n",
       "13900                  NaN 2.000  \n",
       "14107                3.100 2.000  \n",
       "14124                  NaN 1.000  \n",
       "14127                  NaN 1.000  \n",
       "14134                  NaN 1.000  \n",
       "14135                  NaN 1.000  \n",
       "14480                4.700 1.000  \n",
       "14869                4.200   NaN  \n",
       "14870                4.200   NaN  \n",
       "14928                4.400 3.000  \n",
       "14990                5.600 1.000  \n",
       "15058                4.400 2.000  \n",
       "15059                4.400 2.000  \n",
       "15060                4.400 2.000  \n",
       "15124                4.400 3.000  \n",
       "15269                4.400 3.000  \n",
       "15275                4.400 3.000  \n",
       "15289                  NaN   NaN  \n",
       "15307                  NaN   NaN  \n",
       "15378                  NaN   NaN  \n",
       "15437                4.400 1.000  \n",
       "15452                4.400   NaN  \n",
       "15456                4.400 1.000  \n",
       "15457                4.400 1.000  \n",
       "15488                  NaN   NaN  \n",
       "15489                4.400 1.000  \n",
       "15491                4.400 1.000  \n",
       "15499                  NaN   NaN  \n",
       "15544                  NaN   NaN  \n",
       "15556                4.400   NaN  \n",
       "15589                4.400 1.000  \n",
       "15696                4.400 0.000  \n",
       "15712                4.400 0.000  \n",
       "15736                  NaN   NaN  \n",
       "15770                4.400   NaN  "
      ]
     },
     "execution_count": 120,
     "metadata": {},
     "output_type": "execute_result"
    }
   ],
   "source": [
    "df[df.body_type.isnull()]"
   ]
  },
  {
   "cell_type": "code",
   "execution_count": 121,
   "metadata": {
    "ExecuteTime": {
     "end_time": "2022-08-03T09:12:13.329832Z",
     "start_time": "2022-08-03T09:12:13.304814Z"
    },
    "scrolled": true
   },
   "outputs": [
    {
     "data": {
      "text/html": [
       "<div>\n",
       "<style scoped>\n",
       "    .dataframe tbody tr th:only-of-type {\n",
       "        vertical-align: middle;\n",
       "    }\n",
       "\n",
       "    .dataframe tbody tr th {\n",
       "        vertical-align: top;\n",
       "    }\n",
       "\n",
       "    .dataframe thead th {\n",
       "        text-align: right;\n",
       "    }\n",
       "</style>\n",
       "<table border=\"1\" class=\"dataframe\">\n",
       "  <thead>\n",
       "    <tr style=\"text-align: right;\">\n",
       "      <th></th>\n",
       "      <th>make</th>\n",
       "      <th>model</th>\n",
       "      <th>nr_of_doors</th>\n",
       "      <th>nr_of_seats</th>\n",
       "    </tr>\n",
       "  </thead>\n",
       "  <tbody>\n",
       "    <tr>\n",
       "      <th>3175</th>\n",
       "      <td>Audi</td>\n",
       "      <td>A3</td>\n",
       "      <td>5.000</td>\n",
       "      <td>5.000</td>\n",
       "    </tr>\n",
       "    <tr>\n",
       "      <th>3255</th>\n",
       "      <td>Audi</td>\n",
       "      <td>A3</td>\n",
       "      <td>3.000</td>\n",
       "      <td>5.000</td>\n",
       "    </tr>\n",
       "    <tr>\n",
       "      <th>3975</th>\n",
       "      <td>Audi</td>\n",
       "      <td>A3</td>\n",
       "      <td>5.000</td>\n",
       "      <td>5.000</td>\n",
       "    </tr>\n",
       "    <tr>\n",
       "      <th>3997</th>\n",
       "      <td>Audi</td>\n",
       "      <td>A3</td>\n",
       "      <td>3.000</td>\n",
       "      <td>NaN</td>\n",
       "    </tr>\n",
       "    <tr>\n",
       "      <th>4206</th>\n",
       "      <td>Audi</td>\n",
       "      <td>A3</td>\n",
       "      <td>5.000</td>\n",
       "      <td>NaN</td>\n",
       "    </tr>\n",
       "    <tr>\n",
       "      <th>4297</th>\n",
       "      <td>Audi</td>\n",
       "      <td>A3</td>\n",
       "      <td>5.000</td>\n",
       "      <td>NaN</td>\n",
       "    </tr>\n",
       "    <tr>\n",
       "      <th>4298</th>\n",
       "      <td>Audi</td>\n",
       "      <td>A3</td>\n",
       "      <td>5.000</td>\n",
       "      <td>NaN</td>\n",
       "    </tr>\n",
       "    <tr>\n",
       "      <th>5718</th>\n",
       "      <td>Opel</td>\n",
       "      <td>Astra</td>\n",
       "      <td>5.000</td>\n",
       "      <td>NaN</td>\n",
       "    </tr>\n",
       "    <tr>\n",
       "      <th>5938</th>\n",
       "      <td>Opel</td>\n",
       "      <td>Astra</td>\n",
       "      <td>5.000</td>\n",
       "      <td>NaN</td>\n",
       "    </tr>\n",
       "    <tr>\n",
       "      <th>5940</th>\n",
       "      <td>Opel</td>\n",
       "      <td>Astra</td>\n",
       "      <td>5.000</td>\n",
       "      <td>NaN</td>\n",
       "    </tr>\n",
       "    <tr>\n",
       "      <th>6920</th>\n",
       "      <td>Opel</td>\n",
       "      <td>Astra</td>\n",
       "      <td>5.000</td>\n",
       "      <td>NaN</td>\n",
       "    </tr>\n",
       "    <tr>\n",
       "      <th>6922</th>\n",
       "      <td>Opel</td>\n",
       "      <td>Astra</td>\n",
       "      <td>5.000</td>\n",
       "      <td>NaN</td>\n",
       "    </tr>\n",
       "    <tr>\n",
       "      <th>6927</th>\n",
       "      <td>Opel</td>\n",
       "      <td>Astra</td>\n",
       "      <td>5.000</td>\n",
       "      <td>NaN</td>\n",
       "    </tr>\n",
       "    <tr>\n",
       "      <th>7709</th>\n",
       "      <td>Opel</td>\n",
       "      <td>Astra</td>\n",
       "      <td>5.000</td>\n",
       "      <td>NaN</td>\n",
       "    </tr>\n",
       "    <tr>\n",
       "      <th>8408</th>\n",
       "      <td>Opel</td>\n",
       "      <td>Corsa</td>\n",
       "      <td>5.000</td>\n",
       "      <td>5.000</td>\n",
       "    </tr>\n",
       "    <tr>\n",
       "      <th>8584</th>\n",
       "      <td>Opel</td>\n",
       "      <td>Corsa</td>\n",
       "      <td>NaN</td>\n",
       "      <td>NaN</td>\n",
       "    </tr>\n",
       "    <tr>\n",
       "      <th>10837</th>\n",
       "      <td>Opel</td>\n",
       "      <td>Insignia</td>\n",
       "      <td>5.000</td>\n",
       "      <td>NaN</td>\n",
       "    </tr>\n",
       "    <tr>\n",
       "      <th>10838</th>\n",
       "      <td>Opel</td>\n",
       "      <td>Insignia</td>\n",
       "      <td>5.000</td>\n",
       "      <td>NaN</td>\n",
       "    </tr>\n",
       "    <tr>\n",
       "      <th>10857</th>\n",
       "      <td>Opel</td>\n",
       "      <td>Insignia</td>\n",
       "      <td>5.000</td>\n",
       "      <td>NaN</td>\n",
       "    </tr>\n",
       "    <tr>\n",
       "      <th>13430</th>\n",
       "      <td>Renault</td>\n",
       "      <td>Clio</td>\n",
       "      <td>5.000</td>\n",
       "      <td>NaN</td>\n",
       "    </tr>\n",
       "    <tr>\n",
       "      <th>13470</th>\n",
       "      <td>Renault</td>\n",
       "      <td>Clio</td>\n",
       "      <td>5.000</td>\n",
       "      <td>NaN</td>\n",
       "    </tr>\n",
       "    <tr>\n",
       "      <th>13576</th>\n",
       "      <td>Renault</td>\n",
       "      <td>Clio</td>\n",
       "      <td>5.000</td>\n",
       "      <td>NaN</td>\n",
       "    </tr>\n",
       "    <tr>\n",
       "      <th>13703</th>\n",
       "      <td>Renault</td>\n",
       "      <td>Clio</td>\n",
       "      <td>5.000</td>\n",
       "      <td>NaN</td>\n",
       "    </tr>\n",
       "    <tr>\n",
       "      <th>13725</th>\n",
       "      <td>Renault</td>\n",
       "      <td>Clio</td>\n",
       "      <td>5.000</td>\n",
       "      <td>NaN</td>\n",
       "    </tr>\n",
       "    <tr>\n",
       "      <th>13852</th>\n",
       "      <td>Renault</td>\n",
       "      <td>Clio</td>\n",
       "      <td>5.000</td>\n",
       "      <td>NaN</td>\n",
       "    </tr>\n",
       "    <tr>\n",
       "      <th>13900</th>\n",
       "      <td>Renault</td>\n",
       "      <td>Clio</td>\n",
       "      <td>5.000</td>\n",
       "      <td>NaN</td>\n",
       "    </tr>\n",
       "    <tr>\n",
       "      <th>14107</th>\n",
       "      <td>Renault</td>\n",
       "      <td>Clio</td>\n",
       "      <td>5.000</td>\n",
       "      <td>NaN</td>\n",
       "    </tr>\n",
       "    <tr>\n",
       "      <th>14124</th>\n",
       "      <td>Renault</td>\n",
       "      <td>Clio</td>\n",
       "      <td>5.000</td>\n",
       "      <td>NaN</td>\n",
       "    </tr>\n",
       "    <tr>\n",
       "      <th>14127</th>\n",
       "      <td>Renault</td>\n",
       "      <td>Clio</td>\n",
       "      <td>5.000</td>\n",
       "      <td>NaN</td>\n",
       "    </tr>\n",
       "    <tr>\n",
       "      <th>14134</th>\n",
       "      <td>Renault</td>\n",
       "      <td>Clio</td>\n",
       "      <td>5.000</td>\n",
       "      <td>NaN</td>\n",
       "    </tr>\n",
       "    <tr>\n",
       "      <th>14135</th>\n",
       "      <td>Renault</td>\n",
       "      <td>Clio</td>\n",
       "      <td>5.000</td>\n",
       "      <td>NaN</td>\n",
       "    </tr>\n",
       "    <tr>\n",
       "      <th>14480</th>\n",
       "      <td>Renault</td>\n",
       "      <td>Clio</td>\n",
       "      <td>5.000</td>\n",
       "      <td>5.000</td>\n",
       "    </tr>\n",
       "    <tr>\n",
       "      <th>14869</th>\n",
       "      <td>Renault</td>\n",
       "      <td>Clio</td>\n",
       "      <td>5.000</td>\n",
       "      <td>5.000</td>\n",
       "    </tr>\n",
       "    <tr>\n",
       "      <th>14870</th>\n",
       "      <td>Renault</td>\n",
       "      <td>Clio</td>\n",
       "      <td>5.000</td>\n",
       "      <td>5.000</td>\n",
       "    </tr>\n",
       "    <tr>\n",
       "      <th>14928</th>\n",
       "      <td>Renault</td>\n",
       "      <td>Espace</td>\n",
       "      <td>5.000</td>\n",
       "      <td>NaN</td>\n",
       "    </tr>\n",
       "    <tr>\n",
       "      <th>14990</th>\n",
       "      <td>Renault</td>\n",
       "      <td>Espace</td>\n",
       "      <td>5.000</td>\n",
       "      <td>NaN</td>\n",
       "    </tr>\n",
       "    <tr>\n",
       "      <th>15058</th>\n",
       "      <td>Renault</td>\n",
       "      <td>Espace</td>\n",
       "      <td>5.000</td>\n",
       "      <td>NaN</td>\n",
       "    </tr>\n",
       "    <tr>\n",
       "      <th>15059</th>\n",
       "      <td>Renault</td>\n",
       "      <td>Espace</td>\n",
       "      <td>5.000</td>\n",
       "      <td>NaN</td>\n",
       "    </tr>\n",
       "    <tr>\n",
       "      <th>15060</th>\n",
       "      <td>Renault</td>\n",
       "      <td>Espace</td>\n",
       "      <td>5.000</td>\n",
       "      <td>NaN</td>\n",
       "    </tr>\n",
       "    <tr>\n",
       "      <th>15124</th>\n",
       "      <td>Renault</td>\n",
       "      <td>Espace</td>\n",
       "      <td>5.000</td>\n",
       "      <td>NaN</td>\n",
       "    </tr>\n",
       "    <tr>\n",
       "      <th>15269</th>\n",
       "      <td>Renault</td>\n",
       "      <td>Espace</td>\n",
       "      <td>5.000</td>\n",
       "      <td>NaN</td>\n",
       "    </tr>\n",
       "    <tr>\n",
       "      <th>15275</th>\n",
       "      <td>Renault</td>\n",
       "      <td>Espace</td>\n",
       "      <td>5.000</td>\n",
       "      <td>NaN</td>\n",
       "    </tr>\n",
       "    <tr>\n",
       "      <th>15289</th>\n",
       "      <td>Renault</td>\n",
       "      <td>Espace</td>\n",
       "      <td>5.000</td>\n",
       "      <td>NaN</td>\n",
       "    </tr>\n",
       "    <tr>\n",
       "      <th>15307</th>\n",
       "      <td>Renault</td>\n",
       "      <td>Espace</td>\n",
       "      <td>5.000</td>\n",
       "      <td>NaN</td>\n",
       "    </tr>\n",
       "    <tr>\n",
       "      <th>15378</th>\n",
       "      <td>Renault</td>\n",
       "      <td>Espace</td>\n",
       "      <td>5.000</td>\n",
       "      <td>NaN</td>\n",
       "    </tr>\n",
       "    <tr>\n",
       "      <th>15437</th>\n",
       "      <td>Renault</td>\n",
       "      <td>Espace</td>\n",
       "      <td>5.000</td>\n",
       "      <td>7.000</td>\n",
       "    </tr>\n",
       "    <tr>\n",
       "      <th>15452</th>\n",
       "      <td>Renault</td>\n",
       "      <td>Espace</td>\n",
       "      <td>5.000</td>\n",
       "      <td>NaN</td>\n",
       "    </tr>\n",
       "    <tr>\n",
       "      <th>15456</th>\n",
       "      <td>Renault</td>\n",
       "      <td>Espace</td>\n",
       "      <td>5.000</td>\n",
       "      <td>NaN</td>\n",
       "    </tr>\n",
       "    <tr>\n",
       "      <th>15457</th>\n",
       "      <td>Renault</td>\n",
       "      <td>Espace</td>\n",
       "      <td>5.000</td>\n",
       "      <td>NaN</td>\n",
       "    </tr>\n",
       "    <tr>\n",
       "      <th>15488</th>\n",
       "      <td>Renault</td>\n",
       "      <td>Espace</td>\n",
       "      <td>5.000</td>\n",
       "      <td>NaN</td>\n",
       "    </tr>\n",
       "    <tr>\n",
       "      <th>15489</th>\n",
       "      <td>Renault</td>\n",
       "      <td>Espace</td>\n",
       "      <td>5.000</td>\n",
       "      <td>7.000</td>\n",
       "    </tr>\n",
       "    <tr>\n",
       "      <th>15491</th>\n",
       "      <td>Renault</td>\n",
       "      <td>Espace</td>\n",
       "      <td>5.000</td>\n",
       "      <td>7.000</td>\n",
       "    </tr>\n",
       "    <tr>\n",
       "      <th>15499</th>\n",
       "      <td>Renault</td>\n",
       "      <td>Espace</td>\n",
       "      <td>5.000</td>\n",
       "      <td>NaN</td>\n",
       "    </tr>\n",
       "    <tr>\n",
       "      <th>15544</th>\n",
       "      <td>Renault</td>\n",
       "      <td>Espace</td>\n",
       "      <td>5.000</td>\n",
       "      <td>NaN</td>\n",
       "    </tr>\n",
       "    <tr>\n",
       "      <th>15556</th>\n",
       "      <td>Renault</td>\n",
       "      <td>Espace</td>\n",
       "      <td>5.000</td>\n",
       "      <td>NaN</td>\n",
       "    </tr>\n",
       "    <tr>\n",
       "      <th>15589</th>\n",
       "      <td>Renault</td>\n",
       "      <td>Espace</td>\n",
       "      <td>5.000</td>\n",
       "      <td>7.000</td>\n",
       "    </tr>\n",
       "    <tr>\n",
       "      <th>15696</th>\n",
       "      <td>Renault</td>\n",
       "      <td>Espace</td>\n",
       "      <td>5.000</td>\n",
       "      <td>7.000</td>\n",
       "    </tr>\n",
       "    <tr>\n",
       "      <th>15712</th>\n",
       "      <td>Renault</td>\n",
       "      <td>Espace</td>\n",
       "      <td>5.000</td>\n",
       "      <td>7.000</td>\n",
       "    </tr>\n",
       "    <tr>\n",
       "      <th>15736</th>\n",
       "      <td>Renault</td>\n",
       "      <td>Espace</td>\n",
       "      <td>5.000</td>\n",
       "      <td>NaN</td>\n",
       "    </tr>\n",
       "    <tr>\n",
       "      <th>15770</th>\n",
       "      <td>Renault</td>\n",
       "      <td>Espace</td>\n",
       "      <td>5.000</td>\n",
       "      <td>NaN</td>\n",
       "    </tr>\n",
       "  </tbody>\n",
       "</table>\n",
       "</div>"
      ],
      "text/plain": [
       "          make     model  nr_of_doors  nr_of_seats\n",
       "3175      Audi        A3        5.000        5.000\n",
       "3255      Audi        A3        3.000        5.000\n",
       "3975      Audi        A3        5.000        5.000\n",
       "3997      Audi        A3        3.000          NaN\n",
       "4206      Audi        A3        5.000          NaN\n",
       "4297      Audi        A3        5.000          NaN\n",
       "4298      Audi        A3        5.000          NaN\n",
       "5718      Opel     Astra        5.000          NaN\n",
       "5938      Opel     Astra        5.000          NaN\n",
       "5940      Opel     Astra        5.000          NaN\n",
       "6920      Opel     Astra        5.000          NaN\n",
       "6922      Opel     Astra        5.000          NaN\n",
       "6927      Opel     Astra        5.000          NaN\n",
       "7709      Opel     Astra        5.000          NaN\n",
       "8408      Opel     Corsa        5.000        5.000\n",
       "8584      Opel     Corsa          NaN          NaN\n",
       "10837     Opel  Insignia        5.000          NaN\n",
       "10838     Opel  Insignia        5.000          NaN\n",
       "10857     Opel  Insignia        5.000          NaN\n",
       "13430  Renault      Clio        5.000          NaN\n",
       "13470  Renault      Clio        5.000          NaN\n",
       "13576  Renault      Clio        5.000          NaN\n",
       "13703  Renault      Clio        5.000          NaN\n",
       "13725  Renault      Clio        5.000          NaN\n",
       "13852  Renault      Clio        5.000          NaN\n",
       "13900  Renault      Clio        5.000          NaN\n",
       "14107  Renault      Clio        5.000          NaN\n",
       "14124  Renault      Clio        5.000          NaN\n",
       "14127  Renault      Clio        5.000          NaN\n",
       "14134  Renault      Clio        5.000          NaN\n",
       "14135  Renault      Clio        5.000          NaN\n",
       "14480  Renault      Clio        5.000        5.000\n",
       "14869  Renault      Clio        5.000        5.000\n",
       "14870  Renault      Clio        5.000        5.000\n",
       "14928  Renault    Espace        5.000          NaN\n",
       "14990  Renault    Espace        5.000          NaN\n",
       "15058  Renault    Espace        5.000          NaN\n",
       "15059  Renault    Espace        5.000          NaN\n",
       "15060  Renault    Espace        5.000          NaN\n",
       "15124  Renault    Espace        5.000          NaN\n",
       "15269  Renault    Espace        5.000          NaN\n",
       "15275  Renault    Espace        5.000          NaN\n",
       "15289  Renault    Espace        5.000          NaN\n",
       "15307  Renault    Espace        5.000          NaN\n",
       "15378  Renault    Espace        5.000          NaN\n",
       "15437  Renault    Espace        5.000        7.000\n",
       "15452  Renault    Espace        5.000          NaN\n",
       "15456  Renault    Espace        5.000          NaN\n",
       "15457  Renault    Espace        5.000          NaN\n",
       "15488  Renault    Espace        5.000          NaN\n",
       "15489  Renault    Espace        5.000        7.000\n",
       "15491  Renault    Espace        5.000        7.000\n",
       "15499  Renault    Espace        5.000          NaN\n",
       "15544  Renault    Espace        5.000          NaN\n",
       "15556  Renault    Espace        5.000          NaN\n",
       "15589  Renault    Espace        5.000        7.000\n",
       "15696  Renault    Espace        5.000        7.000\n",
       "15712  Renault    Espace        5.000        7.000\n",
       "15736  Renault    Espace        5.000          NaN\n",
       "15770  Renault    Espace        5.000          NaN"
      ]
     },
     "execution_count": 121,
     "metadata": {},
     "output_type": "execute_result"
    }
   ],
   "source": [
    "df[df.body_type.isnull()][[\"make\", \"model\", \"nr_of_doors\", \"nr_of_seats\" ]]"
   ]
  },
  {
   "cell_type": "code",
   "execution_count": 122,
   "metadata": {
    "ExecuteTime": {
     "end_time": "2022-08-03T09:12:13.345287Z",
     "start_time": "2022-08-03T09:12:13.334314Z"
    }
   },
   "outputs": [],
   "source": [
    "pd.set_option('display.max_rows', 150)"
   ]
  },
  {
   "cell_type": "code",
   "execution_count": 123,
   "metadata": {
    "ExecuteTime": {
     "end_time": "2022-08-03T09:12:13.408429Z",
     "start_time": "2022-08-03T09:12:13.374937Z"
    }
   },
   "outputs": [
    {
     "data": {
      "text/plain": [
       "make     model     body_type    \n",
       "Audi     A1        Sedans           1538\n",
       "                   Compact          1039\n",
       "                   Station wagon      21\n",
       "                   Other              13\n",
       "                   Coupe               2\n",
       "                   Van                 1\n",
       "         A2        Off-Road            1\n",
       "         A3        Sedans           2598\n",
       "                   Station wagon     282\n",
       "                   Compact           182\n",
       "                   Other              16\n",
       "                   Convertible         8\n",
       "                   NaN                 7\n",
       "                   Coupe               4\n",
       "Opel     Astra     Station wagon    1211\n",
       "                   Sedans           1053\n",
       "                   Compact           185\n",
       "                   Other              67\n",
       "                   NaN                 7\n",
       "                   Coupe               2\n",
       "                   Off-Road            1\n",
       "         Corsa     Compact          1230\n",
       "                   Sedans            875\n",
       "                   Other              87\n",
       "                   Coupe              13\n",
       "                   Transporter         7\n",
       "                   Off-Road            3\n",
       "                   NaN                 2\n",
       "                   Van                 2\n",
       "         Insignia  Station wagon    1611\n",
       "                   Sedans            900\n",
       "                   Other              48\n",
       "                   Compact            27\n",
       "                   Off-Road            7\n",
       "                   NaN                 3\n",
       "                   Coupe               1\n",
       "                   Van                 1\n",
       "Renault  Clio      Sedans            918\n",
       "                   Compact           484\n",
       "                   Station wagon     337\n",
       "                   Other              51\n",
       "                   Transporter        29\n",
       "                   NaN                15\n",
       "                   Off-Road            2\n",
       "                   Van                 2\n",
       "                   Coupe               1\n",
       "         Duster    Off-Road           34\n",
       "         Espace    Van               777\n",
       "                   Station wagon      91\n",
       "                   Transporter        52\n",
       "                   NaN                26\n",
       "                   Sedans             21\n",
       "                   Off-Road            8\n",
       "                   Other               8\n",
       "                   Compact             6\n",
       "                   Coupe               2\n",
       "Name: body_type, dtype: int64"
      ]
     },
     "execution_count": 123,
     "metadata": {},
     "output_type": "execute_result"
    }
   ],
   "source": [
    "df.groupby([\"make\", \"model\"])[\"body_type\"].value_counts(dropna=False)"
   ]
  },
  {
   "cell_type": "code",
   "execution_count": null,
   "metadata": {},
   "outputs": [],
   "source": []
  },
  {
   "cell_type": "code",
   "execution_count": 124,
   "metadata": {
    "ExecuteTime": {
     "end_time": "2022-08-03T09:12:13.442626Z",
     "start_time": "2022-08-03T09:12:13.418507Z"
    }
   },
   "outputs": [
    {
     "data": {
      "text/plain": [
       "make     model     nr_of_doors  nr_of_seats  body_type    \n",
       "Audi     A1        2.000        3.000        Compact             1\n",
       "                                4.000        Compact            65\n",
       "                                             Sedans             26\n",
       "                                             Coupe               1\n",
       "                                5.000        Compact             2\n",
       "                                             Sedans              1\n",
       "                   3.000        4.000        Sedans            120\n",
       "                                             Compact            71\n",
       "                                             Station wagon       1\n",
       "                                5.000        Sedans              7\n",
       "                                             Compact             4\n",
       "                   4.000        4.000        Compact            75\n",
       "                                             Sedans             39\n",
       "                                             Station wagon       1\n",
       "                                5.000        Sedans            245\n",
       "                                             Compact           126\n",
       "                                             Other               5\n",
       "                                             Station wagon       1\n",
       "                   5.000        4.000        Sedans            454\n",
       "                                             Compact           220\n",
       "                                             Station wagon       4\n",
       "                                             Other               1\n",
       "                                5.000        Sedans            568\n",
       "                                             Compact           405\n",
       "                                             Station wagon      13\n",
       "                                             Other               7\n",
       "                                             Coupe               1\n",
       "                                6.000        Compact             1\n",
       "         A2        5.000        5.000        Off-Road            1\n",
       "         A3        2.000        4.000        Convertible         5\n",
       "                                             Other               1\n",
       "                                             Sedans              1\n",
       "                                5.000        Sedans             15\n",
       "                                             Convertible         1\n",
       "                                             Other               1\n",
       "                                             Station wagon       1\n",
       "                   3.000        5.000        Sedans             90\n",
       "                                             Compact            11\n",
       "                                             Coupe               4\n",
       "                                             Other               2\n",
       "                                             NaN                 1\n",
       "                                             Station wagon       1\n",
       "                   4.000        4.000        Sedans             12\n",
       "                                5.000        Sedans            460\n",
       "                                             Station wagon     109\n",
       "                                             Compact             6\n",
       "                                             Other               1\n",
       "                   5.000        4.000        Sedans              6\n",
       "                                5.000        Sedans           1912\n",
       "                                             Station wagon     165\n",
       "                                             Compact           158\n",
       "                                             Other               5\n",
       "                                             NaN                 2\n",
       "                                             Convertible         1\n",
       "Opel     Astra     3.000        4.000        Coupe               1\n",
       "                                5.000        Sedans              3\n",
       "                   4.000        4.000        Station wagon       1\n",
       "                                5.000        Station wagon     272\n",
       "                                             Sedans            239\n",
       "                                             Other               7\n",
       "                                             Compact             5\n",
       "                   5.000        4.000        Station wagon       3\n",
       "                                5.000        Station wagon     861\n",
       "                                             Sedans            742\n",
       "                                             Compact           169\n",
       "                                             Other              54\n",
       "                                             Off-Road            1\n",
       "         Corsa     2.000        4.000        Compact             1\n",
       "                                5.000        Compact            86\n",
       "                                             Sedans              4\n",
       "                                             Other               1\n",
       "                   3.000        2.000        Transporter         4\n",
       "                                             Coupe               1\n",
       "                                4.000        Compact             3\n",
       "                                5.000        Compact           329\n",
       "                                             Sedans            139\n",
       "                                             Coupe              10\n",
       "                                             Other               4\n",
       "                   4.000        4.000        Compact             1\n",
       "                                5.000        Compact           263\n",
       "                                             Sedans             21\n",
       "                                             Other               2\n",
       "                   5.000        4.000        Sedans              1\n",
       "                                             Transporter         1\n",
       "                                5.000        Sedans            621\n",
       "                                             Compact           514\n",
       "                                             Other              79\n",
       "                                             Transporter         2\n",
       "                                             NaN                 1\n",
       "                                             Coupe               1\n",
       "                                             Off-Road            1\n",
       "         Insignia  4.000        2.000        Station wagon       1\n",
       "                                4.000        Station wagon       1\n",
       "                                5.000        Station wagon     446\n",
       "                                             Sedans            245\n",
       "                                             Other               2\n",
       "                                             Compact             1\n",
       "                   5.000        4.000        Station wagon       1\n",
       "                                5.000        Station wagon    1103\n",
       "                                             Sedans            609\n",
       "                                             Other              42\n",
       "                                             Compact            25\n",
       "                                             Off-Road            7\n",
       "                                             Van                 1\n",
       "Renault  Clio      4.000        2.000        Compact             1\n",
       "                                             Transporter         1\n",
       "                                5.000        Compact           142\n",
       "                                             Station wagon      50\n",
       "                                             Sedans             44\n",
       "                                             Other               4\n",
       "                                             Coupe               1\n",
       "                   5.000        2.000        Sedans             71\n",
       "                                             Transporter        25\n",
       "                                             Compact             7\n",
       "                                             Other               4\n",
       "                                4.000        Sedans              3\n",
       "                                             Station wagon       2\n",
       "                                5.000        Sedans            712\n",
       "                                             Compact           264\n",
       "                                             Station wagon     255\n",
       "                                             Other              38\n",
       "                                             NaN                 3\n",
       "                                             Off-Road            2\n",
       "                                             Van                 1\n",
       "         Duster    5.000        5.000        Off-Road           34\n",
       "         Espace    4.000        5.000        Van                27\n",
       "                                             Sedans              8\n",
       "                                             Station wagon       4\n",
       "                                             Off-Road            1\n",
       "                                7.000        Van                59\n",
       "                                             Compact             1\n",
       "                                             Sedans              1\n",
       "                   5.000        4.000        Van                 1\n",
       "                                5.000        Van               356\n",
       "                                             Station wagon      62\n",
       "                                             Transporter        35\n",
       "                                             Off-Road            4\n",
       "                                             Other               4\n",
       "                                             Compact             3\n",
       "                                             Sedans              3\n",
       "                                6.000        Station wagon       1\n",
       "                                7.000        Van               246\n",
       "                                             Station wagon      18\n",
       "                                             Transporter        16\n",
       "                                             NaN                 6\n",
       "                                             Other               3\n",
       "                                             Sedans              3\n",
       "                                             Off-Road            2\n",
       "                                             Compact             1\n",
       "Name: body_type, dtype: int64"
      ]
     },
     "execution_count": 124,
     "metadata": {},
     "output_type": "execute_result"
    }
   ],
   "source": [
    "df.groupby([\"make\", \"model\", \"nr_of_doors\", \"nr_of_seats\"])[\"body_type\"].value_counts(dropna=False)"
   ]
  },
  {
   "cell_type": "code",
   "execution_count": 125,
   "metadata": {
    "ExecuteTime": {
     "end_time": "2022-08-03T09:12:13.470759Z",
     "start_time": "2022-08-03T09:12:13.448258Z"
    }
   },
   "outputs": [
    {
     "data": {
      "text/plain": [
       "make     model   \n",
       "Audi     A1                 Sedans\n",
       "         A2               Off-Road\n",
       "         A3                 Sedans\n",
       "Opel     Astra       Station wagon\n",
       "         Corsa             Compact\n",
       "         Insignia    Station wagon\n",
       "Renault  Clio               Sedans\n",
       "         Duster           Off-Road\n",
       "         Espace                Van\n",
       "Name: body_type, dtype: object"
      ]
     },
     "execution_count": 125,
     "metadata": {},
     "output_type": "execute_result"
    }
   ],
   "source": [
    "# select group mode values\n",
    "df.groupby([\"make\", \"model\"])['body_type'].apply(lambda x: x.mode()[0])"
   ]
  },
  {
   "cell_type": "code",
   "execution_count": null,
   "metadata": {},
   "outputs": [],
   "source": []
  },
  {
   "cell_type": "code",
   "execution_count": null,
   "metadata": {},
   "outputs": [],
   "source": []
  },
  {
   "cell_type": "code",
   "execution_count": 126,
   "metadata": {
    "ExecuteTime": {
     "end_time": "2022-08-03T09:12:13.510622Z",
     "start_time": "2022-08-03T09:12:13.475183Z"
    }
   },
   "outputs": [
    {
     "data": {
      "text/plain": [
       "make     model   \n",
       "Audi     A1                 Sedans\n",
       "         A2               Off-Road\n",
       "         A3                 Sedans\n",
       "Opel     Astra       Station wagon\n",
       "         Corsa             Compact\n",
       "         Insignia    Station wagon\n",
       "Renault  Clio               Sedans\n",
       "         Duster           Off-Road\n",
       "         Espace                Van\n",
       "Name: top, dtype: object"
      ]
     },
     "execution_count": 126,
     "metadata": {},
     "output_type": "execute_result"
    }
   ],
   "source": [
    "df.groupby([\"make\", \"model\"])[\"body_type\"].describe(include=\"object\")[\"top\"]"
   ]
  },
  {
   "cell_type": "code",
   "execution_count": 127,
   "metadata": {
    "ExecuteTime": {
     "end_time": "2022-08-03T09:12:13.542043Z",
     "start_time": "2022-08-03T09:12:13.515473Z"
    }
   },
   "outputs": [
    {
     "data": {
      "text/plain": [
       "0        Sedans\n",
       "1        Sedans\n",
       "2        Sedans\n",
       "3        Sedans\n",
       "4        Sedans\n",
       "          ...  \n",
       "15914       Van\n",
       "15915       Van\n",
       "15916       Van\n",
       "15917       Van\n",
       "15918       Van\n",
       "Name: body_type, Length: 15919, dtype: object"
      ]
     },
     "execution_count": 127,
     "metadata": {},
     "output_type": "execute_result"
    }
   ],
   "source": [
    "df.groupby([\"make\", \"model\"])[\"body_type\"].apply(lambda x: x.fillna(x.mode()[0]))"
   ]
  },
  {
   "cell_type": "code",
   "execution_count": 128,
   "metadata": {
    "ExecuteTime": {
     "end_time": "2022-08-03T09:12:13.583739Z",
     "start_time": "2022-08-03T09:12:13.546990Z"
    }
   },
   "outputs": [],
   "source": [
    "df.body_type = df.groupby([\"make\", \"model\"])[\"body_type\"].apply(lambda x: x.fillna(x.mode()[0]))"
   ]
  },
  {
   "cell_type": "code",
   "execution_count": 129,
   "metadata": {
    "ExecuteTime": {
     "end_time": "2022-08-03T09:12:13.606405Z",
     "start_time": "2022-08-03T09:12:13.594169Z"
    }
   },
   "outputs": [
    {
     "data": {
      "text/plain": [
       "0"
      ]
     },
     "execution_count": 129,
     "metadata": {},
     "output_type": "execute_result"
    }
   ],
   "source": [
    "df.body_type.isnull().sum()"
   ]
  },
  {
   "cell_type": "code",
   "execution_count": 130,
   "metadata": {
    "ExecuteTime": {
     "end_time": "2022-08-03T09:12:13.631300Z",
     "start_time": "2022-08-03T09:12:13.619401Z"
    }
   },
   "outputs": [
    {
     "data": {
      "text/plain": [
       "(15919, 35)"
      ]
     },
     "execution_count": 130,
     "metadata": {},
     "output_type": "execute_result"
    }
   ],
   "source": [
    "df.shape"
   ]
  },
  {
   "cell_type": "markdown",
   "metadata": {},
   "source": [
    "## 2.vat"
   ]
  },
  {
   "cell_type": "code",
   "execution_count": 131,
   "metadata": {
    "ExecuteTime": {
     "end_time": "2022-08-03T09:12:13.650309Z",
     "start_time": "2022-08-03T09:12:13.635005Z"
    }
   },
   "outputs": [
    {
     "name": "stdout",
     "output_type": "stream",
     "text": [
      "column name :  vat\n",
      "--------------------------------\n",
      "Per_of_Nulls   :  % 28.35\n",
      "Num_of_Nulls   :  4513\n",
      "VAT deductible      10980\n",
      "NaN                  4513\n",
      "Price negotiable      426\n",
      "Name: vat, dtype: int64\n",
      "******************************\n",
      "\n",
      "\n",
      "\n"
     ]
    }
   ],
   "source": [
    "check_df(\"vat\")"
   ]
  },
  {
   "cell_type": "code",
   "execution_count": 132,
   "metadata": {
    "ExecuteTime": {
     "end_time": "2022-08-03T09:12:13.890972Z",
     "start_time": "2022-08-03T09:12:13.655912Z"
    }
   },
   "outputs": [
    {
     "data": {
      "text/html": [
       "<div>\n",
       "<style scoped>\n",
       "    .dataframe tbody tr th:only-of-type {\n",
       "        vertical-align: middle;\n",
       "    }\n",
       "\n",
       "    .dataframe tbody tr th {\n",
       "        vertical-align: top;\n",
       "    }\n",
       "\n",
       "    .dataframe thead tr th {\n",
       "        text-align: left;\n",
       "    }\n",
       "\n",
       "    .dataframe thead tr:last-of-type th {\n",
       "        text-align: right;\n",
       "    }\n",
       "</style>\n",
       "<table border=\"1\" class=\"dataframe\">\n",
       "  <thead>\n",
       "    <tr>\n",
       "      <th></th>\n",
       "      <th colspan=\"4\" halign=\"left\">body_type</th>\n",
       "      <th colspan=\"4\" halign=\"left\">type</th>\n",
       "      <th colspan=\"4\" halign=\"left\">make</th>\n",
       "      <th colspan=\"4\" halign=\"left\">model</th>\n",
       "      <th colspan=\"4\" halign=\"left\">body_color</th>\n",
       "      <th colspan=\"4\" halign=\"left\">paint_type</th>\n",
       "      <th colspan=\"4\" halign=\"left\">body_color_original</th>\n",
       "      <th colspan=\"4\" halign=\"left\">upholstery</th>\n",
       "      <th colspan=\"4\" halign=\"left\">gearing_type</th>\n",
       "      <th colspan=\"4\" halign=\"left\">drive_chain</th>\n",
       "      <th colspan=\"4\" halign=\"left\">fuel</th>\n",
       "      <th colspan=\"4\" halign=\"left\">emission_class</th>\n",
       "      <th colspan=\"4\" halign=\"left\">comfort&amp;convenience</th>\n",
       "      <th colspan=\"4\" halign=\"left\">entertainment&amp;media</th>\n",
       "      <th colspan=\"4\" halign=\"left\">extras</th>\n",
       "      <th colspan=\"4\" halign=\"left\">safety&amp;security</th>\n",
       "      <th colspan=\"4\" halign=\"left\">country_version</th>\n",
       "    </tr>\n",
       "    <tr>\n",
       "      <th></th>\n",
       "      <th>count</th>\n",
       "      <th>unique</th>\n",
       "      <th>top</th>\n",
       "      <th>freq</th>\n",
       "      <th>count</th>\n",
       "      <th>unique</th>\n",
       "      <th>top</th>\n",
       "      <th>freq</th>\n",
       "      <th>count</th>\n",
       "      <th>unique</th>\n",
       "      <th>top</th>\n",
       "      <th>freq</th>\n",
       "      <th>count</th>\n",
       "      <th>unique</th>\n",
       "      <th>top</th>\n",
       "      <th>freq</th>\n",
       "      <th>count</th>\n",
       "      <th>unique</th>\n",
       "      <th>top</th>\n",
       "      <th>freq</th>\n",
       "      <th>count</th>\n",
       "      <th>unique</th>\n",
       "      <th>top</th>\n",
       "      <th>freq</th>\n",
       "      <th>count</th>\n",
       "      <th>unique</th>\n",
       "      <th>top</th>\n",
       "      <th>freq</th>\n",
       "      <th>count</th>\n",
       "      <th>unique</th>\n",
       "      <th>top</th>\n",
       "      <th>freq</th>\n",
       "      <th>count</th>\n",
       "      <th>unique</th>\n",
       "      <th>top</th>\n",
       "      <th>freq</th>\n",
       "      <th>count</th>\n",
       "      <th>unique</th>\n",
       "      <th>top</th>\n",
       "      <th>freq</th>\n",
       "      <th>count</th>\n",
       "      <th>unique</th>\n",
       "      <th>top</th>\n",
       "      <th>freq</th>\n",
       "      <th>count</th>\n",
       "      <th>unique</th>\n",
       "      <th>top</th>\n",
       "      <th>freq</th>\n",
       "      <th>count</th>\n",
       "      <th>unique</th>\n",
       "      <th>top</th>\n",
       "      <th>freq</th>\n",
       "      <th>count</th>\n",
       "      <th>unique</th>\n",
       "      <th>top</th>\n",
       "      <th>freq</th>\n",
       "      <th>count</th>\n",
       "      <th>unique</th>\n",
       "      <th>top</th>\n",
       "      <th>freq</th>\n",
       "      <th>count</th>\n",
       "      <th>unique</th>\n",
       "      <th>top</th>\n",
       "      <th>freq</th>\n",
       "      <th>count</th>\n",
       "      <th>unique</th>\n",
       "      <th>top</th>\n",
       "      <th>freq</th>\n",
       "    </tr>\n",
       "    <tr>\n",
       "      <th>vat</th>\n",
       "      <th></th>\n",
       "      <th></th>\n",
       "      <th></th>\n",
       "      <th></th>\n",
       "      <th></th>\n",
       "      <th></th>\n",
       "      <th></th>\n",
       "      <th></th>\n",
       "      <th></th>\n",
       "      <th></th>\n",
       "      <th></th>\n",
       "      <th></th>\n",
       "      <th></th>\n",
       "      <th></th>\n",
       "      <th></th>\n",
       "      <th></th>\n",
       "      <th></th>\n",
       "      <th></th>\n",
       "      <th></th>\n",
       "      <th></th>\n",
       "      <th></th>\n",
       "      <th></th>\n",
       "      <th></th>\n",
       "      <th></th>\n",
       "      <th></th>\n",
       "      <th></th>\n",
       "      <th></th>\n",
       "      <th></th>\n",
       "      <th></th>\n",
       "      <th></th>\n",
       "      <th></th>\n",
       "      <th></th>\n",
       "      <th></th>\n",
       "      <th></th>\n",
       "      <th></th>\n",
       "      <th></th>\n",
       "      <th></th>\n",
       "      <th></th>\n",
       "      <th></th>\n",
       "      <th></th>\n",
       "      <th></th>\n",
       "      <th></th>\n",
       "      <th></th>\n",
       "      <th></th>\n",
       "      <th></th>\n",
       "      <th></th>\n",
       "      <th></th>\n",
       "      <th></th>\n",
       "      <th></th>\n",
       "      <th></th>\n",
       "      <th></th>\n",
       "      <th></th>\n",
       "      <th></th>\n",
       "      <th></th>\n",
       "      <th></th>\n",
       "      <th></th>\n",
       "      <th></th>\n",
       "      <th></th>\n",
       "      <th></th>\n",
       "      <th></th>\n",
       "      <th></th>\n",
       "      <th></th>\n",
       "      <th></th>\n",
       "      <th></th>\n",
       "      <th></th>\n",
       "      <th></th>\n",
       "      <th></th>\n",
       "      <th></th>\n",
       "    </tr>\n",
       "  </thead>\n",
       "  <tbody>\n",
       "    <tr>\n",
       "      <th>Price negotiable</th>\n",
       "      <td>426</td>\n",
       "      <td>9</td>\n",
       "      <td>Sedans</td>\n",
       "      <td>286</td>\n",
       "      <td>426</td>\n",
       "      <td>3</td>\n",
       "      <td>Used</td>\n",
       "      <td>421</td>\n",
       "      <td>426</td>\n",
       "      <td>3</td>\n",
       "      <td>Audi</td>\n",
       "      <td>182</td>\n",
       "      <td>426</td>\n",
       "      <td>7</td>\n",
       "      <td>A3</td>\n",
       "      <td>101</td>\n",
       "      <td>426</td>\n",
       "      <td>10</td>\n",
       "      <td>Black</td>\n",
       "      <td>109</td>\n",
       "      <td>245</td>\n",
       "      <td>1</td>\n",
       "      <td>Metallic</td>\n",
       "      <td>245</td>\n",
       "      <td>17</td>\n",
       "      <td>17</td>\n",
       "      <td>Floretzilver (grijs metal</td>\n",
       "      <td>1</td>\n",
       "      <td>134</td>\n",
       "      <td>4</td>\n",
       "      <td>Cloth</td>\n",
       "      <td>82</td>\n",
       "      <td>426</td>\n",
       "      <td>3</td>\n",
       "      <td>Manual</td>\n",
       "      <td>204</td>\n",
       "      <td>95</td>\n",
       "      <td>2</td>\n",
       "      <td>front</td>\n",
       "      <td>92</td>\n",
       "      <td>426</td>\n",
       "      <td>4</td>\n",
       "      <td>Diesel</td>\n",
       "      <td>223</td>\n",
       "      <td>401</td>\n",
       "      <td>6</td>\n",
       "      <td>Euro 6</td>\n",
       "      <td>361</td>\n",
       "      <td>423</td>\n",
       "      <td>333</td>\n",
       "      <td>Air conditioning,Seat ventilation,Split rear s...</td>\n",
       "      <td>15</td>\n",
       "      <td>414</td>\n",
       "      <td>100</td>\n",
       "      <td>Bluetooth,CD player,Hands-free equipment,MP3,O...</td>\n",
       "      <td>32</td>\n",
       "      <td>372</td>\n",
       "      <td>139</td>\n",
       "      <td>Alloy wheels</td>\n",
       "      <td>71</td>\n",
       "      <td>422</td>\n",
       "      <td>298</td>\n",
       "      <td>ABS,Adaptive Cruise Control,Alarm system,Centr...</td>\n",
       "      <td>12</td>\n",
       "      <td>43</td>\n",
       "      <td>6</td>\n",
       "      <td>Italy</td>\n",
       "      <td>14</td>\n",
       "    </tr>\n",
       "    <tr>\n",
       "      <th>VAT deductible</th>\n",
       "      <td>10980</td>\n",
       "      <td>9</td>\n",
       "      <td>Sedans</td>\n",
       "      <td>5248</td>\n",
       "      <td>10980</td>\n",
       "      <td>5</td>\n",
       "      <td>Used</td>\n",
       "      <td>6787</td>\n",
       "      <td>10980</td>\n",
       "      <td>3</td>\n",
       "      <td>Opel</td>\n",
       "      <td>5415</td>\n",
       "      <td>10980</td>\n",
       "      <td>9</td>\n",
       "      <td>A3</td>\n",
       "      <td>2209</td>\n",
       "      <td>10586</td>\n",
       "      <td>13</td>\n",
       "      <td>Black</td>\n",
       "      <td>2704</td>\n",
       "      <td>7558</td>\n",
       "      <td>3</td>\n",
       "      <td>Metallic</td>\n",
       "      <td>7312</td>\n",
       "      <td>9543</td>\n",
       "      <td>1568</td>\n",
       "      <td>Onyx Schwarz</td>\n",
       "      <td>314</td>\n",
       "      <td>9780</td>\n",
       "      <td>6</td>\n",
       "      <td>Cloth</td>\n",
       "      <td>7404</td>\n",
       "      <td>10980</td>\n",
       "      <td>3</td>\n",
       "      <td>Manual</td>\n",
       "      <td>5502</td>\n",
       "      <td>6876</td>\n",
       "      <td>2</td>\n",
       "      <td>front</td>\n",
       "      <td>6762</td>\n",
       "      <td>10980</td>\n",
       "      <td>4</td>\n",
       "      <td>Benzine</td>\n",
       "      <td>6183</td>\n",
       "      <td>8801</td>\n",
       "      <td>6</td>\n",
       "      <td>Euro 6</td>\n",
       "      <td>6915</td>\n",
       "      <td>10811</td>\n",
       "      <td>4368</td>\n",
       "      <td>Air conditioning,Electrical side mirrors,Hill ...</td>\n",
       "      <td>163</td>\n",
       "      <td>10609</td>\n",
       "      <td>300</td>\n",
       "      <td>Bluetooth,Hands-free equipment,On-board comput...</td>\n",
       "      <td>1088</td>\n",
       "      <td>9471</td>\n",
       "      <td>498</td>\n",
       "      <td>Alloy wheels</td>\n",
       "      <td>2092</td>\n",
       "      <td>10782</td>\n",
       "      <td>2973</td>\n",
       "      <td>ABS,Central door lock,Daytime running lights,D...</td>\n",
       "      <td>461</td>\n",
       "      <td>5966</td>\n",
       "      <td>20</td>\n",
       "      <td>Germany</td>\n",
       "      <td>3812</td>\n",
       "    </tr>\n",
       "  </tbody>\n",
       "</table>\n",
       "</div>"
      ],
      "text/plain": [
       "                 body_type                        type                     \\\n",
       "                     count unique     top  freq  count unique   top  freq   \n",
       "vat                                                                         \n",
       "Price negotiable       426      9  Sedans   286    426      3  Used   421   \n",
       "VAT deductible       10980      9  Sedans  5248  10980      5  Used  6787   \n",
       "\n",
       "                   make                     model                  body_color  \\\n",
       "                  count unique   top  freq  count unique top  freq      count   \n",
       "vat                                                                             \n",
       "Price negotiable    426      3  Audi   182    426      7  A3   101        426   \n",
       "VAT deductible    10980      3  Opel  5415  10980      9  A3  2209      10586   \n",
       "\n",
       "                                     paint_type                         \\\n",
       "                 unique    top  freq      count unique       top  freq   \n",
       "vat                                                                      \n",
       "Price negotiable     10  Black   109        245      1  Metallic   245   \n",
       "VAT deductible       13  Black  2704       7558      3  Metallic  7312   \n",
       "\n",
       "                 body_color_original                                         \\\n",
       "                               count unique                        top freq   \n",
       "vat                                                                           \n",
       "Price negotiable                  17     17  Floretzilver (grijs metal    1   \n",
       "VAT deductible                  9543   1568               Onyx Schwarz  314   \n",
       "\n",
       "                 upholstery                     gearing_type                 \\\n",
       "                      count unique    top  freq        count unique     top   \n",
       "vat                                                                           \n",
       "Price negotiable        134      4  Cloth    82          426      3  Manual   \n",
       "VAT deductible         9780      6  Cloth  7404        10980      3  Manual   \n",
       "\n",
       "                       drive_chain                       fuel                  \\\n",
       "                  freq       count unique    top  freq  count unique      top   \n",
       "vat                                                                             \n",
       "Price negotiable   204          95      2  front    92    426      4   Diesel   \n",
       "VAT deductible    5502        6876      2  front  6762  10980      4  Benzine   \n",
       "\n",
       "                       emission_class                       \\\n",
       "                  freq          count unique     top  freq   \n",
       "vat                                                          \n",
       "Price negotiable   223            401      6  Euro 6   361   \n",
       "VAT deductible    6183           8801      6  Euro 6  6915   \n",
       "\n",
       "                 comfort&convenience         \\\n",
       "                               count unique   \n",
       "vat                                           \n",
       "Price negotiable                 423    333   \n",
       "VAT deductible                 10811   4368   \n",
       "\n",
       "                                                                          \\\n",
       "                                                                top freq   \n",
       "vat                                                                        \n",
       "Price negotiable  Air conditioning,Seat ventilation,Split rear s...   15   \n",
       "VAT deductible    Air conditioning,Electrical side mirrors,Hill ...  163   \n",
       "\n",
       "                 entertainment&media         \\\n",
       "                               count unique   \n",
       "vat                                           \n",
       "Price negotiable                 414    100   \n",
       "VAT deductible                 10609    300   \n",
       "\n",
       "                                                                           \\\n",
       "                                                                top  freq   \n",
       "vat                                                                         \n",
       "Price negotiable  Bluetooth,CD player,Hands-free equipment,MP3,O...    32   \n",
       "VAT deductible    Bluetooth,Hands-free equipment,On-board comput...  1088   \n",
       "\n",
       "                 extras                            safety&security         \\\n",
       "                  count unique           top  freq           count unique   \n",
       "vat                                                                         \n",
       "Price negotiable    372    139  Alloy wheels    71             422    298   \n",
       "VAT deductible     9471    498  Alloy wheels  2092           10782   2973   \n",
       "\n",
       "                                                                          \\\n",
       "                                                                top freq   \n",
       "vat                                                                        \n",
       "Price negotiable  ABS,Adaptive Cruise Control,Alarm system,Centr...   12   \n",
       "VAT deductible    ABS,Central door lock,Daytime running lights,D...  461   \n",
       "\n",
       "                 country_version                        \n",
       "                           count unique      top  freq  \n",
       "vat                                                     \n",
       "Price negotiable              43      6    Italy    14  \n",
       "VAT deductible              5966     20  Germany  3812  "
      ]
     },
     "execution_count": 132,
     "metadata": {},
     "output_type": "execute_result"
    }
   ],
   "source": [
    "df.groupby(\"vat\").describe(include=object)"
   ]
  },
  {
   "cell_type": "code",
   "execution_count": 133,
   "metadata": {
    "ExecuteTime": {
     "end_time": "2022-08-03T09:12:13.904908Z",
     "start_time": "2022-08-03T09:12:13.895068Z"
    }
   },
   "outputs": [],
   "source": [
    "df[\"vat\"] = df.vat.fillna(method=\"bfill\")"
   ]
  },
  {
   "cell_type": "code",
   "execution_count": null,
   "metadata": {},
   "outputs": [],
   "source": []
  },
  {
   "cell_type": "code",
   "execution_count": 134,
   "metadata": {
    "ExecuteTime": {
     "end_time": "2022-08-03T09:12:13.919735Z",
     "start_time": "2022-08-03T09:12:13.909874Z"
    }
   },
   "outputs": [
    {
     "data": {
      "text/plain": [
       "0"
      ]
     },
     "execution_count": 134,
     "metadata": {},
     "output_type": "execute_result"
    }
   ],
   "source": [
    "df.vat.isnull().sum()"
   ]
  },
  {
   "cell_type": "code",
   "execution_count": 135,
   "metadata": {
    "ExecuteTime": {
     "end_time": "2022-08-03T09:12:13.935628Z",
     "start_time": "2022-08-03T09:12:13.923692Z"
    }
   },
   "outputs": [
    {
     "data": {
      "text/plain": [
       "VAT deductible      15083\n",
       "Price negotiable      836\n",
       "Name: vat, dtype: int64"
      ]
     },
     "execution_count": 135,
     "metadata": {},
     "output_type": "execute_result"
    }
   ],
   "source": [
    "df.vat.value_counts(dropna=False)"
   ]
  },
  {
   "cell_type": "markdown",
   "metadata": {},
   "source": [
    "## 3.type"
   ]
  },
  {
   "cell_type": "code",
   "execution_count": 136,
   "metadata": {
    "ExecuteTime": {
     "end_time": "2022-08-03T09:12:13.949495Z",
     "start_time": "2022-08-03T09:12:13.939510Z"
    }
   },
   "outputs": [],
   "source": [
    "df[\"type\"] = df.type.fillna(method=\"ffill\")"
   ]
  },
  {
   "cell_type": "code",
   "execution_count": 137,
   "metadata": {
    "ExecuteTime": {
     "end_time": "2022-08-03T09:12:13.972285Z",
     "start_time": "2022-08-03T09:12:13.956530Z"
    }
   },
   "outputs": [
    {
     "data": {
      "text/plain": [
       "0"
      ]
     },
     "execution_count": 137,
     "metadata": {},
     "output_type": "execute_result"
    }
   ],
   "source": [
    "df.type.isnull().sum()"
   ]
  },
  {
   "cell_type": "code",
   "execution_count": null,
   "metadata": {},
   "outputs": [],
   "source": []
  },
  {
   "cell_type": "code",
   "execution_count": null,
   "metadata": {},
   "outputs": [],
   "source": []
  },
  {
   "cell_type": "code",
   "execution_count": null,
   "metadata": {},
   "outputs": [],
   "source": []
  },
  {
   "cell_type": "markdown",
   "metadata": {},
   "source": [
    "## 4.age"
   ]
  },
  {
   "cell_type": "code",
   "execution_count": 138,
   "metadata": {
    "ExecuteTime": {
     "end_time": "2022-08-03T09:12:13.990976Z",
     "start_time": "2022-08-03T09:12:13.977742Z"
    }
   },
   "outputs": [
    {
     "data": {
      "text/plain": [
       "1597"
      ]
     },
     "execution_count": 138,
     "metadata": {},
     "output_type": "execute_result"
    }
   ],
   "source": [
    "df.age.isnull().sum()"
   ]
  },
  {
   "cell_type": "code",
   "execution_count": 139,
   "metadata": {
    "ExecuteTime": {
     "end_time": "2022-08-03T09:12:14.013290Z",
     "start_time": "2022-08-03T09:12:13.997498Z"
    }
   },
   "outputs": [
    {
     "data": {
      "text/plain": [
       "type\n",
       "Demonstration    0.000\n",
       "Employee's car   1.000\n",
       "New              0.000\n",
       "Pre-registered   0.000\n",
       "Used             2.000\n",
       "Name: age, dtype: float64"
      ]
     },
     "execution_count": 139,
     "metadata": {},
     "output_type": "execute_result"
    }
   ],
   "source": [
    "df.groupby(\"type\").age.median()"
   ]
  },
  {
   "cell_type": "code",
   "execution_count": null,
   "metadata": {},
   "outputs": [],
   "source": []
  },
  {
   "cell_type": "code",
   "execution_count": null,
   "metadata": {},
   "outputs": [],
   "source": []
  },
  {
   "cell_type": "code",
   "execution_count": 140,
   "metadata": {
    "ExecuteTime": {
     "end_time": "2022-08-03T09:12:14.046910Z",
     "start_time": "2022-08-03T09:12:14.017586Z"
    }
   },
   "outputs": [
    {
     "data": {
      "text/plain": [
       "1.000    4525\n",
       "0.000    4412\n",
       "3.000    3674\n",
       "2.000    3308\n",
       "Name: age, dtype: int64"
      ]
     },
     "execution_count": 140,
     "metadata": {},
     "output_type": "execute_result"
    }
   ],
   "source": [
    "df.groupby(\"type\").age.apply(lambda x : x.fillna(x.median())).value_counts(dropna=False)"
   ]
  },
  {
   "cell_type": "code",
   "execution_count": null,
   "metadata": {},
   "outputs": [],
   "source": []
  },
  {
   "cell_type": "code",
   "execution_count": 141,
   "metadata": {
    "ExecuteTime": {
     "end_time": "2022-08-03T09:12:14.075938Z",
     "start_time": "2022-08-03T09:12:14.052057Z"
    }
   },
   "outputs": [
    {
     "data": {
      "text/plain": [
       "0"
      ]
     },
     "execution_count": 141,
     "metadata": {},
     "output_type": "execute_result"
    }
   ],
   "source": [
    "df.groupby(\"type\").age.apply(lambda x : x.fillna(x.median())).isnull().sum()"
   ]
  },
  {
   "cell_type": "code",
   "execution_count": 142,
   "metadata": {
    "ExecuteTime": {
     "end_time": "2022-08-03T09:12:14.114650Z",
     "start_time": "2022-08-03T09:12:14.078258Z"
    }
   },
   "outputs": [],
   "source": [
    "df[\"age\"] = df.groupby(\"type\").age.apply(lambda x : x.fillna(x.median()))"
   ]
  },
  {
   "cell_type": "code",
   "execution_count": 143,
   "metadata": {
    "ExecuteTime": {
     "end_time": "2022-08-03T09:12:14.130852Z",
     "start_time": "2022-08-03T09:12:14.120841Z"
    }
   },
   "outputs": [
    {
     "data": {
      "text/plain": [
       "0"
      ]
     },
     "execution_count": 143,
     "metadata": {},
     "output_type": "execute_result"
    }
   ],
   "source": [
    "df[\"age\"].isnull().sum()"
   ]
  },
  {
   "cell_type": "code",
   "execution_count": null,
   "metadata": {},
   "outputs": [],
   "source": []
  },
  {
   "cell_type": "markdown",
   "metadata": {},
   "source": [
    "## 5.km"
   ]
  },
  {
   "cell_type": "code",
   "execution_count": 144,
   "metadata": {
    "ExecuteTime": {
     "end_time": "2022-08-03T09:12:14.151536Z",
     "start_time": "2022-08-03T09:12:14.138579Z"
    }
   },
   "outputs": [
    {
     "name": "stdout",
     "output_type": "stream",
     "text": [
      "column name :  km\n",
      "--------------------------------\n",
      "Per_of_Nulls   :  % 6.43\n",
      "Num_of_Nulls   :  1024\n",
      "10.000       1045\n",
      "NaN          1024\n",
      "1.000         367\n",
      "5.000         170\n",
      "50.000        148\n",
      "             ... \n",
      "67469.000       1\n",
      "43197.000       1\n",
      "10027.000       1\n",
      "35882.000       1\n",
      "57.000          1\n",
      "Name: km, Length: 6690, dtype: int64\n",
      "******************************\n",
      "\n",
      "\n",
      "\n"
     ]
    }
   ],
   "source": [
    "check_df(\"km\")"
   ]
  },
  {
   "cell_type": "code",
   "execution_count": 145,
   "metadata": {
    "ExecuteTime": {
     "end_time": "2022-08-03T09:12:14.195457Z",
     "start_time": "2022-08-03T09:12:14.156558Z"
    }
   },
   "outputs": [
    {
     "data": {
      "text/plain": [
       "0       56013.000\n",
       "1       80000.000\n",
       "2       83450.000\n",
       "3       73000.000\n",
       "4       16200.000\n",
       "           ...   \n",
       "15914      16.987\n",
       "15915    9900.000\n",
       "15916      15.000\n",
       "15917      10.000\n",
       "15918    3373.868\n",
       "Name: km, Length: 15919, dtype: float64"
      ]
     },
     "execution_count": 145,
     "metadata": {},
     "output_type": "execute_result"
    }
   ],
   "source": [
    "a = df.groupby([\"type\", \"age\"])[\"km\"].apply(lambda x : x.fillna(x.mean()))\n",
    "a"
   ]
  },
  {
   "cell_type": "code",
   "execution_count": null,
   "metadata": {},
   "outputs": [],
   "source": []
  },
  {
   "cell_type": "code",
   "execution_count": null,
   "metadata": {},
   "outputs": [],
   "source": []
  },
  {
   "cell_type": "code",
   "execution_count": 146,
   "metadata": {
    "ExecuteTime": {
     "end_time": "2022-08-03T09:12:14.214498Z",
     "start_time": "2022-08-03T09:12:14.198334Z"
    }
   },
   "outputs": [
    {
     "data": {
      "text/plain": [
       "10.000       1045\n",
       "16.987        848\n",
       "1.000         367\n",
       "5.000         170\n",
       "50.000        148\n",
       "             ... \n",
       "53433.000       1\n",
       "67469.000       1\n",
       "43197.000       1\n",
       "10027.000       1\n",
       "57.000          1\n",
       "Name: km, Length: 6699, dtype: int64"
      ]
     },
     "execution_count": 146,
     "metadata": {},
     "output_type": "execute_result"
    }
   ],
   "source": [
    "a.value_counts(dropna=False)"
   ]
  },
  {
   "cell_type": "code",
   "execution_count": 147,
   "metadata": {
    "ExecuteTime": {
     "end_time": "2022-08-03T09:12:14.229094Z",
     "start_time": "2022-08-03T09:12:14.221298Z"
    }
   },
   "outputs": [
    {
     "data": {
      "text/plain": [
       "0"
      ]
     },
     "execution_count": 147,
     "metadata": {},
     "output_type": "execute_result"
    }
   ],
   "source": [
    "a.isnull().sum()"
   ]
  },
  {
   "cell_type": "code",
   "execution_count": 148,
   "metadata": {
    "ExecuteTime": {
     "end_time": "2022-08-03T09:12:14.256270Z",
     "start_time": "2022-08-03T09:12:14.234830Z"
    }
   },
   "outputs": [],
   "source": [
    "df[\"km\"] = df.groupby([\"type\", \"age\"])[\"km\"].apply(lambda x : x.fillna(x.mean()))"
   ]
  },
  {
   "cell_type": "code",
   "execution_count": 149,
   "metadata": {
    "ExecuteTime": {
     "end_time": "2022-08-03T09:12:14.271900Z",
     "start_time": "2022-08-03T09:12:14.261433Z"
    }
   },
   "outputs": [
    {
     "data": {
      "text/plain": [
       "0"
      ]
     },
     "execution_count": 149,
     "metadata": {},
     "output_type": "execute_result"
    }
   ],
   "source": [
    "df.km.isnull().sum()"
   ]
  },
  {
   "cell_type": "markdown",
   "metadata": {},
   "source": [
    "## 6.prev_owner and previous_owners"
   ]
  },
  {
   "cell_type": "code",
   "execution_count": 150,
   "metadata": {
    "ExecuteTime": {
     "end_time": "2022-08-03T09:12:14.288653Z",
     "start_time": "2022-08-03T09:12:14.275125Z"
    }
   },
   "outputs": [
    {
     "name": "stdout",
     "output_type": "stream",
     "text": [
      "column name :  prev_owner\n",
      "--------------------------------\n",
      "Per_of_Nulls   :  % 42.89\n",
      "Num_of_Nulls   :  6828\n",
      "1.000    8294\n",
      "NaN      6828\n",
      "2.000     778\n",
      "3.000      17\n",
      "4.000       2\n",
      "Name: prev_owner, dtype: int64\n",
      "******************************\n",
      "\n",
      "\n",
      "\n"
     ]
    }
   ],
   "source": [
    "check_df(\"prev_owner\")"
   ]
  },
  {
   "cell_type": "code",
   "execution_count": 151,
   "metadata": {
    "ExecuteTime": {
     "end_time": "2022-08-03T09:12:14.302980Z",
     "start_time": "2022-08-03T09:12:14.291995Z"
    }
   },
   "outputs": [
    {
     "name": "stdout",
     "output_type": "stream",
     "text": [
      "column name :  previous_owners\n",
      "--------------------------------\n",
      "Per_of_Nulls   :  % 41.71\n",
      "Num_of_Nulls   :  6640\n",
      "1.000    8294\n",
      "NaN      6640\n",
      "2.000     778\n",
      "0.000     188\n",
      "3.000      17\n",
      "4.000       2\n",
      "Name: previous_owners, dtype: int64\n",
      "******************************\n",
      "\n",
      "\n",
      "\n"
     ]
    }
   ],
   "source": [
    "check_df(\"previous_owners\")"
   ]
  },
  {
   "cell_type": "code",
   "execution_count": 152,
   "metadata": {
    "ExecuteTime": {
     "end_time": "2022-08-03T09:12:14.320889Z",
     "start_time": "2022-08-03T09:12:14.305997Z"
    }
   },
   "outputs": [],
   "source": [
    "df.drop(\"prev_owner\", axis=1, inplace=True)"
   ]
  },
  {
   "cell_type": "code",
   "execution_count": null,
   "metadata": {},
   "outputs": [],
   "source": []
  },
  {
   "cell_type": "code",
   "execution_count": 153,
   "metadata": {
    "ExecuteTime": {
     "end_time": "2022-08-03T09:12:14.350498Z",
     "start_time": "2022-08-03T09:12:14.336914Z"
    },
    "scrolled": true
   },
   "outputs": [
    {
     "data": {
      "text/plain": [
       "age    previous_owners\n",
       "0.000  NaN                2653\n",
       "       1.000              1585\n",
       "       0.000               164\n",
       "       2.000                10\n",
       "1.000  1.000              2968\n",
       "       NaN                1474\n",
       "       2.000                75\n",
       "       0.000                 8\n",
       "2.000  1.000              1715\n",
       "       NaN                1283\n",
       "       2.000               296\n",
       "       3.000                 7\n",
       "       0.000                 6\n",
       "       4.000                 1\n",
       "3.000  1.000              2026\n",
       "       NaN                1230\n",
       "       2.000               397\n",
       "       0.000                10\n",
       "       3.000                10\n",
       "       4.000                 1\n",
       "Name: previous_owners, dtype: int64"
      ]
     },
     "execution_count": 153,
     "metadata": {},
     "output_type": "execute_result"
    }
   ],
   "source": [
    "df.groupby(\"age\")[\"previous_owners\"].value_counts(dropna=False)"
   ]
  },
  {
   "cell_type": "code",
   "execution_count": 154,
   "metadata": {
    "ExecuteTime": {
     "end_time": "2022-08-03T09:12:14.389599Z",
     "start_time": "2022-08-03T09:12:14.353335Z"
    }
   },
   "outputs": [
    {
     "data": {
      "text/plain": [
       "1.000    14934\n",
       "2.000      778\n",
       "0.000      188\n",
       "3.000       17\n",
       "4.000        2\n",
       "Name: previous_owners, dtype: int64"
      ]
     },
     "execution_count": 154,
     "metadata": {},
     "output_type": "execute_result"
    }
   ],
   "source": [
    "df.groupby(\"age\")[\"previous_owners\"].apply(lambda x: x.fillna(x.mode()[0])).value_counts()"
   ]
  },
  {
   "cell_type": "code",
   "execution_count": 155,
   "metadata": {
    "ExecuteTime": {
     "end_time": "2022-08-03T09:12:14.419069Z",
     "start_time": "2022-08-03T09:12:14.393779Z"
    }
   },
   "outputs": [
    {
     "data": {
      "text/plain": [
       "1.000    13463\n",
       "0.000     1659\n",
       "2.000      778\n",
       "3.000       17\n",
       "4.000        2\n",
       "Name: previous_owners, dtype: int64"
      ]
     },
     "execution_count": 155,
     "metadata": {},
     "output_type": "execute_result"
    }
   ],
   "source": [
    "df.groupby(\"type\")[\"previous_owners\"].apply(lambda x: x.fillna(x.mode()[0])).value_counts()"
   ]
  },
  {
   "cell_type": "code",
   "execution_count": 156,
   "metadata": {
    "ExecuteTime": {
     "end_time": "2022-08-03T09:12:14.459853Z",
     "start_time": "2022-08-03T09:12:14.426758Z"
    }
   },
   "outputs": [
    {
     "data": {
      "text/plain": [
       "1.000    13465\n",
       "0.000     1657\n",
       "2.000      778\n",
       "3.000       17\n",
       "4.000        2\n",
       "Name: previous_owners, dtype: int64"
      ]
     },
     "execution_count": 156,
     "metadata": {},
     "output_type": "execute_result"
    }
   ],
   "source": [
    "df.groupby([\"age\", \"type\"])[\"previous_owners\"].apply(lambda x: x.fillna(x.mode()[0])).value_counts()"
   ]
  },
  {
   "cell_type": "code",
   "execution_count": 157,
   "metadata": {
    "ExecuteTime": {
     "end_time": "2022-08-03T09:12:14.485656Z",
     "start_time": "2022-08-03T09:12:14.465455Z"
    }
   },
   "outputs": [],
   "source": [
    "df[\"previous_owners\"] = df.groupby(\"type\")[\"previous_owners\"].apply(lambda x: x.fillna(x.mode()[0]))"
   ]
  },
  {
   "cell_type": "code",
   "execution_count": 158,
   "metadata": {
    "ExecuteTime": {
     "end_time": "2022-08-03T09:12:14.504774Z",
     "start_time": "2022-08-03T09:12:14.492182Z"
    }
   },
   "outputs": [
    {
     "data": {
      "text/plain": [
       "0"
      ]
     },
     "execution_count": 158,
     "metadata": {},
     "output_type": "execute_result"
    }
   ],
   "source": [
    "df.previous_owners.isnull().sum()"
   ]
  },
  {
   "cell_type": "code",
   "execution_count": null,
   "metadata": {},
   "outputs": [],
   "source": []
  },
  {
   "cell_type": "markdown",
   "metadata": {},
   "source": [
    "## 7.hp_kW"
   ]
  },
  {
   "cell_type": "code",
   "execution_count": 159,
   "metadata": {
    "ExecuteTime": {
     "end_time": "2022-08-03T09:12:14.523139Z",
     "start_time": "2022-08-03T09:12:14.510426Z"
    },
    "scrolled": true
   },
   "outputs": [
    {
     "name": "stdout",
     "output_type": "stream",
     "text": [
      "column name :  hp_kW\n",
      "--------------------------------\n",
      "Per_of_Nulls   :  % 0.55\n",
      "Num_of_Nulls   :  88\n",
      "85.000     2542\n",
      "66.000     2122\n",
      "81.000     1402\n",
      "100.000    1308\n",
      "110.000    1112\n",
      "70.000      888\n",
      "125.000     707\n",
      "51.000      695\n",
      "55.000      569\n",
      "118.000     516\n",
      "92.000      466\n",
      "121.000     392\n",
      "147.000     380\n",
      "77.000      345\n",
      "56.000      286\n",
      "54.000      276\n",
      "103.000     253\n",
      "87.000      232\n",
      "165.000     194\n",
      "88.000      177\n",
      "60.000      160\n",
      "162.000      98\n",
      "NaN          88\n",
      "74.000       81\n",
      "96.000       72\n",
      "71.000       59\n",
      "101.000      47\n",
      "67.000       40\n",
      "154.000      39\n",
      "122.000      35\n",
      "119.000      30\n",
      "164.000      27\n",
      "135.000      24\n",
      "82.000       22\n",
      "52.000       22\n",
      "78.000       20\n",
      "1.000        20\n",
      "294.000      18\n",
      "146.000      18\n",
      "141.000      16\n",
      "57.000       10\n",
      "104.000       8\n",
      "120.000       8\n",
      "191.000       7\n",
      "112.000       7\n",
      "155.000       6\n",
      "117.000       6\n",
      "184.000       5\n",
      "90.000        4\n",
      "76.000        4\n",
      "65.000        4\n",
      "149.000       3\n",
      "80.000        3\n",
      "168.000       3\n",
      "98.000        3\n",
      "93.000        3\n",
      "228.000       2\n",
      "270.000       2\n",
      "53.000        2\n",
      "140.000       2\n",
      "86.000        2\n",
      "167.000       2\n",
      "127.000       2\n",
      "89.000        2\n",
      "143.000       2\n",
      "63.000        2\n",
      "40.000        2\n",
      "150.000       2\n",
      "163.000       1\n",
      "115.000       1\n",
      "132.000       1\n",
      "75.000        1\n",
      "4.000         1\n",
      "137.000       1\n",
      "123.000       1\n",
      "133.000       1\n",
      "84.000        1\n",
      "195.000       1\n",
      "44.000        1\n",
      "239.000       1\n",
      "9.000         1\n",
      "Name: hp_kW, dtype: int64\n",
      "******************************\n",
      "\n",
      "\n",
      "\n"
     ]
    }
   ],
   "source": [
    "check_df(\"hp_kW\")"
   ]
  },
  {
   "cell_type": "code",
   "execution_count": null,
   "metadata": {},
   "outputs": [],
   "source": []
  },
  {
   "cell_type": "code",
   "execution_count": 160,
   "metadata": {
    "ExecuteTime": {
     "end_time": "2022-08-03T09:12:14.573313Z",
     "start_time": "2022-08-03T09:12:14.527785Z"
    }
   },
   "outputs": [
    {
     "data": {
      "text/plain": [
       "0"
      ]
     },
     "execution_count": 160,
     "metadata": {},
     "output_type": "execute_result"
    }
   ],
   "source": [
    "df.groupby([\"make\", \"model\", \"body_type\"])[\"hp_kW\"].apply(lambda x: x.fillna(x.median())).isnull().sum()"
   ]
  },
  {
   "cell_type": "code",
   "execution_count": null,
   "metadata": {},
   "outputs": [],
   "source": []
  },
  {
   "cell_type": "code",
   "execution_count": null,
   "metadata": {},
   "outputs": [],
   "source": []
  },
  {
   "cell_type": "code",
   "execution_count": 161,
   "metadata": {
    "ExecuteTime": {
     "end_time": "2022-08-03T09:12:14.610276Z",
     "start_time": "2022-08-03T09:12:14.576870Z"
    }
   },
   "outputs": [],
   "source": [
    "df[\"hp_kW\"] = df.groupby([\"make\", \"model\", \"body_type\"])[\"hp_kW\"].apply(lambda x: x.fillna(x.median()))"
   ]
  },
  {
   "cell_type": "code",
   "execution_count": null,
   "metadata": {},
   "outputs": [],
   "source": []
  },
  {
   "cell_type": "code",
   "execution_count": null,
   "metadata": {},
   "outputs": [],
   "source": []
  },
  {
   "cell_type": "code",
   "execution_count": 162,
   "metadata": {
    "ExecuteTime": {
     "end_time": "2022-08-03T09:12:14.626609Z",
     "start_time": "2022-08-03T09:12:14.616187Z"
    }
   },
   "outputs": [
    {
     "data": {
      "text/plain": [
       "0"
      ]
     },
     "execution_count": 162,
     "metadata": {},
     "output_type": "execute_result"
    }
   ],
   "source": [
    "df[\"hp_kW\"].isnull().sum()"
   ]
  },
  {
   "cell_type": "code",
   "execution_count": null,
   "metadata": {},
   "outputs": [],
   "source": []
  },
  {
   "cell_type": "code",
   "execution_count": null,
   "metadata": {},
   "outputs": [],
   "source": []
  },
  {
   "cell_type": "code",
   "execution_count": null,
   "metadata": {},
   "outputs": [],
   "source": []
  },
  {
   "cell_type": "markdown",
   "metadata": {},
   "source": [
    "## 8.warranty"
   ]
  },
  {
   "cell_type": "code",
   "execution_count": 168,
   "metadata": {
    "ExecuteTime": {
     "end_time": "2022-08-03T09:13:52.589389Z",
     "start_time": "2022-08-03T09:13:52.584587Z"
    }
   },
   "outputs": [],
   "source": [
    "# We made a search on the internet. We found at not all the cars on the autoscout platform have a warranty.\n",
    "# We got contact with autoscout officials on the meaning of NaN values of warranty column in the dataset \n",
    "# and they stated that every new car has a warranty but not all used cars have a warranty. \n",
    "# So we have filled all of the used cars to '0' and apllied fillna method for other values median of the \"warranty\" column values by groupby value of the \"type\" and \"age\" column."
   ]
  },
  {
   "cell_type": "code",
   "execution_count": 169,
   "metadata": {
    "ExecuteTime": {
     "end_time": "2022-08-03T09:13:52.610070Z",
     "start_time": "2022-08-03T09:13:52.599886Z"
    },
    "scrolled": true
   },
   "outputs": [
    {
     "data": {
      "text/plain": [
       "11066"
      ]
     },
     "execution_count": 169,
     "metadata": {},
     "output_type": "execute_result"
    }
   ],
   "source": [
    "df.warranty.isnull().sum()"
   ]
  },
  {
   "cell_type": "code",
   "execution_count": null,
   "metadata": {},
   "outputs": [],
   "source": []
  },
  {
   "cell_type": "code",
   "execution_count": 170,
   "metadata": {
    "ExecuteTime": {
     "end_time": "2022-08-03T09:13:52.631888Z",
     "start_time": "2022-08-03T09:13:52.615406Z"
    }
   },
   "outputs": [
    {
     "data": {
      "text/plain": [
       "make     model     age  \n",
       "Audi     A1        0.000   27.971\n",
       "                   1.000   26.300\n",
       "                   2.000   17.679\n",
       "                   3.000   13.926\n",
       "         A2        1.000      NaN\n",
       "         A3        0.000   27.697\n",
       "                   1.000   21.707\n",
       "                   2.000   16.655\n",
       "                   3.000   17.112\n",
       "Opel     Astra     0.000   37.804\n",
       "                   1.000   25.795\n",
       "                   2.000   14.988\n",
       "                   3.000   24.797\n",
       "         Corsa     0.000   27.472\n",
       "                   1.000   17.355\n",
       "                   2.000   22.231\n",
       "                   3.000   27.061\n",
       "         Insignia  0.000   31.863\n",
       "                   1.000   25.348\n",
       "                   2.000   17.058\n",
       "                   3.000   15.225\n",
       "Renault  Clio      0.000   35.510\n",
       "                   1.000   15.686\n",
       "                   2.000   16.733\n",
       "                   3.000   10.864\n",
       "         Duster    0.000   12.000\n",
       "         Espace    0.000   37.226\n",
       "                   1.000   22.524\n",
       "                   2.000   15.922\n",
       "                   3.000   12.482\n",
       "Name: warranty, dtype: float64"
      ]
     },
     "execution_count": 170,
     "metadata": {},
     "output_type": "execute_result"
    }
   ],
   "source": [
    "df.groupby([\"make\", \"model\", \"age\"])[\"warranty\"].mean()"
   ]
  },
  {
   "cell_type": "code",
   "execution_count": 171,
   "metadata": {
    "ExecuteTime": {
     "end_time": "2022-08-03T09:13:52.649334Z",
     "start_time": "2022-08-03T09:13:52.637093Z"
    }
   },
   "outputs": [
    {
     "data": {
      "text/plain": [
       "age\n",
       "0.000   30.511\n",
       "1.000   22.549\n",
       "2.000   17.345\n",
       "3.000   17.302\n",
       "Name: warranty, dtype: float64"
      ]
     },
     "execution_count": 171,
     "metadata": {},
     "output_type": "execute_result"
    }
   ],
   "source": [
    "df.groupby(\"age\")[\"warranty\"].mean()"
   ]
  },
  {
   "cell_type": "code",
   "execution_count": 172,
   "metadata": {
    "ExecuteTime": {
     "end_time": "2022-08-03T09:13:52.664504Z",
     "start_time": "2022-08-03T09:13:52.653662Z"
    }
   },
   "outputs": [
    {
     "data": {
      "text/plain": [
       "age\n",
       "0.000   24.000\n",
       "1.000   12.000\n",
       "2.000   12.000\n",
       "3.000   12.000\n",
       "Name: warranty, dtype: float64"
      ]
     },
     "execution_count": 172,
     "metadata": {},
     "output_type": "execute_result"
    }
   ],
   "source": [
    "df.groupby(\"age\")[\"warranty\"].median()"
   ]
  },
  {
   "cell_type": "code",
   "execution_count": 173,
   "metadata": {
    "ExecuteTime": {
     "end_time": "2022-08-03T09:13:52.681373Z",
     "start_time": "2022-08-03T09:13:52.668747Z"
    }
   },
   "outputs": [
    {
     "data": {
      "text/plain": [
       "NaN       11066\n",
       "12.000     2594\n",
       "24.000     1118\n",
       "60.000      401\n",
       "36.000      279\n",
       "48.000      149\n",
       "6.000       125\n",
       "72.000       59\n",
       "3.000        33\n",
       "23.000       11\n",
       "18.000       10\n",
       "20.000        7\n",
       "25.000        6\n",
       "2.000         5\n",
       "50.000        4\n",
       "26.000        4\n",
       "16.000        4\n",
       "4.000         3\n",
       "1.000         3\n",
       "19.000        3\n",
       "34.000        3\n",
       "13.000        3\n",
       "28.000        2\n",
       "22.000        2\n",
       "14.000        2\n",
       "11.000        2\n",
       "46.000        2\n",
       "21.000        2\n",
       "9.000         2\n",
       "17.000        2\n",
       "45.000        2\n",
       "33.000        1\n",
       "40.000        1\n",
       "65.000        1\n",
       "10.000        1\n",
       "15.000        1\n",
       "7.000         1\n",
       "8.000         1\n",
       "56.000        1\n",
       "49.000        1\n",
       "47.000        1\n",
       "30.000        1\n",
       "Name: warranty, dtype: int64"
      ]
     },
     "execution_count": 173,
     "metadata": {},
     "output_type": "execute_result"
    }
   ],
   "source": [
    "df[\"warranty\"].value_counts(dropna=False)"
   ]
  },
  {
   "cell_type": "code",
   "execution_count": 174,
   "metadata": {
    "ExecuteTime": {
     "end_time": "2022-08-03T09:13:52.697195Z",
     "start_time": "2022-08-03T09:13:52.686393Z"
    }
   },
   "outputs": [],
   "source": [
    "df[\"warranty\"] = df[\"warranty\"].replace(to_replace=np.nan, value=0).astype(\"float\")"
   ]
  },
  {
   "cell_type": "code",
   "execution_count": 175,
   "metadata": {
    "ExecuteTime": {
     "end_time": "2022-08-03T09:13:52.711795Z",
     "start_time": "2022-08-03T09:13:52.700574Z"
    }
   },
   "outputs": [],
   "source": [
    "df.loc[df[\"warranty\"] != 0, \"warranty\"] = 1"
   ]
  },
  {
   "cell_type": "code",
   "execution_count": 176,
   "metadata": {
    "ExecuteTime": {
     "end_time": "2022-08-03T09:13:52.725962Z",
     "start_time": "2022-08-03T09:13:52.716732Z"
    }
   },
   "outputs": [
    {
     "data": {
      "text/plain": [
       "0"
      ]
     },
     "execution_count": 176,
     "metadata": {},
     "output_type": "execute_result"
    }
   ],
   "source": [
    "df.warranty.isnull().sum()"
   ]
  },
  {
   "cell_type": "code",
   "execution_count": 177,
   "metadata": {
    "ExecuteTime": {
     "end_time": "2022-08-03T09:13:52.745047Z",
     "start_time": "2022-08-03T09:13:52.729612Z"
    },
    "scrolled": true
   },
   "outputs": [
    {
     "data": {
      "text/plain": [
       "0.000    11066\n",
       "1.000     4853\n",
       "Name: warranty, dtype: int64"
      ]
     },
     "execution_count": 177,
     "metadata": {},
     "output_type": "execute_result"
    }
   ],
   "source": [
    "df.warranty.value_counts()"
   ]
  },
  {
   "cell_type": "code",
   "execution_count": null,
   "metadata": {},
   "outputs": [],
   "source": []
  },
  {
   "cell_type": "code",
   "execution_count": null,
   "metadata": {},
   "outputs": [],
   "source": []
  },
  {
   "cell_type": "markdown",
   "metadata": {},
   "source": [
    "## 9.body_color"
   ]
  },
  {
   "cell_type": "code",
   "execution_count": 178,
   "metadata": {
    "ExecuteTime": {
     "end_time": "2022-08-03T09:13:52.764657Z",
     "start_time": "2022-08-03T09:13:52.750745Z"
    }
   },
   "outputs": [
    {
     "name": "stdout",
     "output_type": "stream",
     "text": [
      "column name :  body_color\n",
      "--------------------------------\n",
      "Per_of_Nulls   :  % 3.75\n",
      "Num_of_Nulls   :  597\n",
      "Black     3745\n",
      "Grey      3505\n",
      "White     3406\n",
      "Silver    1647\n",
      "Blue      1431\n",
      "Red        957\n",
      "NaN        597\n",
      "Brown      289\n",
      "Green      154\n",
      "Beige      108\n",
      "Yellow      51\n",
      "Violet      18\n",
      "Bronze       6\n",
      "Orange       3\n",
      "Gold         2\n",
      "Name: body_color, dtype: int64\n",
      "******************************\n",
      "\n",
      "\n",
      "\n"
     ]
    }
   ],
   "source": [
    "check_df(\"body_color\")"
   ]
  },
  {
   "cell_type": "code",
   "execution_count": 179,
   "metadata": {
    "ExecuteTime": {
     "end_time": "2022-08-03T09:13:52.780980Z",
     "start_time": "2022-08-03T09:13:52.768142Z"
    }
   },
   "outputs": [
    {
     "data": {
      "text/plain": [
       "Black     3888\n",
       "Grey      3638\n",
       "White     3540\n",
       "Silver    1687\n",
       "Blue      1524\n",
       "Red        989\n",
       "Brown      299\n",
       "Green      163\n",
       "Beige      108\n",
       "Yellow      53\n",
       "Violet      18\n",
       "Bronze       7\n",
       "Orange       3\n",
       "Gold         2\n",
       "Name: body_color, dtype: int64"
      ]
     },
     "execution_count": 179,
     "metadata": {},
     "output_type": "execute_result"
    }
   ],
   "source": [
    "df.body_color.fillna(method=\"backfill\").value_counts(dropna=False)"
   ]
  },
  {
   "cell_type": "code",
   "execution_count": 180,
   "metadata": {
    "ExecuteTime": {
     "end_time": "2022-08-03T09:13:52.797178Z",
     "start_time": "2022-08-03T09:13:52.785252Z"
    }
   },
   "outputs": [
    {
     "data": {
      "text/plain": [
       "Black     3877\n",
       "Grey      3614\n",
       "White     3531\n",
       "Silver    1705\n",
       "Blue      1535\n",
       "Red        998\n",
       "Brown      298\n",
       "Green      163\n",
       "Beige      114\n",
       "Yellow      54\n",
       "Violet      19\n",
       "Bronze       6\n",
       "Orange       3\n",
       "Gold         2\n",
       "Name: body_color, dtype: int64"
      ]
     },
     "execution_count": 180,
     "metadata": {},
     "output_type": "execute_result"
    }
   ],
   "source": [
    "df.body_color.fillna(method=\"ffill\").value_counts(dropna=False)"
   ]
  },
  {
   "cell_type": "code",
   "execution_count": null,
   "metadata": {},
   "outputs": [],
   "source": []
  },
  {
   "cell_type": "code",
   "execution_count": 181,
   "metadata": {
    "ExecuteTime": {
     "end_time": "2022-08-03T09:13:52.810586Z",
     "start_time": "2022-08-03T09:13:52.803735Z"
    }
   },
   "outputs": [],
   "source": [
    "df[\"body_color\"] = df.body_color.fillna(method=\"backfill\")"
   ]
  },
  {
   "cell_type": "code",
   "execution_count": 182,
   "metadata": {
    "ExecuteTime": {
     "end_time": "2022-08-03T09:13:52.823520Z",
     "start_time": "2022-08-03T09:13:52.815868Z"
    }
   },
   "outputs": [
    {
     "data": {
      "text/plain": [
       "0"
      ]
     },
     "execution_count": 182,
     "metadata": {},
     "output_type": "execute_result"
    }
   ],
   "source": [
    "df[\"body_type\"].isnull().sum()"
   ]
  },
  {
   "cell_type": "markdown",
   "metadata": {},
   "source": [
    "## 10.paint_type"
   ]
  },
  {
   "cell_type": "code",
   "execution_count": 183,
   "metadata": {
    "ExecuteTime": {
     "end_time": "2022-08-03T09:13:52.843266Z",
     "start_time": "2022-08-03T09:13:52.832570Z"
    }
   },
   "outputs": [
    {
     "name": "stdout",
     "output_type": "stream",
     "text": [
      "column name :  paint_type\n",
      "--------------------------------\n",
      "Per_of_Nulls   :  % 36.26\n",
      "Num_of_Nulls   :  5772\n",
      "Metallic       9794\n",
      "NaN            5772\n",
      "Uni/basic       347\n",
      "Perl effect       6\n",
      "Name: paint_type, dtype: int64\n",
      "******************************\n",
      "\n",
      "\n",
      "\n"
     ]
    }
   ],
   "source": [
    "check_df(\"paint_type\")"
   ]
  },
  {
   "cell_type": "code",
   "execution_count": 184,
   "metadata": {
    "ExecuteTime": {
     "end_time": "2022-08-03T09:13:52.867210Z",
     "start_time": "2022-08-03T09:13:52.850423Z"
    }
   },
   "outputs": [
    {
     "data": {
      "text/plain": [
       "NaN                            1670\n",
       "Brillantschwarz                 179\n",
       "Bianco                          163\n",
       "wählbar - ggf. mit Aufpreis     118\n",
       "Blanco                          110\n",
       "                               ... \n",
       "schnee-weiss                      1\n",
       "schneeweiß/schwarz                1\n",
       "rouge eclat                       1\n",
       "Gris Cosmique                     1\n",
       "Cosmos Blau Met                   1\n",
       "Name: body_color_original, Length: 624, dtype: int64"
      ]
     },
     "execution_count": 184,
     "metadata": {},
     "output_type": "execute_result"
    }
   ],
   "source": [
    "df[df.paint_type.isnull()][\"body_color_original\"].value_counts(dropna=False)"
   ]
  },
  {
   "cell_type": "code",
   "execution_count": 185,
   "metadata": {
    "ExecuteTime": {
     "end_time": "2022-08-03T09:13:52.885884Z",
     "start_time": "2022-08-03T09:13:52.872132Z"
    }
   },
   "outputs": [
    {
     "data": {
      "text/plain": [
       "Metallic       15261\n",
       "Uni/basic        617\n",
       "Perl effect       41\n",
       "Name: paint_type, dtype: int64"
      ]
     },
     "execution_count": 185,
     "metadata": {},
     "output_type": "execute_result"
    }
   ],
   "source": [
    "df.paint_type.fillna(method=\"pad\").value_counts(dropna=False)"
   ]
  },
  {
   "cell_type": "code",
   "execution_count": 186,
   "metadata": {
    "ExecuteTime": {
     "end_time": "2022-08-03T09:13:52.906561Z",
     "start_time": "2022-08-03T09:13:52.892209Z"
    }
   },
   "outputs": [
    {
     "data": {
      "text/plain": [
       "Metallic       15343\n",
       "Uni/basic        555\n",
       "Perl effect       21\n",
       "Name: paint_type, dtype: int64"
      ]
     },
     "execution_count": 186,
     "metadata": {},
     "output_type": "execute_result"
    }
   ],
   "source": [
    "df.paint_type.fillna(method=\"bfill\").value_counts(dropna=False)"
   ]
  },
  {
   "cell_type": "code",
   "execution_count": 187,
   "metadata": {
    "ExecuteTime": {
     "end_time": "2022-08-03T09:13:52.938862Z",
     "start_time": "2022-08-03T09:13:52.911276Z"
    }
   },
   "outputs": [
    {
     "data": {
      "text/plain": [
       "Metallic       9794\n",
       "NaN            5772\n",
       "Uni/basic       347\n",
       "Perl effect       6\n",
       "Name: paint_type, dtype: int64"
      ]
     },
     "execution_count": 187,
     "metadata": {},
     "output_type": "execute_result"
    }
   ],
   "source": [
    "df.paint_type.value_counts(dropna=False)"
   ]
  },
  {
   "cell_type": "code",
   "execution_count": 188,
   "metadata": {
    "ExecuteTime": {
     "end_time": "2022-08-03T09:13:52.953861Z",
     "start_time": "2022-08-03T09:13:52.944473Z"
    }
   },
   "outputs": [],
   "source": [
    "df.paint_type = df.paint_type.fillna(method=\"pad\")"
   ]
  },
  {
   "cell_type": "code",
   "execution_count": 189,
   "metadata": {
    "ExecuteTime": {
     "end_time": "2022-08-03T09:13:52.973710Z",
     "start_time": "2022-08-03T09:13:52.957335Z"
    }
   },
   "outputs": [
    {
     "data": {
      "text/plain": [
       "0"
      ]
     },
     "execution_count": 189,
     "metadata": {},
     "output_type": "execute_result"
    }
   ],
   "source": [
    "df.paint_type.isnull().sum()"
   ]
  },
  {
   "cell_type": "code",
   "execution_count": null,
   "metadata": {},
   "outputs": [],
   "source": []
  },
  {
   "cell_type": "markdown",
   "metadata": {},
   "source": [
    "## 11.body_color_original"
   ]
  },
  {
   "cell_type": "code",
   "execution_count": 190,
   "metadata": {
    "ExecuteTime": {
     "end_time": "2022-08-03T09:13:52.983172Z",
     "start_time": "2022-08-03T09:13:52.979189Z"
    }
   },
   "outputs": [],
   "source": [
    "# Since this column contains irrelevant values and the values are in German, \n",
    "# we have dropped this column."
   ]
  },
  {
   "cell_type": "code",
   "execution_count": 191,
   "metadata": {
    "ExecuteTime": {
     "end_time": "2022-08-03T09:13:53.009008Z",
     "start_time": "2022-08-03T09:13:52.990490Z"
    }
   },
   "outputs": [],
   "source": [
    "df.drop(columns=\"body_color_original\", inplace=True)"
   ]
  },
  {
   "cell_type": "markdown",
   "metadata": {},
   "source": [
    "## 12.upholstery"
   ]
  },
  {
   "cell_type": "code",
   "execution_count": 192,
   "metadata": {
    "ExecuteTime": {
     "end_time": "2022-08-03T09:13:53.032672Z",
     "start_time": "2022-08-03T09:13:53.019029Z"
    }
   },
   "outputs": [
    {
     "name": "stdout",
     "output_type": "stream",
     "text": [
      "column name :  upholstery\n",
      "--------------------------------\n",
      "Per_of_Nulls   :  % 23.37\n",
      "Num_of_Nulls   :  3720\n",
      "Cloth           9206\n",
      "NaN             3720\n",
      "Part leather    1499\n",
      "Full leather    1009\n",
      "Other            368\n",
      "Velour            60\n",
      "alcantara         57\n",
      "Name: upholstery, dtype: int64\n",
      "******************************\n",
      "\n",
      "\n",
      "\n"
     ]
    }
   ],
   "source": [
    "check_df(\"upholstery\")"
   ]
  },
  {
   "cell_type": "code",
   "execution_count": null,
   "metadata": {},
   "outputs": [],
   "source": []
  },
  {
   "cell_type": "code",
   "execution_count": null,
   "metadata": {},
   "outputs": [],
   "source": []
  },
  {
   "cell_type": "code",
   "execution_count": 193,
   "metadata": {
    "ExecuteTime": {
     "end_time": "2022-08-03T09:13:53.060934Z",
     "start_time": "2022-08-03T09:13:53.038805Z"
    }
   },
   "outputs": [
    {
     "data": {
      "text/plain": [
       "Index(['body_type', 'price_€', 'vat', 'km', 'hp_kW', 'type', 'previous_owners',\n",
       "       'warranty', 'make', 'model', 'body_color', 'paint_type', 'upholstery',\n",
       "       'nr_of_doors', 'nr_of_seats', 'gearing_type', 'engine_displacement_cc',\n",
       "       'cylinders', 'weight_kg', 'drive_chain', 'fuel', 'co2e_g',\n",
       "       'emission_class', 'comfort&convenience', 'entertainment&media',\n",
       "       'extras', 'safety&security', 'gears', 'country_version',\n",
       "       'consumption_comb', 'consumption_city', 'consumption_country', 'age'],\n",
       "      dtype='object')"
      ]
     },
     "execution_count": 193,
     "metadata": {},
     "output_type": "execute_result"
    }
   ],
   "source": [
    "df.columns"
   ]
  },
  {
   "cell_type": "code",
   "execution_count": 194,
   "metadata": {
    "ExecuteTime": {
     "end_time": "2022-08-03T09:13:53.080242Z",
     "start_time": "2022-08-03T09:13:53.072370Z"
    }
   },
   "outputs": [],
   "source": [
    "import re"
   ]
  },
  {
   "cell_type": "code",
   "execution_count": 195,
   "metadata": {
    "ExecuteTime": {
     "end_time": "2022-08-03T09:13:53.102184Z",
     "start_time": "2022-08-03T09:13:53.086074Z"
    }
   },
   "outputs": [],
   "source": [
    "def get_diff_category_column(Series:pd.Series, exclude=''',/\\n''', pattern=r'''[,\\n]| /''', strip='''\\n' \"!?|.,*+-_/]['''):\n",
    "    \"\"\"\n",
    "    exclude  - satırlar da kategori ayırım yerleri\n",
    "    pattern  - satırdaki veriyi ayırma regex\n",
    "    strip    - alakasız işaretleri kaldırma\n",
    "    \"\"\"\n",
    "    import re\n",
    "    column = Series.dropna().apply(str).str.strip(strip)\n",
    "    diff_value = list()\n",
    "    for row in column:\n",
    "        if not any(x in exclude for x in row) and row not in diff_value:\n",
    "            diff_value.append(row)\n",
    "        else:\n",
    "            for data in map(lambda x: x.strip(strip), filter(None, re.split(pattern, row))):\n",
    "                if data not in diff_value:\n",
    "                    diff_value.append(data)\n",
    "    return dict(enumerate(sorted(diff_value)))"
   ]
  },
  {
   "cell_type": "code",
   "execution_count": null,
   "metadata": {},
   "outputs": [],
   "source": []
  },
  {
   "cell_type": "code",
   "execution_count": null,
   "metadata": {},
   "outputs": [],
   "source": []
  },
  {
   "cell_type": "code",
   "execution_count": 196,
   "metadata": {
    "ExecuteTime": {
     "end_time": "2022-08-03T09:13:53.463584Z",
     "start_time": "2022-08-03T09:13:53.114681Z"
    }
   },
   "outputs": [
    {
     "data": {
      "text/plain": [
       "{0: 'Air conditioning',\n",
       " 1: 'Air suspension',\n",
       " 2: 'Armrest',\n",
       " 3: 'Automatic climate control',\n",
       " 4: 'Auxiliary heating',\n",
       " 5: 'Cruise control',\n",
       " 6: 'Electric Starter',\n",
       " 7: 'Electric tailgate',\n",
       " 8: 'Electrical side mirrors',\n",
       " 9: 'Electrically adjustable seats',\n",
       " 10: 'Electrically heated windshield',\n",
       " 11: 'Heads-up display',\n",
       " 12: 'Heated steering wheel',\n",
       " 13: 'Hill Holder',\n",
       " 14: 'Keyless central door lock',\n",
       " 15: 'Leather seats',\n",
       " 16: 'Leather steering wheel',\n",
       " 17: 'Light sensor',\n",
       " 18: 'Lumbar support',\n",
       " 19: 'Massage seats',\n",
       " 20: 'Multi-function steering wheel',\n",
       " 21: 'Navigation system',\n",
       " 22: 'Panorama roof',\n",
       " 23: 'Park Distance Control',\n",
       " 24: 'Parking assist system camera',\n",
       " 25: 'Parking assist system self-steering',\n",
       " 26: 'Parking assist system sensors front',\n",
       " 27: 'Parking assist system sensors rear',\n",
       " 28: 'Power windows',\n",
       " 29: 'Rain sensor',\n",
       " 30: 'Seat heating',\n",
       " 31: 'Seat ventilation',\n",
       " 32: 'Split rear seats',\n",
       " 33: 'Start-stop system',\n",
       " 34: 'Sunroof',\n",
       " 35: 'Tinted windows',\n",
       " 36: 'Wind deflector',\n",
       " 37: 'Windshield'}"
      ]
     },
     "execution_count": 196,
     "metadata": {},
     "output_type": "execute_result"
    }
   ],
   "source": [
    "get_diff_category_column(df[\"comfort&convenience\"])"
   ]
  },
  {
   "cell_type": "code",
   "execution_count": 197,
   "metadata": {
    "ExecuteTime": {
     "end_time": "2022-08-03T09:13:53.495469Z",
     "start_time": "2022-08-03T09:13:53.467189Z"
    }
   },
   "outputs": [
    {
     "data": {
      "text/plain": [
       "False    14951\n",
       "NaN        920\n",
       "True        48\n",
       "Name: comfort&convenience, dtype: int64"
      ]
     },
     "execution_count": 197,
     "metadata": {},
     "output_type": "execute_result"
    }
   ],
   "source": [
    "df[\"comfort&convenience\"].str.contains(\"Leather seats\").value_counts(dropna=False)"
   ]
  },
  {
   "cell_type": "code",
   "execution_count": 198,
   "metadata": {
    "ExecuteTime": {
     "end_time": "2022-08-03T09:13:53.520047Z",
     "start_time": "2022-08-03T09:13:53.498259Z"
    }
   },
   "outputs": [
    {
     "data": {
      "text/plain": [
       "False    2939\n",
       "NaN       779\n",
       "True        2\n",
       "Name: comfort&convenience, dtype: int64"
      ]
     },
     "execution_count": 198,
     "metadata": {},
     "output_type": "execute_result"
    }
   ],
   "source": [
    "df[df.upholstery.isnull()][\"comfort&convenience\"].str.contains(\"Leather seats\").value_counts(dropna=False)"
   ]
  },
  {
   "cell_type": "code",
   "execution_count": 199,
   "metadata": {
    "ExecuteTime": {
     "end_time": "2022-08-03T09:13:53.527633Z",
     "start_time": "2022-08-03T09:13:53.523754Z"
    }
   },
   "outputs": [],
   "source": [
    "# As the second option we can create an additional column according to \"price_€\" column(\"high\", \"medium\", \"low\" price).\n",
    "# We can fill NaN values of upholstery column by grouping this new column."
   ]
  },
  {
   "cell_type": "code",
   "execution_count": 200,
   "metadata": {
    "ExecuteTime": {
     "end_time": "2022-08-03T09:13:55.357385Z",
     "start_time": "2022-08-03T09:13:53.537165Z"
    }
   },
   "outputs": [
    {
     "data": {
      "text/plain": [
       "Cloth           11912\n",
       "Part leather     1974\n",
       "Full leather     1356\n",
       "Other             507\n",
       "Velour             96\n",
       "alcantara          74\n",
       "Name: upholstery, dtype: int64"
      ]
     },
     "execution_count": 200,
     "metadata": {},
     "output_type": "execute_result"
    }
   ],
   "source": [
    "df.groupby([\"make\", \"model\", \"price_€\"])[\"upholstery\"].fillna(method=\"pad\").fillna(method=\"backfill\").value_counts(dropna=False)"
   ]
  },
  {
   "cell_type": "code",
   "execution_count": null,
   "metadata": {},
   "outputs": [],
   "source": []
  },
  {
   "cell_type": "code",
   "execution_count": null,
   "metadata": {},
   "outputs": [],
   "source": []
  },
  {
   "cell_type": "code",
   "execution_count": 201,
   "metadata": {
    "ExecuteTime": {
     "end_time": "2022-08-03T09:13:57.349288Z",
     "start_time": "2022-08-03T09:13:55.361488Z"
    }
   },
   "outputs": [],
   "source": [
    "df.upholstery = df.groupby([\"make\", \"model\", \"price_€\"])[\"upholstery\"].fillna(method=\"pad\").fillna(method=\"backfill\")"
   ]
  },
  {
   "cell_type": "code",
   "execution_count": 202,
   "metadata": {
    "ExecuteTime": {
     "end_time": "2022-08-03T09:13:57.363664Z",
     "start_time": "2022-08-03T09:13:57.351040Z"
    }
   },
   "outputs": [
    {
     "data": {
      "text/plain": [
       "0"
      ]
     },
     "execution_count": 202,
     "metadata": {},
     "output_type": "execute_result"
    }
   ],
   "source": [
    "df.upholstery.isnull().sum()"
   ]
  },
  {
   "cell_type": "code",
   "execution_count": 203,
   "metadata": {
    "ExecuteTime": {
     "end_time": "2022-08-03T09:13:57.399942Z",
     "start_time": "2022-08-03T09:13:57.367767Z"
    }
   },
   "outputs": [
    {
     "data": {
      "text/plain": [
       "body_type                    0\n",
       "price_€                      0\n",
       "vat                          0\n",
       "km                           0\n",
       "hp_kW                        0\n",
       "type                         0\n",
       "previous_owners              0\n",
       "warranty                     0\n",
       "make                         0\n",
       "model                        0\n",
       "body_color                   0\n",
       "paint_type                   0\n",
       "upholstery                   0\n",
       "nr_of_doors                212\n",
       "nr_of_seats                977\n",
       "gearing_type                 0\n",
       "engine_displacement_cc     496\n",
       "cylinders                 5680\n",
       "weight_kg                 6974\n",
       "drive_chain               6858\n",
       "fuel                         0\n",
       "co2e_g                    2442\n",
       "emission_class            3628\n",
       "comfort&convenience        920\n",
       "entertainment&media       1374\n",
       "extras                    2962\n",
       "safety&security            982\n",
       "gears                     4712\n",
       "country_version           8333\n",
       "consumption_comb          3790\n",
       "consumption_city          4039\n",
       "consumption_country       3365\n",
       "age                          0\n",
       "dtype: int64"
      ]
     },
     "execution_count": 203,
     "metadata": {},
     "output_type": "execute_result"
    }
   ],
   "source": [
    "df.isnull().sum()"
   ]
  },
  {
   "cell_type": "code",
   "execution_count": null,
   "metadata": {},
   "outputs": [],
   "source": []
  },
  {
   "cell_type": "markdown",
   "metadata": {},
   "source": [
    "## 13.nr_of_doors"
   ]
  },
  {
   "cell_type": "code",
   "execution_count": null,
   "metadata": {},
   "outputs": [],
   "source": []
  },
  {
   "cell_type": "code",
   "execution_count": 204,
   "metadata": {
    "ExecuteTime": {
     "end_time": "2022-08-03T09:13:57.411999Z",
     "start_time": "2022-08-03T09:13:57.402994Z"
    },
    "scrolled": true
   },
   "outputs": [
    {
     "name": "stdout",
     "output_type": "stream",
     "text": [
      "column name :  nr_of_doors\n",
      "--------------------------------\n",
      "Per_of_Nulls   :  % 1.33\n",
      "Num_of_Nulls   :  212\n",
      "5.000    11575\n",
      "4.000     3079\n",
      "3.000      832\n",
      "2.000      219\n",
      "NaN        212\n",
      "1.000        1\n",
      "7.000        1\n",
      "Name: nr_of_doors, dtype: int64\n",
      "******************************\n",
      "\n",
      "\n",
      "\n"
     ]
    }
   ],
   "source": [
    "check_df(\"nr_of_doors\")"
   ]
  },
  {
   "cell_type": "code",
   "execution_count": null,
   "metadata": {},
   "outputs": [],
   "source": []
  },
  {
   "cell_type": "code",
   "execution_count": null,
   "metadata": {},
   "outputs": [],
   "source": []
  },
  {
   "cell_type": "code",
   "execution_count": 205,
   "metadata": {
    "ExecuteTime": {
     "end_time": "2022-08-03T09:13:57.440531Z",
     "start_time": "2022-08-03T09:13:57.415222Z"
    }
   },
   "outputs": [
    {
     "data": {
      "text/plain": [
       "make     model     body_type      nr_of_doors\n",
       "Audi     A1        Compact        5.000           666\n",
       "                                  4.000           207\n",
       "                                  3.000            80\n",
       "                                  2.000            69\n",
       "                                  NaN              17\n",
       "                   Coupe          2.000             1\n",
       "                                  5.000             1\n",
       "                   Other          5.000             8\n",
       "                                  4.000             5\n",
       "                   Sedans         5.000          1048\n",
       "                                  4.000           321\n",
       "                                  3.000           130\n",
       "                                  2.000            29\n",
       "                                  NaN              10\n",
       "                   Station wagon  5.000            17\n",
       "                                  4.000             3\n",
       "                                  3.000             1\n",
       "                   Van            5.000             1\n",
       "         A2        Off-Road       5.000             1\n",
       "         A3        Compact        5.000           164\n",
       "                                  3.000            11\n",
       "                                  4.000             6\n",
       "                                  NaN               1\n",
       "                   Convertible    2.000             7\n",
       "                                  5.000             1\n",
       "                   Coupe          3.000             4\n",
       "                   Other          5.000            10\n",
       "                                  3.000             3\n",
       "                                  2.000             2\n",
       "                                  4.000             1\n",
       "                   Sedans         5.000          1953\n",
       "                                  4.000           517\n",
       "                                  3.000            94\n",
       "                                  NaN              24\n",
       "                                  2.000            17\n",
       "                   Station wagon  5.000           169\n",
       "                                  4.000           110\n",
       "                                  NaN               1\n",
       "                                  2.000             1\n",
       "                                  3.000             1\n",
       "Opel     Astra     Compact        5.000           180\n",
       "                                  4.000             5\n",
       "                   Coupe          3.000             1\n",
       "                                  5.000             1\n",
       "                   Off-Road       5.000             1\n",
       "                   Other          5.000            59\n",
       "                                  4.000             7\n",
       "                                  NaN               1\n",
       "                   Sedans         5.000           797\n",
       "                                  4.000           241\n",
       "                                  NaN              12\n",
       "                                  3.000             3\n",
       "                   Station wagon  5.000           927\n",
       "                                  4.000           280\n",
       "                                  NaN              11\n",
       "         Corsa     Compact        5.000           528\n",
       "                                  3.000           338\n",
       "                                  4.000           268\n",
       "                                  2.000            88\n",
       "                                  NaN              10\n",
       "                   Coupe          3.000            12\n",
       "                                  5.000             1\n",
       "                   Off-Road       5.000             3\n",
       "                   Other          5.000            80\n",
       "                                  3.000             4\n",
       "                                  4.000             2\n",
       "                                  2.000             1\n",
       "                   Sedans         5.000           662\n",
       "                                  3.000           146\n",
       "                                  NaN              42\n",
       "                                  4.000            21\n",
       "                                  2.000             4\n",
       "                   Transporter    3.000             4\n",
       "                                  5.000             3\n",
       "                   Van            NaN               2\n",
       "         Insignia  Compact        5.000            26\n",
       "                                  4.000             1\n",
       "                   Coupe          4.000             1\n",
       "                   Off-Road       5.000             7\n",
       "                   Other          5.000            44\n",
       "                                  4.000             3\n",
       "                                  NaN               1\n",
       "                   Sedans         5.000           638\n",
       "                                  4.000           250\n",
       "                                  NaN              12\n",
       "                   Station wagon  5.000          1149\n",
       "                                  4.000           453\n",
       "                                  NaN              12\n",
       "                   Van            5.000             1\n",
       "Renault  Clio      Compact        5.000           302\n",
       "                                  4.000           170\n",
       "                                  NaN              11\n",
       "                                  1.000             1\n",
       "                   Coupe          4.000             1\n",
       "                   Off-Road       5.000             2\n",
       "                   Other          5.000            46\n",
       "                                  4.000             4\n",
       "                                  NaN               1\n",
       "                   Sedans         5.000           868\n",
       "                                  4.000            44\n",
       "                                  NaN              21\n",
       "                   Station wagon  5.000           276\n",
       "                                  4.000            52\n",
       "                                  NaN               9\n",
       "                   Transporter    5.000            27\n",
       "                                  NaN               1\n",
       "                                  4.000             1\n",
       "                   Van            NaN               1\n",
       "                                  5.000             1\n",
       "         Duster    Off-Road       5.000            34\n",
       "         Espace    Compact        5.000             5\n",
       "                                  4.000             1\n",
       "                   Coupe          NaN               1\n",
       "                                  5.000             1\n",
       "                   Off-Road       5.000             6\n",
       "                                  NaN               1\n",
       "                                  4.000             1\n",
       "                   Other          5.000             7\n",
       "                                  NaN               1\n",
       "                   Sedans         5.000            12\n",
       "                                  4.000             9\n",
       "                   Station wagon  5.000            86\n",
       "                                  4.000             4\n",
       "                                  NaN               1\n",
       "                   Transporter    5.000            52\n",
       "                   Van            5.000           704\n",
       "                                  4.000            90\n",
       "                                  NaN               8\n",
       "                                  7.000             1\n",
       "Name: nr_of_doors, dtype: int64"
      ]
     },
     "execution_count": 205,
     "metadata": {},
     "output_type": "execute_result"
    }
   ],
   "source": [
    "df.groupby([\"make\", \"model\", \"body_type\"])[\"nr_of_doors\"].value_counts(dropna=False)"
   ]
  },
  {
   "cell_type": "code",
   "execution_count": null,
   "metadata": {},
   "outputs": [],
   "source": []
  },
  {
   "cell_type": "code",
   "execution_count": 206,
   "metadata": {
    "ExecuteTime": {
     "end_time": "2022-08-03T09:13:57.452210Z",
     "start_time": "2022-08-03T09:13:57.447189Z"
    }
   },
   "outputs": [],
   "source": [
    "# df.groupby([\"make\", \"model\", \"body_type\"])[\"nr_of_doors\"].apply(lambda x: x.fillna(x.mode()[0])).isnull().sum()"
   ]
  },
  {
   "cell_type": "code",
   "execution_count": 207,
   "metadata": {
    "ExecuteTime": {
     "end_time": "2022-08-03T09:13:57.473643Z",
     "start_time": "2022-08-03T09:13:57.457996Z"
    }
   },
   "outputs": [
    {
     "data": {
      "text/plain": [
       "8952   NaN\n",
       "8953   NaN\n",
       "Name: nr_of_doors, dtype: float64"
      ]
     },
     "execution_count": 207,
     "metadata": {},
     "output_type": "execute_result"
    }
   ],
   "source": [
    "df[(df[\"make\"] == \"Opel\")&(df[\"model\"] == \"Corsa\")&(df[\"body_type\"] == \"Van\")][\"nr_of_doors\"]"
   ]
  },
  {
   "cell_type": "code",
   "execution_count": 208,
   "metadata": {
    "ExecuteTime": {
     "end_time": "2022-08-03T09:13:57.495678Z",
     "start_time": "2022-08-03T09:13:57.477926Z"
    }
   },
   "outputs": [
    {
     "data": {
      "text/plain": [
       "8952   NaN\n",
       "8953   NaN\n",
       "Name: nr_of_doors, dtype: float64"
      ]
     },
     "execution_count": 208,
     "metadata": {},
     "output_type": "execute_result"
    }
   ],
   "source": [
    "df[(df[\"make\"] == \"Opel\")&(df[\"model\"] == \"Corsa\")&(df[\"body_type\"] == \"Van\")][\"nr_of_doors\"]"
   ]
  },
  {
   "cell_type": "code",
   "execution_count": 209,
   "metadata": {
    "ExecuteTime": {
     "end_time": "2022-08-03T09:13:57.510562Z",
     "start_time": "2022-08-03T09:13:57.502157Z"
    }
   },
   "outputs": [
    {
     "data": {
      "text/plain": [
       "5.000    11575\n",
       "4.000     3079\n",
       "3.000      832\n",
       "2.000      219\n",
       "NaN        212\n",
       "1.000        1\n",
       "7.000        1\n",
       "Name: nr_of_doors, dtype: int64"
      ]
     },
     "execution_count": 209,
     "metadata": {},
     "output_type": "execute_result"
    }
   ],
   "source": [
    "df.nr_of_doors.value_counts(dropna=False)"
   ]
  },
  {
   "cell_type": "code",
   "execution_count": 210,
   "metadata": {
    "ExecuteTime": {
     "end_time": "2022-08-03T09:13:57.526212Z",
     "start_time": "2022-08-03T09:13:57.515330Z"
    }
   },
   "outputs": [
    {
     "data": {
      "text/plain": [
       "8952   NaN\n",
       "8953   NaN\n",
       "Name: nr_of_doors, dtype: float64"
      ]
     },
     "execution_count": 210,
     "metadata": {},
     "output_type": "execute_result"
    }
   ],
   "source": [
    "df.iloc[8952:8954][\"nr_of_doors\"]"
   ]
  },
  {
   "cell_type": "code",
   "execution_count": 211,
   "metadata": {
    "ExecuteTime": {
     "end_time": "2022-08-03T09:13:57.566661Z",
     "start_time": "2022-08-03T09:13:57.540782Z"
    }
   },
   "outputs": [
    {
     "ename": "SyntaxError",
     "evalue": "invalid syntax (4123002326.py, line 2)",
     "output_type": "error",
     "traceback": [
      "\u001b[0;36m  File \u001b[0;32m\"/var/folders/cv/t5lmh27d0bd2hlz5c0h0ts2m0000gn/T/ipykernel_5579/4123002326.py\"\u001b[0;36m, line \u001b[0;32m2\u001b[0m\n\u001b[0;31m    df.groupby([\"make\", \"model\", \"body_type\"])[\"nr_of_doors\"].apply(lambda x: x.fillna(x.mode()[0] if any(x.mode()) else df[\"nr_of_doors\"].mode()[0]))isnull().sum()\u001b[0m\n\u001b[0m                                                                                                                                                      ^\u001b[0m\n\u001b[0;31mSyntaxError\u001b[0m\u001b[0;31m:\u001b[0m invalid syntax\n"
     ]
    }
   ],
   "source": [
    "# group mode values - use when key error fillna column mode\n",
    "df.groupby([\"make\", \"model\", \"body_type\"])[\"nr_of_doors\"].apply(lambda x: x.fillna(x.mode()[0] if any(x.mode()) else df[\"nr_of_doors\"].mode()[0]))isnull().sum()"
   ]
  },
  {
   "cell_type": "code",
   "execution_count": null,
   "metadata": {},
   "outputs": [],
   "source": []
  },
  {
   "cell_type": "code",
   "execution_count": null,
   "metadata": {
    "ExecuteTime": {
     "end_time": "2022-08-03T09:13:57.581260Z",
     "start_time": "2022-08-03T09:13:57.581243Z"
    }
   },
   "outputs": [],
   "source": [
    "df.nr_of_doors = df.groupby([\"make\", \"model\", \"body_type\"])[\"nr_of_doors\"].apply(lambda x: x.fillna(x.mode()[0] if any(x.mode()) else df[\"nr_of_doors\"].mode()[0]))"
   ]
  },
  {
   "cell_type": "code",
   "execution_count": null,
   "metadata": {
    "ExecuteTime": {
     "end_time": "2022-08-03T09:13:57.583154Z",
     "start_time": "2022-08-03T09:13:57.583125Z"
    }
   },
   "outputs": [],
   "source": [
    "df.nr_of_doors.isnull().sum()"
   ]
  },
  {
   "cell_type": "code",
   "execution_count": null,
   "metadata": {},
   "outputs": [],
   "source": []
  },
  {
   "cell_type": "markdown",
   "metadata": {},
   "source": [
    "## 14.nr_of_seats"
   ]
  },
  {
   "cell_type": "code",
   "execution_count": null,
   "metadata": {
    "ExecuteTime": {
     "end_time": "2022-08-03T09:13:57.585323Z",
     "start_time": "2022-08-03T09:13:57.585295Z"
    }
   },
   "outputs": [],
   "source": [
    "check_df(\"nr_of_seats\")"
   ]
  },
  {
   "cell_type": "code",
   "execution_count": null,
   "metadata": {
    "ExecuteTime": {
     "end_time": "2022-08-03T09:13:57.587985Z",
     "start_time": "2022-08-03T09:13:57.587952Z"
    }
   },
   "outputs": [],
   "source": [
    "df.groupby([\"make\", \"model\", \"body_type\"])[\"nr_of_seats\"].value_counts(dropna=False)"
   ]
  },
  {
   "cell_type": "code",
   "execution_count": null,
   "metadata": {
    "ExecuteTime": {
     "end_time": "2022-08-03T09:13:57.589800Z",
     "start_time": "2022-08-03T09:13:57.589765Z"
    }
   },
   "outputs": [],
   "source": [
    "df.groupby([\"make\", \"model\", \"body_type\"])[\"nr_of_seats\"].apply(lambda x: x.fillna(x.mode()[0] if any(x.mode()) else df[\"nr_of_seats\"].mode()[0]))"
   ]
  },
  {
   "cell_type": "code",
   "execution_count": null,
   "metadata": {
    "ExecuteTime": {
     "end_time": "2022-08-03T09:13:57.594409Z",
     "start_time": "2022-08-03T09:13:57.594380Z"
    }
   },
   "outputs": [],
   "source": [
    "df.nr_of_seats = df.groupby([\"make\", \"model\", \"body_type\"])[\"nr_of_seats\"].apply(lambda x: x.fillna(x.mode()[0] if any(x.mode()) else df[\"nr_of_seats\"].mode()[0]))"
   ]
  },
  {
   "cell_type": "code",
   "execution_count": null,
   "metadata": {
    "ExecuteTime": {
     "end_time": "2022-08-03T09:13:57.597888Z",
     "start_time": "2022-08-03T09:13:57.597840Z"
    }
   },
   "outputs": [],
   "source": [
    "df.nr_of_seats.isnull().sum()"
   ]
  },
  {
   "cell_type": "code",
   "execution_count": null,
   "metadata": {},
   "outputs": [],
   "source": []
  },
  {
   "cell_type": "markdown",
   "metadata": {},
   "source": [
    "## 15.cylinders"
   ]
  },
  {
   "cell_type": "code",
   "execution_count": null,
   "metadata": {},
   "outputs": [],
   "source": []
  },
  {
   "cell_type": "code",
   "execution_count": null,
   "metadata": {
    "ExecuteTime": {
     "end_time": "2022-08-03T09:13:57.599778Z",
     "start_time": "2022-08-03T09:13:57.599743Z"
    }
   },
   "outputs": [],
   "source": [
    "check_df(\"cylinders\")"
   ]
  },
  {
   "cell_type": "code",
   "execution_count": null,
   "metadata": {},
   "outputs": [],
   "source": []
  },
  {
   "cell_type": "code",
   "execution_count": null,
   "metadata": {
    "ExecuteTime": {
     "end_time": "2022-08-03T09:13:57.601641Z",
     "start_time": "2022-08-03T09:13:57.601615Z"
    }
   },
   "outputs": [],
   "source": [
    "df.columns"
   ]
  },
  {
   "cell_type": "code",
   "execution_count": null,
   "metadata": {
    "ExecuteTime": {
     "end_time": "2022-08-03T09:13:57.603565Z",
     "start_time": "2022-08-03T09:13:57.603535Z"
    }
   },
   "outputs": [],
   "source": [
    "df.groupby([\"make\", \"model\", \"hp_kW\"])[\"cylinders\"].value_counts(dropna=False).head(60)"
   ]
  },
  {
   "cell_type": "code",
   "execution_count": null,
   "metadata": {
    "ExecuteTime": {
     "end_time": "2022-08-03T09:13:57.605835Z",
     "start_time": "2022-08-03T09:13:57.605801Z"
    }
   },
   "outputs": [],
   "source": [
    "df.groupby([\"make\", \"model\", \"hp_kW\"])[\"cylinders\"].apply(lambda x: x.fillna(x.mode()[0] if any(x.mode()) else df[\"cylinders\"].mode()[0])).value_counts(dropna=False)"
   ]
  },
  {
   "cell_type": "code",
   "execution_count": null,
   "metadata": {
    "ExecuteTime": {
     "end_time": "2022-08-03T09:13:57.608129Z",
     "start_time": "2022-08-03T09:13:57.608089Z"
    }
   },
   "outputs": [],
   "source": [
    "df.groupby([\"make\", \"model\", \"hp_kW\"])[\"cylinders\"].apply(lambda x: x.fillna(x.mode()[0] if any(x.mode()) else df[\"cylinders\"].mode()[0])).isnull().sum()"
   ]
  },
  {
   "cell_type": "code",
   "execution_count": null,
   "metadata": {
    "ExecuteTime": {
     "end_time": "2022-08-03T09:13:57.610613Z",
     "start_time": "2022-08-03T09:13:57.610581Z"
    }
   },
   "outputs": [],
   "source": [
    "df[\"cylinders\"] = df.groupby([\"make\", \"model\", \"hp_kW\"])[\"cylinders\"].apply(lambda x: x.fillna(x.mode()[0] if any(x.mode()) else df[\"cylinders\"].mode()[0]))"
   ]
  },
  {
   "cell_type": "code",
   "execution_count": null,
   "metadata": {},
   "outputs": [],
   "source": []
  },
  {
   "cell_type": "code",
   "execution_count": null,
   "metadata": {
    "ExecuteTime": {
     "end_time": "2022-08-03T09:13:57.612720Z",
     "start_time": "2022-08-03T09:13:57.612691Z"
    }
   },
   "outputs": [],
   "source": [
    "df.cylinders.isnull().sum()"
   ]
  },
  {
   "cell_type": "code",
   "execution_count": null,
   "metadata": {},
   "outputs": [],
   "source": []
  },
  {
   "cell_type": "code",
   "execution_count": null,
   "metadata": {
    "ExecuteTime": {
     "end_time": "2022-08-03T09:13:57.614629Z",
     "start_time": "2022-08-03T09:13:57.614598Z"
    }
   },
   "outputs": [],
   "source": [
    "df.hp_kW.isnull().sum()"
   ]
  },
  {
   "cell_type": "code",
   "execution_count": null,
   "metadata": {},
   "outputs": [],
   "source": []
  },
  {
   "cell_type": "code",
   "execution_count": null,
   "metadata": {},
   "outputs": [],
   "source": []
  },
  {
   "cell_type": "code",
   "execution_count": null,
   "metadata": {},
   "outputs": [],
   "source": []
  },
  {
   "cell_type": "markdown",
   "metadata": {},
   "source": [
    "## 16.engine_displacement_cc"
   ]
  },
  {
   "cell_type": "code",
   "execution_count": null,
   "metadata": {
    "ExecuteTime": {
     "end_time": "2022-08-03T09:13:57.616730Z",
     "start_time": "2022-08-03T09:13:57.616696Z"
    }
   },
   "outputs": [],
   "source": [
    "check_df(\"engine_displacement_cc\")"
   ]
  },
  {
   "cell_type": "code",
   "execution_count": null,
   "metadata": {},
   "outputs": [],
   "source": []
  },
  {
   "cell_type": "code",
   "execution_count": null,
   "metadata": {},
   "outputs": [],
   "source": []
  },
  {
   "cell_type": "code",
   "execution_count": null,
   "metadata": {
    "ExecuteTime": {
     "end_time": "2022-08-03T09:13:57.619039Z",
     "start_time": "2022-08-03T09:13:57.619004Z"
    },
    "scrolled": true
   },
   "outputs": [],
   "source": [
    "df.groupby([\"make\",\"model\",\"cylinders\", \"hp_kW\"])[\"engine_displacement_cc\"].value_counts(dropna=False).head(60)"
   ]
  },
  {
   "cell_type": "code",
   "execution_count": null,
   "metadata": {},
   "outputs": [],
   "source": []
  },
  {
   "cell_type": "code",
   "execution_count": null,
   "metadata": {},
   "outputs": [],
   "source": []
  },
  {
   "cell_type": "code",
   "execution_count": null,
   "metadata": {},
   "outputs": [],
   "source": []
  },
  {
   "cell_type": "code",
   "execution_count": null,
   "metadata": {
    "ExecuteTime": {
     "end_time": "2022-08-03T09:13:57.621475Z",
     "start_time": "2022-08-03T09:13:57.621441Z"
    },
    "scrolled": true
   },
   "outputs": [],
   "source": [
    "# df.engine_displacement_cc.fillna(df.groupby([\"make\",\"model\",\"cylinders\",\"hp_kW\"])[\"engine_displacement_cc\"].mean())"
   ]
  },
  {
   "cell_type": "code",
   "execution_count": null,
   "metadata": {},
   "outputs": [],
   "source": []
  },
  {
   "cell_type": "code",
   "execution_count": null,
   "metadata": {},
   "outputs": [],
   "source": []
  },
  {
   "cell_type": "code",
   "execution_count": null,
   "metadata": {},
   "outputs": [],
   "source": []
  },
  {
   "cell_type": "code",
   "execution_count": null,
   "metadata": {
    "ExecuteTime": {
     "end_time": "2022-08-03T09:13:57.623813Z",
     "start_time": "2022-08-03T09:13:57.623777Z"
    }
   },
   "outputs": [],
   "source": [
    "df.groupby([\"make\",\"model\",\"cylinders\",\"hp_kW\"])[\"engine_displacement_cc\"].apply(lambda x: x.fillna(x.mode()[0] if any(x.mode()) else df[\"engine_displacement_cc\"].mode()[0])).isnull().sum()"
   ]
  },
  {
   "cell_type": "code",
   "execution_count": null,
   "metadata": {},
   "outputs": [],
   "source": []
  },
  {
   "cell_type": "code",
   "execution_count": null,
   "metadata": {},
   "outputs": [],
   "source": []
  },
  {
   "cell_type": "code",
   "execution_count": null,
   "metadata": {
    "ExecuteTime": {
     "end_time": "2022-08-03T09:13:57.626328Z",
     "start_time": "2022-08-03T09:13:57.626294Z"
    }
   },
   "outputs": [],
   "source": [
    "df[\"engine_displacement_cc\"] = df.groupby([\"make\",\"model\",\"cylinders\",\"hp_kW\"])[\"engine_displacement_cc\"].apply(lambda x: x.fillna(x.mode()[0] if any(x.mode()) else df[\"engine_displacement_cc\"].mode()[0]))"
   ]
  },
  {
   "cell_type": "code",
   "execution_count": null,
   "metadata": {},
   "outputs": [],
   "source": []
  },
  {
   "cell_type": "code",
   "execution_count": null,
   "metadata": {},
   "outputs": [],
   "source": []
  },
  {
   "cell_type": "code",
   "execution_count": null,
   "metadata": {
    "ExecuteTime": {
     "end_time": "2022-08-03T09:13:57.629000Z",
     "start_time": "2022-08-03T09:13:57.628964Z"
    }
   },
   "outputs": [],
   "source": [
    "df.engine_displacement_cc.isnull().sum()"
   ]
  },
  {
   "cell_type": "code",
   "execution_count": null,
   "metadata": {},
   "outputs": [],
   "source": []
  },
  {
   "cell_type": "markdown",
   "metadata": {},
   "source": [
    "## 17.weight_kg"
   ]
  },
  {
   "cell_type": "code",
   "execution_count": null,
   "metadata": {},
   "outputs": [],
   "source": []
  },
  {
   "cell_type": "code",
   "execution_count": null,
   "metadata": {
    "ExecuteTime": {
     "end_time": "2022-08-03T09:13:57.631131Z",
     "start_time": "2022-08-03T09:13:57.631098Z"
    }
   },
   "outputs": [],
   "source": [
    "check_df(\"weight_kg\")"
   ]
  },
  {
   "cell_type": "code",
   "execution_count": null,
   "metadata": {
    "ExecuteTime": {
     "end_time": "2022-08-03T09:13:57.633003Z",
     "start_time": "2022-08-03T09:13:57.632965Z"
    }
   },
   "outputs": [],
   "source": [
    "df.weight_kg.mean()"
   ]
  },
  {
   "cell_type": "code",
   "execution_count": null,
   "metadata": {
    "ExecuteTime": {
     "end_time": "2022-08-03T09:13:57.635302Z",
     "start_time": "2022-08-03T09:13:57.635267Z"
    }
   },
   "outputs": [],
   "source": [
    "df.weight_kg.median()"
   ]
  },
  {
   "cell_type": "code",
   "execution_count": null,
   "metadata": {
    "ExecuteTime": {
     "end_time": "2022-08-03T09:13:57.637602Z",
     "start_time": "2022-08-03T09:13:57.637566Z"
    }
   },
   "outputs": [],
   "source": [
    "df.weight_kg.value_counts().tail(60)"
   ]
  },
  {
   "cell_type": "code",
   "execution_count": null,
   "metadata": {
    "ExecuteTime": {
     "end_time": "2022-08-03T09:13:57.639945Z",
     "start_time": "2022-08-03T09:13:57.639912Z"
    }
   },
   "outputs": [],
   "source": [
    "df.weight_kg.sort_values(ascending=True)"
   ]
  },
  {
   "cell_type": "code",
   "execution_count": null,
   "metadata": {},
   "outputs": [],
   "source": []
  },
  {
   "cell_type": "code",
   "execution_count": null,
   "metadata": {},
   "outputs": [],
   "source": []
  },
  {
   "cell_type": "code",
   "execution_count": null,
   "metadata": {},
   "outputs": [],
   "source": []
  },
  {
   "cell_type": "code",
   "execution_count": null,
   "metadata": {},
   "outputs": [],
   "source": []
  },
  {
   "cell_type": "code",
   "execution_count": null,
   "metadata": {},
   "outputs": [],
   "source": []
  },
  {
   "cell_type": "code",
   "execution_count": null,
   "metadata": {},
   "outputs": [],
   "source": []
  },
  {
   "cell_type": "code",
   "execution_count": null,
   "metadata": {},
   "outputs": [],
   "source": []
  },
  {
   "cell_type": "code",
   "execution_count": null,
   "metadata": {},
   "outputs": [],
   "source": []
  },
  {
   "cell_type": "code",
   "execution_count": null,
   "metadata": {
    "ExecuteTime": {
     "end_time": "2022-08-03T09:13:57.642202Z",
     "start_time": "2022-08-03T09:13:57.642168Z"
    }
   },
   "outputs": [],
   "source": [
    "df.groupby([\"make\", \"model\", \"body_type\"])[\"weight_kg\"].value_counts(dropna=False).head(60)"
   ]
  },
  {
   "cell_type": "code",
   "execution_count": null,
   "metadata": {
    "ExecuteTime": {
     "end_time": "2022-08-03T09:13:57.645675Z",
     "start_time": "2022-08-03T09:13:57.645642Z"
    }
   },
   "outputs": [],
   "source": [
    "df.groupby([\"make\", \"model\", \"body_type\"])[\"weight_kg\"].mean()"
   ]
  },
  {
   "cell_type": "code",
   "execution_count": null,
   "metadata": {
    "ExecuteTime": {
     "end_time": "2022-08-03T09:13:57.647577Z",
     "start_time": "2022-08-03T09:13:57.647548Z"
    }
   },
   "outputs": [],
   "source": [
    "df.groupby([\"make\", \"model\", \"body_type\"])[\"weight_kg\"].median()"
   ]
  },
  {
   "cell_type": "code",
   "execution_count": null,
   "metadata": {},
   "outputs": [],
   "source": []
  },
  {
   "cell_type": "code",
   "execution_count": null,
   "metadata": {
    "ExecuteTime": {
     "end_time": "2022-08-03T09:13:57.649520Z",
     "start_time": "2022-08-03T09:13:57.649488Z"
    },
    "scrolled": true
   },
   "outputs": [],
   "source": [
    "df.groupby([\"make\", \"model\", \"body_type\"])[\"weight_kg\"].apply(lambda x : x.fillna(x.median() if (x.median() >= 1) else df[\"weight_kg\"].median()))"
   ]
  },
  {
   "cell_type": "code",
   "execution_count": null,
   "metadata": {},
   "outputs": [],
   "source": []
  },
  {
   "cell_type": "code",
   "execution_count": null,
   "metadata": {},
   "outputs": [],
   "source": []
  },
  {
   "cell_type": "code",
   "execution_count": null,
   "metadata": {
    "ExecuteTime": {
     "end_time": "2022-08-03T09:13:57.651480Z",
     "start_time": "2022-08-03T09:13:57.651448Z"
    }
   },
   "outputs": [],
   "source": [
    "df[\"weight_kg\"] = df.groupby([\"make\", \"model\", \"body_type\"])[\"weight_kg\"].apply(lambda x : x.fillna(x.median() if (x.median() >= 1) else df[\"weight_kg\"].median()))"
   ]
  },
  {
   "cell_type": "code",
   "execution_count": null,
   "metadata": {
    "ExecuteTime": {
     "end_time": "2022-08-03T09:13:57.653276Z",
     "start_time": "2022-08-03T09:13:57.653245Z"
    }
   },
   "outputs": [],
   "source": [
    "df[\"weight_kg\"].isnull().sum()"
   ]
  },
  {
   "cell_type": "code",
   "execution_count": null,
   "metadata": {
    "ExecuteTime": {
     "end_time": "2022-08-03T09:13:57.655531Z",
     "start_time": "2022-08-03T09:13:57.655500Z"
    }
   },
   "outputs": [],
   "source": [
    "check_df(\"weight_kg\")"
   ]
  },
  {
   "cell_type": "code",
   "execution_count": null,
   "metadata": {
    "ExecuteTime": {
     "end_time": "2022-08-03T09:13:57.657885Z",
     "start_time": "2022-08-03T09:13:57.657855Z"
    }
   },
   "outputs": [],
   "source": [
    "df.weight_kg.mean()"
   ]
  },
  {
   "cell_type": "code",
   "execution_count": null,
   "metadata": {
    "ExecuteTime": {
     "end_time": "2022-08-03T09:13:57.660250Z",
     "start_time": "2022-08-03T09:13:57.660214Z"
    }
   },
   "outputs": [],
   "source": [
    "df.weight_kg.median()"
   ]
  },
  {
   "cell_type": "code",
   "execution_count": null,
   "metadata": {},
   "outputs": [],
   "source": []
  },
  {
   "cell_type": "code",
   "execution_count": null,
   "metadata": {},
   "outputs": [],
   "source": []
  },
  {
   "cell_type": "markdown",
   "metadata": {},
   "source": [
    "## 18.drive_chain"
   ]
  },
  {
   "cell_type": "code",
   "execution_count": null,
   "metadata": {
    "ExecuteTime": {
     "end_time": "2022-08-03T09:13:57.662223Z",
     "start_time": "2022-08-03T09:13:57.662191Z"
    }
   },
   "outputs": [],
   "source": [
    "check_df(\"drive_chain\")"
   ]
  },
  {
   "cell_type": "code",
   "execution_count": null,
   "metadata": {},
   "outputs": [],
   "source": []
  },
  {
   "cell_type": "code",
   "execution_count": null,
   "metadata": {
    "ExecuteTime": {
     "end_time": "2022-08-03T09:13:57.664213Z",
     "start_time": "2022-08-03T09:13:57.664185Z"
    }
   },
   "outputs": [],
   "source": [
    "df.groupby([\"make\", \"model\", \"body_type\"])[\"drive_chain\"].value_counts(dropna=False).head(60)"
   ]
  },
  {
   "cell_type": "code",
   "execution_count": null,
   "metadata": {},
   "outputs": [],
   "source": []
  },
  {
   "cell_type": "code",
   "execution_count": null,
   "metadata": {
    "ExecuteTime": {
     "end_time": "2022-08-03T09:13:57.666496Z",
     "start_time": "2022-08-03T09:13:57.666467Z"
    },
    "scrolled": true
   },
   "outputs": [],
   "source": [
    "df.groupby([\"make\", \"model\", \"body_type\"])[\"drive_chain\"].apply(lambda x : x.fillna(x.mode()[0] if any(x.mode()) else df[\"drive_chain\"].mode()[0])).isnull().sum()"
   ]
  },
  {
   "cell_type": "code",
   "execution_count": null,
   "metadata": {
    "ExecuteTime": {
     "end_time": "2022-08-03T09:13:57.668886Z",
     "start_time": "2022-08-03T09:13:57.668853Z"
    }
   },
   "outputs": [],
   "source": [
    "df[\"drive_chain\"] = df.groupby([\"make\", \"model\", \"body_type\"])[\"drive_chain\"].apply(lambda x : x.fillna(x.mode()[0] if any(x.mode()) else df[\"drive_chain\"].mode()[0]))"
   ]
  },
  {
   "cell_type": "code",
   "execution_count": null,
   "metadata": {
    "ExecuteTime": {
     "end_time": "2022-08-03T09:13:57.670784Z",
     "start_time": "2022-08-03T09:13:57.670756Z"
    }
   },
   "outputs": [],
   "source": [
    "df[\"drive_chain\"].isnull().sum()"
   ]
  },
  {
   "cell_type": "code",
   "execution_count": null,
   "metadata": {},
   "outputs": [],
   "source": []
  },
  {
   "cell_type": "markdown",
   "metadata": {},
   "source": [
    "## 19.co2e_g"
   ]
  },
  {
   "cell_type": "code",
   "execution_count": null,
   "metadata": {
    "ExecuteTime": {
     "end_time": "2022-08-03T09:13:57.673438Z",
     "start_time": "2022-08-03T09:13:57.673403Z"
    }
   },
   "outputs": [],
   "source": [
    "check_df(\"co2e_g\")"
   ]
  },
  {
   "cell_type": "code",
   "execution_count": null,
   "metadata": {
    "ExecuteTime": {
     "end_time": "2022-08-03T09:13:57.678445Z",
     "start_time": "2022-08-03T09:13:57.678398Z"
    }
   },
   "outputs": [],
   "source": [
    "df.co2e_g.value_counts(dropna=False)"
   ]
  },
  {
   "cell_type": "code",
   "execution_count": null,
   "metadata": {
    "ExecuteTime": {
     "end_time": "2022-08-03T09:13:57.689059Z",
     "start_time": "2022-08-03T09:13:57.689006Z"
    }
   },
   "outputs": [],
   "source": [
    "df.co2e_g.sort_values(ascending=True)"
   ]
  },
  {
   "cell_type": "code",
   "execution_count": null,
   "metadata": {},
   "outputs": [],
   "source": []
  },
  {
   "cell_type": "code",
   "execution_count": null,
   "metadata": {},
   "outputs": [],
   "source": []
  },
  {
   "cell_type": "code",
   "execution_count": null,
   "metadata": {
    "ExecuteTime": {
     "end_time": "2022-08-03T09:13:57.696881Z",
     "start_time": "2022-08-03T09:13:57.696842Z"
    }
   },
   "outputs": [],
   "source": [
    "df.groupby([\"make\", \"model\", \"fuel\"])[\"co2e_g\"].value_counts(dropna=False).head(60)"
   ]
  },
  {
   "cell_type": "code",
   "execution_count": null,
   "metadata": {
    "ExecuteTime": {
     "end_time": "2022-08-03T09:13:57.700974Z",
     "start_time": "2022-08-03T09:13:57.700936Z"
    }
   },
   "outputs": [],
   "source": [
    "df.groupby([\"make\", \"model\", \"fuel\"])[\"co2e_g\"].mean()"
   ]
  },
  {
   "cell_type": "code",
   "execution_count": null,
   "metadata": {
    "ExecuteTime": {
     "end_time": "2022-08-03T09:13:57.705272Z",
     "start_time": "2022-08-03T09:13:57.705244Z"
    }
   },
   "outputs": [],
   "source": [
    "df.groupby([\"make\", \"model\", \"fuel\"])[\"co2e_g\"].median()"
   ]
  },
  {
   "cell_type": "code",
   "execution_count": null,
   "metadata": {},
   "outputs": [],
   "source": []
  },
  {
   "cell_type": "code",
   "execution_count": null,
   "metadata": {},
   "outputs": [],
   "source": []
  },
  {
   "cell_type": "code",
   "execution_count": null,
   "metadata": {},
   "outputs": [],
   "source": []
  },
  {
   "cell_type": "code",
   "execution_count": null,
   "metadata": {
    "ExecuteTime": {
     "end_time": "2022-08-03T09:13:57.712880Z",
     "start_time": "2022-08-03T09:13:57.712835Z"
    }
   },
   "outputs": [],
   "source": [
    "df.co2e_g.mean()"
   ]
  },
  {
   "cell_type": "code",
   "execution_count": null,
   "metadata": {
    "ExecuteTime": {
     "end_time": "2022-08-03T09:13:57.715413Z",
     "start_time": "2022-08-03T09:13:57.715364Z"
    }
   },
   "outputs": [],
   "source": [
    "df.co2e_g.median()"
   ]
  },
  {
   "cell_type": "code",
   "execution_count": null,
   "metadata": {},
   "outputs": [],
   "source": []
  },
  {
   "cell_type": "code",
   "execution_count": null,
   "metadata": {
    "ExecuteTime": {
     "end_time": "2022-08-03T09:13:57.718814Z",
     "start_time": "2022-08-03T09:13:57.718787Z"
    },
    "scrolled": true
   },
   "outputs": [],
   "source": [
    "df.groupby([\"make\", \"model\", \"fuel\"])[\"co2e_g\"].apply(lambda x : x.fillna(x.median() if (x.median() > 13) else df[\"co2e_g\"].median())).value_counts(dropna=False)"
   ]
  },
  {
   "cell_type": "code",
   "execution_count": null,
   "metadata": {},
   "outputs": [],
   "source": []
  },
  {
   "cell_type": "code",
   "execution_count": null,
   "metadata": {
    "ExecuteTime": {
     "end_time": "2022-08-03T09:13:57.726631Z",
     "start_time": "2022-08-03T09:13:57.726566Z"
    }
   },
   "outputs": [],
   "source": [
    "df[\"co2e_g\"] = df.groupby([\"make\", \"model\", \"fuel\"])[\"co2e_g\"].apply(lambda x : x.fillna(x.median() if (x.median() > 13) else df[\"co2e_g\"].median()))"
   ]
  },
  {
   "cell_type": "code",
   "execution_count": null,
   "metadata": {},
   "outputs": [],
   "source": []
  },
  {
   "cell_type": "code",
   "execution_count": null,
   "metadata": {
    "ExecuteTime": {
     "end_time": "2022-08-03T09:13:57.734773Z",
     "start_time": "2022-08-03T09:13:57.734731Z"
    }
   },
   "outputs": [],
   "source": [
    "df.co2e_g.isnull().sum()"
   ]
  },
  {
   "cell_type": "markdown",
   "metadata": {},
   "source": [
    "## 20.emission_class"
   ]
  },
  {
   "cell_type": "code",
   "execution_count": null,
   "metadata": {
    "ExecuteTime": {
     "end_time": "2022-08-03T09:13:57.739191Z",
     "start_time": "2022-08-03T09:13:57.738424Z"
    }
   },
   "outputs": [],
   "source": [
    "check_df(\"emission_class\")"
   ]
  },
  {
   "cell_type": "code",
   "execution_count": null,
   "metadata": {
    "ExecuteTime": {
     "end_time": "2022-08-03T09:13:57.746367Z",
     "start_time": "2022-08-03T09:13:57.746329Z"
    }
   },
   "outputs": [],
   "source": [
    "df.groupby([\"make\", \"model\", \"fuel\", \"age\"])[\"emission_class\"].value_counts(dropna=False).head(100)"
   ]
  },
  {
   "cell_type": "code",
   "execution_count": null,
   "metadata": {
    "ExecuteTime": {
     "end_time": "2022-08-03T09:13:57.761784Z",
     "start_time": "2022-08-03T09:13:57.761755Z"
    }
   },
   "outputs": [],
   "source": [
    "df.emission_class.value_counts(dropna=False)"
   ]
  },
  {
   "cell_type": "code",
   "execution_count": null,
   "metadata": {},
   "outputs": [],
   "source": []
  },
  {
   "cell_type": "code",
   "execution_count": null,
   "metadata": {
    "ExecuteTime": {
     "end_time": "2022-08-03T09:13:57.766164Z",
     "start_time": "2022-08-03T09:13:57.766123Z"
    }
   },
   "outputs": [],
   "source": [
    "df.groupby([\"make\", \"model\", \"fuel\", \"age\"])[\"emission_class\"].apply(lambda x: x.fillna(x.mode()[0] if any (x.mode()) else df[\"emission_class\"].mode()[0])).value_counts(dropna=False)"
   ]
  },
  {
   "cell_type": "code",
   "execution_count": null,
   "metadata": {
    "ExecuteTime": {
     "end_time": "2022-08-03T09:13:57.768629Z",
     "start_time": "2022-08-03T09:13:57.768593Z"
    }
   },
   "outputs": [],
   "source": [
    "df.groupby([\"make\", \"model\", \"fuel\", \"age\"])[\"emission_class\"].fillna(method=\"bfill\").fillna(method=\"ffill\").value_counts(dropna=False)"
   ]
  },
  {
   "cell_type": "code",
   "execution_count": null,
   "metadata": {
    "ExecuteTime": {
     "end_time": "2022-08-03T09:13:57.772434Z",
     "start_time": "2022-08-03T09:13:57.772405Z"
    }
   },
   "outputs": [],
   "source": [
    "df[df.emission_class.isnull()].age.value_counts()"
   ]
  },
  {
   "cell_type": "code",
   "execution_count": null,
   "metadata": {
    "ExecuteTime": {
     "end_time": "2022-08-03T09:13:57.776383Z",
     "start_time": "2022-08-03T09:13:57.776330Z"
    }
   },
   "outputs": [],
   "source": [
    "df[\"emission_class\"] = df.groupby([\"make\", \"model\", \"fuel\", \"age\"])[\"emission_class\"].fillna(method=\"bfill\").fillna(method=\"ffill\")"
   ]
  },
  {
   "cell_type": "code",
   "execution_count": null,
   "metadata": {
    "ExecuteTime": {
     "end_time": "2022-08-03T09:13:57.781399Z",
     "start_time": "2022-08-03T09:13:57.781338Z"
    }
   },
   "outputs": [],
   "source": [
    "df[\"emission_class\"].isnull().sum()"
   ]
  },
  {
   "cell_type": "markdown",
   "metadata": {},
   "source": [
    "## 21.comfort&convenience"
   ]
  },
  {
   "cell_type": "code",
   "execution_count": null,
   "metadata": {
    "ExecuteTime": {
     "end_time": "2022-08-03T09:13:57.787948Z",
     "start_time": "2022-08-03T09:13:57.787919Z"
    }
   },
   "outputs": [],
   "source": [
    "check_df(\"comfort&convenience\")"
   ]
  },
  {
   "cell_type": "code",
   "execution_count": null,
   "metadata": {
    "ExecuteTime": {
     "end_time": "2022-08-03T09:13:57.790584Z",
     "start_time": "2022-08-03T09:13:57.790524Z"
    }
   },
   "outputs": [],
   "source": [
    "get_diff_category_column(df[\"comfort&convenience\"])"
   ]
  },
  {
   "cell_type": "code",
   "execution_count": null,
   "metadata": {
    "ExecuteTime": {
     "end_time": "2022-08-03T09:13:57.794649Z",
     "start_time": "2022-08-03T09:13:57.794573Z"
    }
   },
   "outputs": [],
   "source": [
    "df.groupby([\"make\", \"model\", \"body_type\", \"age\"])[\"comfort&convenience\"].value_counts(dropna=False)"
   ]
  },
  {
   "cell_type": "code",
   "execution_count": null,
   "metadata": {},
   "outputs": [],
   "source": []
  },
  {
   "cell_type": "code",
   "execution_count": null,
   "metadata": {
    "ExecuteTime": {
     "end_time": "2022-08-03T09:13:57.796901Z",
     "start_time": "2022-08-03T09:13:57.796865Z"
    }
   },
   "outputs": [],
   "source": [
    "df[df[\"comfort&convenience\"].isnull()][[\"make\", \"model\", \"age\", \"body_type\"]].value_counts()"
   ]
  },
  {
   "cell_type": "code",
   "execution_count": null,
   "metadata": {
    "ExecuteTime": {
     "end_time": "2022-08-03T09:13:57.801437Z",
     "start_time": "2022-08-03T09:13:57.801414Z"
    }
   },
   "outputs": [],
   "source": [
    "df.groupby([\"make\", \"model\", \"age\", \"body_type\"])[\"comfort&convenience\"].fillna(method=\"pad\").fillna(method=\"backfill\").isnull().sum()"
   ]
  },
  {
   "cell_type": "code",
   "execution_count": null,
   "metadata": {
    "ExecuteTime": {
     "end_time": "2022-08-03T09:13:57.804408Z",
     "start_time": "2022-08-03T09:13:57.804335Z"
    }
   },
   "outputs": [],
   "source": [
    "df[\"comfort&convenience\"] = df.groupby([\"make\", \"model\", \"age\", \"body_type\"])[\"comfort&convenience\"].fillna(method=\"pad\").fillna(method=\"backfill\")"
   ]
  },
  {
   "cell_type": "code",
   "execution_count": null,
   "metadata": {
    "ExecuteTime": {
     "end_time": "2022-08-03T09:13:57.807849Z",
     "start_time": "2022-08-03T09:13:57.807817Z"
    }
   },
   "outputs": [],
   "source": [
    "df[\"comfort&convenience\"].isnull().sum()"
   ]
  },
  {
   "cell_type": "code",
   "execution_count": null,
   "metadata": {},
   "outputs": [],
   "source": []
  },
  {
   "cell_type": "markdown",
   "metadata": {},
   "source": [
    "## 22.entertainment&media"
   ]
  },
  {
   "cell_type": "code",
   "execution_count": null,
   "metadata": {
    "ExecuteTime": {
     "end_time": "2022-08-03T09:13:57.811126Z",
     "start_time": "2022-08-03T09:13:57.811101Z"
    }
   },
   "outputs": [],
   "source": [
    "check_df(\"entertainment&media\")"
   ]
  },
  {
   "cell_type": "code",
   "execution_count": null,
   "metadata": {
    "ExecuteTime": {
     "end_time": "2022-08-03T09:13:57.816292Z",
     "start_time": "2022-08-03T09:13:57.816268Z"
    }
   },
   "outputs": [],
   "source": [
    "df[df[\"entertainment&media\"].isnull()][[\"make\", \"model\", \"age\", \"body_type\"]].value_counts()"
   ]
  },
  {
   "cell_type": "code",
   "execution_count": null,
   "metadata": {},
   "outputs": [],
   "source": []
  },
  {
   "cell_type": "code",
   "execution_count": null,
   "metadata": {
    "ExecuteTime": {
     "end_time": "2022-08-03T09:13:57.820125Z",
     "start_time": "2022-08-03T09:13:57.820095Z"
    }
   },
   "outputs": [],
   "source": [
    "df[\"entertainment&media\"] = df.groupby([\"make\", \"model\", \"age\", \"body_type\"])[\"entertainment&media\"].fillna(method=\"pad\").fillna(method=\"backfill\")"
   ]
  },
  {
   "cell_type": "code",
   "execution_count": null,
   "metadata": {
    "ExecuteTime": {
     "end_time": "2022-08-03T09:13:57.822086Z",
     "start_time": "2022-08-03T09:13:57.822058Z"
    }
   },
   "outputs": [],
   "source": [
    "df[\"entertainment&media\"].value_counts(dropna=False)"
   ]
  },
  {
   "cell_type": "code",
   "execution_count": null,
   "metadata": {
    "ExecuteTime": {
     "end_time": "2022-08-03T09:13:57.825457Z",
     "start_time": "2022-08-03T09:13:57.825435Z"
    }
   },
   "outputs": [],
   "source": [
    "df[\"entertainment&media\"].isnull().sum()"
   ]
  },
  {
   "cell_type": "code",
   "execution_count": null,
   "metadata": {},
   "outputs": [],
   "source": []
  },
  {
   "cell_type": "markdown",
   "metadata": {},
   "source": [
    "## 23.extras"
   ]
  },
  {
   "cell_type": "code",
   "execution_count": null,
   "metadata": {
    "ExecuteTime": {
     "end_time": "2022-08-03T09:13:57.831547Z",
     "start_time": "2022-08-03T09:13:57.831524Z"
    }
   },
   "outputs": [],
   "source": [
    "check_df(\"extras\")"
   ]
  },
  {
   "cell_type": "code",
   "execution_count": null,
   "metadata": {
    "ExecuteTime": {
     "end_time": "2022-08-03T09:13:57.833773Z",
     "start_time": "2022-08-03T09:13:57.833738Z"
    }
   },
   "outputs": [],
   "source": [
    "df[df[\"extras\"].isnull()][[\"make\", \"model\", \"age\", \"body_type\"]].value_counts()"
   ]
  },
  {
   "cell_type": "code",
   "execution_count": null,
   "metadata": {
    "ExecuteTime": {
     "end_time": "2022-08-03T09:13:57.838144Z",
     "start_time": "2022-08-03T09:13:57.838102Z"
    }
   },
   "outputs": [],
   "source": [
    "df.groupby([\"make\", \"model\", \"body_type\", \"age\"])[\"extras\"].value_counts(dropna=False)"
   ]
  },
  {
   "cell_type": "code",
   "execution_count": null,
   "metadata": {
    "ExecuteTime": {
     "end_time": "2022-08-03T09:13:57.841493Z",
     "start_time": "2022-08-03T09:13:57.841455Z"
    }
   },
   "outputs": [],
   "source": [
    "df.groupby([\"make\", \"model\", \"age\", \"body_type\"])[\"extras\"].fillna(method=\"pad\").fillna(method=\"backfill\").isnull().sum()"
   ]
  },
  {
   "cell_type": "code",
   "execution_count": null,
   "metadata": {
    "ExecuteTime": {
     "end_time": "2022-08-03T09:13:57.845587Z",
     "start_time": "2022-08-03T09:13:57.845539Z"
    }
   },
   "outputs": [],
   "source": [
    "df[\"extras\"] = df.groupby([\"make\", \"model\", \"age\", \"body_type\"])[\"extras\"].fillna(method=\"pad\").fillna(method=\"backfill\")"
   ]
  },
  {
   "cell_type": "code",
   "execution_count": null,
   "metadata": {
    "ExecuteTime": {
     "end_time": "2022-08-03T09:13:57.848314Z",
     "start_time": "2022-08-03T09:13:57.848284Z"
    }
   },
   "outputs": [],
   "source": [
    "df[\"extras\"].isnull().sum()"
   ]
  },
  {
   "cell_type": "code",
   "execution_count": null,
   "metadata": {},
   "outputs": [],
   "source": []
  },
  {
   "cell_type": "code",
   "execution_count": null,
   "metadata": {},
   "outputs": [],
   "source": []
  },
  {
   "cell_type": "markdown",
   "metadata": {},
   "source": [
    "## 24.safety&security"
   ]
  },
  {
   "cell_type": "code",
   "execution_count": null,
   "metadata": {
    "ExecuteTime": {
     "end_time": "2022-08-03T09:13:57.851916Z",
     "start_time": "2022-08-03T09:13:57.851887Z"
    }
   },
   "outputs": [],
   "source": [
    "check_df(\"safety&security\")"
   ]
  },
  {
   "cell_type": "code",
   "execution_count": null,
   "metadata": {
    "ExecuteTime": {
     "end_time": "2022-08-03T09:13:57.856239Z",
     "start_time": "2022-08-03T09:13:57.856209Z"
    }
   },
   "outputs": [],
   "source": [
    "df.groupby([\"make\", \"model\", \"body_type\", \"age\"])[\"safety&security\"].value_counts(dropna=False)"
   ]
  },
  {
   "cell_type": "code",
   "execution_count": null,
   "metadata": {
    "ExecuteTime": {
     "end_time": "2022-08-03T09:13:57.859502Z",
     "start_time": "2022-08-03T09:13:57.859485Z"
    }
   },
   "outputs": [],
   "source": [
    "df[df[\"safety&security\"].isnull()][[\"make\", \"model\", \"age\", \"body_type\"]].value_counts()"
   ]
  },
  {
   "cell_type": "code",
   "execution_count": null,
   "metadata": {
    "ExecuteTime": {
     "end_time": "2022-08-03T09:13:57.862462Z",
     "start_time": "2022-08-03T09:13:57.862443Z"
    }
   },
   "outputs": [],
   "source": [
    "df.groupby([\"make\", \"model\", \"age\", \"body_type\"])[\"safety&security\"].fillna(method=\"pad\").fillna(method=\"backfill\").isnull().sum()"
   ]
  },
  {
   "cell_type": "code",
   "execution_count": null,
   "metadata": {
    "ExecuteTime": {
     "end_time": "2022-08-03T09:13:57.867385Z",
     "start_time": "2022-08-03T09:13:57.867367Z"
    }
   },
   "outputs": [],
   "source": [
    "df[\"safety&security\"] = df.groupby([\"make\", \"model\", \"age\", \"body_type\"])[\"safety&security\"].fillna(method=\"pad\").fillna(method=\"backfill\")"
   ]
  },
  {
   "cell_type": "code",
   "execution_count": null,
   "metadata": {
    "ExecuteTime": {
     "end_time": "2022-08-03T09:13:57.869210Z",
     "start_time": "2022-08-03T09:13:57.869177Z"
    }
   },
   "outputs": [],
   "source": [
    "df[\"safety&security\"].isnull().sum()"
   ]
  },
  {
   "cell_type": "code",
   "execution_count": null,
   "metadata": {},
   "outputs": [],
   "source": []
  },
  {
   "cell_type": "markdown",
   "metadata": {},
   "source": [
    "## 25.gears"
   ]
  },
  {
   "cell_type": "code",
   "execution_count": null,
   "metadata": {
    "ExecuteTime": {
     "end_time": "2022-08-03T09:13:57.873019Z",
     "start_time": "2022-08-03T09:13:57.872984Z"
    }
   },
   "outputs": [],
   "source": [
    "check_df(\"gears\")"
   ]
  },
  {
   "cell_type": "code",
   "execution_count": null,
   "metadata": {
    "ExecuteTime": {
     "end_time": "2022-08-03T09:13:57.875775Z",
     "start_time": "2022-08-03T09:13:57.875754Z"
    }
   },
   "outputs": [],
   "source": [
    "df.groupby([\"make\", \"model\", \"body_type\", \"engine_displacement_cc\"])[\"gears\"].value_counts(dropna=False).head(100)"
   ]
  },
  {
   "cell_type": "code",
   "execution_count": null,
   "metadata": {},
   "outputs": [],
   "source": []
  },
  {
   "cell_type": "code",
   "execution_count": null,
   "metadata": {
    "ExecuteTime": {
     "end_time": "2022-08-03T09:13:57.878576Z",
     "start_time": "2022-08-03T09:13:57.878538Z"
    }
   },
   "outputs": [],
   "source": [
    "df.gears.mode()"
   ]
  },
  {
   "cell_type": "code",
   "execution_count": null,
   "metadata": {
    "ExecuteTime": {
     "end_time": "2022-08-03T09:13:57.881867Z",
     "start_time": "2022-08-03T09:13:57.881832Z"
    }
   },
   "outputs": [],
   "source": [
    "df.gears = df.groupby([\"make\", \"model\", \"body_type\"])[\"gears\"].fillna(method=\"ffill\").fillna(method = \"bfill\")"
   ]
  },
  {
   "cell_type": "code",
   "execution_count": null,
   "metadata": {
    "ExecuteTime": {
     "end_time": "2022-08-03T09:13:57.884461Z",
     "start_time": "2022-08-03T09:13:57.884408Z"
    }
   },
   "outputs": [],
   "source": [
    "df.gears.isnull().sum()"
   ]
  },
  {
   "cell_type": "code",
   "execution_count": null,
   "metadata": {},
   "outputs": [],
   "source": []
  },
  {
   "cell_type": "markdown",
   "metadata": {},
   "source": [
    "## 26.country_version"
   ]
  },
  {
   "cell_type": "code",
   "execution_count": null,
   "metadata": {
    "ExecuteTime": {
     "end_time": "2022-08-03T09:13:57.886816Z",
     "start_time": "2022-08-03T09:13:57.886778Z"
    }
   },
   "outputs": [],
   "source": [
    "check_df(\"country_version\")"
   ]
  },
  {
   "cell_type": "code",
   "execution_count": null,
   "metadata": {
    "ExecuteTime": {
     "end_time": "2022-08-03T09:13:57.889699Z",
     "start_time": "2022-08-03T09:13:57.889666Z"
    }
   },
   "outputs": [],
   "source": [
    "df.groupby([\"make\", \"model\", \"body_type\"])[\"country_version\"].value_counts(dropna=False).head(100)"
   ]
  },
  {
   "cell_type": "code",
   "execution_count": null,
   "metadata": {
    "ExecuteTime": {
     "end_time": "2022-08-03T09:13:57.891735Z",
     "start_time": "2022-08-03T09:13:57.891712Z"
    }
   },
   "outputs": [],
   "source": [
    "df.country_version.fillna(value=\"Unknown\").value_counts(dropna=False)"
   ]
  },
  {
   "cell_type": "code",
   "execution_count": null,
   "metadata": {},
   "outputs": [],
   "source": []
  },
  {
   "cell_type": "code",
   "execution_count": null,
   "metadata": {
    "ExecuteTime": {
     "end_time": "2022-08-03T09:13:57.894592Z",
     "start_time": "2022-08-03T09:13:57.894532Z"
    }
   },
   "outputs": [],
   "source": [
    "df.country_version = df.country_version.fillna(value=\"Unknown\")"
   ]
  },
  {
   "cell_type": "code",
   "execution_count": null,
   "metadata": {
    "ExecuteTime": {
     "end_time": "2022-08-03T09:13:57.897317Z",
     "start_time": "2022-08-03T09:13:57.897289Z"
    }
   },
   "outputs": [],
   "source": [
    "df.country_version.isnull().sum()"
   ]
  },
  {
   "cell_type": "code",
   "execution_count": null,
   "metadata": {},
   "outputs": [],
   "source": []
  },
  {
   "cell_type": "markdown",
   "metadata": {},
   "source": [
    "## 27.consumption_comb"
   ]
  },
  {
   "cell_type": "code",
   "execution_count": null,
   "metadata": {},
   "outputs": [],
   "source": []
  },
  {
   "cell_type": "code",
   "execution_count": null,
   "metadata": {
    "ExecuteTime": {
     "end_time": "2022-08-03T09:13:57.901058Z",
     "start_time": "2022-08-03T09:13:57.901040Z"
    }
   },
   "outputs": [],
   "source": [
    "check_df(\"consumption_comb\")"
   ]
  },
  {
   "cell_type": "code",
   "execution_count": null,
   "metadata": {
    "ExecuteTime": {
     "end_time": "2022-08-03T09:13:57.905373Z",
     "start_time": "2022-08-03T09:13:57.905350Z"
    }
   },
   "outputs": [],
   "source": [
    "df.groupby(['make','model','cylinders','weight_kg', 'body_type'])['consumption_comb'].mean()"
   ]
  },
  {
   "cell_type": "code",
   "execution_count": null,
   "metadata": {},
   "outputs": [],
   "source": []
  },
  {
   "cell_type": "code",
   "execution_count": null,
   "metadata": {},
   "outputs": [],
   "source": []
  },
  {
   "cell_type": "code",
   "execution_count": null,
   "metadata": {
    "ExecuteTime": {
     "end_time": "2022-08-03T09:13:57.907554Z",
     "start_time": "2022-08-03T09:13:57.907517Z"
    }
   },
   "outputs": [],
   "source": [
    "df[df.consumption_comb.isnull()][[\"consumption_city\", \"consumption_country\"]].value_counts()"
   ]
  },
  {
   "cell_type": "code",
   "execution_count": null,
   "metadata": {},
   "outputs": [],
   "source": []
  },
  {
   "cell_type": "code",
   "execution_count": null,
   "metadata": {
    "ExecuteTime": {
     "end_time": "2022-08-03T09:13:57.910077Z",
     "start_time": "2022-08-03T09:13:57.910048Z"
    }
   },
   "outputs": [],
   "source": [
    "df.groupby(['make','model','cylinders','weight_kg', 'body_type'])['consumption_comb'].value_counts(dropna=False).head(60)"
   ]
  },
  {
   "cell_type": "code",
   "execution_count": null,
   "metadata": {},
   "outputs": [],
   "source": []
  },
  {
   "cell_type": "code",
   "execution_count": null,
   "metadata": {},
   "outputs": [],
   "source": []
  },
  {
   "cell_type": "code",
   "execution_count": null,
   "metadata": {},
   "outputs": [],
   "source": []
  },
  {
   "cell_type": "code",
   "execution_count": null,
   "metadata": {},
   "outputs": [],
   "source": []
  },
  {
   "cell_type": "code",
   "execution_count": null,
   "metadata": {},
   "outputs": [],
   "source": []
  },
  {
   "cell_type": "code",
   "execution_count": null,
   "metadata": {},
   "outputs": [],
   "source": []
  },
  {
   "cell_type": "code",
   "execution_count": null,
   "metadata": {},
   "outputs": [],
   "source": []
  },
  {
   "cell_type": "code",
   "execution_count": null,
   "metadata": {},
   "outputs": [],
   "source": []
  },
  {
   "cell_type": "code",
   "execution_count": null,
   "metadata": {},
   "outputs": [],
   "source": []
  },
  {
   "cell_type": "code",
   "execution_count": null,
   "metadata": {},
   "outputs": [],
   "source": []
  },
  {
   "cell_type": "code",
   "execution_count": null,
   "metadata": {},
   "outputs": [],
   "source": []
  },
  {
   "cell_type": "code",
   "execution_count": null,
   "metadata": {},
   "outputs": [],
   "source": []
  },
  {
   "cell_type": "code",
   "execution_count": null,
   "metadata": {},
   "outputs": [],
   "source": []
  },
  {
   "cell_type": "code",
   "execution_count": null,
   "metadata": {
    "ExecuteTime": {
     "end_time": "2022-08-03T09:13:57.914864Z",
     "start_time": "2022-08-03T09:13:57.914750Z"
    },
    "scrolled": true
   },
   "outputs": [],
   "source": [
    "df.body_type.value_counts()"
   ]
  },
  {
   "cell_type": "code",
   "execution_count": null,
   "metadata": {
    "ExecuteTime": {
     "end_time": "2022-08-03T09:13:57.918028Z",
     "start_time": "2022-08-03T09:13:57.917987Z"
    }
   },
   "outputs": [],
   "source": [
    "df.columns"
   ]
  },
  {
   "cell_type": "code",
   "execution_count": null,
   "metadata": {},
   "outputs": [],
   "source": []
  },
  {
   "cell_type": "code",
   "execution_count": null,
   "metadata": {
    "ExecuteTime": {
     "end_time": "2022-08-03T09:13:57.920908Z",
     "start_time": "2022-08-03T09:13:57.920875Z"
    }
   },
   "outputs": [],
   "source": [
    "df.isnull().sum()"
   ]
  },
  {
   "cell_type": "code",
   "execution_count": null,
   "metadata": {
    "ExecuteTime": {
     "end_time": "2022-08-03T09:13:57.924689Z",
     "start_time": "2022-08-03T09:13:57.924650Z"
    }
   },
   "outputs": [],
   "source": [
    "df[\"consumption_city\"].fillna((df[\"consumption_comb\"] - df[\"consumption_country\"]*0.62)/0.38).isnull().sum()"
   ]
  },
  {
   "cell_type": "code",
   "execution_count": null,
   "metadata": {
    "ExecuteTime": {
     "end_time": "2022-08-03T09:13:57.928825Z",
     "start_time": "2022-08-03T09:13:57.928781Z"
    },
    "scrolled": true
   },
   "outputs": [],
   "source": [
    "df[\"consumption_city\"] = df[\"consumption_city\"].fillna(abs(df[\"consumption_comb\"] - df[\"consumption_country\"]*0.62)/0.38)"
   ]
  },
  {
   "cell_type": "code",
   "execution_count": null,
   "metadata": {},
   "outputs": [],
   "source": []
  },
  {
   "cell_type": "code",
   "execution_count": null,
   "metadata": {},
   "outputs": [],
   "source": []
  },
  {
   "cell_type": "code",
   "execution_count": null,
   "metadata": {
    "ExecuteTime": {
     "end_time": "2022-08-03T09:13:57.933575Z",
     "start_time": "2022-08-03T09:13:57.933546Z"
    }
   },
   "outputs": [],
   "source": [
    "df[\"consumption_city\"].isnull().sum()"
   ]
  },
  {
   "cell_type": "code",
   "execution_count": null,
   "metadata": {
    "ExecuteTime": {
     "end_time": "2022-08-03T09:13:57.935412Z",
     "start_time": "2022-08-03T09:13:57.935394Z"
    },
    "scrolled": false
   },
   "outputs": [],
   "source": [
    "df[\"consumption_country\"].fillna((df[\"consumption_comb\"] - df[\"consumption_city\"]*0.38)/0.62).isnull().sum()"
   ]
  },
  {
   "cell_type": "code",
   "execution_count": null,
   "metadata": {
    "ExecuteTime": {
     "end_time": "2022-08-03T09:13:57.940958Z",
     "start_time": "2022-08-03T09:13:57.940930Z"
    }
   },
   "outputs": [],
   "source": [
    "df[\"consumption_country\"] = df[\"consumption_country\"].fillna(abs((df[\"consumption_comb\"] - df[\"consumption_city\"]*0.38)/0.62))"
   ]
  },
  {
   "cell_type": "code",
   "execution_count": null,
   "metadata": {},
   "outputs": [],
   "source": []
  },
  {
   "cell_type": "code",
   "execution_count": null,
   "metadata": {
    "ExecuteTime": {
     "end_time": "2022-08-03T09:13:57.945402Z",
     "start_time": "2022-08-03T09:13:57.945370Z"
    }
   },
   "outputs": [],
   "source": [
    "df[\"consumption_country\"].isnull().sum()"
   ]
  },
  {
   "cell_type": "code",
   "execution_count": null,
   "metadata": {
    "ExecuteTime": {
     "end_time": "2022-08-03T09:13:57.948992Z",
     "start_time": "2022-08-03T09:13:57.948946Z"
    }
   },
   "outputs": [],
   "source": [
    "df[\"consumption_comb\"].fillna(abs(df[\"consumption_country\"]*0.62 + df[\"consumption_city\"]*0.38)).isnull().sum()"
   ]
  },
  {
   "cell_type": "code",
   "execution_count": null,
   "metadata": {
    "ExecuteTime": {
     "end_time": "2022-08-03T09:13:57.952914Z",
     "start_time": "2022-08-03T09:13:57.952882Z"
    }
   },
   "outputs": [],
   "source": [
    "df[\"consumption_comb\"] = df[\"consumption_comb\"].fillna(abs(df[\"consumption_country\"]*0.62 + df[\"consumption_city\"]*0.38))"
   ]
  },
  {
   "cell_type": "code",
   "execution_count": null,
   "metadata": {},
   "outputs": [],
   "source": []
  },
  {
   "cell_type": "code",
   "execution_count": null,
   "metadata": {
    "ExecuteTime": {
     "end_time": "2022-08-03T09:13:57.957540Z",
     "start_time": "2022-08-03T09:13:57.957506Z"
    }
   },
   "outputs": [],
   "source": [
    "df[\"consumption_comb\"].isnull().sum()"
   ]
  },
  {
   "cell_type": "markdown",
   "metadata": {},
   "source": [
    "### consumption_city"
   ]
  },
  {
   "cell_type": "code",
   "execution_count": null,
   "metadata": {
    "ExecuteTime": {
     "end_time": "2022-08-03T09:13:57.961312Z",
     "start_time": "2022-08-03T09:13:57.961280Z"
    }
   },
   "outputs": [],
   "source": [
    "df.consumption_city = df.groupby([\"make\", \"model\", \"body_type\" ,\"weight_kg\", \"cylinders\", \"fuel\"])[\"consumption_city\"].fillna(method=\"ffill\").fillna(method=\"bfill\")"
   ]
  },
  {
   "cell_type": "markdown",
   "metadata": {},
   "source": [
    "### consumption_country"
   ]
  },
  {
   "cell_type": "code",
   "execution_count": null,
   "metadata": {
    "ExecuteTime": {
     "end_time": "2022-08-03T09:13:57.965302Z",
     "start_time": "2022-08-03T09:13:57.965264Z"
    }
   },
   "outputs": [],
   "source": [
    "df.consumption_country = df.groupby([\"make\", \"model\", \"body_type\" ,\"weight_kg\", \"cylinders\", \"fuel\"])[\"consumption_country\"].fillna(method=\"ffill\").fillna(method=\"bfill\")"
   ]
  },
  {
   "cell_type": "markdown",
   "metadata": {},
   "source": [
    "### consumption_comb"
   ]
  },
  {
   "cell_type": "code",
   "execution_count": null,
   "metadata": {
    "ExecuteTime": {
     "end_time": "2022-08-03T09:13:57.971287Z",
     "start_time": "2022-08-03T09:13:57.971252Z"
    }
   },
   "outputs": [],
   "source": [
    "df[\"consumption_comb\"] = df[\"consumption_comb\"].fillna(abs(df[\"consumption_country\"]*0.62 + df[\"consumption_city\"]*0.38))"
   ]
  },
  {
   "cell_type": "code",
   "execution_count": null,
   "metadata": {},
   "outputs": [],
   "source": []
  },
  {
   "cell_type": "code",
   "execution_count": null,
   "metadata": {
    "ExecuteTime": {
     "end_time": "2022-08-03T09:13:57.975643Z",
     "start_time": "2022-08-03T09:13:57.975606Z"
    }
   },
   "outputs": [],
   "source": [
    "df.isnull().sum()"
   ]
  },
  {
   "cell_type": "code",
   "execution_count": null,
   "metadata": {},
   "outputs": [],
   "source": []
  },
  {
   "cell_type": "code",
   "execution_count": null,
   "metadata": {
    "ExecuteTime": {
     "end_time": "2022-08-03T09:13:57.978880Z",
     "start_time": "2022-08-03T09:13:57.978837Z"
    }
   },
   "outputs": [],
   "source": [
    "df.info()"
   ]
  },
  {
   "cell_type": "code",
   "execution_count": null,
   "metadata": {},
   "outputs": [],
   "source": []
  },
  {
   "cell_type": "code",
   "execution_count": null,
   "metadata": {},
   "outputs": [],
   "source": []
  },
  {
   "cell_type": "code",
   "execution_count": null,
   "metadata": {},
   "outputs": [],
   "source": []
  },
  {
   "cell_type": "code",
   "execution_count": null,
   "metadata": {},
   "outputs": [],
   "source": []
  },
  {
   "cell_type": "code",
   "execution_count": null,
   "metadata": {},
   "outputs": [],
   "source": []
  },
  {
   "cell_type": "code",
   "execution_count": null,
   "metadata": {},
   "outputs": [],
   "source": []
  },
  {
   "cell_type": "code",
   "execution_count": null,
   "metadata": {},
   "outputs": [],
   "source": []
  },
  {
   "cell_type": "code",
   "execution_count": null,
   "metadata": {},
   "outputs": [],
   "source": []
  },
  {
   "cell_type": "code",
   "execution_count": null,
   "metadata": {},
   "outputs": [],
   "source": []
  },
  {
   "cell_type": "code",
   "execution_count": null,
   "metadata": {
    "ExecuteTime": {
     "end_time": "2022-08-03T09:13:57.983078Z",
     "start_time": "2022-08-03T09:13:57.983042Z"
    }
   },
   "outputs": [],
   "source": [
    "df[df.consumption_city.isnull()][[\"consumption_comb\", \"consumption_country\"]].value_counts(dropna=False)"
   ]
  },
  {
   "cell_type": "code",
   "execution_count": null,
   "metadata": {},
   "outputs": [],
   "source": []
  },
  {
   "cell_type": "code",
   "execution_count": null,
   "metadata": {},
   "outputs": [],
   "source": []
  },
  {
   "cell_type": "code",
   "execution_count": null,
   "metadata": {},
   "outputs": [],
   "source": []
  },
  {
   "cell_type": "code",
   "execution_count": null,
   "metadata": {},
   "outputs": [],
   "source": []
  },
  {
   "cell_type": "code",
   "execution_count": null,
   "metadata": {},
   "outputs": [],
   "source": []
  },
  {
   "cell_type": "code",
   "execution_count": null,
   "metadata": {},
   "outputs": [],
   "source": []
  },
  {
   "cell_type": "code",
   "execution_count": null,
   "metadata": {},
   "outputs": [],
   "source": []
  },
  {
   "cell_type": "code",
   "execution_count": null,
   "metadata": {},
   "outputs": [],
   "source": []
  },
  {
   "cell_type": "code",
   "execution_count": null,
   "metadata": {},
   "outputs": [],
   "source": []
  },
  {
   "cell_type": "code",
   "execution_count": null,
   "metadata": {},
   "outputs": [],
   "source": []
  },
  {
   "cell_type": "code",
   "execution_count": null,
   "metadata": {},
   "outputs": [],
   "source": []
  },
  {
   "cell_type": "code",
   "execution_count": null,
   "metadata": {},
   "outputs": [],
   "source": []
  },
  {
   "cell_type": "code",
   "execution_count": null,
   "metadata": {},
   "outputs": [],
   "source": []
  },
  {
   "cell_type": "code",
   "execution_count": null,
   "metadata": {},
   "outputs": [],
   "source": []
  },
  {
   "cell_type": "code",
   "execution_count": null,
   "metadata": {},
   "outputs": [],
   "source": []
  },
  {
   "cell_type": "code",
   "execution_count": null,
   "metadata": {},
   "outputs": [],
   "source": []
  },
  {
   "cell_type": "code",
   "execution_count": null,
   "metadata": {},
   "outputs": [],
   "source": []
  },
  {
   "cell_type": "code",
   "execution_count": null,
   "metadata": {},
   "outputs": [],
   "source": []
  },
  {
   "cell_type": "code",
   "execution_count": null,
   "metadata": {},
   "outputs": [],
   "source": []
  },
  {
   "cell_type": "code",
   "execution_count": null,
   "metadata": {},
   "outputs": [],
   "source": []
  },
  {
   "cell_type": "code",
   "execution_count": null,
   "metadata": {},
   "outputs": [],
   "source": []
  },
  {
   "cell_type": "code",
   "execution_count": null,
   "metadata": {},
   "outputs": [],
   "source": []
  },
  {
   "cell_type": "code",
   "execution_count": null,
   "metadata": {},
   "outputs": [],
   "source": []
  },
  {
   "cell_type": "code",
   "execution_count": null,
   "metadata": {},
   "outputs": [],
   "source": []
  },
  {
   "cell_type": "code",
   "execution_count": null,
   "metadata": {},
   "outputs": [],
   "source": []
  },
  {
   "cell_type": "code",
   "execution_count": null,
   "metadata": {},
   "outputs": [],
   "source": []
  },
  {
   "cell_type": "code",
   "execution_count": null,
   "metadata": {},
   "outputs": [],
   "source": []
  },
  {
   "cell_type": "code",
   "execution_count": null,
   "metadata": {},
   "outputs": [],
   "source": []
  },
  {
   "cell_type": "code",
   "execution_count": null,
   "metadata": {},
   "outputs": [],
   "source": []
  },
  {
   "cell_type": "code",
   "execution_count": null,
   "metadata": {},
   "outputs": [],
   "source": []
  },
  {
   "cell_type": "code",
   "execution_count": null,
   "metadata": {},
   "outputs": [],
   "source": []
  },
  {
   "cell_type": "code",
   "execution_count": null,
   "metadata": {},
   "outputs": [],
   "source": []
  },
  {
   "cell_type": "code",
   "execution_count": null,
   "metadata": {},
   "outputs": [],
   "source": []
  },
  {
   "cell_type": "code",
   "execution_count": null,
   "metadata": {},
   "outputs": [],
   "source": []
  },
  {
   "cell_type": "code",
   "execution_count": null,
   "metadata": {},
   "outputs": [],
   "source": []
  },
  {
   "cell_type": "code",
   "execution_count": null,
   "metadata": {},
   "outputs": [],
   "source": []
  },
  {
   "cell_type": "code",
   "execution_count": null,
   "metadata": {},
   "outputs": [],
   "source": []
  },
  {
   "cell_type": "code",
   "execution_count": null,
   "metadata": {},
   "outputs": [],
   "source": []
  },
  {
   "cell_type": "code",
   "execution_count": null,
   "metadata": {},
   "outputs": [],
   "source": []
  },
  {
   "cell_type": "code",
   "execution_count": null,
   "metadata": {},
   "outputs": [],
   "source": []
  },
  {
   "cell_type": "code",
   "execution_count": null,
   "metadata": {},
   "outputs": [],
   "source": []
  },
  {
   "cell_type": "code",
   "execution_count": null,
   "metadata": {},
   "outputs": [],
   "source": []
  },
  {
   "cell_type": "code",
   "execution_count": null,
   "metadata": {},
   "outputs": [],
   "source": []
  },
  {
   "cell_type": "code",
   "execution_count": null,
   "metadata": {},
   "outputs": [],
   "source": []
  },
  {
   "cell_type": "code",
   "execution_count": null,
   "metadata": {},
   "outputs": [],
   "source": []
  },
  {
   "cell_type": "code",
   "execution_count": null,
   "metadata": {},
   "outputs": [],
   "source": []
  },
  {
   "cell_type": "code",
   "execution_count": null,
   "metadata": {},
   "outputs": [],
   "source": []
  },
  {
   "cell_type": "code",
   "execution_count": null,
   "metadata": {},
   "outputs": [],
   "source": []
  },
  {
   "cell_type": "code",
   "execution_count": null,
   "metadata": {},
   "outputs": [],
   "source": []
  },
  {
   "cell_type": "code",
   "execution_count": null,
   "metadata": {},
   "outputs": [],
   "source": []
  },
  {
   "cell_type": "code",
   "execution_count": null,
   "metadata": {},
   "outputs": [],
   "source": []
  },
  {
   "cell_type": "code",
   "execution_count": null,
   "metadata": {},
   "outputs": [],
   "source": []
  },
  {
   "cell_type": "code",
   "execution_count": null,
   "metadata": {},
   "outputs": [],
   "source": []
  },
  {
   "cell_type": "code",
   "execution_count": null,
   "metadata": {},
   "outputs": [],
   "source": []
  },
  {
   "cell_type": "code",
   "execution_count": null,
   "metadata": {},
   "outputs": [],
   "source": []
  },
  {
   "cell_type": "code",
   "execution_count": null,
   "metadata": {},
   "outputs": [],
   "source": []
  },
  {
   "cell_type": "code",
   "execution_count": null,
   "metadata": {},
   "outputs": [],
   "source": []
  },
  {
   "cell_type": "code",
   "execution_count": null,
   "metadata": {},
   "outputs": [],
   "source": []
  },
  {
   "cell_type": "code",
   "execution_count": null,
   "metadata": {},
   "outputs": [],
   "source": []
  },
  {
   "cell_type": "code",
   "execution_count": null,
   "metadata": {},
   "outputs": [],
   "source": []
  },
  {
   "cell_type": "code",
   "execution_count": null,
   "metadata": {},
   "outputs": [],
   "source": []
  },
  {
   "cell_type": "code",
   "execution_count": null,
   "metadata": {},
   "outputs": [],
   "source": []
  },
  {
   "cell_type": "code",
   "execution_count": null,
   "metadata": {},
   "outputs": [],
   "source": []
  },
  {
   "cell_type": "code",
   "execution_count": null,
   "metadata": {},
   "outputs": [],
   "source": []
  },
  {
   "cell_type": "code",
   "execution_count": null,
   "metadata": {},
   "outputs": [],
   "source": []
  },
  {
   "cell_type": "code",
   "execution_count": null,
   "metadata": {},
   "outputs": [],
   "source": []
  },
  {
   "cell_type": "code",
   "execution_count": null,
   "metadata": {},
   "outputs": [],
   "source": []
  },
  {
   "cell_type": "code",
   "execution_count": null,
   "metadata": {},
   "outputs": [],
   "source": []
  },
  {
   "cell_type": "code",
   "execution_count": null,
   "metadata": {},
   "outputs": [],
   "source": []
  },
  {
   "cell_type": "code",
   "execution_count": null,
   "metadata": {},
   "outputs": [],
   "source": []
  },
  {
   "cell_type": "code",
   "execution_count": null,
   "metadata": {},
   "outputs": [],
   "source": []
  },
  {
   "cell_type": "code",
   "execution_count": null,
   "metadata": {},
   "outputs": [],
   "source": []
  },
  {
   "cell_type": "code",
   "execution_count": null,
   "metadata": {},
   "outputs": [],
   "source": []
  },
  {
   "cell_type": "code",
   "execution_count": null,
   "metadata": {},
   "outputs": [],
   "source": []
  },
  {
   "cell_type": "code",
   "execution_count": null,
   "metadata": {},
   "outputs": [],
   "source": []
  },
  {
   "cell_type": "code",
   "execution_count": null,
   "metadata": {},
   "outputs": [],
   "source": []
  },
  {
   "cell_type": "code",
   "execution_count": null,
   "metadata": {},
   "outputs": [],
   "source": []
  },
  {
   "cell_type": "code",
   "execution_count": null,
   "metadata": {},
   "outputs": [],
   "source": []
  },
  {
   "cell_type": "code",
   "execution_count": null,
   "metadata": {},
   "outputs": [],
   "source": []
  },
  {
   "cell_type": "code",
   "execution_count": null,
   "metadata": {},
   "outputs": [],
   "source": []
  },
  {
   "cell_type": "code",
   "execution_count": null,
   "metadata": {},
   "outputs": [],
   "source": []
  },
  {
   "cell_type": "code",
   "execution_count": null,
   "metadata": {},
   "outputs": [],
   "source": []
  },
  {
   "cell_type": "code",
   "execution_count": null,
   "metadata": {},
   "outputs": [],
   "source": []
  },
  {
   "cell_type": "code",
   "execution_count": 212,
   "metadata": {
    "ExecuteTime": {
     "end_time": "2022-08-03T09:15:18.237475Z",
     "start_time": "2022-08-03T09:15:18.227529Z"
    }
   },
   "outputs": [
    {
     "data": {
      "text/plain": [
       "0.000    11066\n",
       "1.000     4853\n",
       "Name: warranty, dtype: int64"
      ]
     },
     "execution_count": 212,
     "metadata": {},
     "output_type": "execute_result"
    }
   ],
   "source": [
    "df.warranty.value_counts()"
   ]
  },
  {
   "cell_type": "code",
   "execution_count": null,
   "metadata": {},
   "outputs": [],
   "source": []
  },
  {
   "cell_type": "code",
   "execution_count": null,
   "metadata": {},
   "outputs": [],
   "source": []
  },
  {
   "cell_type": "code",
   "execution_count": null,
   "metadata": {},
   "outputs": [],
   "source": []
  },
  {
   "cell_type": "code",
   "execution_count": null,
   "metadata": {},
   "outputs": [],
   "source": []
  },
  {
   "cell_type": "code",
   "execution_count": null,
   "metadata": {},
   "outputs": [],
   "source": []
  },
  {
   "cell_type": "code",
   "execution_count": null,
   "metadata": {},
   "outputs": [],
   "source": []
  },
  {
   "cell_type": "code",
   "execution_count": null,
   "metadata": {},
   "outputs": [],
   "source": []
  },
  {
   "cell_type": "code",
   "execution_count": null,
   "metadata": {
    "ExecuteTime": {
     "end_time": "2022-08-03T09:13:57.987236Z",
     "start_time": "2022-08-03T09:13:57.987200Z"
    }
   },
   "outputs": [],
   "source": [
    "df.columns"
   ]
  },
  {
   "cell_type": "code",
   "execution_count": null,
   "metadata": {
    "ExecuteTime": {
     "end_time": "2022-08-03T09:13:57.991352Z",
     "start_time": "2022-08-03T09:13:57.991308Z"
    }
   },
   "outputs": [],
   "source": [
    "df.age"
   ]
  },
  {
   "cell_type": "code",
   "execution_count": null,
   "metadata": {},
   "outputs": [],
   "source": []
  },
  {
   "cell_type": "code",
   "execution_count": null,
   "metadata": {
    "ExecuteTime": {
     "end_time": "2022-08-03T09:13:57.995311Z",
     "start_time": "2022-08-03T09:13:57.995256Z"
    }
   },
   "outputs": [],
   "source": [
    "check_df(\"vat\")"
   ]
  },
  {
   "cell_type": "code",
   "execution_count": null,
   "metadata": {
    "ExecuteTime": {
     "end_time": "2022-08-03T09:13:58.000090Z",
     "start_time": "2022-08-03T09:13:58.000058Z"
    }
   },
   "outputs": [],
   "source": [
    "df.info()"
   ]
  },
  {
   "cell_type": "code",
   "execution_count": null,
   "metadata": {},
   "outputs": [],
   "source": []
  },
  {
   "cell_type": "code",
   "execution_count": 213,
   "metadata": {
    "ExecuteTime": {
     "end_time": "2022-08-03T09:15:30.373195Z",
     "start_time": "2022-08-03T09:15:29.610148Z"
    }
   },
   "outputs": [],
   "source": [
    "df.to_csv(\"auto_scout_filled.csv\", index=False)"
   ]
  },
  {
   "cell_type": "code",
   "execution_count": null,
   "metadata": {},
   "outputs": [],
   "source": []
  },
  {
   "cell_type": "code",
   "execution_count": null,
   "metadata": {},
   "outputs": [],
   "source": []
  },
  {
   "cell_type": "code",
   "execution_count": null,
   "metadata": {},
   "outputs": [],
   "source": []
  },
  {
   "cell_type": "code",
   "execution_count": null,
   "metadata": {},
   "outputs": [],
   "source": []
  },
  {
   "cell_type": "code",
   "execution_count": null,
   "metadata": {},
   "outputs": [],
   "source": []
  },
  {
   "cell_type": "code",
   "execution_count": null,
   "metadata": {},
   "outputs": [],
   "source": []
  },
  {
   "cell_type": "code",
   "execution_count": null,
   "metadata": {},
   "outputs": [],
   "source": []
  },
  {
   "cell_type": "code",
   "execution_count": null,
   "metadata": {},
   "outputs": [],
   "source": []
  },
  {
   "cell_type": "code",
   "execution_count": null,
   "metadata": {},
   "outputs": [],
   "source": []
  },
  {
   "cell_type": "code",
   "execution_count": null,
   "metadata": {},
   "outputs": [],
   "source": []
  },
  {
   "cell_type": "code",
   "execution_count": null,
   "metadata": {},
   "outputs": [],
   "source": []
  },
  {
   "cell_type": "code",
   "execution_count": null,
   "metadata": {},
   "outputs": [],
   "source": []
  },
  {
   "cell_type": "code",
   "execution_count": null,
   "metadata": {},
   "outputs": [],
   "source": []
  },
  {
   "cell_type": "code",
   "execution_count": null,
   "metadata": {},
   "outputs": [],
   "source": []
  },
  {
   "cell_type": "code",
   "execution_count": null,
   "metadata": {},
   "outputs": [],
   "source": []
  },
  {
   "cell_type": "code",
   "execution_count": null,
   "metadata": {},
   "outputs": [],
   "source": []
  },
  {
   "cell_type": "code",
   "execution_count": null,
   "metadata": {},
   "outputs": [],
   "source": []
  },
  {
   "cell_type": "code",
   "execution_count": null,
   "metadata": {},
   "outputs": [],
   "source": []
  },
  {
   "cell_type": "code",
   "execution_count": null,
   "metadata": {},
   "outputs": [],
   "source": []
  },
  {
   "cell_type": "markdown",
   "metadata": {
    "id": "gPPdPAu5s1ME"
   },
   "source": [
    "# PART- 3 `( Handling With Outliers )`"
   ]
  },
  {
   "cell_type": "code",
   "execution_count": null,
   "metadata": {
    "id": "Is4HLjHWs1MF"
   },
   "outputs": [],
   "source": []
  },
  {
   "cell_type": "markdown",
   "metadata": {
    "id": "EKxmsgfts1MG"
   },
   "source": [
    "# Final Step (Checking final situation of data via graphs)"
   ]
  },
  {
   "cell_type": "code",
   "execution_count": null,
   "metadata": {
    "id": "8mgL_Bd0s1MG"
   },
   "outputs": [],
   "source": []
  },
  {
   "cell_type": "markdown",
   "metadata": {
    "id": "2PgUVPoes1MH"
   },
   "source": [
    "## Export dataframe to csv file (without dummy)"
   ]
  },
  {
   "cell_type": "code",
   "execution_count": null,
   "metadata": {
    "ExecuteTime": {
     "end_time": "2022-08-03T09:13:58.010370Z",
     "start_time": "2022-08-03T09:13:58.010234Z"
    },
    "id": "Byg_o2ZMs1MI"
   },
   "outputs": [],
   "source": [
    "#df.to_csv(\"final_scout_not_dummy.csv\", index=False)"
   ]
  },
  {
   "cell_type": "markdown",
   "metadata": {
    "id": "hrw9hr-3s1MJ"
   },
   "source": [
    "# Dummy Operation"
   ]
  },
  {
   "cell_type": "code",
   "execution_count": null,
   "metadata": {
    "id": "faDyWTC9s1MJ"
   },
   "outputs": [],
   "source": []
  },
  {
   "cell_type": "markdown",
   "metadata": {
    "id": "DUOdihlqs1MJ"
   },
   "source": [
    "## Export dataframe to csv file (dummy)"
   ]
  },
  {
   "cell_type": "code",
   "execution_count": null,
   "metadata": {
    "ExecuteTime": {
     "end_time": "2022-08-03T09:13:58.015247Z",
     "start_time": "2022-08-03T09:13:58.015219Z"
    },
    "id": "IJT7Yl1Us1MK"
   },
   "outputs": [],
   "source": [
    "# <div class=\"burk\">\n",
    "# df_dummied.to_csv(\"final_scout_dummy.csv\", index=False)</div><i class=\"fa fa-lightbulb-o \"></i>"
   ]
  }
 ],
 "metadata": {
  "colab": {
   "name": "DAwPy-Capstone_Project_(AutoScout)_Student.ipynb",
   "provenance": []
  },
  "kernelspec": {
   "display_name": "Python 3 (ipykernel)",
   "language": "python",
   "name": "python3"
  },
  "language_info": {
   "codemirror_mode": {
    "name": "ipython",
    "version": 3
   },
   "file_extension": ".py",
   "mimetype": "text/x-python",
   "name": "python",
   "nbconvert_exporter": "python",
   "pygments_lexer": "ipython3",
   "version": "3.9.7"
  },
  "toc": {
   "base_numbering": 1,
   "nav_menu": {},
   "number_sections": false,
   "sideBar": true,
   "skip_h1_title": false,
   "title_cell": "Table of Contents",
   "title_sidebar": "Contents",
   "toc_cell": false,
   "toc_position": {},
   "toc_section_display": true,
   "toc_window_display": false
  }
 },
 "nbformat": 4,
 "nbformat_minor": 1
}
